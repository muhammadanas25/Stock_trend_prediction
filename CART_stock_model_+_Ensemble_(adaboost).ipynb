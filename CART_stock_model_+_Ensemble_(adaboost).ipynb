{
  "cells": [
    {
      "cell_type": "markdown",
      "metadata": {
        "id": "view-in-github",
        "colab_type": "text"
      },
      "source": [
        "<a href=\"https://colab.research.google.com/github/muhammadanas25/Stock_trend_prediction/blob/main/CART_stock_model_%2B_Ensemble_(adaboost).ipynb\" target=\"_parent\"><img src=\"https://colab.research.google.com/assets/colab-badge.svg\" alt=\"Open In Colab\"/></a>"
      ]
    },
    {
      "cell_type": "code",
      "execution_count": 1,
      "metadata": {
        "colab": {
          "base_uri": "https://localhost:8080/"
        },
        "id": "6TL8s1s-YetI",
        "outputId": "ad24cdd5-9576-48ed-e25a-824510cb9afc"
      },
      "outputs": [
        {
          "output_type": "stream",
          "name": "stdout",
          "text": [
            "Collecting path\n",
            "  Downloading path-16.4.0-py3-none-any.whl (26 kB)\n",
            "Installing collected packages: path\n",
            "Successfully installed path-16.4.0\n",
            "Requirement already satisfied: path in /usr/local/lib/python3.7/dist-packages (16.4.0)\n"
          ]
        }
      ],
      "source": [
        "#run\n",
        "# Initial imports\n",
        "import pandas as pd\n",
        "!pip install path\n",
        "from path import Path\n",
        "from sklearn.ensemble import RandomForestRegressor\n",
        "from sklearn.ensemble import RandomForestClassifier\n",
        "from sklearn.preprocessing import StandardScaler, MinMaxScaler\n",
        "from sklearn.model_selection import train_test_split\n",
        "from sklearn.metrics import confusion_matrix, accuracy_score, classification_report\n",
        "%matplotlib inline\n",
        "# Initial imports\n",
        "import pandas as pd\n",
        "import numpy as np\n",
        "from path import Path\n",
        "from sklearn.model_selection import GridSearchCV\n",
        "from sklearn.preprocessing import StandardScaler\n",
        "from sklearn.model_selection import train_test_split\n",
        "from sklearn.metrics import confusion_matrix, accuracy_score, classification_report\n",
        "from sklearn.ensemble import GradientBoostingClassifier,AdaBoostClassifier\n",
        "import plotly.graph_objects as go\n",
        "from plotly.subplots import make_subplots\n",
        "from sklearn.model_selection import RepeatedStratifiedKFold\n",
        "from sklearn.model_selection import GridSearchCV\n",
        "from sklearn.preprocessing import StandardScaler\n",
        "from sklearn.preprocessing import LabelEncoder\n",
        "from sklearn.compose import ColumnTransformer\n",
        "from sklearn import metrics,tree\n",
        "from sklearn.metrics import roc_curve\n",
        "from sklearn.metrics import recall_score, confusion_matrix, precision_score, f1_score, accuracy_score, classification_report\n",
        "from sklearn.preprocessing import OneHotEncoder, StandardScaler\n",
        "from sklearn.pipeline import make_pipeline\n",
        "from sklearn.tree import DecisionTreeClassifier\n",
        "categorical_preprocessor = OneHotEncoder(handle_unknown=\"ignore\")\n",
        "numerical_preprocessor = StandardScaler()\n",
        "from sklearn.model_selection import cross_val_score\n",
        "from sklearn.model_selection import KFold\n",
        "%pip install path\n",
        "from sklearn.compose import make_column_selector as selector\n",
        "import matplotlib.pyplot as plt "
      ]
    },
    {
      "cell_type": "code",
      "execution_count": 16,
      "metadata": {
        "colab": {
          "base_uri": "https://localhost:8080/",
          "height": 250
        },
        "id": "_P1qsjX_YetL",
        "outputId": "f51b8ef8-7010-4273-a5a4-a921376519a5"
      },
      "outputs": [
        {
          "output_type": "execute_result",
          "data": {
            "text/plain": [
              "           Date       Open       High        Low      Close    Volume  \\\n",
              "749  23/06/2021  63.910000  66.769997  63.790001  66.489998  18548000   \n",
              "750  24/06/2021  66.750000  68.739998  66.750000  68.250000  23144800   \n",
              "751  25/06/2021  68.290001  68.919998  67.279999  67.930000  13896900   \n",
              "752  28/06/2021  68.160004  68.629997  67.080002  68.290001  11176100   \n",
              "753  29/06/2021  68.279999  69.379997  67.930000  69.000000   9526400   \n",
              "\n",
              "         EF_1      EF_2 Oil FutureTrend Gold FutureTrend     Trend  \\\n",
              "749  0.906041  4.036924        Negative         Positive  Positive   \n",
              "750  0.753770  2.247191        Negative         Negative  Positive   \n",
              "751  0.396343 -0.527164        Positive         Negative  Negative   \n",
              "752  0.780647  0.190724        Negative         Positive  Positive   \n",
              "753  0.737932  1.054483        Negative         Negative  Positive   \n",
              "\n",
              "     Twitter Sentiments FutureTrend  \n",
              "749                   0    Negative  \n",
              "750                   0    Positive  \n",
              "751                   0    Negative  \n",
              "752                   0    Negative  \n",
              "753                   0    Positive  "
            ],
            "text/html": [
              "\n",
              "  <div id=\"df-e624df17-af68-4c8b-b3a8-a6bc07d60078\">\n",
              "    <div class=\"colab-df-container\">\n",
              "      <div>\n",
              "<style scoped>\n",
              "    .dataframe tbody tr th:only-of-type {\n",
              "        vertical-align: middle;\n",
              "    }\n",
              "\n",
              "    .dataframe tbody tr th {\n",
              "        vertical-align: top;\n",
              "    }\n",
              "\n",
              "    .dataframe thead th {\n",
              "        text-align: right;\n",
              "    }\n",
              "</style>\n",
              "<table border=\"1\" class=\"dataframe\">\n",
              "  <thead>\n",
              "    <tr style=\"text-align: right;\">\n",
              "      <th></th>\n",
              "      <th>Date</th>\n",
              "      <th>Open</th>\n",
              "      <th>High</th>\n",
              "      <th>Low</th>\n",
              "      <th>Close</th>\n",
              "      <th>Volume</th>\n",
              "      <th>EF_1</th>\n",
              "      <th>EF_2</th>\n",
              "      <th>Oil FutureTrend</th>\n",
              "      <th>Gold FutureTrend</th>\n",
              "      <th>Trend</th>\n",
              "      <th>Twitter Sentiments</th>\n",
              "      <th>FutureTrend</th>\n",
              "    </tr>\n",
              "  </thead>\n",
              "  <tbody>\n",
              "    <tr>\n",
              "      <th>749</th>\n",
              "      <td>23/06/2021</td>\n",
              "      <td>63.910000</td>\n",
              "      <td>66.769997</td>\n",
              "      <td>63.790001</td>\n",
              "      <td>66.489998</td>\n",
              "      <td>18548000</td>\n",
              "      <td>0.906041</td>\n",
              "      <td>4.036924</td>\n",
              "      <td>Negative</td>\n",
              "      <td>Positive</td>\n",
              "      <td>Positive</td>\n",
              "      <td>0</td>\n",
              "      <td>Negative</td>\n",
              "    </tr>\n",
              "    <tr>\n",
              "      <th>750</th>\n",
              "      <td>24/06/2021</td>\n",
              "      <td>66.750000</td>\n",
              "      <td>68.739998</td>\n",
              "      <td>66.750000</td>\n",
              "      <td>68.250000</td>\n",
              "      <td>23144800</td>\n",
              "      <td>0.753770</td>\n",
              "      <td>2.247191</td>\n",
              "      <td>Negative</td>\n",
              "      <td>Negative</td>\n",
              "      <td>Positive</td>\n",
              "      <td>0</td>\n",
              "      <td>Positive</td>\n",
              "    </tr>\n",
              "    <tr>\n",
              "      <th>751</th>\n",
              "      <td>25/06/2021</td>\n",
              "      <td>68.290001</td>\n",
              "      <td>68.919998</td>\n",
              "      <td>67.279999</td>\n",
              "      <td>67.930000</td>\n",
              "      <td>13896900</td>\n",
              "      <td>0.396343</td>\n",
              "      <td>-0.527164</td>\n",
              "      <td>Positive</td>\n",
              "      <td>Negative</td>\n",
              "      <td>Negative</td>\n",
              "      <td>0</td>\n",
              "      <td>Negative</td>\n",
              "    </tr>\n",
              "    <tr>\n",
              "      <th>752</th>\n",
              "      <td>28/06/2021</td>\n",
              "      <td>68.160004</td>\n",
              "      <td>68.629997</td>\n",
              "      <td>67.080002</td>\n",
              "      <td>68.290001</td>\n",
              "      <td>11176100</td>\n",
              "      <td>0.780647</td>\n",
              "      <td>0.190724</td>\n",
              "      <td>Negative</td>\n",
              "      <td>Positive</td>\n",
              "      <td>Positive</td>\n",
              "      <td>0</td>\n",
              "      <td>Negative</td>\n",
              "    </tr>\n",
              "    <tr>\n",
              "      <th>753</th>\n",
              "      <td>29/06/2021</td>\n",
              "      <td>68.279999</td>\n",
              "      <td>69.379997</td>\n",
              "      <td>67.930000</td>\n",
              "      <td>69.000000</td>\n",
              "      <td>9526400</td>\n",
              "      <td>0.737932</td>\n",
              "      <td>1.054483</td>\n",
              "      <td>Negative</td>\n",
              "      <td>Negative</td>\n",
              "      <td>Positive</td>\n",
              "      <td>0</td>\n",
              "      <td>Positive</td>\n",
              "    </tr>\n",
              "  </tbody>\n",
              "</table>\n",
              "</div>\n",
              "      <button class=\"colab-df-convert\" onclick=\"convertToInteractive('df-e624df17-af68-4c8b-b3a8-a6bc07d60078')\"\n",
              "              title=\"Convert this dataframe to an interactive table.\"\n",
              "              style=\"display:none;\">\n",
              "        \n",
              "  <svg xmlns=\"http://www.w3.org/2000/svg\" height=\"24px\"viewBox=\"0 0 24 24\"\n",
              "       width=\"24px\">\n",
              "    <path d=\"M0 0h24v24H0V0z\" fill=\"none\"/>\n",
              "    <path d=\"M18.56 5.44l.94 2.06.94-2.06 2.06-.94-2.06-.94-.94-2.06-.94 2.06-2.06.94zm-11 1L8.5 8.5l.94-2.06 2.06-.94-2.06-.94L8.5 2.5l-.94 2.06-2.06.94zm10 10l.94 2.06.94-2.06 2.06-.94-2.06-.94-.94-2.06-.94 2.06-2.06.94z\"/><path d=\"M17.41 7.96l-1.37-1.37c-.4-.4-.92-.59-1.43-.59-.52 0-1.04.2-1.43.59L10.3 9.45l-7.72 7.72c-.78.78-.78 2.05 0 2.83L4 21.41c.39.39.9.59 1.41.59.51 0 1.02-.2 1.41-.59l7.78-7.78 2.81-2.81c.8-.78.8-2.07 0-2.86zM5.41 20L4 18.59l7.72-7.72 1.47 1.35L5.41 20z\"/>\n",
              "  </svg>\n",
              "      </button>\n",
              "      \n",
              "  <style>\n",
              "    .colab-df-container {\n",
              "      display:flex;\n",
              "      flex-wrap:wrap;\n",
              "      gap: 12px;\n",
              "    }\n",
              "\n",
              "    .colab-df-convert {\n",
              "      background-color: #E8F0FE;\n",
              "      border: none;\n",
              "      border-radius: 50%;\n",
              "      cursor: pointer;\n",
              "      display: none;\n",
              "      fill: #1967D2;\n",
              "      height: 32px;\n",
              "      padding: 0 0 0 0;\n",
              "      width: 32px;\n",
              "    }\n",
              "\n",
              "    .colab-df-convert:hover {\n",
              "      background-color: #E2EBFA;\n",
              "      box-shadow: 0px 1px 2px rgba(60, 64, 67, 0.3), 0px 1px 3px 1px rgba(60, 64, 67, 0.15);\n",
              "      fill: #174EA6;\n",
              "    }\n",
              "\n",
              "    [theme=dark] .colab-df-convert {\n",
              "      background-color: #3B4455;\n",
              "      fill: #D2E3FC;\n",
              "    }\n",
              "\n",
              "    [theme=dark] .colab-df-convert:hover {\n",
              "      background-color: #434B5C;\n",
              "      box-shadow: 0px 1px 3px 1px rgba(0, 0, 0, 0.15);\n",
              "      filter: drop-shadow(0px 1px 2px rgba(0, 0, 0, 0.3));\n",
              "      fill: #FFFFFF;\n",
              "    }\n",
              "  </style>\n",
              "\n",
              "      <script>\n",
              "        const buttonEl =\n",
              "          document.querySelector('#df-e624df17-af68-4c8b-b3a8-a6bc07d60078 button.colab-df-convert');\n",
              "        buttonEl.style.display =\n",
              "          google.colab.kernel.accessAllowed ? 'block' : 'none';\n",
              "\n",
              "        async function convertToInteractive(key) {\n",
              "          const element = document.querySelector('#df-e624df17-af68-4c8b-b3a8-a6bc07d60078');\n",
              "          const dataTable =\n",
              "            await google.colab.kernel.invokeFunction('convertToInteractive',\n",
              "                                                     [key], {});\n",
              "          if (!dataTable) return;\n",
              "\n",
              "          const docLinkHtml = 'Like what you see? Visit the ' +\n",
              "            '<a target=\"_blank\" href=https://colab.research.google.com/notebooks/data_table.ipynb>data table notebook</a>'\n",
              "            + ' to learn more about interactive tables.';\n",
              "          element.innerHTML = '';\n",
              "          dataTable['output_type'] = 'display_data';\n",
              "          await google.colab.output.renderOutput(dataTable, element);\n",
              "          const docLink = document.createElement('div');\n",
              "          docLink.innerHTML = docLinkHtml;\n",
              "          element.appendChild(docLink);\n",
              "        }\n",
              "      </script>\n",
              "    </div>\n",
              "  </div>\n",
              "  "
            ]
          },
          "metadata": {},
          "execution_count": 16
        }
      ],
      "source": [
        "#run\n",
        "# Loading data\n",
        "#run\n",
        "file_path = Path(\"TWTR.csv\")\n",
        "df = pd.read_csv(file_path)\n",
        "df.dropna(inplace=True)\n",
        "if(df.value_counts().min()<10):\n",
        "  df=df[df.FutureTrend!=\"Neutral\"].dropna()\n",
        "\n",
        "\n",
        "\n",
        "df.tail()"
      ]
    },
    {
      "cell_type": "code",
      "source": [
        "import matplotlib.pyplot as plt\n",
        "mpgs = df['EF_1']\n",
        "plt.hist(mpgs, bins=5)\n",
        "plt.show()"
      ],
      "metadata": {
        "colab": {
          "base_uri": "https://localhost:8080/",
          "height": 265
        },
        "id": "b4iDRNUCy9K9",
        "outputId": "287766d4-252d-4e55-8326-3224ed6b1e27"
      },
      "execution_count": 18,
      "outputs": [
        {
          "output_type": "display_data",
          "data": {
            "text/plain": [
              "<Figure size 432x288 with 1 Axes>"
            ],
            "image/png": "[encoded data removed]"
          },
          "metadata": {
            "needs_background": "light"
          }
        }
      ]
    },
    {
      "cell_type": "code",
      "source": [
        "import matplotlib.pyplot as plt\n",
        "mpgs = df['Twitter Sentiments']\n",
        "plt.hist(mpgs, bins=3)\n",
        "plt.show()\n",
        "print(plt.hist(mpgs, bins=3)[1]\n",
        ")"
      ],
      "metadata": {
        "colab": {
          "base_uri": "https://localhost:8080/",
          "height": 530
        },
        "id": "r1w5vxBjzinG",
        "outputId": "0599353f-e07b-4b8a-d538-57d4a5364b1c"
      },
      "execution_count": 19,
      "outputs": [
        {
          "output_type": "display_data",
          "data": {
            "text/plain": [
              "<Figure size 432x288 with 1 Axes>"
            ],
            "image/png": "[encoded data removed]"
          },
          "metadata": {
            "needs_background": "light"
          }
        },
        {
          "output_type": "stream",
          "name": "stdout",
          "text": [
            "[  0.         114.33333333 228.66666667 343.        ]\n"
          ]
        },
        {
          "output_type": "display_data",
          "data": {
            "text/plain": [
              "<Figure size 432x288 with 1 Axes>"
            ],
            "image/png": "[encoded data removed]"
          },
          "metadata": {
            "needs_background": "light"
          }
        }
      ]
    },
    {
      "cell_type": "code",
      "source": [
        "plt.hist(mpgs, bins=5)[1]\n"
      ],
      "metadata": {
        "colab": {
          "base_uri": "https://localhost:8080/",
          "height": 282
        },
        "id": "KCZVXkKLzTB8",
        "outputId": "a3d0e17e-f8a4-4b0a-ff0d-91e67e200fce"
      },
      "execution_count": 20,
      "outputs": [
        {
          "output_type": "execute_result",
          "data": {
            "text/plain": [
              "array([  0. ,  68.6, 137.2, 205.8, 274.4, 343. ])"
            ]
          },
          "metadata": {},
          "execution_count": 20
        },
        {
          "output_type": "display_data",
          "data": {
            "text/plain": [
              "<Figure size 432x288 with 1 Axes>"
            ],
            "image/png": "[encoded data removed]"
          },
          "metadata": {
            "needs_background": "light"
          }
        }
      ]
    },
    {
      "cell_type": "code",
      "source": [
        "def make_bins(df):\n",
        "   label_names = [\"Ef_1_v_low\",\"Ef_1_low\",\"Ef_1_v_med\",\"Ef1_high\", \"Ef1_very_high\" ]\n",
        "   cut_points =[0. , 0.2, 0.4, 0.6, 0.8, 1. ]\n",
        "   df[\"EF_1_val\"] = pd.cut(df[\"EF_1\"], cut_points, labels=label_names)\n",
        "   dummies = pd.get_dummies(df[\"EF_1_val\"],drop_first=True)\n",
        "   df = pd.concat([df, dummies], axis=1)\n",
        "   label_names = [\"setinent_neutral\",\"sentiment_good\",\"sentiment_bad\"]\n",
        "   cut_points =[0, 0.29,0.58 ,0.87] \n",
        "   df[\"sentiments\"]=pd.cut(df['Twitter Sentiments'], cut_points, labels=label_names)\n",
        "   dummies1 = pd.get_dummies(df[\"sentiments\"],drop_first=True)\n",
        "   df = pd.concat([df, dummies1], axis=1)\n",
        "   df.drop([\"EF_1_val\",\"sentiments\"],axis=1,inplace=True)\n",
        "   return df"
      ],
      "metadata": {
        "id": "saI4XyM6BGcR"
      },
      "execution_count": 21,
      "outputs": []
    },
    {
      "cell_type": "code",
      "source": [
        "import seaborn as sns\n",
        "\n",
        "\n",
        "\n",
        "fig, ax = plt.subplots(figsize=(15,10))   \n",
        "sns.heatmap(df.corr(), annot = True , fmt=\".2f\",ax=ax ,cmap = \"Blues\")\n",
        "plt.show()\n"
      ],
      "metadata": {
        "colab": {
          "base_uri": "https://localhost:8080/",
          "height": 596
        },
        "id": "cGhINRHwq7tB",
        "outputId": "0dfceb21-8ebe-455a-cf25-a8877879afd4"
      },
      "execution_count": 22,
      "outputs": [
        {
          "output_type": "display_data",
          "data": {
            "text/plain": [
              "<Figure size 1080x720 with 2 Axes>"
            ],
            "image/png": "[encoded data removed]"
          },
          "metadata": {
            "needs_background": "light"
          }
        }
      ]
    },
    {
      "cell_type": "code",
      "source": [
        "df.columns\n"
      ],
      "metadata": {
        "colab": {
          "base_uri": "https://localhost:8080/"
        },
        "id": "fT7KwljB1uO2",
        "outputId": "153c5860-e64e-4d48-d398-76254e0fdc38"
      },
      "execution_count": 23,
      "outputs": [
        {
          "output_type": "execute_result",
          "data": {
            "text/plain": [
              "Index(['Date', 'Open', 'High', 'Low', 'Close', 'Volume', 'EF_1', 'EF_2',\n",
              "       'Oil FutureTrend', 'Gold FutureTrend', 'Trend', 'Twitter Sentiments',\n",
              "       'FutureTrend'],\n",
              "      dtype='object')"
            ]
          },
          "metadata": {},
          "execution_count": 23
        }
      ]
    },
    {
      "cell_type": "code",
      "execution_count": 24,
      "metadata": {
        "id": "7wH2S5DsYetM",
        "colab": {
          "base_uri": "https://localhost:8080/",
          "height": 542
        },
        "outputId": "b8e64763-108c-4610-e653-c62243ab2380"
      },
      "outputs": [
        {
          "output_type": "display_data",
          "data": {
            "text/html": [
              "<html>\n",
              "<head><meta charset=\"utf-8\" /></head>\n",
              "<body>\n",
              "    <div>            <script src=\"https://cdnjs.cloudflare.com/ajax/libs/mathjax/2.7.5/MathJax.js?config=TeX-AMS-MML_SVG\"></script><script type=\"text/javascript\">if (window.MathJax) {MathJax.Hub.Config({SVG: {font: \"STIX-Web\"}});}</script>                <script type=\"text/javascript\">window.PlotlyConfig = {MathJaxConfig: 'local'};</script>\n",
              "        <script src=\"https://cdn.plot.ly/plotly-2.8.3.min.js\"></script>                <div id=\"e214d105-cecc-4676-8716-1c5c4a476846\" class=\"plotly-graph-div\" style=\"height:525px; width:100%;\"></div>            <script type=\"text/javascript\">                                    window.PLOTLYENV=window.PLOTLYENV || {};                                    if (document.getElementById(\"e214d105-cecc-4676-8716-1c5c4a476846\")) {                    Plotly.newPlot(                        \"e214d105-cecc-4676-8716-1c5c4a476846\",                        [{\"close\":[44.97999954,43.88999939,45.06000137,46.65000153,44.13999939,43.75,43.86999893,45.25999832,44.49000168,44.25999832,44.70999908,43.34000015,43.43999863,43.41999817,43.31000137,42.16999817,44.22000122,42.93999863,34.11999893,31.37999916,31.87000084,31.90999985,32.81999969,31.95999908,32.97999954,32.66999817,31.84000015,31.95999908,32.00999832,32.79999924,33.18999863,32.38000107,32.83000183,32.72999954,32.59999847,33.68999863,33.81000137,33.88000107,34.27999878,35.88999939,35.49000168,35.34999847,35.63999939,35.18000031,34.84000015,32.72999954,30.80999947,30.48999977,30.54000092,30.88999939,29.75,30.38999939,30.12000084,28.86000061,29.21999931,29.52000046,29.85000038,28.5,28.60000038,29.11000061,29.01000023,29.42000008,28.45999908,28.30999947,28.19000053,29.01000023,28.22999954,28.38999939,28.45000076,29.27000046,26.79000092,27.0,27.98999977,28.61000061,29.87000084,29.54999924,29.29000092,28.82999992,29.18000031,28.77000046,27.54000092,31.79999924,32.36000061,32.38999939,33.86000061,34.75,34.61999893,34.29999924,34.02000046,34.41999817,34.99000168,34.18000031,34.08000183,32.00999832,32.49000168,32.90999985,33.15000153,33.66999817,31.97999954,31.05999947,31.61000061,31.12000084,32.81999969,32.61000061,32.72999954,31.29999924,31.45000076,33.65999985,32.56000137,32.95999908,32.83000183,33.43000031,34.45000076,36.25,35.88999939,35.86999893,33.43000031,33.74000168,32.93000031,29.29000092,27.30999947,26.45000076,28.65999985,28.68000031,28.43000031,28.73999977,28.80999947,27.98999977,29.95000076,31.34000015,31.79999924,32.25,33.09000015,32.86999893,32.36999893,33.02000046,32.47000122,32.84999847,33.27000046,32.25,30.96999931,31.61000061,32.90000153,33.13000107,31.63999939,32.25999832,33.56000137,33.18999863,33.93999863,34.36999893,34.15999985,30.79999924,30.01000023,30.22999954,30.38999939,31.12000084,30.95999908,31.22999954,31.64999962,31.37000084,30.76000023,31.70999908,31.98999977,31.01000023,30.40999985,30.78000069,30.62000084,30.5,31.03000069,30.79999924,30.12000084,30.04000092,30.87000084,31.15999985,31.29999924,31.03000069,31.21999931,31.07999992,31.27000046,32.56999969,32.61000061,33.02000046,32.59000015,33.06000137,32.27999878,32.86999893,32.88000107,33.43999863,33.75,34.38000107,34.41999817,34.72000122,34.86000061,35.13999939,34.75,34.58000183,34.36999893,34.70999908,34.45999908,34.47999954,34.40000153,34.38999939,39.77000046,39.29000092,38.47999954,38.66999817,39.77999878,39.90999985,39.29000092,39.95000076,40.79999924,40.22999954,38.61999893,38.58000183,38.79000092,38.45000076,36.59000015,36.93000031,37.90000153,38.29999924,37.5,37.15000153,37.47000122,38.58000183,37.18999863,37.40999985,37.29000092,36.84999847,37.13999939,36.43999863,34.43000031,36.09999847,36.33000183,36.59000015,37.93000031,37.63999939,37.20999908,37.49000168,36.34000015,36.15000153,36.43999863,36.65000153,36.29000092,35.43999863,35.02000046,35.58000183,34.72000122,35.22000122,34.75,34.90000153,36.08000183,36.22000122,36.02000046,36.25,36.45000076,37.65000153,37.47000122,37.20999908,37.84000015,38.68000031,37.99000168,37.70000076,37.65999985,36.77000046,37.58000183,37.90000153,38.72999954,38.11999893,41.52000046,41.5,41.0,42.31000137,42.08000183,42.84999847,40.36999893,41.31999969,41.72999954,42.06999969,41.52999878,40.47999954,41.81000137,40.65000153,40.09000015,40.58000183,41.70000076,42.29000092,42.79999924,42.18000031,41.0,41.43999863,42.13999939,41.68000031,42.49000168,42.65000153,41.95999908,43.36000061,45.29999924,45.41999817,44.25999832,43.25,43.20000076,42.63000107,42.75999832,43.24000168,42.93000031,43.22999954,43.38000107,41.41999817,42.5,42.43999863,41.34999847,41.20000076,40.25,39.70000076,40.0,40.36000061,40.79999924,39.70000076,39.5,39.54000092,40.36000061,39.77999878,40.27999878,39.90999985,39.61000061,38.99000168,40.09000015,38.81000137,38.83000183,30.75,30.29999924,30.05999947,29.85000038,29.86000061,29.96999931,29.62000084,30.04999924,29.80999947,29.54000092,29.04999924,29.20999908,29.34000015,29.04999924,29.07999992,28.88999939,29.25,29.48999977,29.44000053,29.17000008,29.79000092,30.03000069,30.54000092,30.95999908,31.17000008,30.90999985,30.42000008,29.96999931,30.0,30.04000092,30.19000053,30.20999908,29.84000015,30.54999924,30.29999924,30.38999939,30.96999931,30.70000076,31.68000031,32.02999878,32.13000107,32.43000031,32.5,32.63000107,32.54999924,32.02999878,32.04999924,32.29999924,31.52000046,31.63999939,32.54000092,33.04999924,33.22000122,32.77999878,32.68999863,32.81999969,33.22999954,34.18999863,34.22000122,34.09000015,34.02000046,33.88999939,33.18999863,32.77999878,33.41999817,33.63000107,33.22000122,32.47999954,33.06999969,33.95999908,33.38999939,38.40999985,37.02999878,35.95999908,35.65000153,36.79000092,37.15999985,36.90999985,38.06000137,38.77000046,39.04999924,38.31000137,35.88999939,35.20999908,34.63000107,33.00999832,33.20000076,35.81999969,34.93000031,36.0,34.97000122,33.45999908,32.45999908,34.31000137,31.29999924,26.78000069,29.29000092,24.04000092,24.47999954,22.0,24.12999916,23.95000076,24.69000053,25.85000038,25.96999931,26.40999985,25.29000092,25.59000015,24.55999947,23.31999969,23.02000046,23.09000015,24.93000031,25.61000061,27.86000061,27.77000046,27.20999908,27.94000053,27.51000023,26.54999924,26.70000076,27.01000023,25.75,28.44000053,27.86000061,28.73999977,30.0,28.79000092,31.09000015,28.68000031,27.84000015,28.22999954,28.06999969,27.68000031,28.77000046,29.93000031,29.69000053,29.14999962,28.12999916,28.55999947,29.0,29.63999939,29.87999916,32.22999954,32.34000015,32.61999893,34.00999832,33.06999969,31.60000038,30.96999931,31.88999939,32.25999832,34.88000107,33.72000122,34.86999893,36.63999939,35.91999817,35.13999939,33.02999878,33.40000153,34.11000061,34.63000107,34.34000015,34.02999878,33.40999985,33.47000122,32.90999985,31.72999954,31.37000084,29.04999924,29.48999977,29.79000092,30.80999947,30.87000084,32.34000015,32.99000168,35.40999985,35.72000122,35.40000153,33.81999969,34.38000107,35.66999817,35.27999878,35.81000137,37.06000137,37.00999832,36.93999863,38.43999863,37.54000092,36.84999847,36.61000061,37.15999985,36.72000122,36.40000153,36.38999939,36.34999847,36.79000092,37.68999863,37.13999939,37.43999863,37.27999878,37.43999863,37.81999969,37.90000153,37.97000122,38.00999832,38.88999939,38.95999908,39.25999832,40.49000168,40.54999924,41.08000183,40.38999939,41.06999969,40.58000183,41.15000153,43.66999817,41.63000107,39.86999893,38.18999863,39.56000137,38.95000076,38.93000031,38.77000046,39.09000015,39.59999847,39.34999847,40.15000153,39.90000153,42.72999954,45.33000183,43.13999939,43.84000015,44.15000153,44.74000168,44.5,46.70000076,46.11999893,47.31000137,45.59999847,45.86999893,46.00999832,45.90000153,48.25,47.0,45.97999954,46.02999878,45.81000137,45.81999969,46.34999847,50.24000168,50.27999878,50.43999863,49.0,51.27000046,48.52999878,52.43000031,41.36000061,39.47000122,41.72999954,42.75999832,43.70999908,43.11999893,43.18999863,42.40999985,43.63000107,42.81000137,43.47999954,42.72999954,42.84999847,43.33000183,43.61999893,44.68000031,44.93999863,45.22999954,46.43000031,46.59000015,46.50999832,46.66999817,47.22999954,47.79000092,47.72999954,47.90000153,47.43000031,47.22999954,51.20999908,51.43999863,52.02000046,52.81999969,54.02999878,54.63000107,55.86999893,54.63999939,54.90999985,54.29999924,53.97000122,54.43000031,54.36000061,54.33000183,54.15000153,54.52999878,53.88000107,53.25999832,52.33000183,51.47999954,48.18000031,47.04000092,47.22000122,45.79000092,45.18000031,45.93000031,47.59999847,47.11999893,48.06000137,47.84000015,49.66999817,48.18999863,51.56999969,50.52999878,52.65999985,54.0,54.58000183,56.50999832,56.77999878,58.20000076,59.86999893,67.76999664,68.55999756,71.90000153,73.95999908,71.79000092,72.26000214,72.27999878,70.48999786,73.16999817,71.91999817,74.58999634,77.05999756,77.62999725,73.66999817,70.86000061,66.75,66.94999695,63.47999954,67.51999664,64.83000183,68.45999908,68.09999847,70.27999878,69.25,70.19999695,66.72000122,66.23000336,65.20999908,64.26999664,62.06000137,61.20000076,61.25999832,62.93999863,62.99000168,63.63000107,63.83000183,64.23999786,67.0,68.98999786,71.22000122,71.19000244,70.86000061,72.44999695,69.73999786,71.70999908,70.12000275,67.94000244,65.69999695,67.33000183,64.30999756,67.01999664,66.72000122,66.01000214,65.69999695,65.08999634,55.22000122,54.58000183,54.40000153,53.56000137,53.81000137,53.79000092,51.81000137,52.88000107,50.70000076,50.11000061,51.72999954,52.59999847,53.18999863,52.91999817,54.70999908,54.45000076,57.06000137,57.0,57.84999847,58.08000183,58.0,57.43999863,57.15999985,57.00999832,59.0,59.63000107,58.81000137,59.70999908,60.29999924,60.5,60.83000183,60.22999954,59.93000031,60.70999908,60.84999847,61.95999908,63.77999878,66.48999786,68.25,67.93000031,68.29000092,69.0],\"high\":[45.0,45.47999954,45.11000061,46.75,46.90000153,45.25999832,44.09999847,45.34000015,45.31999969,44.72999954,45.25999832,44.75,43.86999893,44.13000107,43.84999847,43.79999924,44.38999939,43.40999985,37.47000122,34.25999832,32.47999954,32.59000015,32.86999893,32.99000168,33.04000092,33.61000061,32.77999878,32.38000107,32.25,33.61999893,33.43000031,33.22999954,33.15000153,33.09000015,32.93999863,34.13999939,34.16999817,34.74000168,34.49000168,36.0,36.04000092,35.59999847,36.15000153,35.72000122,35.13000107,34.70000076,32.95000076,31.38999939,30.60000038,31.44000053,30.82999992,30.56999969,30.77000046,29.28000069,29.62999916,29.55999947,30.02000046,29.95000076,29.12000084,29.23999977,29.45000076,29.69000053,29.28000069,28.70000076,28.62000084,29.12000084,28.76000023,28.95999908,28.94000053,29.56999969,29.12000084,27.57999992,28.17000008,29.04999924,29.88999939,30.13999939,30.23999977,29.79000092,29.28000069,29.02000046,29.77000046,33.66999817,33.13999939,33.75,34.54999924,35.63999939,34.90999985,35.34999847,34.27999878,34.81000137,35.11999893,34.99000168,34.41999817,34.09999847,32.84999847,33.84999847,33.36000061,33.91999817,33.59999847,31.73999977,32.08000183,31.95999908,32.86999893,33.09999847,33.0,32.54000092,31.54999924,33.84999847,34.15999985,32.97000122,34.36999893,33.63999939,35.75,37.13999939,36.49000168,36.61999893,35.70000076,34.16999817,34.70000076,32.72000122,29.76000023,27.27000046,28.70000076,28.92000008,29.13999939,29.12999916,28.98999977,29.18000031,30.10000038,31.37999916,32.04999924,32.40000153,33.5,33.20000076,32.75,33.34999847,33.29999924,33.09000015,33.88999939,33.34999847,32.45000076,31.72999954,33.61999893,33.20000076,33.54999924,32.38000107,33.68999863,34.09000015,34.18000031,34.56999969,35.25,31.72999954,30.73999977,30.44000053,30.79999924,31.84000015,31.28000069,31.79999924,32.11000061,31.93000031,31.47999954,31.72999954,32.70999908,31.95999908,31.0,30.79000092,31.19000053,31.26000023,31.22999954,31.34000015,30.84000015,30.20999908,30.90999985,31.40999985,31.47999954,31.54999924,31.40999985,31.57999992,31.5,32.65000153,32.68999863,34.20999908,33.29999924,33.86000061,33.45000076,32.93000031,33.24000168,33.68000031,33.88999939,34.75999832,35.13999939,34.79999924,35.06000137,35.38999939,35.27000046,34.86999893,34.83000183,35.02999878,34.99000168,34.90000153,34.86000061,34.61999893,40.52999878,39.95000076,40.13000107,39.34000015,39.97000122,40.91999817,40.06999969,40.0,40.81999969,40.43999863,40.15000153,39.15000153,39.02000046,39.15999985,37.63999939,37.52000046,38.13999939,38.72000122,38.13000107,37.72999954,37.86000061,39.31999969,38.29000092,37.84999847,38.04000092,37.40000153,37.29000092,36.95999908,36.90000153,36.15000153,36.70999908,36.75,38.31000137,38.63999939,38.25999832,37.61999893,37.04000092,36.49000168,36.68000031,37.50999832,36.68000031,36.65000153,35.75,35.66999817,35.72999954,35.38000107,35.63999939,34.99000168,36.25,36.59999847,36.38999939,36.34999847,36.63999939,37.66999817,38.02999878,37.86999893,37.90000153,38.97000122,38.79000092,38.22999954,37.79999924,38.09000015,37.68999863,38.02000046,38.79999924,39.22999954,42.33000183,42.22000122,41.72000122,43.24000168,43.47999954,43.04000092,42.0,41.63999939,41.90000153,42.34999847,41.97000122,41.47999954,41.86000061,41.25,41.04999924,40.65000153,41.88000107,42.84999847,43.27999878,43.08000183,42.68999863,41.47999954,42.68999863,42.20000076,42.65000153,42.70000076,43.77000046,43.40000153,45.33000183,45.68000031,45.86000061,43.77999878,44.11000061,43.20000076,43.06999969,43.40999985,43.58000183,43.84000015,44.09000015,43.75,42.77999878,42.49000168,42.66999817,41.47999954,41.56999969,40.11999893,40.15999985,40.59000015,40.86999893,40.47999954,40.09999847,39.88999939,40.70000076,40.47000122,40.40000153,40.45999908,40.15000153,39.90999985,40.29000092,40.47999954,39.45000076,32.38999939,31.04000092,30.65999985,30.36000061,30.17000008,29.97999954,30.26000023,30.14999962,30.36000061,29.89999962,29.59000015,29.43000031,29.35000038,29.5,29.29999924,29.37000084,29.43000031,29.73999977,29.67000008,29.47999954,30.48999977,30.17000008,30.56999969,30.98999977,31.36000061,31.13999939,30.95000076,30.01000023,30.32999992,30.36000061,30.46999931,30.75,30.26000023,30.60000038,30.59000015,30.61000061,31.28000069,31.20999908,31.90999985,32.41999817,32.25,32.79999924,32.70999908,32.88999939,32.84000015,32.5,32.31999969,32.5,32.09999847,31.70999908,32.70000076,33.40000153,33.54000092,33.00999832,33.06999969,33.11999893,33.50999832,34.27000046,34.38999939,34.38999939,34.54000092,34.36000061,34.11000061,32.93000031,33.65999985,33.88000107,33.22999954,33.13999939,33.24000168,34.11999893,34.15999985,39.63999939,38.15000153,36.84999847,36.27999878,37.02000046,37.31999969,37.34999847,38.06999969,38.90999985,39.06000137,38.75999832,36.59000015,36.45000076,35.81999969,34.20000076,33.36999893,36.86000061,36.47999954,36.0,35.72999954,33.99000168,35.36000061,34.77999878,33.45999908,29.69000053,29.40999985,28.35000038,25.84000015,23.48999977,25.17000008,25.86000061,25.25,26.45999908,27.45999908,27.03000069,25.82999992,25.94000053,26.32999992,24.38999939,23.57999992,24.31999969,25.04999924,26.86000061,28.45999908,29.04999924,27.62000084,28.40999985,27.63999939,27.17000008,27.92000008,27.53000069,26.71999931,28.5,28.84000015,28.84000015,30.38999939,30.45000076,31.5,30.56999969,28.45000076,28.42000008,28.72999954,28.42000008,28.78000069,29.96999931,30.07999992,29.93000031,29.68000031,28.57999992,29.25,30.29000092,30.35000038,32.34999847,32.61000061,32.77000046,34.27000046,34.0,32.68000031,31.61000061,32.09999847,32.41999817,35.04000092,34.93999863,35.97000122,36.93999863,36.20000076,36.43999863,34.45000076,34.16999817,34.18999863,35.45999908,34.81999969,34.45000076,34.95000076,33.63999939,33.79999924,33.06000137,31.61000061,31.31999969,30.04000092,29.81999969,31.17000008,31.39999962,32.81000137,33.66999817,36.97999954,36.18000031,35.75999832,36.20999908,34.65999985,35.79999924,35.58000183,36.0,37.16999817,38.5,37.41999817,40.25999832,38.54000092,37.59000015,37.31999969,37.25,37.09999847,37.33000183,36.88999939,36.61000061,37.34000015,37.81000137,38.02999878,39.16999817,39.0,38.0,38.27000046,37.95999908,38.09000015,38.45999908,39.52000046,39.0,39.38999939,40.79999924,40.70000076,41.33000183,41.25,41.16999817,41.06999969,41.25,44.09000015,43.0,41.49000168,39.18000031,39.81000137,40.40000153,39.49000168,39.59000015,39.29999924,40.90000153,39.52999878,40.24000168,40.20000076,42.83000183,46.81999969,45.06999969,44.02000046,44.41999817,45.50999832,45.09000015,46.72000122,46.88999939,47.5,47.86999893,46.40000153,46.61999893,46.40999985,48.65000153,48.31999969,47.70000076,46.09000015,46.45000076,46.29999924,46.77999878,50.52999878,50.34000015,50.5,50.65000153,51.50999832,50.0,52.93000031,45.18000031,41.59999847,42.11999893,42.93000031,44.04000092,44.18999863,45.18000031,43.97000122,43.72999954,44.15000153,43.52999878,43.63999939,43.43000031,44.29000092,43.86999893,45.31999969,45.56999969,45.43999863,46.84999847,47.00999832,46.81999969,47.27000046,47.93999863,48.15000153,48.34000015,48.34000015,48.09999847,48.74000168,51.74000168,52.45000076,53.47999954,52.95999908,56.11000061,55.16999817,56.08000183,55.68000031,55.68000031,55.45000076,55.18999863,55.18000031,55.40000153,54.90999985,54.31000137,55.49000168,54.5,54.52000046,53.38000107,52.70000076,49.49000168,49.13000107,48.38999939,47.65999985,46.20000076,46.16999817,47.91999817,48.02000046,48.18000031,48.95000076,52.18999863,50.84999847,52.25,52.99000168,52.75,54.86999893,55.18999863,56.52000046,57.43999863,59.59999847,60.72999954,69.25,69.01999664,73.18000031,74.83999634,73.27999878,72.90000153,74.95999908,73.75,74.33000183,73.94999695,80.75,79.08000183,78.73000336,77.09999847,74.5,71.77999878,67.79000092,68.63999939,68.20999908,69.45999908,68.73999786,68.81999969,70.48999786,71.86000061,70.81999969,69.90000153,67.11000061,66.88999939,65.62999725,64.94999695,62.00999832,61.86999893,64.95999908,64.09999847,64.98000336,66.36000061,64.33999634,67.65000153,69.97000122,71.44999695,71.44999695,71.83999634,72.77999878,73.22000122,71.87999725,72.19999695,69.91999817,68.09999847,67.36000061,67.5,67.12999725,67.25,68.36000061,66.55999756,67.05000305,57.63000107,55.54999924,55.72000122,54.97000122,53.84000015,54.91999817,53.08000183,53.18999863,52.38000107,51.77000046,51.91999817,52.72999954,55.15000153,53.15999985,54.90999985,55.0,57.33000183,57.63999939,58.61000061,58.29999924,58.56000137,58.20000076,57.63999939,58.66999817,59.29999924,59.83000183,60.09000015,61.04999924,60.38000107,60.63000107,61.54999924,61.31999969,61.15000153,61.61999893,60.97000122,62.09000015,64.05000305,66.76999664,68.73999786,68.91999817,68.62999725,69.37999725],\"low\":[42.75,43.79999924,43.54999924,44.61000061,42.08000183,43.63000107,42.22000122,44.36000061,43.93000031,43.90999985,43.15000153,42.74000168,43.11000061,43.22999954,42.40000153,41.59000015,42.34999847,42.13999939,33.90000153,31.06999969,31.06999969,31.45999908,31.34000015,31.79999924,31.45000076,32.54999924,31.80999947,31.61000061,31.46999931,32.02000046,32.52000046,31.95000076,32.41999817,32.34000015,32.20000076,32.59999847,33.34999847,33.72000122,33.93000031,34.47999954,34.88999939,34.81000137,35.20999908,34.59000015,34.47999954,32.50999832,30.62000084,29.81999969,29.95000076,30.35000038,29.25,29.86000061,30.05999947,28.43000031,28.75,28.81999969,29.23999977,28.48999977,27.93000031,28.44000053,28.79999924,28.87999916,28.40999985,28.0,27.90999985,28.25,27.87000084,27.96999931,27.71999931,28.34000015,26.76000023,26.19000053,27.26000023,27.59000015,28.84000015,28.95999908,28.97999954,28.68000031,28.30999947,28.06999969,27.30999947,30.76000023,30.94000053,31.62000084,31.29999924,34.34999847,33.81999969,33.84999847,33.36999893,33.84000015,34.38000107,33.86999893,33.38999939,31.78000069,31.46999931,32.75,32.61999893,32.59999847,31.84000015,29.94000053,31.10000038,31.11000061,31.52000046,32.36000061,31.71999931,29.87000084,30.11000061,32.20999908,32.5,31.11000061,32.66999817,32.25999832,33.88000107,34.84999847,35.29999924,35.04999924,33.20000076,33.08000183,32.65999985,28.51000023,27.04000092,26.26000023,26.79999924,27.26000023,27.84000015,28.34000015,27.87000084,27.94000053,28.30999947,29.77000046,30.90999985,31.54000092,32.25999832,32.43000031,32.11999893,32.45000076,32.43999863,32.38999939,32.77000046,31.93000031,30.71999931,30.90999985,31.97999954,32.11999893,31.45999908,31.42000008,32.79000092,32.95999908,33.24000168,33.91999817,33.75,30.30999947,29.42000008,29.65999985,30.22999954,30.54999924,30.60000038,30.96999931,31.14999962,31.20999908,30.60000038,30.80999947,31.87999916,30.98999977,29.89999962,30.01000023,30.28000069,30.06999969,30.38999939,30.59000015,30.01000023,29.40999985,30.23999977,30.88999939,31.04000092,30.94000053,30.70999908,30.84000015,30.87999916,31.15999985,32.02999878,32.34000015,32.27999878,32.91999817,31.95000076,31.72999954,32.47000122,32.70000076,33.22999954,33.81000137,33.90000153,34.36999893,34.50999832,34.81000137,34.50999832,34.40999985,34.11000061,34.34000015,34.22999954,34.20000076,34.31999969,33.81999969,36.90999985,38.79999924,38.18999863,38.18000031,38.63000107,39.65000153,39.25999832,38.84000015,39.95999908,39.45000076,38.11999893,38.33000183,37.81999969,37.86000061,36.36999893,36.59999847,36.63999939,38.04999924,37.47000122,36.91999817,37.33000183,37.24000168,36.79999924,37.27000046,37.22999954,36.52000046,36.59999847,36.29999924,34.04000092,34.97000122,35.95000076,35.95999908,36.79999924,37.61999893,36.84999847,37.04999924,35.75999832,36.04000092,36.11000061,36.54999924,35.81000137,35.33000183,34.99000168,34.81999969,34.56999969,34.91999817,34.61000061,34.27999878,35.22000122,35.88999939,35.93999863,35.59999847,35.86999893,36.29000092,36.88000107,36.97000122,37.16999817,37.93999863,37.81999969,37.56000137,37.0,36.72999954,36.83000183,36.81999969,37.75999832,37.90999985,40.0,40.90000153,40.81999969,41.00999832,41.72000122,41.59000015,39.61999893,40.77999878,40.33000183,41.36000061,40.93999863,40.38999939,40.38000107,40.38999939,39.77999878,40.11000061,41.04999924,41.38000107,42.36000061,41.59000015,40.81000137,41.0,41.52999878,41.29999924,41.81999969,41.90000153,41.63999939,42.11000061,43.61999893,44.56000137,43.84000015,43.04999924,43.11000061,42.33000183,42.18999863,42.38999939,42.68000031,42.93999863,42.84999847,41.06000137,41.18000031,41.72000122,40.61000061,40.81999969,40.02999878,39.25,38.61000061,39.83000183,40.06000137,39.66999817,39.22000122,39.25999832,39.81000137,39.47000122,39.34999847,39.59999847,39.40999985,38.27000046,39.31000137,38.77999878,37.75999832,30.51000023,29.92000008,29.75,29.81999969,29.71999931,28.84000015,29.40999985,29.61000061,29.70999908,29.39999962,28.62999916,29.04999924,28.92000008,28.93000031,28.93000031,28.72999954,28.90999985,29.01000023,29.18000031,28.87999916,29.14999962,29.57999992,30.04999924,30.39999962,30.93000031,30.78000069,29.96999931,29.47999954,29.90999985,29.92000008,29.97999954,30.12000084,29.77000046,29.86000061,29.93000031,30.23999977,30.40999985,30.62999916,30.62999916,31.61000061,31.54000092,31.98999977,32.41999817,32.41999817,32.22000122,31.81999969,31.77000046,31.95999908,31.26000023,31.15999985,31.71999931,32.34999847,33.0,32.45999908,32.49000168,32.63999939,32.95000076,33.02999878,33.58000183,33.86999893,33.95999908,33.72000122,32.97000122,32.15000153,32.84999847,33.29000092,32.38999939,32.08000183,32.45000076,33.40000153,33.18999863,36.41999817,36.84000015,35.65000153,35.52999878,36.16999817,36.20999908,36.58000183,36.68000031,37.93999863,37.95999908,38.04000092,35.29999924,34.88999939,34.43999863,32.47000122,31.51000023,35.13999939,34.40999985,34.77000046,34.52000046,32.50999832,30.62000084,33.11999893,30.01000023,26.70000076,26.39999962,23.92000008,23.18000031,20.0,20.65999985,23.70000076,23.5,24.12999916,24.52000046,25.62999916,24.76000023,24.60000038,24.39999962,23.04999924,22.36000061,22.75,23.79000092,25.30999947,25.92000008,27.28000069,26.23999977,27.60000038,26.75,25.95999908,26.46999931,26.11000061,25.05999947,26.45000076,27.72999954,27.45999908,29.12999916,28.56999969,29.62000084,28.09000015,27.19000053,27.38999939,27.89999962,27.54999924,27.94000053,28.73999977,29.32999992,29.09000015,27.57999992,27.12000084,28.11000061,29.55999947,29.32999992,30.45000076,31.38999939,31.78000069,33.36000061,32.24000168,31.31999969,30.29000092,30.84000015,31.61000061,32.43999863,33.34000015,34.47000122,35.75,35.15999985,34.90000153,32.72000122,32.47000122,32.84000015,34.20999908,34.09999847,33.86000061,33.40000153,32.95000076,32.72999954,31.34000015,30.81999969,28.75,28.22999954,29.02000046,30.05999947,30.39999962,31.15999985,31.77000046,32.72999954,34.81000137,34.86000061,33.75999832,33.43999863,34.61999893,34.0,34.72999954,35.79999924,37.0,36.25,37.5,37.13999939,36.09000015,36.40999985,36.72999954,36.38000107,35.97000122,35.90000153,35.65000153,36.40999985,36.49000168,36.72999954,37.31000137,36.70999908,36.81999969,37.36999893,37.27999878,37.27000046,37.74000168,38.06000137,38.29999924,38.70000076,39.63999939,39.31999969,40.0,40.06999969,40.41999817,40.56999969,40.13999939,41.36000061,40.95999908,38.43000031,38.09999847,38.33000183,38.81999969,38.50999832,38.54999924,38.22999954,39.18999863,38.59999847,38.93000031,39.22000122,40.27000046,43.70000076,42.65999985,42.59000015,43.61000061,44.29000092,43.95000076,44.97999954,45.43000031,46.11999893,45.02999878,45.74000168,45.77999878,45.65999985,47.40999985,46.99000168,45.61999893,44.29999924,45.04999924,45.24000168,45.45999908,48.84999847,48.11000061,48.93999863,48.40000153,49.13999939,48.25,50.56999969,40.83000183,38.93000031,40.02999878,40.81000137,42.47999954,42.81999969,43.11000061,41.61000061,42.86000061,42.68000031,42.41999817,42.43000031,42.36000061,42.79999924,42.79999924,43.45000076,44.18000031,44.45999908,44.84999847,46.20000076,44.93999863,45.81000137,45.93000031,47.02999878,47.66999817,47.06999969,46.90000153,46.91999817,46.54000092,49.97000122,51.79999924,51.61000061,53.63999939,53.93999863,54.27000046,53.58000183,54.36999893,54.22999954,53.86000061,53.93000031,53.54999924,54.13999939,53.74000168,53.58000183,53.15000153,52.56999969,51.45999908,50.18999863,45.15000153,46.56000137,47.02000046,45.43000031,45.08000183,44.40000153,46.18000031,46.5,46.79999924,47.0,48.02000046,47.97999954,49.27000046,49.88000107,51.06999969,52.70999908,53.70000076,54.43999863,55.02999878,57.38000107,58.54999924,63.20000076,66.58000183,68.40000153,71.80999756,70.12999725,70.36000061,71.87999725,70.41999817,66.19000244,71.70999908,73.88999939,75.0,76.05000305,73.55999756,70.66000366,66.01999664,61.52000046,63.41999817,64.59999847,64.58999634,65.83000183,66.63999939,67.18000031,68.56999969,66.95999908,66.68000031,65.76999664,64.34999847,64.11000061,62.04999924,59.56999969,59.27999878,61.70999908,61.90000153,63.27000046,63.63999939,61.81000137,64.30000305,66.08000183,69.27999878,69.91000366,69.65000153,70.73000336,69.5,70.16999817,69.68000031,66.76999664,65.22000122,64.69999695,64.08000183,65.43000031,65.84999847,66.0,63.74000168,63.99000168,55.04999924,52.66999817,53.15999985,53.31999969,52.34000015,53.36999893,51.61999893,49.20000076,50.06000137,49.11999893,50.18999863,51.27999878,52.41999817,51.66999817,53.22000122,53.93999863,54.65999985,56.54000092,57.31000137,57.02999878,57.83000183,56.27000046,56.31999969,55.83000183,57.31999969,57.72000122,57.81999969,59.40999985,58.74000168,59.86999893,60.45000076,60.18999863,59.15000153,59.52999878,59.52999878,59.74000168,61.90999985,63.79000092,66.75,67.27999878,67.08000183,67.93000031],\"name\":\"Price\",\"open\":[43.06000137,45.36000061,44.06999969,44.90999985,46.74000168,44.20000076,42.63000107,44.79999924,45.27999878,44.29999924,43.59000015,44.18999863,43.27000046,43.5,43.45000076,43.77000046,42.34999847,42.86999893,37.25,34.16999817,31.95000076,32.25,31.57999992,32.58000183,31.81999969,33.09999847,32.75,31.85000038,31.64999962,32.04000092,33.40000153,32.81000137,32.70000076,32.74000168,32.79000092,32.75,33.45000076,33.90000153,34.0,34.65999985,35.97999954,35.40999985,35.27000046,35.56999969,34.75,34.65000153,32.86000061,30.30999947,30.5,30.44000053,30.61000061,30.10000038,30.45000076,29.04999924,28.84000015,29.14999962,29.70000076,29.86000061,28.32999992,28.75,29.20000076,29.05999947,29.25,28.51000023,28.13999939,28.37999916,28.75,28.34000015,28.20999908,28.70000076,29.12000084,26.35000038,28.09000015,27.85000038,29.10000038,29.95000076,29.39999962,29.32999992,29.04999924,28.47999954,28.85000038,31.31999969,31.20000076,32.45999908,31.77000046,34.36999893,34.59999847,34.86999893,34.25999832,33.95999908,34.75,34.88000107,33.75,34.0,32.24000168,32.88999939,32.79000092,32.83000183,33.56000137,29.96999931,31.67000008,31.29999924,31.60000038,32.43999863,33.0,32.45999908,31.14999962,32.24000168,33.27999878,32.45999908,32.84000015,32.72999954,34.13000107,34.97000122,36.40000153,35.25,35.68000031,33.63000107,33.70999908,32.59000015,29.30999947,26.54999924,27.0,28.13999939,28.93000031,28.60000038,28.26000023,28.37999916,28.38999939,30.20000076,31.70000076,31.79999924,33.08000183,32.84999847,32.38000107,32.50999832,33.09999847,32.47000122,33.04999924,32.97000122,32.25999832,30.94000053,31.98999977,32.65000153,33.33000183,32.04000092,33.06999969,33.56000137,33.34000015,34.29000092,35.04999924,31.17000008,30.46999931,30.17000008,30.44000053,30.56999969,30.86000061,31.20000076,31.22999954,31.70999908,31.36000061,30.80999947,31.98999977,31.88999939,30.95000076,30.25,31.17000008,30.78000069,30.5,30.94000053,30.76000023,29.63999939,30.23999977,31.14999962,31.30999947,31.28000069,31.04000092,31.25,31.14999962,31.23999977,32.31000137,32.5,32.83000183,32.97999954,32.93000031,32.29000092,33.09999847,33.15999985,33.43999863,34.0,34.70000076,34.54999924,34.79000092,34.84000015,35.25999832,34.75,34.66999817,34.38000107,34.84000015,34.72999954,34.66999817,34.40000153,36.93000031,39.86000061,39.25999832,38.59000015,38.63000107,39.79000092,40.0,39.24000168,40.47999954,39.68999863,39.90000153,38.45000076,38.11000061,38.68000031,37.5,37.04000092,36.66999817,38.11000061,37.83000183,37.11999893,37.47000122,37.40999985,38.15000153,37.47000122,37.40999985,37.02000046,37.0,36.61999893,36.45000076,35.18000031,36.5,36.25999832,36.86999893,38.34999847,38.09000015,37.13000107,37.04000092,36.36000061,36.25999832,36.70999908,36.63000107,36.34999847,35.5,35.18999863,35.52000046,34.97999954,35.43999863,34.75,35.5,36.16999817,36.29000092,36.0,36.04000092,36.34999847,37.90000153,37.65999985,37.36999893,38.0,38.77999878,37.86000061,37.38999939,37.95999908,36.91999817,37.86999893,38.0,39.0,40.06999969,41.5,41.08000183,41.08000183,42.54000092,41.81999969,41.58000183,40.91999817,40.50999832,42.11000061,41.77999878,41.09999847,40.40999985,41.02999878,40.90000153,40.29999924,41.09999847,41.63999939,42.83000183,42.84999847,41.81999969,41.40000153,42.00999832,41.75,42.25,42.70000076,42.38000107,42.49000168,43.77999878,45.22000122,45.59999847,43.54999924,43.75999832,43.15000153,42.40000153,43.20999908,43.18999863,43.15999985,43.29000092,43.70999908,41.50999832,42.38000107,42.5,41.45999908,41.31999969,40.11999893,39.59000015,40.36000061,40.24000168,40.40999985,39.99000168,39.34000015,39.88999939,40.31999969,39.56000137,40.00999832,40.11999893,39.68999863,39.34999847,40.47999954,38.99000168,31.86000061,30.87000084,30.5,30.0,30.14999962,29.46999931,29.95999908,29.77000046,30.19000053,29.85000038,29.0,29.15999985,29.12999916,29.36000061,29.04000092,29.15999985,29.04999924,29.23999977,29.62000084,29.29999924,29.20000076,29.87000084,30.12999916,30.56999969,31.0,31.11000061,30.90999985,29.94000053,30.18000031,30.07999992,30.35000038,30.12000084,30.22999954,29.95000076,30.46999931,30.23999977,30.52000046,31.06999969,30.69000053,31.75,32.11999893,32.13000107,32.43999863,32.59000015,32.75,32.49000168,31.86000061,32.31000137,31.70999908,31.22999954,31.79999924,32.34999847,33.52999878,32.86000061,32.97000122,32.68999863,32.99000168,33.5,33.81999969,34.08000183,34.29000092,33.99000168,34.11000061,32.31000137,33.06000137,33.59000015,32.86000061,33.11000061,32.56000137,33.75,34.0,36.52999878,37.63000107,36.63000107,36.11999893,36.18999863,36.43000031,37.0,36.77999878,38.09000015,38.75999832,38.66999817,36.5,36.18000031,35.27999878,33.72999954,31.86000061,36.0,36.02000046,35.75999832,35.02999878,33.81000137,31.80999947,33.90000153,33.29999924,29.07999992,28.82999992,26.12000084,24.37999916,22.95000076,22.11000061,24.96999931,23.79999924,25.79000092,25.85000038,26.14999962,25.55999947,25.25,25.79000092,23.70000076,23.0,24.10000038,24.10000038,25.96999931,26.79000092,28.47999954,27.54999924,28.0,27.10000038,26.86000061,27.15999985,26.30999947,26.38999939,27.0,28.43000031,27.98999977,29.12999916,30.39999962,30.05999947,28.79000092,28.0,27.60000038,28.67000008,28.35000038,28.07999992,29.09000015,29.64999962,29.85000038,29.23999977,27.82999992,28.29999924,29.70000076,29.70000076,30.5,32.09999847,32.38000107,33.59999847,33.63000107,31.5,31.55999947,31.05999947,32.18999863,32.61000061,34.5,34.47000122,35.95999908,35.99000168,36.11999893,33.13000107,33.93999863,32.90999985,35.13999939,34.49000168,34.29999924,34.63999939,33.56999969,33.75,32.52999878,31.54000092,31.12000084,28.51000023,29.62999916,30.14999962,31.29999924,31.54999924,31.95999908,33.20000076,35.88000107,35.45999908,35.72000122,33.52999878,35.11999893,34.13000107,35.31000137,35.79999924,37.79000092,36.97000122,37.65000153,38.27999878,37.58000183,36.45000076,36.97000122,36.72999954,37.33000183,36.40999985,35.91999817,36.56000137,36.84999847,37.41999817,38.36000061,37.59000015,37.5,37.43000031,37.74000168,37.95000076,38.27999878,38.09000015,38.61999893,38.99000168,39.68000031,40.43999863,40.54999924,40.97000122,40.5,40.99000168,40.61000061,41.52000046,42.74000168,41.20000076,38.52000046,38.84999847,39.79000092,39.24000168,39.40999985,39.18999863,39.38999939,38.84999847,39.36000061,39.43000031,40.36999893,43.88000107,44.68999863,43.20999908,44.40000153,44.34999847,44.61999893,45.06999969,45.54000092,46.45999908,47.27000046,46.06999969,46.43999863,46.40000153,47.61000061,48.27999878,47.49000168,45.06000137,46.36000061,46.04999924,45.54999924,48.97000122,50.0,50.20000076,50.0,49.5,49.59999847,51.95000076,44.52999878,41.15000153,40.02999878,42.22999954,43.50999832,43.50999832,43.95999908,43.36000061,42.97000122,43.29999924,43.25,43.5,42.36000061,42.93999863,43.11999893,43.79999924,44.90000153,45.13000107,44.97000122,46.56000137,46.52000046,46.75999832,46.36000061,47.16999817,47.75,47.54999924,47.79000092,47.47999954,46.70000076,50.61999893,51.97000122,52.02000046,54.77000046,54.56999969,54.93000031,54.5,55.0,55.34000015,54.52000046,55.0,54.50999832,54.68999863,54.24000168,54.49000168,53.40999985,53.27000046,52.22000122,52.5,47.09000015,48.54999924,48.09000015,47.65999985,46.09999847,45.59000015,46.22999954,47.72999954,46.90000153,48.43999863,48.13000107,50.63999939,49.49000168,51.02000046,51.20000076,52.86999893,54.56000137,54.79000092,56.02000046,57.79999924,58.63999939,65.80000305,67.98999786,68.55999756,72.19000244,73.05000305,70.73999786,72.97000122,71.73000336,68.44999695,73.09999847,78.15000153,76.87000275,78.36000061,76.61000061,74.01000214,70.61000061,67.66999817,67.40000153,65.72000122,69.45999908,66.37000275,67.72000122,68.23999786,71.06999969,68.31999969,69.20999908,67.11000061,66.88999939,65.15000153,64.94999695,60.20000076,61.52000046,62.0,62.29999924,63.97999954,64.68000031,64.13999939,64.66999817,66.63999939,69.91000366,70.34999847,70.87000275,71.72000122,72.51000214,70.55000305,71.97000122,69.62000275,68.01000214,65.73000336,67.41999817,65.72000122,66.48999786,67.13999939,65.55000305,67.01000214,56.0,55.52000046,55.06999969,54.95000076,53.47999954,54.77000046,53.00999832,49.52000046,51.86999893,51.68000031,50.61000061,52.22999954,52.59999847,52.18999863,53.22999954,55.0,54.90000153,57.34999847,57.36999893,57.63999939,58.20000076,58.20000076,57.27999878,56.95999908,57.40999985,58.61999893,59.79000092,59.59000015,59.79999924,59.95000076,60.84999847,61.09000015,60.11999893,59.61000061,60.20000076,60.84999847,61.91999817,63.90999985,66.75,68.29000092,68.16000366,68.27999878],\"x\":[\"02/07/2018\",\"03/07/2018\",\"05/07/2018\",\"06/07/2018\",\"09/07/2018\",\"10/07/2018\",\"11/07/2018\",\"12/07/2018\",\"13/07/2018\",\"16/07/2018\",\"17/07/2018\",\"18/07/2018\",\"19/07/2018\",\"20/07/2018\",\"23/07/2018\",\"24/07/2018\",\"25/07/2018\",\"26/07/2018\",\"27/07/2018\",\"30/07/2018\",\"31/07/2018\",\"01/08/2018\",\"02/08/2018\",\"03/08/2018\",\"06/08/2018\",\"07/08/2018\",\"08/08/2018\",\"09/08/2018\",\"10/08/2018\",\"13/08/2018\",\"14/08/2018\",\"15/08/2018\",\"16/08/2018\",\"17/08/2018\",\"20/08/2018\",\"21/08/2018\",\"22/08/2018\",\"23/08/2018\",\"24/08/2018\",\"27/08/2018\",\"28/08/2018\",\"29/08/2018\",\"30/08/2018\",\"31/08/2018\",\"04/09/2018\",\"05/09/2018\",\"06/09/2018\",\"07/09/2018\",\"10/09/2018\",\"11/09/2018\",\"12/09/2018\",\"13/09/2018\",\"14/09/2018\",\"17/09/2018\",\"18/09/2018\",\"19/09/2018\",\"20/09/2018\",\"21/09/2018\",\"24/09/2018\",\"25/09/2018\",\"26/09/2018\",\"27/09/2018\",\"28/09/2018\",\"01/10/2018\",\"02/10/2018\",\"03/10/2018\",\"04/10/2018\",\"05/10/2018\",\"08/10/2018\",\"09/10/2018\",\"10/10/2018\",\"11/10/2018\",\"12/10/2018\",\"15/10/2018\",\"16/10/2018\",\"17/10/2018\",\"18/10/2018\",\"19/10/2018\",\"22/10/2018\",\"23/10/2018\",\"24/10/2018\",\"25/10/2018\",\"26/10/2018\",\"29/10/2018\",\"30/10/2018\",\"31/10/2018\",\"01/11/2018\",\"02/11/2018\",\"05/11/2018\",\"06/11/2018\",\"07/11/2018\",\"08/11/2018\",\"09/11/2018\",\"12/11/2018\",\"13/11/2018\",\"14/11/2018\",\"15/11/2018\",\"16/11/2018\",\"19/11/2018\",\"20/11/2018\",\"21/11/2018\",\"23/11/2018\",\"26/11/2018\",\"27/11/2018\",\"28/11/2018\",\"29/11/2018\",\"30/11/2018\",\"03/12/2018\",\"04/12/2018\",\"06/12/2018\",\"07/12/2018\",\"10/12/2018\",\"11/12/2018\",\"12/12/2018\",\"13/12/2018\",\"14/12/2018\",\"17/12/2018\",\"18/12/2018\",\"19/12/2018\",\"20/12/2018\",\"21/12/2018\",\"24/12/2018\",\"26/12/2018\",\"27/12/2018\",\"28/12/2018\",\"31/12/2018\",\"02/01/2019\",\"03/01/2019\",\"04/01/2019\",\"07/01/2019\",\"08/01/2019\",\"09/01/2019\",\"10/01/2019\",\"11/01/2019\",\"14/01/2019\",\"15/01/2019\",\"16/01/2019\",\"17/01/2019\",\"18/01/2019\",\"22/01/2019\",\"23/01/2019\",\"24/01/2019\",\"25/01/2019\",\"28/01/2019\",\"29/01/2019\",\"30/01/2019\",\"31/01/2019\",\"01/02/2019\",\"04/02/2019\",\"05/02/2019\",\"06/02/2019\",\"07/02/2019\",\"08/02/2019\",\"11/02/2019\",\"12/02/2019\",\"13/02/2019\",\"14/02/2019\",\"15/02/2019\",\"19/02/2019\",\"20/02/2019\",\"21/02/2019\",\"22/02/2019\",\"25/02/2019\",\"26/02/2019\",\"27/02/2019\",\"28/02/2019\",\"01/03/2019\",\"04/03/2019\",\"05/03/2019\",\"06/03/2019\",\"07/03/2019\",\"08/03/2019\",\"11/03/2019\",\"12/03/2019\",\"13/03/2019\",\"14/03/2019\",\"15/03/2019\",\"18/03/2019\",\"19/03/2019\",\"20/03/2019\",\"21/03/2019\",\"22/03/2019\",\"25/03/2019\",\"26/03/2019\",\"27/03/2019\",\"28/03/2019\",\"29/03/2019\",\"01/04/2019\",\"02/04/2019\",\"03/04/2019\",\"04/04/2019\",\"05/04/2019\",\"08/04/2019\",\"09/04/2019\",\"10/04/2019\",\"11/04/2019\",\"12/04/2019\",\"15/04/2019\",\"16/04/2019\",\"17/04/2019\",\"18/04/2019\",\"22/04/2019\",\"23/04/2019\",\"24/04/2019\",\"25/04/2019\",\"26/04/2019\",\"29/04/2019\",\"30/04/2019\",\"01/05/2019\",\"02/05/2019\",\"03/05/2019\",\"06/05/2019\",\"07/05/2019\",\"08/05/2019\",\"09/05/2019\",\"10/05/2019\",\"13/05/2019\",\"14/05/2019\",\"15/05/2019\",\"16/05/2019\",\"17/05/2019\",\"20/05/2019\",\"21/05/2019\",\"22/05/2019\",\"23/05/2019\",\"24/05/2019\",\"28/05/2019\",\"29/05/2019\",\"30/05/2019\",\"31/05/2019\",\"03/06/2019\",\"04/06/2019\",\"05/06/2019\",\"06/06/2019\",\"07/06/2019\",\"10/06/2019\",\"11/06/2019\",\"12/06/2019\",\"13/06/2019\",\"14/06/2019\",\"17/06/2019\",\"18/06/2019\",\"19/06/2019\",\"20/06/2019\",\"21/06/2019\",\"24/06/2019\",\"25/06/2019\",\"26/06/2019\",\"27/06/2019\",\"28/06/2019\",\"01/07/2019\",\"02/07/2019\",\"03/07/2019\",\"05/07/2019\",\"08/07/2019\",\"09/07/2019\",\"10/07/2019\",\"11/07/2019\",\"12/07/2019\",\"15/07/2019\",\"16/07/2019\",\"17/07/2019\",\"18/07/2019\",\"19/07/2019\",\"22/07/2019\",\"23/07/2019\",\"24/07/2019\",\"25/07/2019\",\"26/07/2019\",\"29/07/2019\",\"30/07/2019\",\"31/07/2019\",\"01/08/2019\",\"02/08/2019\",\"05/08/2019\",\"06/08/2019\",\"07/08/2019\",\"08/08/2019\",\"09/08/2019\",\"12/08/2019\",\"13/08/2019\",\"14/08/2019\",\"15/08/2019\",\"16/08/2019\",\"19/08/2019\",\"20/08/2019\",\"21/08/2019\",\"22/08/2019\",\"23/08/2019\",\"26/08/2019\",\"27/08/2019\",\"28/08/2019\",\"29/08/2019\",\"30/08/2019\",\"03/09/2019\",\"04/09/2019\",\"05/09/2019\",\"06/09/2019\",\"09/09/2019\",\"11/09/2019\",\"12/09/2019\",\"13/09/2019\",\"16/09/2019\",\"18/09/2019\",\"19/09/2019\",\"20/09/2019\",\"23/09/2019\",\"24/09/2019\",\"25/09/2019\",\"26/09/2019\",\"27/09/2019\",\"30/09/2019\",\"01/10/2019\",\"02/10/2019\",\"03/10/2019\",\"04/10/2019\",\"07/10/2019\",\"08/10/2019\",\"09/10/2019\",\"10/10/2019\",\"11/10/2019\",\"14/10/2019\",\"15/10/2019\",\"16/10/2019\",\"17/10/2019\",\"18/10/2019\",\"21/10/2019\",\"22/10/2019\",\"23/10/2019\",\"24/10/2019\",\"25/10/2019\",\"28/10/2019\",\"29/10/2019\",\"30/10/2019\",\"31/10/2019\",\"01/11/2019\",\"04/11/2019\",\"05/11/2019\",\"06/11/2019\",\"07/11/2019\",\"08/11/2019\",\"11/11/2019\",\"12/11/2019\",\"13/11/2019\",\"14/11/2019\",\"15/11/2019\",\"18/11/2019\",\"19/11/2019\",\"20/11/2019\",\"21/11/2019\",\"22/11/2019\",\"25/11/2019\",\"26/11/2019\",\"27/11/2019\",\"29/11/2019\",\"02/12/2019\",\"03/12/2019\",\"04/12/2019\",\"05/12/2019\",\"06/12/2019\",\"09/12/2019\",\"10/12/2019\",\"11/12/2019\",\"12/12/2019\",\"13/12/2019\",\"16/12/2019\",\"17/12/2019\",\"18/12/2019\",\"19/12/2019\",\"20/12/2019\",\"23/12/2019\",\"24/12/2019\",\"26/12/2019\",\"27/12/2019\",\"30/12/2019\",\"31/12/2019\",\"02/01/2020\",\"03/01/2020\",\"06/01/2020\",\"07/01/2020\",\"08/01/2020\",\"09/01/2020\",\"10/01/2020\",\"13/01/2020\",\"14/01/2020\",\"15/01/2020\",\"16/01/2020\",\"17/01/2020\",\"21/01/2020\",\"22/01/2020\",\"23/01/2020\",\"24/01/2020\",\"27/01/2020\",\"28/01/2020\",\"29/01/2020\",\"30/01/2020\",\"31/01/2020\",\"03/02/2020\",\"04/02/2020\",\"05/02/2020\",\"06/02/2020\",\"07/02/2020\",\"10/02/2020\",\"11/02/2020\",\"12/02/2020\",\"13/02/2020\",\"14/02/2020\",\"18/02/2020\",\"19/02/2020\",\"20/02/2020\",\"21/02/2020\",\"24/02/2020\",\"25/02/2020\",\"26/02/2020\",\"27/02/2020\",\"28/02/2020\",\"02/03/2020\",\"03/03/2020\",\"04/03/2020\",\"05/03/2020\",\"06/03/2020\",\"09/03/2020\",\"10/03/2020\",\"11/03/2020\",\"12/03/2020\",\"13/03/2020\",\"16/03/2020\",\"17/03/2020\",\"18/03/2020\",\"19/03/2020\",\"20/03/2020\",\"23/03/2020\",\"24/03/2020\",\"25/03/2020\",\"26/03/2020\",\"27/03/2020\",\"30/03/2020\",\"31/03/2020\",\"01/04/2020\",\"02/04/2020\",\"03/04/2020\",\"06/04/2020\",\"07/04/2020\",\"08/04/2020\",\"09/04/2020\",\"13/04/2020\",\"14/04/2020\",\"15/04/2020\",\"16/04/2020\",\"17/04/2020\",\"20/04/2020\",\"21/04/2020\",\"22/04/2020\",\"23/04/2020\",\"24/04/2020\",\"27/04/2020\",\"28/04/2020\",\"29/04/2020\",\"30/04/2020\",\"01/05/2020\",\"04/05/2020\",\"05/05/2020\",\"06/05/2020\",\"07/05/2020\",\"08/05/2020\",\"11/05/2020\",\"12/05/2020\",\"13/05/2020\",\"14/05/2020\",\"15/05/2020\",\"18/05/2020\",\"19/05/2020\",\"20/05/2020\",\"21/05/2020\",\"22/05/2020\",\"26/05/2020\",\"27/05/2020\",\"28/05/2020\",\"29/05/2020\",\"01/06/2020\",\"02/06/2020\",\"03/06/2020\",\"04/06/2020\",\"05/06/2020\",\"08/06/2020\",\"09/06/2020\",\"10/06/2020\",\"11/06/2020\",\"12/06/2020\",\"15/06/2020\",\"16/06/2020\",\"17/06/2020\",\"18/06/2020\",\"19/06/2020\",\"22/06/2020\",\"23/06/2020\",\"24/06/2020\",\"25/06/2020\",\"26/06/2020\",\"29/06/2020\",\"30/06/2020\",\"01/07/2020\",\"02/07/2020\",\"06/07/2020\",\"07/07/2020\",\"08/07/2020\",\"09/07/2020\",\"10/07/2020\",\"13/07/2020\",\"14/07/2020\",\"15/07/2020\",\"16/07/2020\",\"17/07/2020\",\"20/07/2020\",\"21/07/2020\",\"22/07/2020\",\"23/07/2020\",\"24/07/2020\",\"27/07/2020\",\"28/07/2020\",\"29/07/2020\",\"30/07/2020\",\"31/07/2020\",\"03/08/2020\",\"04/08/2020\",\"05/08/2020\",\"06/08/2020\",\"07/08/2020\",\"10/08/2020\",\"11/08/2020\",\"12/08/2020\",\"13/08/2020\",\"14/08/2020\",\"17/08/2020\",\"18/08/2020\",\"19/08/2020\",\"20/08/2020\",\"21/08/2020\",\"24/08/2020\",\"25/08/2020\",\"26/08/2020\",\"27/08/2020\",\"28/08/2020\",\"31/08/2020\",\"01/09/2020\",\"02/09/2020\",\"03/09/2020\",\"04/09/2020\",\"08/09/2020\",\"09/09/2020\",\"10/09/2020\",\"11/09/2020\",\"14/09/2020\",\"15/09/2020\",\"16/09/2020\",\"17/09/2020\",\"18/09/2020\",\"21/09/2020\",\"22/09/2020\",\"23/09/2020\",\"24/09/2020\",\"25/09/2020\",\"28/09/2020\",\"29/09/2020\",\"30/09/2020\",\"01/10/2020\",\"02/10/2020\",\"05/10/2020\",\"06/10/2020\",\"07/10/2020\",\"08/10/2020\",\"09/10/2020\",\"12/10/2020\",\"13/10/2020\",\"14/10/2020\",\"15/10/2020\",\"16/10/2020\",\"19/10/2020\",\"20/10/2020\",\"21/10/2020\",\"22/10/2020\",\"23/10/2020\",\"26/10/2020\",\"27/10/2020\",\"28/10/2020\",\"29/10/2020\",\"30/10/2020\",\"02/11/2020\",\"03/11/2020\",\"04/11/2020\",\"05/11/2020\",\"06/11/2020\",\"09/11/2020\",\"10/11/2020\",\"11/11/2020\",\"12/11/2020\",\"13/11/2020\",\"16/11/2020\",\"17/11/2020\",\"18/11/2020\",\"19/11/2020\",\"20/11/2020\",\"23/11/2020\",\"24/11/2020\",\"25/11/2020\",\"27/11/2020\",\"30/11/2020\",\"01/12/2020\",\"02/12/2020\",\"03/12/2020\",\"04/12/2020\",\"07/12/2020\",\"08/12/2020\",\"09/12/2020\",\"10/12/2020\",\"11/12/2020\",\"14/12/2020\",\"15/12/2020\",\"16/12/2020\",\"17/12/2020\",\"18/12/2020\",\"21/12/2020\",\"22/12/2020\",\"23/12/2020\",\"24/12/2020\",\"28/12/2020\",\"29/12/2020\",\"30/12/2020\",\"31/12/2020\",\"04/01/2021\",\"05/01/2021\",\"06/01/2021\",\"07/01/2021\",\"08/01/2021\",\"11/01/2021\",\"12/01/2021\",\"13/01/2021\",\"14/01/2021\",\"15/01/2021\",\"19/01/2021\",\"20/01/2021\",\"21/01/2021\",\"22/01/2021\",\"25/01/2021\",\"26/01/2021\",\"27/01/2021\",\"28/01/2021\",\"29/01/2021\",\"01/02/2021\",\"02/02/2021\",\"03/02/2021\",\"04/02/2021\",\"05/02/2021\",\"08/02/2021\",\"09/02/2021\",\"10/02/2021\",\"11/02/2021\",\"12/02/2021\",\"16/02/2021\",\"17/02/2021\",\"18/02/2021\",\"19/02/2021\",\"22/02/2021\",\"23/02/2021\",\"24/02/2021\",\"25/02/2021\",\"26/02/2021\",\"01/03/2021\",\"02/03/2021\",\"03/03/2021\",\"04/03/2021\",\"05/03/2021\",\"08/03/2021\",\"09/03/2021\",\"10/03/2021\",\"11/03/2021\",\"12/03/2021\",\"15/03/2021\",\"16/03/2021\",\"17/03/2021\",\"18/03/2021\",\"19/03/2021\",\"22/03/2021\",\"23/03/2021\",\"24/03/2021\",\"25/03/2021\",\"26/03/2021\",\"29/03/2021\",\"30/03/2021\",\"31/03/2021\",\"01/04/2021\",\"05/04/2021\",\"06/04/2021\",\"07/04/2021\",\"08/04/2021\",\"09/04/2021\",\"12/04/2021\",\"13/04/2021\",\"14/04/2021\",\"15/04/2021\",\"16/04/2021\",\"19/04/2021\",\"20/04/2021\",\"21/04/2021\",\"22/04/2021\",\"23/04/2021\",\"26/04/2021\",\"27/04/2021\",\"28/04/2021\",\"29/04/2021\",\"30/04/2021\",\"03/05/2021\",\"04/05/2021\",\"05/05/2021\",\"06/05/2021\",\"07/05/2021\",\"10/05/2021\",\"11/05/2021\",\"12/05/2021\",\"13/05/2021\",\"14/05/2021\",\"17/05/2021\",\"18/05/2021\",\"19/05/2021\",\"20/05/2021\",\"21/05/2021\",\"24/05/2021\",\"25/05/2021\",\"26/05/2021\",\"27/05/2021\",\"28/05/2021\",\"01/06/2021\",\"02/06/2021\",\"03/06/2021\",\"04/06/2021\",\"07/06/2021\",\"08/06/2021\",\"09/06/2021\",\"10/06/2021\",\"11/06/2021\",\"14/06/2021\",\"15/06/2021\",\"16/06/2021\",\"17/06/2021\",\"18/06/2021\",\"21/06/2021\",\"22/06/2021\",\"23/06/2021\",\"24/06/2021\",\"25/06/2021\",\"28/06/2021\",\"29/06/2021\"],\"type\":\"ohlc\",\"xaxis\":\"x\",\"yaxis\":\"y\"},{\"name\":\"Volume\",\"x\":[\"02/07/2018\",\"03/07/2018\",\"05/07/2018\",\"06/07/2018\",\"09/07/2018\",\"10/07/2018\",\"11/07/2018\",\"12/07/2018\",\"13/07/2018\",\"16/07/2018\",\"17/07/2018\",\"18/07/2018\",\"19/07/2018\",\"20/07/2018\",\"23/07/2018\",\"24/07/2018\",\"25/07/2018\",\"26/07/2018\",\"27/07/2018\",\"30/07/2018\",\"31/07/2018\",\"01/08/2018\",\"02/08/2018\",\"03/08/2018\",\"06/08/2018\",\"07/08/2018\",\"08/08/2018\",\"09/08/2018\",\"10/08/2018\",\"13/08/2018\",\"14/08/2018\",\"15/08/2018\",\"16/08/2018\",\"17/08/2018\",\"20/08/2018\",\"21/08/2018\",\"22/08/2018\",\"23/08/2018\",\"24/08/2018\",\"27/08/2018\",\"28/08/2018\",\"29/08/2018\",\"30/08/2018\",\"31/08/2018\",\"04/09/2018\",\"05/09/2018\",\"06/09/2018\",\"07/09/2018\",\"10/09/2018\",\"11/09/2018\",\"12/09/2018\",\"13/09/2018\",\"14/09/2018\",\"17/09/2018\",\"18/09/2018\",\"19/09/2018\",\"20/09/2018\",\"21/09/2018\",\"24/09/2018\",\"25/09/2018\",\"26/09/2018\",\"27/09/2018\",\"28/09/2018\",\"01/10/2018\",\"02/10/2018\",\"03/10/2018\",\"04/10/2018\",\"05/10/2018\",\"08/10/2018\",\"09/10/2018\",\"10/10/2018\",\"11/10/2018\",\"12/10/2018\",\"15/10/2018\",\"16/10/2018\",\"17/10/2018\",\"18/10/2018\",\"19/10/2018\",\"22/10/2018\",\"23/10/2018\",\"24/10/2018\",\"25/10/2018\",\"26/10/2018\",\"29/10/2018\",\"30/10/2018\",\"31/10/2018\",\"01/11/2018\",\"02/11/2018\",\"05/11/2018\",\"06/11/2018\",\"07/11/2018\",\"08/11/2018\",\"09/11/2018\",\"12/11/2018\",\"13/11/2018\",\"14/11/2018\",\"15/11/2018\",\"16/11/2018\",\"19/11/2018\",\"20/11/2018\",\"21/11/2018\",\"23/11/2018\",\"26/11/2018\",\"27/11/2018\",\"28/11/2018\",\"29/11/2018\",\"30/11/2018\",\"03/12/2018\",\"04/12/2018\",\"06/12/2018\",\"07/12/2018\",\"10/12/2018\",\"11/12/2018\",\"12/12/2018\",\"13/12/2018\",\"14/12/2018\",\"17/12/2018\",\"18/12/2018\",\"19/12/2018\",\"20/12/2018\",\"21/12/2018\",\"24/12/2018\",\"26/12/2018\",\"27/12/2018\",\"28/12/2018\",\"31/12/2018\",\"02/01/2019\",\"03/01/2019\",\"04/01/2019\",\"07/01/2019\",\"08/01/2019\",\"09/01/2019\",\"10/01/2019\",\"11/01/2019\",\"14/01/2019\",\"15/01/2019\",\"16/01/2019\",\"17/01/2019\",\"18/01/2019\",\"22/01/2019\",\"23/01/2019\",\"24/01/2019\",\"25/01/2019\",\"28/01/2019\",\"29/01/2019\",\"30/01/2019\",\"31/01/2019\",\"01/02/2019\",\"04/02/2019\",\"05/02/2019\",\"06/02/2019\",\"07/02/2019\",\"08/02/2019\",\"11/02/2019\",\"12/02/2019\",\"13/02/2019\",\"14/02/2019\",\"15/02/2019\",\"19/02/2019\",\"20/02/2019\",\"21/02/2019\",\"22/02/2019\",\"25/02/2019\",\"26/02/2019\",\"27/02/2019\",\"28/02/2019\",\"01/03/2019\",\"04/03/2019\",\"05/03/2019\",\"06/03/2019\",\"07/03/2019\",\"08/03/2019\",\"11/03/2019\",\"12/03/2019\",\"13/03/2019\",\"14/03/2019\",\"15/03/2019\",\"18/03/2019\",\"19/03/2019\",\"20/03/2019\",\"21/03/2019\",\"22/03/2019\",\"25/03/2019\",\"26/03/2019\",\"27/03/2019\",\"28/03/2019\",\"29/03/2019\",\"01/04/2019\",\"02/04/2019\",\"03/04/2019\",\"04/04/2019\",\"05/04/2019\",\"08/04/2019\",\"09/04/2019\",\"10/04/2019\",\"11/04/2019\",\"12/04/2019\",\"15/04/2019\",\"16/04/2019\",\"17/04/2019\",\"18/04/2019\",\"22/04/2019\",\"23/04/2019\",\"24/04/2019\",\"25/04/2019\",\"26/04/2019\",\"29/04/2019\",\"30/04/2019\",\"01/05/2019\",\"02/05/2019\",\"03/05/2019\",\"06/05/2019\",\"07/05/2019\",\"08/05/2019\",\"09/05/2019\",\"10/05/2019\",\"13/05/2019\",\"14/05/2019\",\"15/05/2019\",\"16/05/2019\",\"17/05/2019\",\"20/05/2019\",\"21/05/2019\",\"22/05/2019\",\"23/05/2019\",\"24/05/2019\",\"28/05/2019\",\"29/05/2019\",\"30/05/2019\",\"31/05/2019\",\"03/06/2019\",\"04/06/2019\",\"05/06/2019\",\"06/06/2019\",\"07/06/2019\",\"10/06/2019\",\"11/06/2019\",\"12/06/2019\",\"13/06/2019\",\"14/06/2019\",\"17/06/2019\",\"18/06/2019\",\"19/06/2019\",\"20/06/2019\",\"21/06/2019\",\"24/06/2019\",\"25/06/2019\",\"26/06/2019\",\"27/06/2019\",\"28/06/2019\",\"01/07/2019\",\"02/07/2019\",\"03/07/2019\",\"05/07/2019\",\"08/07/2019\",\"09/07/2019\",\"10/07/2019\",\"11/07/2019\",\"12/07/2019\",\"15/07/2019\",\"16/07/2019\",\"17/07/2019\",\"18/07/2019\",\"19/07/2019\",\"22/07/2019\",\"23/07/2019\",\"24/07/2019\",\"25/07/2019\",\"26/07/2019\",\"29/07/2019\",\"30/07/2019\",\"31/07/2019\",\"01/08/2019\",\"02/08/2019\",\"05/08/2019\",\"06/08/2019\",\"07/08/2019\",\"08/08/2019\",\"09/08/2019\",\"12/08/2019\",\"13/08/2019\",\"14/08/2019\",\"15/08/2019\",\"16/08/2019\",\"19/08/2019\",\"20/08/2019\",\"21/08/2019\",\"22/08/2019\",\"23/08/2019\",\"26/08/2019\",\"27/08/2019\",\"28/08/2019\",\"29/08/2019\",\"30/08/2019\",\"03/09/2019\",\"04/09/2019\",\"05/09/2019\",\"06/09/2019\",\"09/09/2019\",\"11/09/2019\",\"12/09/2019\",\"13/09/2019\",\"16/09/2019\",\"18/09/2019\",\"19/09/2019\",\"20/09/2019\",\"23/09/2019\",\"24/09/2019\",\"25/09/2019\",\"26/09/2019\",\"27/09/2019\",\"30/09/2019\",\"01/10/2019\",\"02/10/2019\",\"03/10/2019\",\"04/10/2019\",\"07/10/2019\",\"08/10/2019\",\"09/10/2019\",\"10/10/2019\",\"11/10/2019\",\"14/10/2019\",\"15/10/2019\",\"16/10/2019\",\"17/10/2019\",\"18/10/2019\",\"21/10/2019\",\"22/10/2019\",\"23/10/2019\",\"24/10/2019\",\"25/10/2019\",\"28/10/2019\",\"29/10/2019\",\"30/10/2019\",\"31/10/2019\",\"01/11/2019\",\"04/11/2019\",\"05/11/2019\",\"06/11/2019\",\"07/11/2019\",\"08/11/2019\",\"11/11/2019\",\"12/11/2019\",\"13/11/2019\",\"14/11/2019\",\"15/11/2019\",\"18/11/2019\",\"19/11/2019\",\"20/11/2019\",\"21/11/2019\",\"22/11/2019\",\"25/11/2019\",\"26/11/2019\",\"27/11/2019\",\"29/11/2019\",\"02/12/2019\",\"03/12/2019\",\"04/12/2019\",\"05/12/2019\",\"06/12/2019\",\"09/12/2019\",\"10/12/2019\",\"11/12/2019\",\"12/12/2019\",\"13/12/2019\",\"16/12/2019\",\"17/12/2019\",\"18/12/2019\",\"19/12/2019\",\"20/12/2019\",\"23/12/2019\",\"24/12/2019\",\"26/12/2019\",\"27/12/2019\",\"30/12/2019\",\"31/12/2019\",\"02/01/2020\",\"03/01/2020\",\"06/01/2020\",\"07/01/2020\",\"08/01/2020\",\"09/01/2020\",\"10/01/2020\",\"13/01/2020\",\"14/01/2020\",\"15/01/2020\",\"16/01/2020\",\"17/01/2020\",\"21/01/2020\",\"22/01/2020\",\"23/01/2020\",\"24/01/2020\",\"27/01/2020\",\"28/01/2020\",\"29/01/2020\",\"30/01/2020\",\"31/01/2020\",\"03/02/2020\",\"04/02/2020\",\"05/02/2020\",\"06/02/2020\",\"07/02/2020\",\"10/02/2020\",\"11/02/2020\",\"12/02/2020\",\"13/02/2020\",\"14/02/2020\",\"18/02/2020\",\"19/02/2020\",\"20/02/2020\",\"21/02/2020\",\"24/02/2020\",\"25/02/2020\",\"26/02/2020\",\"27/02/2020\",\"28/02/2020\",\"02/03/2020\",\"03/03/2020\",\"04/03/2020\",\"05/03/2020\",\"06/03/2020\",\"09/03/2020\",\"10/03/2020\",\"11/03/2020\",\"12/03/2020\",\"13/03/2020\",\"16/03/2020\",\"17/03/2020\",\"18/03/2020\",\"19/03/2020\",\"20/03/2020\",\"23/03/2020\",\"24/03/2020\",\"25/03/2020\",\"26/03/2020\",\"27/03/2020\",\"30/03/2020\",\"31/03/2020\",\"01/04/2020\",\"02/04/2020\",\"03/04/2020\",\"06/04/2020\",\"07/04/2020\",\"08/04/2020\",\"09/04/2020\",\"13/04/2020\",\"14/04/2020\",\"15/04/2020\",\"16/04/2020\",\"17/04/2020\",\"20/04/2020\",\"21/04/2020\",\"22/04/2020\",\"23/04/2020\",\"24/04/2020\",\"27/04/2020\",\"28/04/2020\",\"29/04/2020\",\"30/04/2020\",\"01/05/2020\",\"04/05/2020\",\"05/05/2020\",\"06/05/2020\",\"07/05/2020\",\"08/05/2020\",\"11/05/2020\",\"12/05/2020\",\"13/05/2020\",\"14/05/2020\",\"15/05/2020\",\"18/05/2020\",\"19/05/2020\",\"20/05/2020\",\"21/05/2020\",\"22/05/2020\",\"26/05/2020\",\"27/05/2020\",\"28/05/2020\",\"29/05/2020\",\"01/06/2020\",\"02/06/2020\",\"03/06/2020\",\"04/06/2020\",\"05/06/2020\",\"08/06/2020\",\"09/06/2020\",\"10/06/2020\",\"11/06/2020\",\"12/06/2020\",\"15/06/2020\",\"16/06/2020\",\"17/06/2020\",\"18/06/2020\",\"19/06/2020\",\"22/06/2020\",\"23/06/2020\",\"24/06/2020\",\"25/06/2020\",\"26/06/2020\",\"29/06/2020\",\"30/06/2020\",\"01/07/2020\",\"02/07/2020\",\"06/07/2020\",\"07/07/2020\",\"08/07/2020\",\"09/07/2020\",\"10/07/2020\",\"13/07/2020\",\"14/07/2020\",\"15/07/2020\",\"16/07/2020\",\"17/07/2020\",\"20/07/2020\",\"21/07/2020\",\"22/07/2020\",\"23/07/2020\",\"24/07/2020\",\"27/07/2020\",\"28/07/2020\",\"29/07/2020\",\"30/07/2020\",\"31/07/2020\",\"03/08/2020\",\"04/08/2020\",\"05/08/2020\",\"06/08/2020\",\"07/08/2020\",\"10/08/2020\",\"11/08/2020\",\"12/08/2020\",\"13/08/2020\",\"14/08/2020\",\"17/08/2020\",\"18/08/2020\",\"19/08/2020\",\"20/08/2020\",\"21/08/2020\",\"24/08/2020\",\"25/08/2020\",\"26/08/2020\",\"27/08/2020\",\"28/08/2020\",\"31/08/2020\",\"01/09/2020\",\"02/09/2020\",\"03/09/2020\",\"04/09/2020\",\"08/09/2020\",\"09/09/2020\",\"10/09/2020\",\"11/09/2020\",\"14/09/2020\",\"15/09/2020\",\"16/09/2020\",\"17/09/2020\",\"18/09/2020\",\"21/09/2020\",\"22/09/2020\",\"23/09/2020\",\"24/09/2020\",\"25/09/2020\",\"28/09/2020\",\"29/09/2020\",\"30/09/2020\",\"01/10/2020\",\"02/10/2020\",\"05/10/2020\",\"06/10/2020\",\"07/10/2020\",\"08/10/2020\",\"09/10/2020\",\"12/10/2020\",\"13/10/2020\",\"14/10/2020\",\"15/10/2020\",\"16/10/2020\",\"19/10/2020\",\"20/10/2020\",\"21/10/2020\",\"22/10/2020\",\"23/10/2020\",\"26/10/2020\",\"27/10/2020\",\"28/10/2020\",\"29/10/2020\",\"30/10/2020\",\"02/11/2020\",\"03/11/2020\",\"04/11/2020\",\"05/11/2020\",\"06/11/2020\",\"09/11/2020\",\"10/11/2020\",\"11/11/2020\",\"12/11/2020\",\"13/11/2020\",\"16/11/2020\",\"17/11/2020\",\"18/11/2020\",\"19/11/2020\",\"20/11/2020\",\"23/11/2020\",\"24/11/2020\",\"25/11/2020\",\"27/11/2020\",\"30/11/2020\",\"01/12/2020\",\"02/12/2020\",\"03/12/2020\",\"04/12/2020\",\"07/12/2020\",\"08/12/2020\",\"09/12/2020\",\"10/12/2020\",\"11/12/2020\",\"14/12/2020\",\"15/12/2020\",\"16/12/2020\",\"17/12/2020\",\"18/12/2020\",\"21/12/2020\",\"22/12/2020\",\"23/12/2020\",\"24/12/2020\",\"28/12/2020\",\"29/12/2020\",\"30/12/2020\",\"31/12/2020\",\"04/01/2021\",\"05/01/2021\",\"06/01/2021\",\"07/01/2021\",\"08/01/2021\",\"11/01/2021\",\"12/01/2021\",\"13/01/2021\",\"14/01/2021\",\"15/01/2021\",\"19/01/2021\",\"20/01/2021\",\"21/01/2021\",\"22/01/2021\",\"25/01/2021\",\"26/01/2021\",\"27/01/2021\",\"28/01/2021\",\"29/01/2021\",\"01/02/2021\",\"02/02/2021\",\"03/02/2021\",\"04/02/2021\",\"05/02/2021\",\"08/02/2021\",\"09/02/2021\",\"10/02/2021\",\"11/02/2021\",\"12/02/2021\",\"16/02/2021\",\"17/02/2021\",\"18/02/2021\",\"19/02/2021\",\"22/02/2021\",\"23/02/2021\",\"24/02/2021\",\"25/02/2021\",\"26/02/2021\",\"01/03/2021\",\"02/03/2021\",\"03/03/2021\",\"04/03/2021\",\"05/03/2021\",\"08/03/2021\",\"09/03/2021\",\"10/03/2021\",\"11/03/2021\",\"12/03/2021\",\"15/03/2021\",\"16/03/2021\",\"17/03/2021\",\"18/03/2021\",\"19/03/2021\",\"22/03/2021\",\"23/03/2021\",\"24/03/2021\",\"25/03/2021\",\"26/03/2021\",\"29/03/2021\",\"30/03/2021\",\"31/03/2021\",\"01/04/2021\",\"05/04/2021\",\"06/04/2021\",\"07/04/2021\",\"08/04/2021\",\"09/04/2021\",\"12/04/2021\",\"13/04/2021\",\"14/04/2021\",\"15/04/2021\",\"16/04/2021\",\"19/04/2021\",\"20/04/2021\",\"21/04/2021\",\"22/04/2021\",\"23/04/2021\",\"26/04/2021\",\"27/04/2021\",\"28/04/2021\",\"29/04/2021\",\"30/04/2021\",\"03/05/2021\",\"04/05/2021\",\"05/05/2021\",\"06/05/2021\",\"07/05/2021\",\"10/05/2021\",\"11/05/2021\",\"12/05/2021\",\"13/05/2021\",\"14/05/2021\",\"17/05/2021\",\"18/05/2021\",\"19/05/2021\",\"20/05/2021\",\"21/05/2021\",\"24/05/2021\",\"25/05/2021\",\"26/05/2021\",\"27/05/2021\",\"28/05/2021\",\"01/06/2021\",\"02/06/2021\",\"03/06/2021\",\"04/06/2021\",\"07/06/2021\",\"08/06/2021\",\"09/06/2021\",\"10/06/2021\",\"11/06/2021\",\"14/06/2021\",\"15/06/2021\",\"16/06/2021\",\"17/06/2021\",\"18/06/2021\",\"21/06/2021\",\"22/06/2021\",\"23/06/2021\",\"24/06/2021\",\"25/06/2021\",\"28/06/2021\",\"29/06/2021\"],\"y\":[16703600,14237500,16172000,23740700,107582400,38467400,35100100,27078500,16426700,13012800,20122300,26536800,13366800,10437700,15251200,22433900,25140700,30018700,122752800,77852400,64392200,33231700,27088000,26317000,27512400,24635600,22539400,17662100,16073900,44235300,26442600,26433400,20873200,14874600,16535700,29575700,18576300,25746300,15214000,28306300,22281600,17697200,19217200,19073900,13567600,36051100,36023600,31484200,17805800,16000100,29845200,18522500,13474700,30592300,15856800,16023500,15378000,43122600,20249000,16130300,12742100,14830500,22719600,20538900,17714400,19358700,21120400,28996100,22114400,22749300,40399400,33065300,27127500,20225200,18443000,19379400,24174300,20112900,21719400,26503600,37910200,79251000,47747000,40899900,43678200,33063700,27498000,23994800,18214300,15508300,16802100,15146400,16034700,18147500,17206300,19448700,16824800,17904100,15745000,20927600,16466900,5813900,17096000,10727400,19073300,50505700,25833200,24027100,22472000,25922800,29497100,19971100,30118600,32608500,22831600,19528500,23880900,18885100,24784300,51983000,38714100,18208300,35529600,31987700,21820500,15975000,15053700,19051700,23412600,19917800,18915200,14554400,30504500,17732300,9523000,13548200,10130200,12059700,16776800,17780800,21084400,12470400,22513700,21750800,18849800,17142500,21211300,18816600,14244100,17610200,34058000,69764100,40669800,28838200,20315300,29683300,15321100,17591500,14391700,16871100,13944900,15413400,15061300,17519100,24639100,15242900,12360700,15920400,13073500,10938600,15779900,11964300,16013200,12324300,10201300,12090600,17522700,13172600,15557400,22373800,13346900,28034700,15272300,17252300,13669400,17711300,13529300,12499700,11638000,18027600,14604100,9571700,10655000,13889700,11648800,10982700,12713800,10248400,9396300,9023000,9806100,19704300,104262500,30266900,26044800,15270500,19680000,22912000,14962600,13419100,15577100,14517400,19283100,9168400,10010700,12259000,16829700,11125100,11523100,10104400,9090300,9411900,8861400,21105400,18398800,9303900,11770300,12270300,7413100,8556100,22217100,15357100,12798700,8863000,15399700,10036400,9528600,6795500,21679400,7791100,7896000,12705500,12059700,19676100,12853600,9216800,11196400,8744800,12655900,15505300,14394600,8393200,5372600,6084800,8058100,14218000,11831800,8549500,8048700,12738700,10979600,7926600,11119600,10842400,8405600,10741500,12488500,21255400,57527600,21170600,15670600,29745300,22883600,20617200,23081000,15077900,15427600,14684600,11419600,6731800,12429900,11638700,12583100,7998800,10276500,11342500,12018600,8277000,14036200,6403600,16087500,10418400,10594400,8863600,16159600,11567900,19319800,13108500,14547400,7861200,8251700,8059600,6187900,7845100,7372600,19372900,9992400,16120700,9731600,5951400,11933700,7541400,9278800,9306300,13421400,6283700,6563700,7304300,8021300,6718000,9198900,6393600,7676700,8324900,7147100,12582900,9351100,12817700,20276200,105112500,43837200,29893900,20674800,25518700,36865100,22716700,20340200,16645900,15313800,22740600,10619500,9675000,15144200,9217700,13684600,12163300,14493100,9950900,14280400,24304400,14188300,14035700,16323900,14151900,7814500,14524700,16399500,9765000,11060800,10869700,9955100,12362400,11006200,18912600,12836700,15852100,11906500,19030900,19880000,21854600,13983300,4290500,9797300,10409400,9391200,11050600,10721100,14429500,12582500,13712900,14632400,10865500,11148900,11001300,9814200,11262300,19919900,19303500,17055600,12851800,14887200,12336600,11800800,9739400,7563700,12083800,12033100,14190900,14598200,20468200,87659700,31135100,34860300,14464700,20716400,19621400,12210400,16793600,19068600,17273400,15312000,25155400,19841300,18044300,27234100,33478200,39914700,22973100,14980300,14132200,20361100,41767600,27327600,27445400,32519500,29059100,28768100,28741700,31012700,29980000,28250700,21882600,32815900,25738800,20435300,22069300,20720800,24993400,20027000,17114800,25029700,26014900,25831100,31240800,22233200,15059900,13766200,15822200,21946600,21129500,16755400,28093700,28558000,19019600,15923400,22490600,23364000,29568800,68959100,28231100,17846300,19221900,15531000,16190500,19190300,13839800,13734500,19401700,12364700,15939200,15772400,17386200,26955500,22881700,13310700,20489300,24550900,37254900,39413300,14583600,15318400,28396300,20265100,23211500,20211900,17840700,17480700,23727900,14709400,19342200,20132400,12266100,10543600,19345500,12896600,20549300,16586800,17802600,56913600,27482800,20648000,20779000,14553700,22400000,27940900,109654700,34648800,15238700,22480600,18533200,16579900,24353300,18564800,16867000,19264300,18185200,90266700,23068300,22911300,13566800,10675600,9997400,18624600,15488000,10596700,10024000,10478900,11341100,29298400,20486000,11009500,13259400,10377300,10188500,8572500,17077200,7745400,9758600,20496600,12470500,12532500,13055000,8024400,7468300,10468000,26800000,18760800,17825000,16117300,10744000,10412300,9885500,9418400,14105000,18883300,12753000,19493000,13790000,22379000,64803800,27772800,15456600,11672200,13585100,12923400,18687000,13496800,11202400,15666600,19407700,11355500,8285400,24162400,9805900,14449000,19823800,13005300,9870700,9508400,30719700,18289000,14897700,22804000,19306200,20168100,55935600,86346700,47323500,33813100,34717000,19693600,17096900,21244700,14129200,11060800,9104100,8112900,14275400,11288800,9988700,13874000,17045500,10392100,9053900,15076600,5133300,9968800,9080300,10284000,7136000,6275300,7746200,7454900,9244800,24147200,18020200,17418200,10868700,29099400,11739900,20450300,10349400,9259200,6008600,3661100,6829600,6644800,5329500,4832300,12231600,8317200,9260000,18967600,16955400,61647600,26255100,19097200,29748700,25937300,19476300,21432900,15457900,13564400,13642300,29448500,22427000,19974000,17321500,13820700,13977000,16816300,10999300,16889700,18285200,38253800,73649200,30470000,38044200,27748000,21422600,16072100,25911000,21049600,32669500,18309900,63625700,35323500,24359200,20517000,19379400,22538600,22346200,21722000,22603900,22464200,14722200,15414000,15467200,13216100,15681600,15835600,20721600,24123800,17788600,15475500,19197200,15582600,22034500,12533300,14479800,15261000,15502100,15587900,23964600,16843400,15659500,9495200,9991700,12931200,11108300,9429900,18198600,14171200,11817300,16804100,12407700,11769800,10827000,13340300,31017700,88378800,79649000,30404500,19111100,19586900,21748600,17362300,16749900,17223200,14303900,9836800,21351700,23612300,21551300,12612700,12583400,25656400,13488900,15984400,9113900,8752700,13122700,9472900,21985700,12256100,10538600,12772900,16163600,8717500,6980400,9316600,9579900,9336500,10201300,13273000,12027100,16686200,18548000,23144800,13896900,11176100,9526400],\"type\":\"scatter\",\"xaxis\":\"x2\",\"yaxis\":\"y2\"}],                        {\"template\":{\"data\":{\"bar\":[{\"error_x\":{\"color\":\"#2a3f5f\"},\"error_y\":{\"color\":\"#2a3f5f\"},\"marker\":{\"line\":{\"color\":\"#E5ECF6\",\"width\":0.5},\"pattern\":{\"fillmode\":\"overlay\",\"size\":10,\"solidity\":0.2}},\"type\":\"bar\"}],\"barpolar\":[{\"marker\":{\"line\":{\"color\":\"#E5ECF6\",\"width\":0.5},\"pattern\":{\"fillmode\":\"overlay\",\"size\":10,\"solidity\":0.2}},\"type\":\"barpolar\"}],\"carpet\":[{\"aaxis\":{\"endlinecolor\":\"#2a3f5f\",\"gridcolor\":\"white\",\"linecolor\":\"white\",\"minorgridcolor\":\"white\",\"startlinecolor\":\"#2a3f5f\"},\"baxis\":{\"endlinecolor\":\"#2a3f5f\",\"gridcolor\":\"white\",\"linecolor\":\"white\",\"minorgridcolor\":\"white\",\"startlinecolor\":\"#2a3f5f\"},\"type\":\"carpet\"}],\"choropleth\":[{\"colorbar\":{\"outlinewidth\":0,\"ticks\":\"\"},\"type\":\"choropleth\"}],\"contour\":[{\"colorbar\":{\"outlinewidth\":0,\"ticks\":\"\"},\"colorscale\":[[0.0,\"#0d0887\"],[0.1111111111111111,\"#46039f\"],[0.2222222222222222,\"#7201a8\"],[0.3333333333333333,\"#9c179e\"],[0.4444444444444444,\"#bd3786\"],[0.5555555555555556,\"#d8576b\"],[0.6666666666666666,\"#ed7953\"],[0.7777777777777778,\"#fb9f3a\"],[0.8888888888888888,\"#fdca26\"],[1.0,\"#f0f921\"]],\"type\":\"contour\"}],\"contourcarpet\":[{\"colorbar\":{\"outlinewidth\":0,\"ticks\":\"\"},\"type\":\"contourcarpet\"}],\"heatmap\":[{\"colorbar\":{\"outlinewidth\":0,\"ticks\":\"\"},\"colorscale\":[[0.0,\"#0d0887\"],[0.1111111111111111,\"#46039f\"],[0.2222222222222222,\"#7201a8\"],[0.3333333333333333,\"#9c179e\"],[0.4444444444444444,\"#bd3786\"],[0.5555555555555556,\"#d8576b\"],[0.6666666666666666,\"#ed7953\"],[0.7777777777777778,\"#fb9f3a\"],[0.8888888888888888,\"#fdca26\"],[1.0,\"#f0f921\"]],\"type\":\"heatmap\"}],\"heatmapgl\":[{\"colorbar\":{\"outlinewidth\":0,\"ticks\":\"\"},\"colorscale\":[[0.0,\"#0d0887\"],[0.1111111111111111,\"#46039f\"],[0.2222222222222222,\"#7201a8\"],[0.3333333333333333,\"#9c179e\"],[0.4444444444444444,\"#bd3786\"],[0.5555555555555556,\"#d8576b\"],[0.6666666666666666,\"#ed7953\"],[0.7777777777777778,\"#fb9f3a\"],[0.8888888888888888,\"#fdca26\"],[1.0,\"#f0f921\"]],\"type\":\"heatmapgl\"}],\"histogram\":[{\"marker\":{\"pattern\":{\"fillmode\":\"overlay\",\"size\":10,\"solidity\":0.2}},\"type\":\"histogram\"}],\"histogram2d\":[{\"colorbar\":{\"outlinewidth\":0,\"ticks\":\"\"},\"colorscale\":[[0.0,\"#0d0887\"],[0.1111111111111111,\"#46039f\"],[0.2222222222222222,\"#7201a8\"],[0.3333333333333333,\"#9c179e\"],[0.4444444444444444,\"#bd3786\"],[0.5555555555555556,\"#d8576b\"],[0.6666666666666666,\"#ed7953\"],[0.7777777777777778,\"#fb9f3a\"],[0.8888888888888888,\"#fdca26\"],[1.0,\"#f0f921\"]],\"type\":\"histogram2d\"}],\"histogram2dcontour\":[{\"colorbar\":{\"outlinewidth\":0,\"ticks\":\"\"},\"colorscale\":[[0.0,\"#0d0887\"],[0.1111111111111111,\"#46039f\"],[0.2222222222222222,\"#7201a8\"],[0.3333333333333333,\"#9c179e\"],[0.4444444444444444,\"#bd3786\"],[0.5555555555555556,\"#d8576b\"],[0.6666666666666666,\"#ed7953\"],[0.7777777777777778,\"#fb9f3a\"],[0.8888888888888888,\"#fdca26\"],[1.0,\"#f0f921\"]],\"type\":\"histogram2dcontour\"}],\"mesh3d\":[{\"colorbar\":{\"outlinewidth\":0,\"ticks\":\"\"},\"type\":\"mesh3d\"}],\"parcoords\":[{\"line\":{\"colorbar\":{\"outlinewidth\":0,\"ticks\":\"\"}},\"type\":\"parcoords\"}],\"pie\":[{\"automargin\":true,\"type\":\"pie\"}],\"scatter\":[{\"marker\":{\"colorbar\":{\"outlinewidth\":0,\"ticks\":\"\"}},\"type\":\"scatter\"}],\"scatter3d\":[{\"line\":{\"colorbar\":{\"outlinewidth\":0,\"ticks\":\"\"}},\"marker\":{\"colorbar\":{\"outlinewidth\":0,\"ticks\":\"\"}},\"type\":\"scatter3d\"}],\"scattercarpet\":[{\"marker\":{\"colorbar\":{\"outlinewidth\":0,\"ticks\":\"\"}},\"type\":\"scattercarpet\"}],\"scattergeo\":[{\"marker\":{\"colorbar\":{\"outlinewidth\":0,\"ticks\":\"\"}},\"type\":\"scattergeo\"}],\"scattergl\":[{\"marker\":{\"colorbar\":{\"outlinewidth\":0,\"ticks\":\"\"}},\"type\":\"scattergl\"}],\"scattermapbox\":[{\"marker\":{\"colorbar\":{\"outlinewidth\":0,\"ticks\":\"\"}},\"type\":\"scattermapbox\"}],\"scatterpolar\":[{\"marker\":{\"colorbar\":{\"outlinewidth\":0,\"ticks\":\"\"}},\"type\":\"scatterpolar\"}],\"scatterpolargl\":[{\"marker\":{\"colorbar\":{\"outlinewidth\":0,\"ticks\":\"\"}},\"type\":\"scatterpolargl\"}],\"scatterternary\":[{\"marker\":{\"colorbar\":{\"outlinewidth\":0,\"ticks\":\"\"}},\"type\":\"scatterternary\"}],\"surface\":[{\"colorbar\":{\"outlinewidth\":0,\"ticks\":\"\"},\"colorscale\":[[0.0,\"#0d0887\"],[0.1111111111111111,\"#46039f\"],[0.2222222222222222,\"#7201a8\"],[0.3333333333333333,\"#9c179e\"],[0.4444444444444444,\"#bd3786\"],[0.5555555555555556,\"#d8576b\"],[0.6666666666666666,\"#ed7953\"],[0.7777777777777778,\"#fb9f3a\"],[0.8888888888888888,\"#fdca26\"],[1.0,\"#f0f921\"]],\"type\":\"surface\"}],\"table\":[{\"cells\":{\"fill\":{\"color\":\"#EBF0F8\"},\"line\":{\"color\":\"white\"}},\"header\":{\"fill\":{\"color\":\"#C8D4E3\"},\"line\":{\"color\":\"white\"}},\"type\":\"table\"}]},\"layout\":{\"annotationdefaults\":{\"arrowcolor\":\"#2a3f5f\",\"arrowhead\":0,\"arrowwidth\":1},\"autotypenumbers\":\"strict\",\"coloraxis\":{\"colorbar\":{\"outlinewidth\":0,\"ticks\":\"\"}},\"colorscale\":{\"diverging\":[[0,\"#8e0152\"],[0.1,\"#c51b7d\"],[0.2,\"#de77ae\"],[0.3,\"#f1b6da\"],[0.4,\"#fde0ef\"],[0.5,\"#f7f7f7\"],[0.6,\"#e6f5d0\"],[0.7,\"#b8e186\"],[0.8,\"#7fbc41\"],[0.9,\"#4d9221\"],[1,\"#276419\"]],\"sequential\":[[0.0,\"#0d0887\"],[0.1111111111111111,\"#46039f\"],[0.2222222222222222,\"#7201a8\"],[0.3333333333333333,\"#9c179e\"],[0.4444444444444444,\"#bd3786\"],[0.5555555555555556,\"#d8576b\"],[0.6666666666666666,\"#ed7953\"],[0.7777777777777778,\"#fb9f3a\"],[0.8888888888888888,\"#fdca26\"],[1.0,\"#f0f921\"]],\"sequentialminus\":[[0.0,\"#0d0887\"],[0.1111111111111111,\"#46039f\"],[0.2222222222222222,\"#7201a8\"],[0.3333333333333333,\"#9c179e\"],[0.4444444444444444,\"#bd3786\"],[0.5555555555555556,\"#d8576b\"],[0.6666666666666666,\"#ed7953\"],[0.7777777777777778,\"#fb9f3a\"],[0.8888888888888888,\"#fdca26\"],[1.0,\"#f0f921\"]]},\"colorway\":[\"#636efa\",\"#EF553B\",\"#00cc96\",\"#ab63fa\",\"#FFA15A\",\"#19d3f3\",\"#FF6692\",\"#B6E880\",\"#FF97FF\",\"#FECB52\"],\"font\":{\"color\":\"#2a3f5f\"},\"geo\":{\"bgcolor\":\"white\",\"lakecolor\":\"white\",\"landcolor\":\"#E5ECF6\",\"showlakes\":true,\"showland\":true,\"subunitcolor\":\"white\"},\"hoverlabel\":{\"align\":\"left\"},\"hovermode\":\"closest\",\"mapbox\":{\"style\":\"light\"},\"paper_bgcolor\":\"white\",\"plot_bgcolor\":\"#E5ECF6\",\"polar\":{\"angularaxis\":{\"gridcolor\":\"white\",\"linecolor\":\"white\",\"ticks\":\"\"},\"bgcolor\":\"#E5ECF6\",\"radialaxis\":{\"gridcolor\":\"white\",\"linecolor\":\"white\",\"ticks\":\"\"}},\"scene\":{\"xaxis\":{\"backgroundcolor\":\"#E5ECF6\",\"gridcolor\":\"white\",\"gridwidth\":2,\"linecolor\":\"white\",\"showbackground\":true,\"ticks\":\"\",\"zerolinecolor\":\"white\"},\"yaxis\":{\"backgroundcolor\":\"#E5ECF6\",\"gridcolor\":\"white\",\"gridwidth\":2,\"linecolor\":\"white\",\"showbackground\":true,\"ticks\":\"\",\"zerolinecolor\":\"white\"},\"zaxis\":{\"backgroundcolor\":\"#E5ECF6\",\"gridcolor\":\"white\",\"gridwidth\":2,\"linecolor\":\"white\",\"showbackground\":true,\"ticks\":\"\",\"zerolinecolor\":\"white\"}},\"shapedefaults\":{\"line\":{\"color\":\"#2a3f5f\"}},\"ternary\":{\"aaxis\":{\"gridcolor\":\"white\",\"linecolor\":\"white\",\"ticks\":\"\"},\"baxis\":{\"gridcolor\":\"white\",\"linecolor\":\"white\",\"ticks\":\"\"},\"bgcolor\":\"#E5ECF6\",\"caxis\":{\"gridcolor\":\"white\",\"linecolor\":\"white\",\"ticks\":\"\"}},\"title\":{\"x\":0.05},\"xaxis\":{\"automargin\":true,\"gridcolor\":\"white\",\"linecolor\":\"white\",\"ticks\":\"\",\"title\":{\"standoff\":15},\"zerolinecolor\":\"white\",\"zerolinewidth\":2},\"yaxis\":{\"automargin\":true,\"gridcolor\":\"white\",\"linecolor\":\"white\",\"ticks\":\"\",\"title\":{\"standoff\":15},\"zerolinecolor\":\"white\",\"zerolinewidth\":2}}},\"xaxis\":{\"anchor\":\"y\",\"domain\":[0.0,1.0],\"rangeslider\":{\"visible\":false}},\"yaxis\":{\"anchor\":\"x\",\"domain\":[0.575,1.0]},\"xaxis2\":{\"anchor\":\"y2\",\"domain\":[0.0,1.0]},\"yaxis2\":{\"anchor\":\"x2\",\"domain\":[0.0,0.425]},\"title\":{\"text\":\"HPQ Volume\"}},                        {\"responsive\": true}                    ).then(function(){\n",
              "                            \n",
              "var gd = document.getElementById('e214d105-cecc-4676-8716-1c5c4a476846');\n",
              "var x = new MutationObserver(function (mutations, observer) {{\n",
              "        var display = window.getComputedStyle(gd).display;\n",
              "        if (!display || display === 'none') {{\n",
              "            console.log([gd, 'removed!']);\n",
              "            Plotly.purge(gd);\n",
              "            observer.disconnect();\n",
              "        }}\n",
              "}});\n",
              "\n",
              "// Listen for the removal of the full notebook cells\n",
              "var notebookContainer = gd.closest('#notebook-container');\n",
              "if (notebookContainer) {{\n",
              "    x.observe(notebookContainer, {childList: true});\n",
              "}}\n",
              "\n",
              "// Listen for the clearing of the current output cell\n",
              "var outputEl = gd.closest('.output');\n",
              "if (outputEl) {{\n",
              "    x.observe(outputEl, {childList: true});\n",
              "}}\n",
              "\n",
              "                        })                };                            </script>        </div>\n",
              "</body>\n",
              "</html>"
            ]
          },
          "metadata": {}
        }
      ],
      "source": [
        "#OHLC Chart with Volume\n",
        "fig = make_subplots(rows=2, cols=1)\n",
        "fig.add_trace(go.Ohlc(x=df.Date,\n",
        "                      open=df.Open,\n",
        "                      high=df.High,\n",
        "                      low=df.Low,\n",
        "                      close=df.Close,\n",
        "                      name='Price'), row=1, col=1)\n",
        "\n",
        "fig.add_trace(go.Scatter(x=df.Date, y=df.Volume, name='Volume'), row=2, col=1)\n",
        "\n",
        "fig.update_layout(title_text=\"HPQ Volume\")\n",
        "fig.update(layout_xaxis_rangeslider_visible=False) \n",
        "fig.show()"
      ]
    },
    {
      "cell_type": "code",
      "source": [
        "#run\n",
        "target=df['FutureTrend']\n",
        "df=df.drop(\"FutureTrend\",axis =1)\n",
        "target= target.replace(['Negative','Positive',  'Neutral'],[0,1,2])\n"
      ],
      "metadata": {
        "id": "t4oJgKO12ZWz"
      },
      "execution_count": 25,
      "outputs": []
    },
    {
      "cell_type": "code",
      "source": [
        ""
      ],
      "metadata": {
        "id": "sjhcHoqh44Tw"
      },
      "execution_count": 25,
      "outputs": []
    },
    {
      "cell_type": "code",
      "source": [
        "target.value_counts()"
      ],
      "metadata": {
        "colab": {
          "base_uri": "https://localhost:8080/"
        },
        "id": "wIGXN0_444Z6",
        "outputId": "c603da2d-5c10-4502-ded1-ee0eff3c0e03"
      },
      "execution_count": 26,
      "outputs": [
        {
          "output_type": "execute_result",
          "data": {
            "text/plain": [
              "0    408\n",
              "1    344\n",
              "Name: FutureTrend, dtype: int64"
            ]
          },
          "metadata": {},
          "execution_count": 26
        }
      ]
    },
    {
      "cell_type": "code",
      "execution_count": 27,
      "metadata": {
        "colab": {
          "base_uri": "https://localhost:8080/"
        },
        "id": "47C13W5lYetO",
        "outputId": "18b93653-823a-4534-ecf6-c8682206da7d"
      },
      "outputs": [
        {
          "output_type": "stream",
          "name": "stdout",
          "text": [
            "Open                0\n",
            "High                0\n",
            "Low                 0\n",
            "Close               0\n",
            "Volume              0\n",
            "EF_1                0\n",
            "EF_2                0\n",
            "Oil FutureTrend     0\n",
            "Gold FutureTrend    0\n",
            "Trend               0\n",
            "Ef_1_low            0\n",
            "Ef_1_v_med          0\n",
            "Ef1_high            0\n",
            "Ef1_very_high       0\n",
            "sentiment_good      0\n",
            "sentiment_bad       0\n",
            "diff                0\n",
            "10day               0\n",
            "dtype: int64\n",
            "          Open       High        Low      Close    Volume      EF_1      EF_2  \\\n",
            "448  26.860001  27.170000  25.959999  26.549999  21946600  0.487603 -1.154138   \n",
            "335  29.959999  30.260000  29.410000  29.620001  22716700  0.247060 -1.134841   \n",
            "294  42.380001  43.770000  41.639999  41.959999  16159600  0.150235 -0.991038   \n",
            "684  64.949997  64.949997  62.049999  62.060001  15475500  0.003449 -4.449570   \n",
            "79   28.480000  29.020000  28.070000  28.770000  26503600  0.736842  1.018262   \n",
            "\n",
            "     Oil FutureTrend  Gold FutureTrend  Trend  Ef_1_low  Ef_1_v_med  Ef1_high  \\\n",
            "448  2.0              2.0               0.0    0         1           0          \n",
            "335  0.0              1.0               0.0    1         0           0          \n",
            "294  0.0              0.0               0.0    0         0           0          \n",
            "684  2.0              2.0               0.0    0         0           0          \n",
            "79   0.0              2.0               2.0    0         0           1          \n",
            "\n",
            "     Ef1_very_high  sentiment_good  sentiment_bad      diff      10day  \n",
            "448  0              0               0             -0.310001  26.149000  \n",
            "335  0              0               0             -0.339998  32.814000  \n",
            "294  0              0               0             -0.420002  42.063000  \n",
            "684  0              0               0             -2.889996  67.077999  \n",
            "79   0              0               0              0.290001  28.588000  \n"
          ]
        },
        {
          "output_type": "stream",
          "name": "stderr",
          "text": [
            "/usr/local/lib/python3.7/dist-packages/ipykernel_launcher.py:41: FutureWarning:\n",
            "\n",
            "Passing a negative integer is deprecated in version 1.0 and will not be supported in future version. Instead, use None to not limit the column width.\n",
            "\n"
          ]
        },
        {
          "output_type": "execute_result",
          "data": {
            "text/plain": [
              "DecisionTreeClassifier(criterion='entropy', max_depth=7, min_samples_split=10,\n",
              "                       random_state=0)"
            ]
          },
          "metadata": {},
          "execution_count": 27
        }
      ],
      "source": [
        "# Setting Index as Date\n",
        "from sklearn.preprocessing import OrdinalEncoder\n",
        "\n",
        "appl_df = make_bins(df)\n",
        "appl_df.head(2)\n",
        "appl_df=appl_df.drop([\"Twitter Sentiments\"],axis =1)\n",
        "appl_df['diff']=appl_df['Close']-appl_df['Open']\n",
        "appl_df['10day']=appl_df['Close'].rolling(10).mean()\n",
        "appl_df['10day'].fillna(appl_df['10day'][9],inplace=True)\n",
        "appl_df = appl_df.set_index(\"Date\")\n",
        "\n",
        "appl_df.tail()\n",
        "new_df=appl_df\n",
        "print(new_df.isna().sum())\n",
        "numerical_columns_selector = selector(dtype_exclude=object)\n",
        "categorical_columns_selector = selector(dtype_include=object)\n",
        "\n",
        "numerical_columns = numerical_columns_selector(new_df)\n",
        "categorical_columns = categorical_columns_selector(new_df)\n",
        "\n",
        "# print(categorical_columns)\n",
        "# preprocessor = ColumnTransformer([\n",
        "#     ('one-hot-encoder', categorical_preprocessor, categorical_columns)])\n",
        "#     ('standard-scaler', numerical_preprocessor, numerical_columns)])\n",
        "\n",
        "\n",
        "\n",
        "enc = OrdinalEncoder()\n",
        "new_df[[ 'Oil FutureTrend', 'Gold FutureTrend', 'Trend']] = enc.fit_transform(df[[ 'Oil FutureTrend', 'Gold FutureTrend', 'Trend']])\n",
        "\n",
        "\n",
        "\n",
        "from imblearn.over_sampling import SMOTE\n",
        "oversample = SMOTE()\n",
        "new_df, target = oversample.fit_resample(new_df, target)\n",
        "\n",
        "from scipy.stats import itemfreq\n",
        "pd.set_option('display.max_rows', None)\n",
        "pd.set_option('display.max_columns', None)\n",
        "pd.set_option('display.width', None)\n",
        "pd.set_option('display.max_colwidth', -1)\n",
        "X_train,X_test, y_train, y_test = train_test_split(new_df, target, test_size=0.2, random_state=42)\n",
        " \n",
        "model = DecisionTreeClassifier(criterion='entropy', max_depth=7,min_samples_split=10, random_state=0)\n",
        "print(X_train.head())\n",
        "model.fit(X_train,y_train)\n"
      ]
    },
    {
      "cell_type": "code",
      "source": [
        "fig = plt.figure(figsize=(25,20))\n",
        "_ = tree.plot_tree(model, \n",
        "                   feature_names=appl_df.columns,  \n",
        "                   class_names=[\"0\",\"1\",\"2\"],\n",
        "                   filled=True)\n"
      ],
      "metadata": {
        "id": "Tn1hygbqkZth",
        "colab": {
          "base_uri": "https://localhost:8080/",
          "height": 1000
        },
        "outputId": "a8f8fee4-cfb7-466e-e5ab-6df6c281a93c"
      },
      "execution_count": 28,
      "outputs": [
        {
          "output_type": "display_data",
          "data": {
            "text/plain": [
              "<Figure size 1800x1440 with 1 Axes>"
            ],
            "image/png": "[encoded data removed]"
          },
          "metadata": {
            "needs_background": "light"
          }
        }
      ]
    },
    {
      "cell_type": "code",
      "source": [
        "print(\"Accuracy score (training): {0:.3f}\".format(\n",
        "        model.score(\n",
        "            X_train, \n",
        "            y_train)))\n",
        "print(\"Accuracy score (validation): {0:.3f}\".format(\n",
        "        model.score(\n",
        "            X_test, \n",
        "            y_test)))\n"
      ],
      "metadata": {
        "id": "NJBtisJx1Mph",
        "colab": {
          "base_uri": "https://localhost:8080/"
        },
        "outputId": "d3307fbe-e49e-4799-9bf9-2922a29f0cb0"
      },
      "execution_count": 29,
      "outputs": [
        {
          "output_type": "stream",
          "name": "stdout",
          "text": [
            "Accuracy score (training): 0.759\n",
            "Accuracy score (validation): 0.500\n"
          ]
        }
      ]
    },
    {
      "cell_type": "markdown",
      "source": [
        "Applying Hyper Paramter tuning "
      ],
      "metadata": {
        "id": "YINbSh9gwq2F"
      }
    },
    {
      "cell_type": "code",
      "source": [
        "param_grid = {'max_features': ['auto', 'sqrt', 'log2'],\n",
        "              'ccp_alpha': [0.1, .01, .001],\n",
        "              'max_depth' : [5, 6, 7, 9, 12],\n",
        "              'min_samples_leaf': [5, 10, 20, 50, 100],\n",
        "              'criterion' :['gini', 'entropy']\n",
        "             }"
      ],
      "metadata": {
        "id": "hi88WkkJnPSt"
      },
      "execution_count": 30,
      "outputs": []
    },
    {
      "cell_type": "code",
      "source": [
        "dt = DecisionTreeClassifier()"
      ],
      "metadata": {
        "id": "Oa6H7S0hwwEe"
      },
      "execution_count": 31,
      "outputs": []
    },
    {
      "cell_type": "code",
      "source": [
        "grid_search = GridSearchCV(estimator=dt, \n",
        "                           param_grid=param_grid, \n",
        "                           cv=4, n_jobs=-1,error_score='raise', verbose=1, scoring = \"accuracy\")\n"
      ],
      "metadata": {
        "id": "cqnXkRNanS9z"
      },
      "execution_count": 32,
      "outputs": []
    },
    {
      "cell_type": "code",
      "source": [
        "grid_search.fit(X_train, y_train)"
      ],
      "metadata": {
        "id": "ECP975Qdw6KQ",
        "colab": {
          "base_uri": "https://localhost:8080/"
        },
        "outputId": "158f56fb-814f-4b42-f791-d06b94166aa2"
      },
      "execution_count": 33,
      "outputs": [
        {
          "output_type": "stream",
          "name": "stdout",
          "text": [
            "Fitting 4 folds for each of 450 candidates, totalling 1800 fits\n"
          ]
        },
        {
          "output_type": "execute_result",
          "data": {
            "text/plain": [
              "GridSearchCV(cv=4, error_score='raise', estimator=DecisionTreeClassifier(),\n",
              "             n_jobs=-1,\n",
              "             param_grid={'ccp_alpha': [0.1, 0.01, 0.001],\n",
              "                         'criterion': ['gini', 'entropy'],\n",
              "                         'max_depth': [5, 6, 7, 9, 12],\n",
              "                         'max_features': ['auto', 'sqrt', 'log2'],\n",
              "                         'min_samples_leaf': [5, 10, 20, 50, 100]},\n",
              "             scoring='accuracy', verbose=1)"
            ]
          },
          "metadata": {},
          "execution_count": 33
        }
      ]
    },
    {
      "cell_type": "code",
      "source": [
        "final_model = grid_search.best_estimator_\n",
        "final_model\n"
      ],
      "metadata": {
        "id": "SP3BxNfWnx_u",
        "colab": {
          "base_uri": "https://localhost:8080/"
        },
        "outputId": "d8de3106-5276-41ad-a6e6-9f7acfcce604"
      },
      "execution_count": 34,
      "outputs": [
        {
          "output_type": "execute_result",
          "data": {
            "text/plain": [
              "DecisionTreeClassifier(ccp_alpha=0.01, criterion='entropy', max_depth=5,\n",
              "                       max_features='sqrt', min_samples_leaf=10)"
            ]
          },
          "metadata": {},
          "execution_count": 34
        }
      ]
    },
    {
      "cell_type": "code",
      "source": [
        "score_df = pd.DataFrame(grid_search.cv_results_)\n",
        "score_df.head()\n"
      ],
      "metadata": {
        "id": "ZQvEHxqhx046",
        "colab": {
          "base_uri": "https://localhost:8080/",
          "height": 791
        },
        "outputId": "793f203d-b968-4661-8720-7080e83c99bb"
      },
      "execution_count": 35,
      "outputs": [
        {
          "output_type": "execute_result",
          "data": {
            "text/plain": [
              "   mean_fit_time  std_fit_time  mean_score_time  std_score_time  \\\n",
              "0  0.006874       0.002275      0.005261         0.002719         \n",
              "1  0.006361       0.002007      0.004338         0.002069         \n",
              "2  0.006276       0.002520      0.002898         0.000093         \n",
              "3  0.004771       0.000111      0.004045         0.001989         \n",
              "4  0.004523       0.000078      0.003096         0.000481         \n",
              "\n",
              "  param_ccp_alpha param_criterion param_max_depth param_max_features  \\\n",
              "0  0.1             gini            5               auto                \n",
              "1  0.1             gini            5               auto                \n",
              "2  0.1             gini            5               auto                \n",
              "3  0.1             gini            5               auto                \n",
              "4  0.1             gini            5               auto                \n",
              "\n",
              "  param_min_samples_leaf  \\\n",
              "0  5                       \n",
              "1  10                      \n",
              "2  20                      \n",
              "3  50                      \n",
              "4  100                     \n",
              "\n",
              "                                                                                                     params  \\\n",
              "0  {'ccp_alpha': 0.1, 'criterion': 'gini', 'max_depth': 5, 'max_features': 'auto', 'min_samples_leaf': 5}     \n",
              "1  {'ccp_alpha': 0.1, 'criterion': 'gini', 'max_depth': 5, 'max_features': 'auto', 'min_samples_leaf': 10}    \n",
              "2  {'ccp_alpha': 0.1, 'criterion': 'gini', 'max_depth': 5, 'max_features': 'auto', 'min_samples_leaf': 20}    \n",
              "3  {'ccp_alpha': 0.1, 'criterion': 'gini', 'max_depth': 5, 'max_features': 'auto', 'min_samples_leaf': 50}    \n",
              "4  {'ccp_alpha': 0.1, 'criterion': 'gini', 'max_depth': 5, 'max_features': 'auto', 'min_samples_leaf': 100}   \n",
              "\n",
              "   split0_test_score  split1_test_score  split2_test_score  split3_test_score  \\\n",
              "0  0.496933           0.496933           0.496933           0.496933            \n",
              "1  0.496933           0.496933           0.496933           0.496933            \n",
              "2  0.496933           0.496933           0.496933           0.496933            \n",
              "3  0.496933           0.496933           0.496933           0.496933            \n",
              "4  0.496933           0.496933           0.496933           0.496933            \n",
              "\n",
              "   mean_test_score  std_test_score  rank_test_score  \n",
              "0  0.496933         0.0             300              \n",
              "1  0.496933         0.0             300              \n",
              "2  0.496933         0.0             300              \n",
              "3  0.496933         0.0             300              \n",
              "4  0.496933         0.0             300              "
            ],
            "text/html": [
              "\n",
              "  <div id=\"df-2c79fd37-e604-4cd9-837f-eeb4a4d0cffb\">\n",
              "    <div class=\"colab-df-container\">\n",
              "      <div>\n",
              "<style scoped>\n",
              "    .dataframe tbody tr th:only-of-type {\n",
              "        vertical-align: middle;\n",
              "    }\n",
              "\n",
              "    .dataframe tbody tr th {\n",
              "        vertical-align: top;\n",
              "    }\n",
              "\n",
              "    .dataframe thead th {\n",
              "        text-align: right;\n",
              "    }\n",
              "</style>\n",
              "<table border=\"1\" class=\"dataframe\">\n",
              "  <thead>\n",
              "    <tr style=\"text-align: right;\">\n",
              "      <th></th>\n",
              "      <th>mean_fit_time</th>\n",
              "      <th>std_fit_time</th>\n",
              "      <th>mean_score_time</th>\n",
              "      <th>std_score_time</th>\n",
              "      <th>param_ccp_alpha</th>\n",
              "      <th>param_criterion</th>\n",
              "      <th>param_max_depth</th>\n",
              "      <th>param_max_features</th>\n",
              "      <th>param_min_samples_leaf</th>\n",
              "      <th>params</th>\n",
              "      <th>split0_test_score</th>\n",
              "      <th>split1_test_score</th>\n",
              "      <th>split2_test_score</th>\n",
              "      <th>split3_test_score</th>\n",
              "      <th>mean_test_score</th>\n",
              "      <th>std_test_score</th>\n",
              "      <th>rank_test_score</th>\n",
              "    </tr>\n",
              "  </thead>\n",
              "  <tbody>\n",
              "    <tr>\n",
              "      <th>0</th>\n",
              "      <td>0.006874</td>\n",
              "      <td>0.002275</td>\n",
              "      <td>0.005261</td>\n",
              "      <td>0.002719</td>\n",
              "      <td>0.1</td>\n",
              "      <td>gini</td>\n",
              "      <td>5</td>\n",
              "      <td>auto</td>\n",
              "      <td>5</td>\n",
              "      <td>{'ccp_alpha': 0.1, 'criterion': 'gini', 'max_depth': 5, 'max_features': 'auto', 'min_samples_leaf': 5}</td>\n",
              "      <td>0.496933</td>\n",
              "      <td>0.496933</td>\n",
              "      <td>0.496933</td>\n",
              "      <td>0.496933</td>\n",
              "      <td>0.496933</td>\n",
              "      <td>0.0</td>\n",
              "      <td>300</td>\n",
              "    </tr>\n",
              "    <tr>\n",
              "      <th>1</th>\n",
              "      <td>0.006361</td>\n",
              "      <td>0.002007</td>\n",
              "      <td>0.004338</td>\n",
              "      <td>0.002069</td>\n",
              "      <td>0.1</td>\n",
              "      <td>gini</td>\n",
              "      <td>5</td>\n",
              "      <td>auto</td>\n",
              "      <td>10</td>\n",
              "      <td>{'ccp_alpha': 0.1, 'criterion': 'gini', 'max_depth': 5, 'max_features': 'auto', 'min_samples_leaf': 10}</td>\n",
              "      <td>0.496933</td>\n",
              "      <td>0.496933</td>\n",
              "      <td>0.496933</td>\n",
              "      <td>0.496933</td>\n",
              "      <td>0.496933</td>\n",
              "      <td>0.0</td>\n",
              "      <td>300</td>\n",
              "    </tr>\n",
              "    <tr>\n",
              "      <th>2</th>\n",
              "      <td>0.006276</td>\n",
              "      <td>0.002520</td>\n",
              "      <td>0.002898</td>\n",
              "      <td>0.000093</td>\n",
              "      <td>0.1</td>\n",
              "      <td>gini</td>\n",
              "      <td>5</td>\n",
              "      <td>auto</td>\n",
              "      <td>20</td>\n",
              "      <td>{'ccp_alpha': 0.1, 'criterion': 'gini', 'max_depth': 5, 'max_features': 'auto', 'min_samples_leaf': 20}</td>\n",
              "      <td>0.496933</td>\n",
              "      <td>0.496933</td>\n",
              "      <td>0.496933</td>\n",
              "      <td>0.496933</td>\n",
              "      <td>0.496933</td>\n",
              "      <td>0.0</td>\n",
              "      <td>300</td>\n",
              "    </tr>\n",
              "    <tr>\n",
              "      <th>3</th>\n",
              "      <td>0.004771</td>\n",
              "      <td>0.000111</td>\n",
              "      <td>0.004045</td>\n",
              "      <td>0.001989</td>\n",
              "      <td>0.1</td>\n",
              "      <td>gini</td>\n",
              "      <td>5</td>\n",
              "      <td>auto</td>\n",
              "      <td>50</td>\n",
              "      <td>{'ccp_alpha': 0.1, 'criterion': 'gini', 'max_depth': 5, 'max_features': 'auto', 'min_samples_leaf': 50}</td>\n",
              "      <td>0.496933</td>\n",
              "      <td>0.496933</td>\n",
              "      <td>0.496933</td>\n",
              "      <td>0.496933</td>\n",
              "      <td>0.496933</td>\n",
              "      <td>0.0</td>\n",
              "      <td>300</td>\n",
              "    </tr>\n",
              "    <tr>\n",
              "      <th>4</th>\n",
              "      <td>0.004523</td>\n",
              "      <td>0.000078</td>\n",
              "      <td>0.003096</td>\n",
              "      <td>0.000481</td>\n",
              "      <td>0.1</td>\n",
              "      <td>gini</td>\n",
              "      <td>5</td>\n",
              "      <td>auto</td>\n",
              "      <td>100</td>\n",
              "      <td>{'ccp_alpha': 0.1, 'criterion': 'gini', 'max_depth': 5, 'max_features': 'auto', 'min_samples_leaf': 100}</td>\n",
              "      <td>0.496933</td>\n",
              "      <td>0.496933</td>\n",
              "      <td>0.496933</td>\n",
              "      <td>0.496933</td>\n",
              "      <td>0.496933</td>\n",
              "      <td>0.0</td>\n",
              "      <td>300</td>\n",
              "    </tr>\n",
              "  </tbody>\n",
              "</table>\n",
              "</div>\n",
              "      <button class=\"colab-df-convert\" onclick=\"convertToInteractive('df-2c79fd37-e604-4cd9-837f-eeb4a4d0cffb')\"\n",
              "              title=\"Convert this dataframe to an interactive table.\"\n",
              "              style=\"display:none;\">\n",
              "        \n",
              "  <svg xmlns=\"http://www.w3.org/2000/svg\" height=\"24px\"viewBox=\"0 0 24 24\"\n",
              "       width=\"24px\">\n",
              "    <path d=\"M0 0h24v24H0V0z\" fill=\"none\"/>\n",
              "    <path d=\"M18.56 5.44l.94 2.06.94-2.06 2.06-.94-2.06-.94-.94-2.06-.94 2.06-2.06.94zm-11 1L8.5 8.5l.94-2.06 2.06-.94-2.06-.94L8.5 2.5l-.94 2.06-2.06.94zm10 10l.94 2.06.94-2.06 2.06-.94-2.06-.94-.94-2.06-.94 2.06-2.06.94z\"/><path d=\"M17.41 7.96l-1.37-1.37c-.4-.4-.92-.59-1.43-.59-.52 0-1.04.2-1.43.59L10.3 9.45l-7.72 7.72c-.78.78-.78 2.05 0 2.83L4 21.41c.39.39.9.59 1.41.59.51 0 1.02-.2 1.41-.59l7.78-7.78 2.81-2.81c.8-.78.8-2.07 0-2.86zM5.41 20L4 18.59l7.72-7.72 1.47 1.35L5.41 20z\"/>\n",
              "  </svg>\n",
              "      </button>\n",
              "      \n",
              "  <style>\n",
              "    .colab-df-container {\n",
              "      display:flex;\n",
              "      flex-wrap:wrap;\n",
              "      gap: 12px;\n",
              "    }\n",
              "\n",
              "    .colab-df-convert {\n",
              "      background-color: #E8F0FE;\n",
              "      border: none;\n",
              "      border-radius: 50%;\n",
              "      cursor: pointer;\n",
              "      display: none;\n",
              "      fill: #1967D2;\n",
              "      height: 32px;\n",
              "      padding: 0 0 0 0;\n",
              "      width: 32px;\n",
              "    }\n",
              "\n",
              "    .colab-df-convert:hover {\n",
              "      background-color: #E2EBFA;\n",
              "      box-shadow: 0px 1px 2px rgba(60, 64, 67, 0.3), 0px 1px 3px 1px rgba(60, 64, 67, 0.15);\n",
              "      fill: #174EA6;\n",
              "    }\n",
              "\n",
              "    [theme=dark] .colab-df-convert {\n",
              "      background-color: #3B4455;\n",
              "      fill: #D2E3FC;\n",
              "    }\n",
              "\n",
              "    [theme=dark] .colab-df-convert:hover {\n",
              "      background-color: #434B5C;\n",
              "      box-shadow: 0px 1px 3px 1px rgba(0, 0, 0, 0.15);\n",
              "      filter: drop-shadow(0px 1px 2px rgba(0, 0, 0, 0.3));\n",
              "      fill: #FFFFFF;\n",
              "    }\n",
              "  </style>\n",
              "\n",
              "      <script>\n",
              "        const buttonEl =\n",
              "          document.querySelector('#df-2c79fd37-e604-4cd9-837f-eeb4a4d0cffb button.colab-df-convert');\n",
              "        buttonEl.style.display =\n",
              "          google.colab.kernel.accessAllowed ? 'block' : 'none';\n",
              "\n",
              "        async function convertToInteractive(key) {\n",
              "          const element = document.querySelector('#df-2c79fd37-e604-4cd9-837f-eeb4a4d0cffb');\n",
              "          const dataTable =\n",
              "            await google.colab.kernel.invokeFunction('convertToInteractive',\n",
              "                                                     [key], {});\n",
              "          if (!dataTable) return;\n",
              "\n",
              "          const docLinkHtml = 'Like what you see? Visit the ' +\n",
              "            '<a target=\"_blank\" href=https://colab.research.google.com/notebooks/data_table.ipynb>data table notebook</a>'\n",
              "            + ' to learn more about interactive tables.';\n",
              "          element.innerHTML = '';\n",
              "          dataTable['output_type'] = 'display_data';\n",
              "          await google.colab.output.renderOutput(dataTable, element);\n",
              "          const docLink = document.createElement('div');\n",
              "          docLink.innerHTML = docLinkHtml;\n",
              "          element.appendChild(docLink);\n",
              "        }\n",
              "      </script>\n",
              "    </div>\n",
              "  </div>\n",
              "  "
            ]
          },
          "metadata": {},
          "execution_count": 35
        }
      ]
    },
    {
      "cell_type": "code",
      "source": [
        "score_df.nlargest(5,\"mean_test_score\")"
      ],
      "metadata": {
        "id": "vHemc6NBx9YD",
        "colab": {
          "base_uri": "https://localhost:8080/",
          "height": 843
        },
        "outputId": "d32286cc-5c82-4c7a-809c-54cca71028c0"
      },
      "execution_count": 36,
      "outputs": [
        {
          "output_type": "execute_result",
          "data": {
            "text/plain": [
              "     mean_fit_time  std_fit_time  mean_score_time  std_score_time  \\\n",
              "231  0.006642       0.001768      0.002830         0.000125         \n",
              "358  0.004519       0.000110      0.002792         0.000048         \n",
              "418  0.004932       0.000205      0.004393         0.002373         \n",
              "403  0.004727       0.000149      0.002922         0.000122         \n",
              "150  0.004896       0.000156      0.004049         0.002062         \n",
              "\n",
              "    param_ccp_alpha param_criterion param_max_depth param_max_features  \\\n",
              "231  0.01            entropy         5               sqrt                \n",
              "358  0.001           gini            9               log2                \n",
              "418  0.001           entropy         7               log2                \n",
              "403  0.001           entropy         6               log2                \n",
              "150  0.01            gini            5               auto                \n",
              "\n",
              "    param_min_samples_leaf  \\\n",
              "231  10                      \n",
              "358  50                      \n",
              "418  50                      \n",
              "403  50                      \n",
              "150  5                       \n",
              "\n",
              "                                                                                                           params  \\\n",
              "231  {'ccp_alpha': 0.01, 'criterion': 'entropy', 'max_depth': 5, 'max_features': 'sqrt', 'min_samples_leaf': 10}    \n",
              "358  {'ccp_alpha': 0.001, 'criterion': 'gini', 'max_depth': 9, 'max_features': 'log2', 'min_samples_leaf': 50}      \n",
              "418  {'ccp_alpha': 0.001, 'criterion': 'entropy', 'max_depth': 7, 'max_features': 'log2', 'min_samples_leaf': 50}   \n",
              "403  {'ccp_alpha': 0.001, 'criterion': 'entropy', 'max_depth': 6, 'max_features': 'log2', 'min_samples_leaf': 50}   \n",
              "150  {'ccp_alpha': 0.01, 'criterion': 'gini', 'max_depth': 5, 'max_features': 'auto', 'min_samples_leaf': 5}        \n",
              "\n",
              "     split0_test_score  split1_test_score  split2_test_score  \\\n",
              "231  0.558282           0.595092           0.607362            \n",
              "358  0.552147           0.595092           0.619632            \n",
              "418  0.558282           0.607362           0.582822            \n",
              "403  0.509202           0.619632           0.619632            \n",
              "150  0.558282           0.595092           0.588957            \n",
              "\n",
              "     split3_test_score  mean_test_score  std_test_score  rank_test_score  \n",
              "231  0.656442           0.604294         0.035109        1                \n",
              "358  0.619632           0.596626         0.027565        2                \n",
              "418  0.638037           0.596626         0.029542        2                \n",
              "403  0.631902           0.595092         0.049841        4                \n",
              "150  0.631902           0.593558         0.026164        5                "
            ],
            "text/html": [
              "\n",
              "  <div id=\"df-709c35fd-97d2-4c8e-97c5-52d9e8b86e1f\">\n",
              "    <div class=\"colab-df-container\">\n",
              "      <div>\n",
              "<style scoped>\n",
              "    .dataframe tbody tr th:only-of-type {\n",
              "        vertical-align: middle;\n",
              "    }\n",
              "\n",
              "    .dataframe tbody tr th {\n",
              "        vertical-align: top;\n",
              "    }\n",
              "\n",
              "    .dataframe thead th {\n",
              "        text-align: right;\n",
              "    }\n",
              "</style>\n",
              "<table border=\"1\" class=\"dataframe\">\n",
              "  <thead>\n",
              "    <tr style=\"text-align: right;\">\n",
              "      <th></th>\n",
              "      <th>mean_fit_time</th>\n",
              "      <th>std_fit_time</th>\n",
              "      <th>mean_score_time</th>\n",
              "      <th>std_score_time</th>\n",
              "      <th>param_ccp_alpha</th>\n",
              "      <th>param_criterion</th>\n",
              "      <th>param_max_depth</th>\n",
              "      <th>param_max_features</th>\n",
              "      <th>param_min_samples_leaf</th>\n",
              "      <th>params</th>\n",
              "      <th>split0_test_score</th>\n",
              "      <th>split1_test_score</th>\n",
              "      <th>split2_test_score</th>\n",
              "      <th>split3_test_score</th>\n",
              "      <th>mean_test_score</th>\n",
              "      <th>std_test_score</th>\n",
              "      <th>rank_test_score</th>\n",
              "    </tr>\n",
              "  </thead>\n",
              "  <tbody>\n",
              "    <tr>\n",
              "      <th>231</th>\n",
              "      <td>0.006642</td>\n",
              "      <td>0.001768</td>\n",
              "      <td>0.002830</td>\n",
              "      <td>0.000125</td>\n",
              "      <td>0.01</td>\n",
              "      <td>entropy</td>\n",
              "      <td>5</td>\n",
              "      <td>sqrt</td>\n",
              "      <td>10</td>\n",
              "      <td>{'ccp_alpha': 0.01, 'criterion': 'entropy', 'max_depth': 5, 'max_features': 'sqrt', 'min_samples_leaf': 10}</td>\n",
              "      <td>0.558282</td>\n",
              "      <td>0.595092</td>\n",
              "      <td>0.607362</td>\n",
              "      <td>0.656442</td>\n",
              "      <td>0.604294</td>\n",
              "      <td>0.035109</td>\n",
              "      <td>1</td>\n",
              "    </tr>\n",
              "    <tr>\n",
              "      <th>358</th>\n",
              "      <td>0.004519</td>\n",
              "      <td>0.000110</td>\n",
              "      <td>0.002792</td>\n",
              "      <td>0.000048</td>\n",
              "      <td>0.001</td>\n",
              "      <td>gini</td>\n",
              "      <td>9</td>\n",
              "      <td>log2</td>\n",
              "      <td>50</td>\n",
              "      <td>{'ccp_alpha': 0.001, 'criterion': 'gini', 'max_depth': 9, 'max_features': 'log2', 'min_samples_leaf': 50}</td>\n",
              "      <td>0.552147</td>\n",
              "      <td>0.595092</td>\n",
              "      <td>0.619632</td>\n",
              "      <td>0.619632</td>\n",
              "      <td>0.596626</td>\n",
              "      <td>0.027565</td>\n",
              "      <td>2</td>\n",
              "    </tr>\n",
              "    <tr>\n",
              "      <th>418</th>\n",
              "      <td>0.004932</td>\n",
              "      <td>0.000205</td>\n",
              "      <td>0.004393</td>\n",
              "      <td>0.002373</td>\n",
              "      <td>0.001</td>\n",
              "      <td>entropy</td>\n",
              "      <td>7</td>\n",
              "      <td>log2</td>\n",
              "      <td>50</td>\n",
              "      <td>{'ccp_alpha': 0.001, 'criterion': 'entropy', 'max_depth': 7, 'max_features': 'log2', 'min_samples_leaf': 50}</td>\n",
              "      <td>0.558282</td>\n",
              "      <td>0.607362</td>\n",
              "      <td>0.582822</td>\n",
              "      <td>0.638037</td>\n",
              "      <td>0.596626</td>\n",
              "      <td>0.029542</td>\n",
              "      <td>2</td>\n",
              "    </tr>\n",
              "    <tr>\n",
              "      <th>403</th>\n",
              "      <td>0.004727</td>\n",
              "      <td>0.000149</td>\n",
              "      <td>0.002922</td>\n",
              "      <td>0.000122</td>\n",
              "      <td>0.001</td>\n",
              "      <td>entropy</td>\n",
              "      <td>6</td>\n",
              "      <td>log2</td>\n",
              "      <td>50</td>\n",
              "      <td>{'ccp_alpha': 0.001, 'criterion': 'entropy', 'max_depth': 6, 'max_features': 'log2', 'min_samples_leaf': 50}</td>\n",
              "      <td>0.509202</td>\n",
              "      <td>0.619632</td>\n",
              "      <td>0.619632</td>\n",
              "      <td>0.631902</td>\n",
              "      <td>0.595092</td>\n",
              "      <td>0.049841</td>\n",
              "      <td>4</td>\n",
              "    </tr>\n",
              "    <tr>\n",
              "      <th>150</th>\n",
              "      <td>0.004896</td>\n",
              "      <td>0.000156</td>\n",
              "      <td>0.004049</td>\n",
              "      <td>0.002062</td>\n",
              "      <td>0.01</td>\n",
              "      <td>gini</td>\n",
              "      <td>5</td>\n",
              "      <td>auto</td>\n",
              "      <td>5</td>\n",
              "      <td>{'ccp_alpha': 0.01, 'criterion': 'gini', 'max_depth': 5, 'max_features': 'auto', 'min_samples_leaf': 5}</td>\n",
              "      <td>0.558282</td>\n",
              "      <td>0.595092</td>\n",
              "      <td>0.588957</td>\n",
              "      <td>0.631902</td>\n",
              "      <td>0.593558</td>\n",
              "      <td>0.026164</td>\n",
              "      <td>5</td>\n",
              "    </tr>\n",
              "  </tbody>\n",
              "</table>\n",
              "</div>\n",
              "      <button class=\"colab-df-convert\" onclick=\"convertToInteractive('df-709c35fd-97d2-4c8e-97c5-52d9e8b86e1f')\"\n",
              "              title=\"Convert this dataframe to an interactive table.\"\n",
              "              style=\"display:none;\">\n",
              "        \n",
              "  <svg xmlns=\"http://www.w3.org/2000/svg\" height=\"24px\"viewBox=\"0 0 24 24\"\n",
              "       width=\"24px\">\n",
              "    <path d=\"M0 0h24v24H0V0z\" fill=\"none\"/>\n",
              "    <path d=\"M18.56 5.44l.94 2.06.94-2.06 2.06-.94-2.06-.94-.94-2.06-.94 2.06-2.06.94zm-11 1L8.5 8.5l.94-2.06 2.06-.94-2.06-.94L8.5 2.5l-.94 2.06-2.06.94zm10 10l.94 2.06.94-2.06 2.06-.94-2.06-.94-.94-2.06-.94 2.06-2.06.94z\"/><path d=\"M17.41 7.96l-1.37-1.37c-.4-.4-.92-.59-1.43-.59-.52 0-1.04.2-1.43.59L10.3 9.45l-7.72 7.72c-.78.78-.78 2.05 0 2.83L4 21.41c.39.39.9.59 1.41.59.51 0 1.02-.2 1.41-.59l7.78-7.78 2.81-2.81c.8-.78.8-2.07 0-2.86zM5.41 20L4 18.59l7.72-7.72 1.47 1.35L5.41 20z\"/>\n",
              "  </svg>\n",
              "      </button>\n",
              "      \n",
              "  <style>\n",
              "    .colab-df-container {\n",
              "      display:flex;\n",
              "      flex-wrap:wrap;\n",
              "      gap: 12px;\n",
              "    }\n",
              "\n",
              "    .colab-df-convert {\n",
              "      background-color: #E8F0FE;\n",
              "      border: none;\n",
              "      border-radius: 50%;\n",
              "      cursor: pointer;\n",
              "      display: none;\n",
              "      fill: #1967D2;\n",
              "      height: 32px;\n",
              "      padding: 0 0 0 0;\n",
              "      width: 32px;\n",
              "    }\n",
              "\n",
              "    .colab-df-convert:hover {\n",
              "      background-color: #E2EBFA;\n",
              "      box-shadow: 0px 1px 2px rgba(60, 64, 67, 0.3), 0px 1px 3px 1px rgba(60, 64, 67, 0.15);\n",
              "      fill: #174EA6;\n",
              "    }\n",
              "\n",
              "    [theme=dark] .colab-df-convert {\n",
              "      background-color: #3B4455;\n",
              "      fill: #D2E3FC;\n",
              "    }\n",
              "\n",
              "    [theme=dark] .colab-df-convert:hover {\n",
              "      background-color: #434B5C;\n",
              "      box-shadow: 0px 1px 3px 1px rgba(0, 0, 0, 0.15);\n",
              "      filter: drop-shadow(0px 1px 2px rgba(0, 0, 0, 0.3));\n",
              "      fill: #FFFFFF;\n",
              "    }\n",
              "  </style>\n",
              "\n",
              "      <script>\n",
              "        const buttonEl =\n",
              "          document.querySelector('#df-709c35fd-97d2-4c8e-97c5-52d9e8b86e1f button.colab-df-convert');\n",
              "        buttonEl.style.display =\n",
              "          google.colab.kernel.accessAllowed ? 'block' : 'none';\n",
              "\n",
              "        async function convertToInteractive(key) {\n",
              "          const element = document.querySelector('#df-709c35fd-97d2-4c8e-97c5-52d9e8b86e1f');\n",
              "          const dataTable =\n",
              "            await google.colab.kernel.invokeFunction('convertToInteractive',\n",
              "                                                     [key], {});\n",
              "          if (!dataTable) return;\n",
              "\n",
              "          const docLinkHtml = 'Like what you see? Visit the ' +\n",
              "            '<a target=\"_blank\" href=https://colab.research.google.com/notebooks/data_table.ipynb>data table notebook</a>'\n",
              "            + ' to learn more about interactive tables.';\n",
              "          element.innerHTML = '';\n",
              "          dataTable['output_type'] = 'display_data';\n",
              "          await google.colab.output.renderOutput(dataTable, element);\n",
              "          const docLink = document.createElement('div');\n",
              "          docLink.innerHTML = docLinkHtml;\n",
              "          element.appendChild(docLink);\n",
              "        }\n",
              "      </script>\n",
              "    </div>\n",
              "  </div>\n",
              "  "
            ]
          },
          "metadata": {},
          "execution_count": 36
        }
      ]
    },
    {
      "cell_type": "code",
      "source": [
        "def evaluate_model(dt_classifier):\n",
        "    print(\"Train Accuracy :\", accuracy_score(y_train, dt_classifier.predict(X_train)))\n",
        "    print(\"Train Confusion Matrix:\")\n",
        "    print(confusion_matrix(y_train, dt_classifier.predict(X_train)))\n",
        "    print(\"-\"*50)\n",
        "    print(\"Test Accuracy :\", accuracy_score(y_test, dt_classifier.predict(X_test)))\n",
        "    print(\"Test Confusion Matrix:\")\n",
        "    print(confusion_matrix(y_test, dt_classifier.predict(X_test)))"
      ],
      "metadata": {
        "id": "RI2uxJ88yKwu"
      },
      "execution_count": 37,
      "outputs": []
    },
    {
      "cell_type": "code",
      "source": [
        "\n",
        "\n",
        "evaluate_model(final_model)\n",
        "\n"
      ],
      "metadata": {
        "id": "zixJgHTxyQJQ",
        "colab": {
          "base_uri": "https://localhost:8080/"
        },
        "outputId": "9e1e99cc-7e63-4ce7-877f-23b3bfc4dec1"
      },
      "execution_count": 38,
      "outputs": [
        {
          "output_type": "stream",
          "name": "stdout",
          "text": [
            "Train Accuracy : 0.6012269938650306\n",
            "Train Confusion Matrix:\n",
            "[[287  39]\n",
            " [221 105]]\n",
            "--------------------------------------------------\n",
            "Test Accuracy : 0.524390243902439\n",
            "Test Confusion Matrix:\n",
            "[[65 17]\n",
            " [61 21]]\n"
          ]
        }
      ]
    },
    {
      "cell_type": "code",
      "source": [
        "from sklearn import model_selection\n",
        "from sklearn.ensemble import BaggingClassifier\n",
        "from sklearn.tree import DecisionTreeClassifier\n",
        "import pandas as pd\n",
        "\n",
        "  \n",
        "seed = 8\n",
        "kfold = model_selection.KFold(n_splits = 5,\n",
        "                       )\n",
        "  \n",
        "# initialize the base classifier\n",
        "base_cls = final_model\n",
        "  \n",
        "# no. of base classifier\n",
        "num_trees = 500\n",
        "for num_trees in [50,100,250,300,400,500]:\n",
        "# bagging classifier\n",
        "  model_3 = BaggingClassifier(base_estimator = base_cls,\n",
        "                            n_estimators = num_trees,\n",
        "                            random_state = seed)\n",
        "  X_train,X_test, y_train, y_test = train_test_split(new_df, target, test_size=0.2, random_state=42)\n",
        "\n",
        "  model_3.fit(X_train,y_train)\n",
        "  print(\"Accuracy score (training): {0:.3f}\".format(\n",
        "        model_3.score(\n",
        "            X_train, \n",
        "            y_train)))\n",
        "  print(\"Accuracy score (validation): {0:.3f}\".format(\n",
        "        model_3.score(\n",
        "            X_test, \n",
        "            y_test)))\n",
        "  # results = model_selection.cross_val_score(model_3, X_train, y_train, cv = kfold)\n",
        "  # print(\"accuracy :\")\n",
        "  # print(\"num_trees :\",num_trees,results.mean())"
      ],
      "metadata": {
        "id": "fug6WxB710tO",
        "colab": {
          "base_uri": "https://localhost:8080/"
        },
        "outputId": "ff2c6bc5-bf73-4d5f-feff-f12870981e42"
      },
      "execution_count": 39,
      "outputs": [
        {
          "output_type": "stream",
          "name": "stdout",
          "text": [
            "Accuracy score (training): 0.706\n",
            "Accuracy score (validation): 0.512\n",
            "Accuracy score (training): 0.712\n",
            "Accuracy score (validation): 0.476\n",
            "Accuracy score (training): 0.712\n",
            "Accuracy score (validation): 0.524\n",
            "Accuracy score (training): 0.713\n",
            "Accuracy score (validation): 0.524\n",
            "Accuracy score (training): 0.712\n",
            "Accuracy score (validation): 0.518\n",
            "Accuracy score (training): 0.718\n",
            "Accuracy score (validation): 0.506\n"
          ]
        }
      ]
    },
    {
      "cell_type": "code",
      "source": [
        "%pip install lgbm\n",
        "import lightgbm as lgbm\n",
        "model_2 =lgbm.LGBMClassifier(boosting_type='gbdt', num_leaves=70,\n",
        "                                learning_rate=0.4, n_estimators=50, max_depth=3,\n",
        "                                bagging_fraction=0.6,\n",
        "                             reg_alpha=0.8\n",
        "                                ,reg_lambda=0.8,class_weight='balanced')\n",
        "                        \n",
        "\n",
        "model_2.fit(X_train,y_train)\n",
        "\n",
        "  # Scoring the model_2\n",
        "print(\"Accuracy score (training): {0:.3f}\".format(\n",
        "        model_2.score(\n",
        "            X_train, \n",
        "            y_train)))\n",
        "print(\"Accuracy score (validation): {0:.3f}\".format(\n",
        "        model_2.score(\n",
        "            X_test, \n",
        "            y_test)))"
      ],
      "metadata": {
        "id": "SKEoAW_VUmT3",
        "colab": {
          "base_uri": "https://localhost:8080/"
        },
        "outputId": "07c4e197-6004-40e4-b671-3d12e261bce8"
      },
      "execution_count": 40,
      "outputs": [
        {
          "output_type": "stream",
          "name": "stdout",
          "text": [
            "\u001b[31mERROR: Could not find a version that satisfies the requirement lgbm (from versions: none)\u001b[0m\n",
            "\u001b[31mERROR: No matching distribution found for lgbm\u001b[0m\n",
            "Accuracy score (training): 0.879\n",
            "Accuracy score (validation): 0.512\n"
          ]
        }
      ]
    },
    {
      "cell_type": "markdown",
      "source": [
        "XGboost"
      ],
      "metadata": {
        "id": "QAKUFWX0bdMp"
      }
    },
    {
      "cell_type": "code",
      "source": [
        "from xgboost import XGBClassifier\n",
        "from numpy import mean\n",
        "from numpy import std\n",
        "model = XGBClassifier()\n",
        "# evaluate the model\n",
        "cv = RepeatedStratifiedKFold(n_splits=10, n_repeats=3, random_state=1)\n",
        "n_scores = cross_val_score(model, X_train, y_train, scoring='accuracy', cv=cv, n_jobs=-1)\n",
        "# report performance\n",
        "print('Accuracy: %.3f (%.3f)' % (mean(n_scores), std(n_scores)))"
      ],
      "metadata": {
        "id": "ME4OkVoIb6qK",
        "colab": {
          "base_uri": "https://localhost:8080/"
        },
        "outputId": "d5b5b64b-2eeb-41c8-9843-bae939ed1557"
      },
      "execution_count": 41,
      "outputs": [
        {
          "output_type": "stream",
          "name": "stdout",
          "text": [
            "Accuracy: 0.590 (0.044)\n"
          ]
        }
      ]
    },
    {
      "cell_type": "code",
      "source": [
        "\n",
        "model =DecisionTreeClassifier(ccp_alpha=0.01, criterion='entropy', max_depth=6,\n",
        "                       max_features='auto', random_state=0)\n",
        "model.fit (X_train,y_train)\n",
        "model.score(X_test,y_test)"
      ],
      "metadata": {
        "id": "oNf1fE2jn2vY",
        "colab": {
          "base_uri": "https://localhost:8080/"
        },
        "outputId": "62a8314c-75c9-4f20-a28a-820b01703d73"
      },
      "execution_count": 42,
      "outputs": [
        {
          "output_type": "execute_result",
          "data": {
            "text/plain": [
              "0.5121951219512195"
            ]
          },
          "metadata": {},
          "execution_count": 42
        }
      ]
    },
    {
      "cell_type": "markdown",
      "source": [
        "Adaboost"
      ],
      "metadata": {
        "id": "TtMah7-X36GY"
      }
    },
    {
      "cell_type": "code",
      "source": [
        "\n",
        "appl_df = df\n",
        "appl_df = appl_df.set_index(\"Date\")\n",
        "appl_df.tail()\n",
        "new_df=appl_df\n",
        "numerical_columns_selector = selector(dtype_exclude=object)\n",
        "categorical_columns_selector = selector(dtype_include=object)\n",
        "\n",
        "numerical_columns = numerical_columns_selector(new_df)\n",
        "categorical_columns = categorical_columns_selector(new_df)\n",
        "\n",
        "# print(categorical_columns)\n",
        "preprocessor = ColumnTransformer([\n",
        "    ('one-hot-encoder', categorical_preprocessor, categorical_columns)])"
      ],
      "metadata": {
        "id": "6RDrNor-6fj6"
      },
      "execution_count": 43,
      "outputs": []
    },
    {
      "cell_type": "code",
      "source": [
        "model =make_pipeline(preprocessor,AdaBoostClassifier())\n",
        "model.fit (X_train,y_train)\n",
        "model.score(X_test,y_test)\n",
        "print(\"Accuracy score (training): {0:.3f}\".format(\n",
        "        model.score(\n",
        "            X_train, \n",
        "            y_train)))\n",
        "print(\"Accuracy score (validation): {0:.3f}\".format(\n",
        "        model.score(\n",
        "            X_test, \n",
        "            y_test)))"
      ],
      "metadata": {
        "id": "gs-pWvvq9fwV",
        "colab": {
          "base_uri": "https://localhost:8080/"
        },
        "outputId": "c5436c78-880a-468d-cd4d-bab188a99b6e"
      },
      "execution_count": 44,
      "outputs": [
        {
          "output_type": "stream",
          "name": "stdout",
          "text": [
            "Accuracy score (training): 0.603\n",
            "Accuracy score (validation): 0.549\n"
          ]
        }
      ]
    },
    {
      "cell_type": "markdown",
      "source": [
        "Hyper parameter tuning on ada boost"
      ],
      "metadata": {
        "id": "44ozSfI27Uie"
      }
    },
    {
      "cell_type": "code",
      "source": [
        "def get_models():\n",
        "\tmodels = dict()\n",
        "\t# explore depths from 1 to 10\n",
        "\tfor i in range(1,30,2):\n",
        "\t\t# define base model\n",
        "\t\tbase = DecisionTreeClassifier(max_depth=i)\n",
        "\t\t# define ensemble model\n",
        "\t\tmodels[str(i)] = AdaBoostClassifier(base_estimator=base)\n",
        "\treturn models\n",
        "# evaluate a given model using cross-validation\n",
        "def evaluate_model(model, X, y):\n",
        "\t# define the evaluation procedure\n",
        "\tcv = RepeatedStratifiedKFold(n_splits=10, n_repeats=3, random_state=1)\n",
        "\t# evaluate the model and collect the results\n",
        "\tscores = cross_val_score(model, X, y, scoring='accuracy', cv=cv, n_jobs=-1)\n",
        "\treturn scores\n",
        " "
      ],
      "metadata": {
        "id": "hX4XrdKL7TwU"
      },
      "execution_count": 45,
      "outputs": []
    },
    {
      "cell_type": "code",
      "source": [
        "import matplotlib.pyplot as plt\n",
        "models = get_models()\n",
        "# evaluate the models and store results\n",
        "results, names = list(), list()\n",
        "for name, model in models.items():\n",
        "\t# evaluate the model\n",
        "\tscores = evaluate_model(model, X_train, y_train)\n",
        "\t# store the results\n",
        "\tresults.append(scores)\n",
        "\tnames.append(name)\n",
        "\t# summarize the performance along the way\n",
        "\tprint('>%s %.3f (%.3f)' % (name, mean(scores), std(scores)))\n",
        "# plot model performance for comparison\n",
        "plt.boxplot(results, labels=names, showmeans=True)\n",
        "plt.show()"
      ],
      "metadata": {
        "id": "NcG2E_dh76FT",
        "colab": {
          "base_uri": "https://localhost:8080/",
          "height": 526
        },
        "outputId": "2811bc01-7eef-4564-c668-083954ab36ed"
      },
      "execution_count": 46,
      "outputs": [
        {
          "output_type": "stream",
          "name": "stdout",
          "text": [
            ">1 0.589 (0.052)\n",
            ">3 0.541 (0.057)\n",
            ">5 0.579 (0.055)\n",
            ">7 0.578 (0.053)\n",
            ">9 0.584 (0.053)\n",
            ">11 0.573 (0.051)\n",
            ">13 0.558 (0.054)\n",
            ">15 0.532 (0.061)\n",
            ">17 0.541 (0.049)\n",
            ">19 0.537 (0.059)\n",
            ">21 0.535 (0.056)\n",
            ">23 0.539 (0.053)\n",
            ">25 0.543 (0.059)\n",
            ">27 0.546 (0.057)\n",
            ">29 0.542 (0.056)\n"
          ]
        },
        {
          "output_type": "display_data",
          "data": {
            "text/plain": [
              "<Figure size 432x288 with 1 Axes>"
            ],
            "image/png": "[encoded data removed]"
          },
          "metadata": {
            "needs_background": "light"
          }
        }
      ]
    },
    {
      "cell_type": "markdown",
      "source": [
        "Adaboost Ensemble with Cart"
      ],
      "metadata": {
        "id": "Up5-Nv_H6aJk"
      }
    },
    {
      "cell_type": "code",
      "source": [
        "from sklearn.datasets import make_classification\n",
        "from sklearn.model_selection import RepeatedStratifiedKFold\n",
        "from sklearn.model_selection import GridSearchCV\n",
        "from sklearn.ensemble import AdaBoostClassifier\n",
        "# define the model with default hyperparameters\n",
        "model = AdaBoostClassifier()\n",
        "# define the grid of values to search\n",
        "grid = dict()\n",
        "grid['n_estimators'] = [10, 50, 100, 500]\n",
        "grid['learning_rate'] = [0.0001, 0.001, 0.01, 0.1, 1.0]\n",
        "# define the evaluation procedure\n",
        "cv = RepeatedStratifiedKFold(n_splits=10, n_repeats=3, random_state=1)\n",
        "# define the grid search procedure\n",
        "grid_search = GridSearchCV(estimator=model, param_grid=grid, n_jobs=-1, cv=cv, scoring='accuracy')\n",
        "# execute the grid search\n",
        "grid_result = grid_search.fit(X_train, y_train)\n",
        "# summarize the best score and configuration\n",
        "print(\"Best: %f using %s\" % (grid_result.best_score_, grid_result.best_params_))\n",
        "# summarize all scores that were evaluated\n",
        "means = grid_result.cv_results_['mean_test_score']\n",
        "stds = grid_result.cv_results_['std_test_score']\n",
        "params = grid_result.cv_results_['params']\n",
        "for mean, stdev, param in zip(means, stds, params):\n",
        "    print(\"%f (%f) with: %r\" % (mean, stdev, param))"
      ],
      "metadata": {
        "id": "iAT1Pt4l8QXe",
        "colab": {
          "base_uri": "https://localhost:8080/"
        },
        "outputId": "f6c1ef40-fdbc-4c70-c344-9b33f64bfade"
      },
      "execution_count": 47,
      "outputs": [
        {
          "output_type": "stream",
          "name": "stdout",
          "text": [
            "Best: 0.597653 using {'learning_rate': 0.1, 'n_estimators': 100}\n",
            "0.533155 (0.054270) with: {'learning_rate': 0.0001, 'n_estimators': 10}\n",
            "0.533155 (0.054270) with: {'learning_rate': 0.0001, 'n_estimators': 50}\n",
            "0.533155 (0.054270) with: {'learning_rate': 0.0001, 'n_estimators': 100}\n",
            "0.532642 (0.053411) with: {'learning_rate': 0.0001, 'n_estimators': 500}\n",
            "0.532642 (0.053411) with: {'learning_rate': 0.001, 'n_estimators': 10}\n",
            "0.532642 (0.053411) with: {'learning_rate': 0.001, 'n_estimators': 50}\n",
            "0.535703 (0.055795) with: {'learning_rate': 0.001, 'n_estimators': 100}\n",
            "0.555649 (0.071796) with: {'learning_rate': 0.001, 'n_estimators': 500}\n",
            "0.536729 (0.054982) with: {'learning_rate': 0.01, 'n_estimators': 10}\n",
            "0.556162 (0.071837) with: {'learning_rate': 0.01, 'n_estimators': 50}\n",
            "0.563838 (0.069755) with: {'learning_rate': 0.01, 'n_estimators': 100}\n",
            "0.597110 (0.043804) with: {'learning_rate': 0.01, 'n_estimators': 500}\n",
            "0.563877 (0.067360) with: {'learning_rate': 0.1, 'n_estimators': 10}\n",
            "0.596068 (0.044064) with: {'learning_rate': 0.1, 'n_estimators': 50}\n",
            "0.597653 (0.048213) with: {'learning_rate': 0.1, 'n_estimators': 100}\n",
            "0.595602 (0.051181) with: {'learning_rate': 0.1, 'n_estimators': 500}\n",
            "0.574662 (0.044730) with: {'learning_rate': 1.0, 'n_estimators': 10}\n",
            "0.589005 (0.051463) with: {'learning_rate': 1.0, 'n_estimators': 50}\n",
            "0.582362 (0.060983) with: {'learning_rate': 1.0, 'n_estimators': 100}\n",
            "0.555773 (0.045966) with: {'learning_rate': 1.0, 'n_estimators': 500}\n"
          ]
        }
      ]
    },
    {
      "cell_type": "code",
      "source": [
        "grid_search.best_params_"
      ],
      "metadata": {
        "id": "On38cxMLIEHJ",
        "colab": {
          "base_uri": "https://localhost:8080/"
        },
        "outputId": "c67918e7-2d0b-405d-a50f-2cf002f4e315"
      },
      "execution_count": 48,
      "outputs": [
        {
          "output_type": "execute_result",
          "data": {
            "text/plain": [
              "{'learning_rate': 0.1, 'n_estimators': 100}"
            ]
          },
          "metadata": {},
          "execution_count": 48
        }
      ]
    },
    {
      "cell_type": "markdown",
      "source": [
        ""
      ],
      "metadata": {
        "id": "YLAKSs7325ad"
      }
    },
    {
      "cell_type": "code",
      "execution_count": null,
      "metadata": {
        "id": "BlL85s56Yetb"
      },
      "outputs": [],
      "source": [
        ""
      ]
    }
  ],
  "metadata": {
    "file_extension": ".py",
    "kernelspec": {
      "display_name": "Python 3",
      "language": "python",
      "name": "python3"
    },
    "language_info": {
      "codemirror_mode": {
        "name": "ipython",
        "version": 3
      },
      "file_extension": ".py",
      "mimetype": "text/x-python",
      "name": "python",
      "nbconvert_exporter": "python",
      "pygments_lexer": "ipython3",
      "version": "3.8.5"
    },
    "mimetype": "text/x-python",
    "name": "python",
    "npconvert_exporter": "python",
    "pygments_lexer": "ipython3",
    "version": 3,
    "colab": {
      "name": "CART_stock_model + Ensemble (adaboost).ipynb",
      "provenance": [],
      "collapsed_sections": [],
      "include_colab_link": true
    }
  },
  "nbformat": 4,
  "nbformat_minor": 0
}