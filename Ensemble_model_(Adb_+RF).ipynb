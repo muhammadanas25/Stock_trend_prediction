{
  "cells": [
    {
      "cell_type": "markdown",
      "metadata": {
        "id": "view-in-github",
        "colab_type": "text"
      },
      "source": [
        "<a href=\"https://colab.research.google.com/github/muhammadanas25/Stock_trend_prediction/blob/main/Ensemble_model_(Adb_%2BRF).ipynb\" target=\"_parent\"><img src=\"https://colab.research.google.com/assets/colab-badge.svg\" alt=\"Open In Colab\"/></a>"
      ]
    },
    {
      "cell_type": "code",
      "execution_count": 18,
      "metadata": {
        "colab": {
          "base_uri": "https://localhost:8080/"
        },
        "id": "a_M9E-L-4wZv",
        "outputId": "d8280405-6209-4c1d-a623-e11b9e5093c6"
      },
      "outputs": [
        {
          "output_type": "stream",
          "name": "stdout",
          "text": [
            "Requirement already satisfied: path in /usr/local/lib/python3.7/dist-packages (16.4.0)\n"
          ]
        }
      ],
      "source": [
        "# Initial imports\n",
        "import pandas as pd\n",
        "!pip install path\n",
        "from path import Path\n",
        "from sklearn.ensemble import RandomForestRegressor\n",
        "from sklearn.ensemble import RandomForestClassifier\n",
        "from sklearn.preprocessing import StandardScaler, MinMaxScaler\n",
        "from sklearn.model_selection import train_test_split\n",
        "from sklearn.metrics import confusion_matrix, accuracy_score, classification_report\n",
        "%matplotlib inline\n",
        "# Initial imports\n",
        "import pandas as pd\n",
        "import numpy as np\n",
        "from path import Path\n",
        "from sklearn.preprocessing import StandardScaler\n",
        "from sklearn.model_selection import train_test_split\n",
        "from sklearn.metrics import confusion_matrix, accuracy_score, classification_report\n",
        "from sklearn.ensemble import GradientBoostingClassifier\n",
        "import plotly.graph_objects as go\n",
        "from plotly.subplots import make_subplots\n",
        "from sklearn.model_selection import RepeatedStratifiedKFold\n",
        "from sklearn.model_selection import GridSearchCV\n",
        "from sklearn.preprocessing import StandardScaler\n",
        "from sklearn.preprocessing import LabelEncoder\n",
        "from sklearn.compose import ColumnTransformer\n",
        "from sklearn import metrics\n",
        "from sklearn.metrics import roc_curve\n",
        "from sklearn.metrics import recall_score, confusion_matrix, precision_score, f1_score, accuracy_score, classification_report\n",
        "from sklearn.preprocessing import OneHotEncoder, StandardScaler\n",
        "from sklearn.pipeline import make_pipeline\n",
        "from sklearn.tree import DecisionTreeClassifier\n",
        "categorical_preprocessor = OneHotEncoder(handle_unknown=\"ignore\")\n",
        "numerical_preprocessor = StandardScaler()\n",
        "\n",
        "from sklearn.compose import make_column_selector as selector\n"
      ]
    },
    {
      "cell_type": "code",
      "execution_count": 19,
      "metadata": {
        "colab": {
          "base_uri": "https://localhost:8080/",
          "height": 250
        },
        "id": "Cb6SEdhP4wZz",
        "outputId": "40132331-4bae-4410-e523-d6b11634f711"
      },
      "outputs": [
        {
          "output_type": "execute_result",
          "data": {
            "text/plain": [
              "           Date        Open        High         Low       Close    Volume  \\\n",
              "749  23/06/2021  265.989990  266.829987  264.429993  265.269989  19518700   \n",
              "750  24/06/2021  266.160004  267.850006  265.470001  266.690002  21446900   \n",
              "751  25/06/2021  266.230011  267.250000  264.760010  265.019989  25611100   \n",
              "752  28/06/2021  266.190002  268.899994  265.910004  268.720001  19590000   \n",
              "753  29/06/2021  268.869995  271.649994  267.980011  271.399994  19937800   \n",
              "\n",
              "         EF_1      EF_2 Oil FutureTrend Gold FutureTrend     Trend  \\\n",
              "749  0.349999 -0.270687        Negative         Positive  Negative   \n",
              "750  0.512605  0.199128        Negative         Negative  Positive   \n",
              "751  0.104410 -0.454502        Positive         Negative  Negative   \n",
              "752  0.939802  0.950448        Negative         Positive  Positive   \n",
              "753  0.931880  0.940975        Negative         Negative  Positive   \n",
              "\n",
              "     Twitter Sentiments FutureTrend  \n",
              "749                   0    Negative  \n",
              "750                   0    Positive  \n",
              "751                   0    Negative  \n",
              "752                   0    Negative  \n",
              "753                   0    Positive  "
            ],
            "text/html": [
              "\n",
              "  <div id=\"df-59b80376-525d-4c7b-af02-c2ae301ec956\">\n",
              "    <div class=\"colab-df-container\">\n",
              "      <div>\n",
              "<style scoped>\n",
              "    .dataframe tbody tr th:only-of-type {\n",
              "        vertical-align: middle;\n",
              "    }\n",
              "\n",
              "    .dataframe tbody tr th {\n",
              "        vertical-align: top;\n",
              "    }\n",
              "\n",
              "    .dataframe thead th {\n",
              "        text-align: right;\n",
              "    }\n",
              "</style>\n",
              "<table border=\"1\" class=\"dataframe\">\n",
              "  <thead>\n",
              "    <tr style=\"text-align: right;\">\n",
              "      <th></th>\n",
              "      <th>Date</th>\n",
              "      <th>Open</th>\n",
              "      <th>High</th>\n",
              "      <th>Low</th>\n",
              "      <th>Close</th>\n",
              "      <th>Volume</th>\n",
              "      <th>EF_1</th>\n",
              "      <th>EF_2</th>\n",
              "      <th>Oil FutureTrend</th>\n",
              "      <th>Gold FutureTrend</th>\n",
              "      <th>Trend</th>\n",
              "      <th>Twitter Sentiments</th>\n",
              "      <th>FutureTrend</th>\n",
              "    </tr>\n",
              "  </thead>\n",
              "  <tbody>\n",
              "    <tr>\n",
              "      <th>749</th>\n",
              "      <td>23/06/2021</td>\n",
              "      <td>265.989990</td>\n",
              "      <td>266.829987</td>\n",
              "      <td>264.429993</td>\n",
              "      <td>265.269989</td>\n",
              "      <td>19518700</td>\n",
              "      <td>0.349999</td>\n",
              "      <td>-0.270687</td>\n",
              "      <td>Negative</td>\n",
              "      <td>Positive</td>\n",
              "      <td>Negative</td>\n",
              "      <td>0</td>\n",
              "      <td>Negative</td>\n",
              "    </tr>\n",
              "    <tr>\n",
              "      <th>750</th>\n",
              "      <td>24/06/2021</td>\n",
              "      <td>266.160004</td>\n",
              "      <td>267.850006</td>\n",
              "      <td>265.470001</td>\n",
              "      <td>266.690002</td>\n",
              "      <td>21446900</td>\n",
              "      <td>0.512605</td>\n",
              "      <td>0.199128</td>\n",
              "      <td>Negative</td>\n",
              "      <td>Negative</td>\n",
              "      <td>Positive</td>\n",
              "      <td>0</td>\n",
              "      <td>Positive</td>\n",
              "    </tr>\n",
              "    <tr>\n",
              "      <th>751</th>\n",
              "      <td>25/06/2021</td>\n",
              "      <td>266.230011</td>\n",
              "      <td>267.250000</td>\n",
              "      <td>264.760010</td>\n",
              "      <td>265.019989</td>\n",
              "      <td>25611100</td>\n",
              "      <td>0.104410</td>\n",
              "      <td>-0.454502</td>\n",
              "      <td>Positive</td>\n",
              "      <td>Negative</td>\n",
              "      <td>Negative</td>\n",
              "      <td>0</td>\n",
              "      <td>Negative</td>\n",
              "    </tr>\n",
              "    <tr>\n",
              "      <th>752</th>\n",
              "      <td>28/06/2021</td>\n",
              "      <td>266.190002</td>\n",
              "      <td>268.899994</td>\n",
              "      <td>265.910004</td>\n",
              "      <td>268.720001</td>\n",
              "      <td>19590000</td>\n",
              "      <td>0.939802</td>\n",
              "      <td>0.950448</td>\n",
              "      <td>Negative</td>\n",
              "      <td>Positive</td>\n",
              "      <td>Positive</td>\n",
              "      <td>0</td>\n",
              "      <td>Negative</td>\n",
              "    </tr>\n",
              "    <tr>\n",
              "      <th>753</th>\n",
              "      <td>29/06/2021</td>\n",
              "      <td>268.869995</td>\n",
              "      <td>271.649994</td>\n",
              "      <td>267.980011</td>\n",
              "      <td>271.399994</td>\n",
              "      <td>19937800</td>\n",
              "      <td>0.931880</td>\n",
              "      <td>0.940975</td>\n",
              "      <td>Negative</td>\n",
              "      <td>Negative</td>\n",
              "      <td>Positive</td>\n",
              "      <td>0</td>\n",
              "      <td>Positive</td>\n",
              "    </tr>\n",
              "  </tbody>\n",
              "</table>\n",
              "</div>\n",
              "      <button class=\"colab-df-convert\" onclick=\"convertToInteractive('df-59b80376-525d-4c7b-af02-c2ae301ec956')\"\n",
              "              title=\"Convert this dataframe to an interactive table.\"\n",
              "              style=\"display:none;\">\n",
              "        \n",
              "  <svg xmlns=\"http://www.w3.org/2000/svg\" height=\"24px\"viewBox=\"0 0 24 24\"\n",
              "       width=\"24px\">\n",
              "    <path d=\"M0 0h24v24H0V0z\" fill=\"none\"/>\n",
              "    <path d=\"M18.56 5.44l.94 2.06.94-2.06 2.06-.94-2.06-.94-.94-2.06-.94 2.06-2.06.94zm-11 1L8.5 8.5l.94-2.06 2.06-.94-2.06-.94L8.5 2.5l-.94 2.06-2.06.94zm10 10l.94 2.06.94-2.06 2.06-.94-2.06-.94-.94-2.06-.94 2.06-2.06.94z\"/><path d=\"M17.41 7.96l-1.37-1.37c-.4-.4-.92-.59-1.43-.59-.52 0-1.04.2-1.43.59L10.3 9.45l-7.72 7.72c-.78.78-.78 2.05 0 2.83L4 21.41c.39.39.9.59 1.41.59.51 0 1.02-.2 1.41-.59l7.78-7.78 2.81-2.81c.8-.78.8-2.07 0-2.86zM5.41 20L4 18.59l7.72-7.72 1.47 1.35L5.41 20z\"/>\n",
              "  </svg>\n",
              "      </button>\n",
              "      \n",
              "  <style>\n",
              "    .colab-df-container {\n",
              "      display:flex;\n",
              "      flex-wrap:wrap;\n",
              "      gap: 12px;\n",
              "    }\n",
              "\n",
              "    .colab-df-convert {\n",
              "      background-color: #E8F0FE;\n",
              "      border: none;\n",
              "      border-radius: 50%;\n",
              "      cursor: pointer;\n",
              "      display: none;\n",
              "      fill: #1967D2;\n",
              "      height: 32px;\n",
              "      padding: 0 0 0 0;\n",
              "      width: 32px;\n",
              "    }\n",
              "\n",
              "    .colab-df-convert:hover {\n",
              "      background-color: #E2EBFA;\n",
              "      box-shadow: 0px 1px 2px rgba(60, 64, 67, 0.3), 0px 1px 3px 1px rgba(60, 64, 67, 0.15);\n",
              "      fill: #174EA6;\n",
              "    }\n",
              "\n",
              "    [theme=dark] .colab-df-convert {\n",
              "      background-color: #3B4455;\n",
              "      fill: #D2E3FC;\n",
              "    }\n",
              "\n",
              "    [theme=dark] .colab-df-convert:hover {\n",
              "      background-color: #434B5C;\n",
              "      box-shadow: 0px 1px 3px 1px rgba(0, 0, 0, 0.15);\n",
              "      filter: drop-shadow(0px 1px 2px rgba(0, 0, 0, 0.3));\n",
              "      fill: #FFFFFF;\n",
              "    }\n",
              "  </style>\n",
              "\n",
              "      <script>\n",
              "        const buttonEl =\n",
              "          document.querySelector('#df-59b80376-525d-4c7b-af02-c2ae301ec956 button.colab-df-convert');\n",
              "        buttonEl.style.display =\n",
              "          google.colab.kernel.accessAllowed ? 'block' : 'none';\n",
              "\n",
              "        async function convertToInteractive(key) {\n",
              "          const element = document.querySelector('#df-59b80376-525d-4c7b-af02-c2ae301ec956');\n",
              "          const dataTable =\n",
              "            await google.colab.kernel.invokeFunction('convertToInteractive',\n",
              "                                                     [key], {});\n",
              "          if (!dataTable) return;\n",
              "\n",
              "          const docLinkHtml = 'Like what you see? Visit the ' +\n",
              "            '<a target=\"_blank\" href=https://colab.research.google.com/notebooks/data_table.ipynb>data table notebook</a>'\n",
              "            + ' to learn more about interactive tables.';\n",
              "          element.innerHTML = '';\n",
              "          dataTable['output_type'] = 'display_data';\n",
              "          await google.colab.output.renderOutput(dataTable, element);\n",
              "          const docLink = document.createElement('div');\n",
              "          docLink.innerHTML = docLinkHtml;\n",
              "          element.appendChild(docLink);\n",
              "        }\n",
              "      </script>\n",
              "    </div>\n",
              "  </div>\n",
              "  "
            ]
          },
          "metadata": {},
          "execution_count": 19
        }
      ],
      "source": [
        "# Loading data\n",
        "file_path = Path(\"MSFT.csv\")\n",
        "\n",
        "df = pd.read_csv(file_path)\n",
        "df.dropna(inplace=True)\n",
        "df=df[df.FutureTrend !='Neutral']\n",
        "df.tail()"
      ]
    },
    {
      "cell_type": "code",
      "source": [
        "\n",
        "\n",
        "import matplotlib.pyplot as plt\n",
        "mpgs = df['EF_1']\n",
        "plt.hist(mpgs, bins=5)\n",
        "ef1_cut=plt.hist(mpgs, bins=5)[1]\n",
        "plt.show()\n",
        "import matplotlib.pyplot as plt\n",
        "mpgs = df['Twitter Sentiments']\n",
        "plt.hist(mpgs, bins=5)\n",
        "plt.show()\n",
        "twitter_cut=plt.hist(mpgs, bins=3)[1]\n",
        "print(plt.hist(mpgs, bins=3)[1]\n",
        ")\n",
        "\n",
        "\n"
      ],
      "metadata": {
        "colab": {
          "base_uri": "https://localhost:8080/",
          "height": 778
        },
        "id": "uXb1KDArcxNN",
        "outputId": "c36eef0d-6ceb-41e0-bc1d-108fe7de4f11"
      },
      "execution_count": 20,
      "outputs": [
        {
          "output_type": "display_data",
          "data": {
            "text/plain": [
              "<Figure size 432x288 with 1 Axes>"
            ],
            "image/png": "[encoded data removed]"
          },
          "metadata": {
            "needs_background": "light"
          }
        },
        {
          "output_type": "display_data",
          "data": {
            "text/plain": [
              "<Figure size 432x288 with 1 Axes>"
            ],
            "image/png": "[encoded data removed]"
          },
          "metadata": {
            "needs_background": "light"
          }
        },
        {
          "output_type": "stream",
          "name": "stdout",
          "text": [
            "[  0. 104. 208. 312.]\n"
          ]
        },
        {
          "output_type": "display_data",
          "data": {
            "text/plain": [
              "<Figure size 432x288 with 1 Axes>"
            ],
            "image/png": "[encoded data removed]"
          },
          "metadata": {
            "needs_background": "light"
          }
        }
      ]
    },
    {
      "cell_type": "code",
      "source": [
        "\n",
        "\n",
        "import matplotlib.pyplot as plt\n",
        "mpgs = df['Twitter Sentiments']\n",
        "plt.hist(mpgs, bins=5)\n",
        "plt.show()\n",
        "twitter_cut=plt.hist(mpgs, bins=3)[1]\n",
        "print(plt.hist(mpgs, bins=3)[1]\n",
        ")\n",
        "\n"
      ],
      "metadata": {
        "colab": {
          "base_uri": "https://localhost:8080/",
          "height": 530
        },
        "id": "GMTzFCtGde7X",
        "outputId": "c21a6129-c131-4b61-f1a3-dde573f842cd"
      },
      "execution_count": 21,
      "outputs": [
        {
          "output_type": "display_data",
          "data": {
            "text/plain": [
              "<Figure size 432x288 with 1 Axes>"
            ],
            "image/png": "[encoded data removed]"
          },
          "metadata": {
            "needs_background": "light"
          }
        },
        {
          "output_type": "stream",
          "name": "stdout",
          "text": [
            "[  0. 104. 208. 312.]\n"
          ]
        },
        {
          "output_type": "display_data",
          "data": {
            "text/plain": [
              "<Figure size 432x288 with 1 Axes>"
            ],
            "image/png": "[encoded data removed]"
          },
          "metadata": {
            "needs_background": "light"
          }
        }
      ]
    },
    {
      "cell_type": "code",
      "source": [
        "\n",
        "\n",
        "import matplotlib.pyplot as plt\n",
        "mpgs = df['Volume']\n",
        "plt.hist(mpgs, bins=50)\n",
        "plt.show()\n",
        "twitter_cut=plt.hist(mpgs, bins=3)[1]\n",
        "print(plt.hist(mpgs, bins=3)[1]\n",
        ")\n",
        "\n"
      ],
      "metadata": {
        "colab": {
          "base_uri": "https://localhost:8080/",
          "height": 556
        },
        "id": "HQGCHNUewpSj",
        "outputId": "dda1a250-6530-4af4-a39f-097e5c0f8c76"
      },
      "execution_count": 22,
      "outputs": [
        {
          "output_type": "display_data",
          "data": {
            "text/plain": [
              "<Figure size 432x288 with 1 Axes>"
            ],
            "image/png": "[encoded data removed]"
          },
          "metadata": {
            "needs_background": "light"
          }
        },
        {
          "output_type": "stream",
          "name": "stdout",
          "text": [
            "[8.989200e+06 4.307350e+07 7.715780e+07 1.112421e+08]\n"
          ]
        },
        {
          "output_type": "display_data",
          "data": {
            "text/plain": [
              "<Figure size 432x288 with 1 Axes>"
            ],
            "image/png": "[encoded data removed]"
          },
          "metadata": {
            "needs_background": "light"
          }
        }
      ]
    },
    {
      "cell_type": "code",
      "source": [
        "\n",
        "\n",
        "import matplotlib.pyplot as plt\n",
        "mpgs = np.log(df['Volume'])\n",
        "plt.hist(mpgs, bins=50)\n",
        "plt.show()\n",
        "twitter_cut=plt.hist(mpgs, bins=3)[1]\n",
        "print(plt.hist(mpgs, bins=3)[1]\n",
        ")\n",
        "\n"
      ],
      "metadata": {
        "colab": {
          "base_uri": "https://localhost:8080/",
          "height": 530
        },
        "id": "UOXWLxUB0RFB",
        "outputId": "20492197-1b07-4994-b565-9570047710b1"
      },
      "execution_count": 23,
      "outputs": [
        {
          "output_type": "display_data",
          "data": {
            "text/plain": [
              "<Figure size 432x288 with 1 Axes>"
            ],
            "image/png": "[encoded data removed]"
          },
          "metadata": {
            "needs_background": "light"
          }
        },
        {
          "output_type": "stream",
          "name": "stdout",
          "text": [
            "[16.01153441 16.8500961  17.68865778 18.52721947]\n"
          ]
        },
        {
          "output_type": "display_data",
          "data": {
            "text/plain": [
              "<Figure size 432x288 with 1 Axes>"
            ],
            "image/png": "[encoded data removed]"
          },
          "metadata": {
            "needs_background": "light"
          }
        }
      ]
    },
    {
      "cell_type": "code",
      "source": [
        "import seaborn as sns\n",
        "sns.displot(df, x=\"Twitter Sentiments\", hue=\"FutureTrend\",element=\"step\")"
      ],
      "metadata": {
        "colab": {
          "base_uri": "https://localhost:8080/",
          "height": 386
        },
        "id": "t4mr6Tu9gJR_",
        "outputId": "5bd4352c-6176-433d-c74f-8e47dd6de4dd"
      },
      "execution_count": 24,
      "outputs": [
        {
          "output_type": "execute_result",
          "data": {
            "text/plain": [
              "<seaborn.axisgrid.FacetGrid at 0x7f33f68f6350>"
            ]
          },
          "metadata": {},
          "execution_count": 24
        },
        {
          "output_type": "display_data",
          "data": {
            "text/plain": [
              "<Figure size 440.875x360 with 1 Axes>"
            ],
            "image/png": "[encoded data removed]"
          },
          "metadata": {
            "needs_background": "light"
          }
        }
      ]
    },
    {
      "cell_type": "code",
      "source": [
        "import seaborn as sns\n",
        "sns.displot(df, x=\"Volume\", hue=\"FutureTrend\",element=\"step\",)"
      ],
      "metadata": {
        "colab": {
          "base_uri": "https://localhost:8080/",
          "height": 386
        },
        "id": "l4q2-mBAvoy9",
        "outputId": "8c0a1a3c-5a5c-4e4a-cbca-d3e17708354c"
      },
      "execution_count": 25,
      "outputs": [
        {
          "output_type": "execute_result",
          "data": {
            "text/plain": [
              "<seaborn.axisgrid.FacetGrid at 0x7f33f68f6550>"
            ]
          },
          "metadata": {},
          "execution_count": 25
        },
        {
          "output_type": "display_data",
          "data": {
            "text/plain": [
              "<Figure size 440.875x360 with 1 Axes>"
            ],
            "image/png": "[encoded data removed]"
          },
          "metadata": {
            "needs_background": "light"
          }
        }
      ]
    },
    {
      "cell_type": "code",
      "source": [
        "plt.hist(mpgs, bins=3)[1]"
      ],
      "metadata": {
        "colab": {
          "base_uri": "https://localhost:8080/",
          "height": 282
        },
        "id": "Wrkjo4E_eeBr",
        "outputId": "2bc77dd4-8cba-4901-b6d6-04564a5d8857"
      },
      "execution_count": 26,
      "outputs": [
        {
          "output_type": "execute_result",
          "data": {
            "text/plain": [
              "array([16.01153441, 16.8500961 , 17.68865778, 18.52721947])"
            ]
          },
          "metadata": {},
          "execution_count": 26
        },
        {
          "output_type": "display_data",
          "data": {
            "text/plain": [
              "<Figure size 432x288 with 1 Axes>"
            ],
            "image/png": "[encoded data removed]"
          },
          "metadata": {
            "needs_background": "light"
          }
        }
      ]
    },
    {
      "cell_type": "code",
      "source": [
        "def make_bins(df):\n",
        "   label_names = [\"Ef_1_v_low\",\"Ef_1_low\",\"Ef_1_v_med\",\"Ef1_high\", \"Ef1_very_high\" ]\n",
        "   cut_points =ef1_cut\n",
        "   df[\"EF_1_val\"] = pd.cut(df[\"EF_1\"], cut_points, labels=label_names)\n",
        "   dummies = pd.get_dummies(df[\"EF_1_val\"],drop_first=True)\n",
        "   df = pd.concat([df, dummies], axis=1)\n",
        "   label_names = [\"setinent_neutral\",\"sentiment_good\",\"sentiment_bad\"]\n",
        "   cut_points =twitter_cut\n",
        "   df[\"sentiments\"]=pd.cut(df['Twitter Sentiments'], cut_points, labels=label_names)\n",
        "   dummies1 = pd.get_dummies(df[\"sentiments\"],drop_first=True)\n",
        "   df = pd.concat([df, dummies1], axis=1)\n",
        "   df.drop([\"EF_1_val\",\"sentiments\"],axis=1,inplace=True)\n",
        "   return df\n",
        "def calculate_ema(prices, days, smoothing=2):\n",
        "      ema = [sum(prices[:days]) / days]\n",
        "      for price in prices[days:]:\n",
        "          ema.append((price * (smoothing / (1 + days))) + ema[-1] * (1 - (smoothing / (1 + days))))\n",
        "      return ema"
      ],
      "metadata": {
        "id": "EUeTBCgOfVTB"
      },
      "execution_count": 27,
      "outputs": []
    },
    {
      "cell_type": "code",
      "source": [
        "target=df['FutureTrend']\n",
        "df=df.drop(\"FutureTrend\",axis =1)\n",
        "target= target.replace(['Negative','Positive',  'Neutral'],[0,1,2])\n",
        "df= df.replace(['Negative','Positive',  'Neutral'],[0,1,2])\n",
        "\n",
        "appl_df =df.set_index('Date',inplace=True)\n",
        "appl_df = make_bins(df)\n",
        "appl_df.head(2)\n",
        "appl_df=appl_df.drop([\"Twitter Sentiments\"],axis =1)\n",
        "appl_df['diff']=appl_df['Close']-appl_df['Open']\n",
        "appl_df['10day']=appl_df['Close'].rolling(10).mean()\n",
        "appl_df['10day'].fillna(appl_df['10day'][9],inplace=True)\n",
        "appl_df['Volume']=np.log(appl_df['Volume'])\n",
        "ema = calculate_ema(appl_df['Close'], 10)\n",
        "appl_df=appl_df[9:]\n",
        "target=target[9:]\n",
        "appl_df['ema']=ema\n",
        "appl_df['signal']=appl_df['ema']>appl_df['Close']\n",
        "\n",
        "del (appl_df['Open'])\n",
        "del (appl_df['Close'])\n",
        "del (appl_df['High'])\n",
        "del (appl_df['EF_2'])\n",
        "\n",
        "from imblearn.over_sampling import SMOTE\n",
        "# pd.DataFrame(oe_df)\n",
        "oversample = SMOTE()\n",
        "appl_df, target = oversample.fit_resample(appl_df, target)\n"
      ],
      "metadata": {
        "id": "xjiuGyRb5h-U"
      },
      "execution_count": 28,
      "outputs": []
    },
    {
      "cell_type": "code",
      "source": [
        ""
      ],
      "metadata": {
        "id": "4ubsHCNBnWZ0"
      },
      "execution_count": 28,
      "outputs": []
    },
    {
      "cell_type": "code",
      "source": [
        "from sklearn.ensemble import AdaBoostClassifier\n",
        "new_df=appl_df\n",
        "print(new_df.head(2))\n",
        "\n",
        "numerical_columns_selector = selector(dtype_exclude=object)\n",
        "categorical_columns_selector = selector(dtype_include=object)\n",
        "numerical_columns = numerical_columns_selector(new_df)\n",
        "categorical_columns = categorical_columns_selector(new_df)\n",
        "print(categorical_columns)\n",
        "preprocessor = ColumnTransformer([\n",
        "  ('one-hot-encoder', categorical_preprocessor, categorical_columns),\n",
        "   ('standard-scaler', numerical_preprocessor, numerical_columns)\n",
        "    ])\n",
        "new_df=preprocessor.fit_transform(new_df)\n",
        "X_train,X_test, y_train, y_test = train_test_split(new_df, target, test_size=0.2,random_state=42)\n",
        "\n",
        "                        "
      ],
      "metadata": {
        "colab": {
          "base_uri": "https://localhost:8080/"
        },
        "id": "0w7yrOcvP1jd",
        "outputId": "92b9aea1-0c0c-4102-e39b-9b5aef839810"
      },
      "execution_count": 29,
      "outputs": [
        {
          "output_type": "stream",
          "name": "stdout",
          "text": [
            "          Low     Volume      EF_1  Oil FutureTrend  Gold FutureTrend  Trend  \\\n",
            "0  104.519997  16.896819  0.300005                0                 1      0   \n",
            "1  104.320000  17.069819  0.747705                0                 0      1   \n",
            "\n",
            "   Ef_1_low  Ef_1_v_med  Ef1_high  Ef1_very_high  sentiment_good  \\\n",
            "0         1           0         0              0               0   \n",
            "1         0           0         1              0               0   \n",
            "\n",
            "   sentiment_bad      diff       10day         ema  signal  \n",
            "0              0 -0.489998  102.046002  102.046002   False  \n",
            "1              0  1.339996  102.640002  102.755819   False  \n",
            "[]\n"
          ]
        }
      ]
    },
    {
      "cell_type": "code",
      "source": [
        "\n",
        "clf = RandomForestClassifier(max_depth=3, random_state=5, warm_start=True, n_jobs=-1 )\n",
        "ada = AdaBoostClassifier(base_estimator=clf, algorithm=\"SAMME.R\", n_estimators=50, learning_rate = 0.3)\n",
        "ada.fit(X_train,y_train)"
      ],
      "metadata": {
        "colab": {
          "base_uri": "https://localhost:8080/"
        },
        "id": "PmTi-NVl_SqG",
        "outputId": "72c8da1f-e850-48c0-85d2-10685955d130"
      },
      "execution_count": 30,
      "outputs": [
        {
          "output_type": "execute_result",
          "data": {
            "text/plain": [
              "AdaBoostClassifier(base_estimator=RandomForestClassifier(max_depth=3, n_jobs=-1,\n",
              "                                                         random_state=5,\n",
              "                                                         warm_start=True),\n",
              "                   learning_rate=0.3)"
            ]
          },
          "metadata": {},
          "execution_count": 30
        }
      ]
    },
    {
      "cell_type": "code",
      "source": [
        "print(\"Accuracy score (training): {0:.3f}\".format(\n",
        "        ada.score(\n",
        "            X_train, \n",
        "            y_train)))\n",
        "print(\"Accuracy score (validation): {0:.3f}\".format(\n",
        "        ada.score(\n",
        "            X_test, \n",
        "            y_test)))"
      ],
      "metadata": {
        "id": "fK5TUF-n_qhc"
      },
      "execution_count": null,
      "outputs": []
    },
    {
      "cell_type": "code",
      "source": [
        "parameters = {\n",
        "    'n_estimators': [2, 3, 4, 5, 6, 7, 8, 9, 10, 11, 12, 20],\n",
        "    'learning_rate': [(0.97 + x / 100) for x in range(0, 8)],\n",
        "    'algorithm': ['SAMME', 'SAMME.R']\n",
        "}\n",
        "clf = GridSearchCV(ab_clf, parameters, cv=5, verbose=VERBOSE, n_jobs=N_JOBS)\n",
        "clf.fit(X_train, y_train)\n",
        "plot_grid_search(clf)\n",
        "table_grid_search(clf)"
      ],
      "metadata": {
        "id": "8-vreSFdSloX"
      },
      "execution_count": null,
      "outputs": []
    },
    {
      "cell_type": "markdown",
      "source": [
        "Hyper Parameter tuning "
      ],
      "metadata": {
        "id": "H8Vpc6wWZRcF"
      }
    },
    {
      "cell_type": "code",
      "source": [
        "from sklearn import model_selection\n",
        "from sklearn.ensemble import BaggingClassifier\n",
        "from sklearn.tree import DecisionTreeClassifier\n",
        "import pandas as pd\n",
        "\n",
        "  \n",
        "seed = 8\n",
        "kfold = model_selection.KFold(n_splits = 5,\n",
        "                       )\n",
        "  \n",
        "\n",
        "# no. of base classifier\n",
        "num_trees = 500\n",
        "for num_trees in [5,10,15]:\n",
        "# bagging classifier\n",
        "  model_3 = BaggingClassifier(base_estimator = ada,\n",
        "                            n_estimators = num_trees,\n",
        "                            random_state = seed)\n",
        "  X_train,X_test, y_train, y_test = train_test_split(new_df, target, test_size=0.2, random_state=42)\n",
        "\n",
        "  model_3.fit(X_train,y_train)\n",
        "  print(\"Accuracy score (training): {0:.3f}\".format(\n",
        "        model_3.score(\n",
        "            X_train, \n",
        "            y_train)))\n",
        "  print(\"Accuracy score (validation): {0:.3f}\".format(\n",
        "        model_3.score(\n",
        "            X_test, \n",
        "            y_test)))\n",
        "  # results = model_selection.cross_val_score(model_3, X_train, y_train, cv = kfold)\n",
        "  # print(\"accuracy :\")\n",
        "  # print(\"num_trees :\",num_trees,results.mean())"
      ],
      "metadata": {
        "id": "ShYZr_MdQJ5P"
      },
      "execution_count": null,
      "outputs": []
    },
    {
      "cell_type": "markdown",
      "source": [
        "Hyper parameter tuning on Bagging + Ensemble classifier (took too much time)"
      ],
      "metadata": {
        "id": "iam2PPQdn9YX"
      }
    },
    {
      "cell_type": "code",
      "source": [
        "# param_grid = {\n",
        "#     'base_estimator__max_depth' : [1, 2, 3, 4, 5],\n",
        "#     'max_samples' : [0.05, 0.1, 0.2, 0.5],\n",
        "#     'n_estimators' : [5,10,20,40,60],\n",
        "#     'bootstrap' :[True,False]\n",
        "\n",
        "# }\n",
        "\n",
        "\n",
        "# #Fitting Bagging Classifier model with  hyper parameters\n",
        "# # bagg = BaggingClassifier(bootstrap=True,n_estimators=200)\n",
        "# # gridbag = GridSearchCV(bagg, param_grid=param_grid, cv = 3, verbose = 1)\n",
        "# # bestbag = gridbag.fit(X_train, y_train)\n",
        "\n",
        "# gridbag = GridSearchCV(BaggingClassifier(DecisionTreeClassifier(),\n",
        "#                                      n_estimators = 250, max_features = 0.5),\n",
        "#                    param_grid)\n",
        "# gridbag.fit(X_train, y_train)\n",
        "# print(\"Accuracy score (training): {0:.3f}\".format(\n",
        "#         gridbag.score(\n",
        "#             X_train, \n",
        "#             y_train)))\n",
        "# print(\"Accuracy score (validation): {0:.3f}\".format(\n",
        "#         gridbag.score(\n",
        "#             X_test, \n",
        "#             y_test)))\n"
      ],
      "metadata": {
        "id": "1SaFMpnah9QB"
      },
      "execution_count": null,
      "outputs": []
    },
    {
      "cell_type": "code",
      "source": [
        "# #Printing the best hyperparameters\n",
        "# print('The best hyper parameters are:\\n',gridbag.best_params_)\n",
        "\n",
        "\n",
        "\n",
        "# #Checking different metrics for bagging model after tuning the hyperparameters\n",
        "# print('Checking with the best hyper parameter on bagging model after tuning the hyperparameters:\\n')\n",
        "\n",
        "# bestbag=BaggingClassifier(bootstrap= False, max_samples=0.5, n_estimators= 40,max_features=0.6\n",
        "#                           ,random_state=45\n",
        "#                           )\n",
        "# bestbag.fit(X_train,y_train)\n",
        "# print(\"Accuracy score (training): {0:.3f}\".format(\n",
        "#         bestbag.score(\n",
        "#             X_train, \n",
        "#             y_train)))\n",
        "# print(\"Accuracy score (validation): {0:.3f}\".format(\n",
        "#         bestbag.score(\n",
        "#             X_test, \n",
        "#             y_test)))\n"
      ],
      "metadata": {
        "id": "dSfng028q_-d"
      },
      "execution_count": null,
      "outputs": []
    },
    {
      "cell_type": "code",
      "source": [
        ""
      ],
      "metadata": {
        "id": "6_bVrp20ql7U"
      },
      "execution_count": null,
      "outputs": []
    }
  ],
  "metadata": {
    "file_extension": ".py",
    "kernelspec": {
      "display_name": "Python 3",
      "language": "python",
      "name": "python3"
    },
    "language_info": {
      "codemirror_mode": {
        "name": "ipython",
        "version": 3
      },
      "file_extension": ".py",
      "mimetype": "text/x-python",
      "name": "python",
      "nbconvert_exporter": "python",
      "pygments_lexer": "ipython3",
      "version": "3.8.5"
    },
    "mimetype": "text/x-python",
    "name": "python",
    "npconvert_exporter": "python",
    "pygments_lexer": "ipython3",
    "version": 3,
    "colab": {
      "name": "Ensemble_model_(Adb +RF).ipynb",
      "provenance": [],
      "collapsed_sections": [],
      "include_colab_link": true
    }
  },
  "nbformat": 4,
  "nbformat_minor": 0
}