{
  "cells": [
    {
      "cell_type": "markdown",
      "metadata": {
        "id": "view-in-github",
        "colab_type": "text"
      },
      "source": [
        "<a href=\"https://colab.research.google.com/github/muhammadanas25/Stock_trend_prediction/blob/main/Ensemble_model_(Adb_%2BRF).ipynb\" target=\"_parent\"><img src=\"https://colab.research.google.com/assets/colab-badge.svg\" alt=\"Open In Colab\"/></a>"
      ]
    },
    {
      "cell_type": "code",
      "execution_count": null,
      "metadata": {
        "colab": {
          "base_uri": "https://localhost:8080/"
        },
        "id": "a_M9E-L-4wZv",
        "outputId": "0f87acd9-5082-4e44-952e-86532f1ea8d4"
      },
      "outputs": [
        {
          "output_type": "stream",
          "name": "stdout",
          "text": [
            "Requirement already satisfied: path in /usr/local/lib/python3.7/dist-packages (16.4.0)\n"
          ]
        }
      ],
      "source": [
        "# Initial imports\n",
        "import pandas as pd\n",
        "!pip install path\n",
        "from path import Path\n",
        "from sklearn.ensemble import RandomForestRegressor\n",
        "from sklearn.ensemble import RandomForestClassifier\n",
        "from sklearn.preprocessing import StandardScaler, MinMaxScaler\n",
        "from sklearn.model_selection import train_test_split\n",
        "from sklearn.metrics import confusion_matrix, accuracy_score, classification_report\n",
        "%matplotlib inline\n",
        "# Initial imports\n",
        "import pandas as pd\n",
        "import numpy as np\n",
        "from path import Path\n",
        "from sklearn.preprocessing import StandardScaler\n",
        "from sklearn.model_selection import train_test_split\n",
        "from sklearn.metrics import confusion_matrix, accuracy_score, classification_report\n",
        "from sklearn.ensemble import GradientBoostingClassifier\n",
        "import plotly.graph_objects as go\n",
        "from plotly.subplots import make_subplots\n",
        "from sklearn.model_selection import RepeatedStratifiedKFold\n",
        "from sklearn.model_selection import GridSearchCV\n",
        "from sklearn.preprocessing import StandardScaler\n",
        "from sklearn.preprocessing import LabelEncoder\n",
        "from sklearn.compose import ColumnTransformer\n",
        "from sklearn import metrics\n",
        "from sklearn.metrics import roc_curve\n",
        "from sklearn.metrics import recall_score, confusion_matrix, precision_score, f1_score, accuracy_score, classification_report\n",
        "from sklearn.preprocessing import OneHotEncoder, StandardScaler\n",
        "from sklearn.pipeline import make_pipeline\n",
        "from sklearn.tree import DecisionTreeClassifier\n",
        "categorical_preprocessor = OneHotEncoder(handle_unknown=\"ignore\")\n",
        "numerical_preprocessor = StandardScaler()\n",
        "\n",
        "from sklearn.compose import make_column_selector as selector\n"
      ]
    },
    {
      "cell_type": "code",
      "execution_count": null,
      "metadata": {
        "colab": {
          "base_uri": "https://localhost:8080/",
          "height": 288
        },
        "id": "Cb6SEdhP4wZz",
        "outputId": "bdc96bf4-64bd-49c2-ba9c-575998acadce"
      },
      "outputs": [
        {
          "output_type": "execute_result",
          "data": {
            "text/plain": [
              "           Date   Open   High    Low  Close  Volume      EF_1      EF_2  \\\n",
              "736  23/06/2021  0.440  0.455  0.440  0.440  165500  0.000000  0.000000   \n",
              "737  24/06/2021  0.440  0.490  0.440  0.455  502500  0.300000  3.409094   \n",
              "738  25/06/2021  0.460  0.465  0.450  0.450  207400  0.000000 -2.173917   \n",
              "739  28/06/2021  0.465  0.470  0.450  0.450  224400  0.000000 -3.225810   \n",
              "740  29/06/2021  0.455  0.470  0.455  0.465   79200  0.666667  2.197800   \n",
              "\n",
              "    Oil FutureTrend Gold FutureTrend     Trend  Twitter Sentiments FutureTrend  \n",
              "736        Negative         Positive   Neutral                   0    Negative  \n",
              "737        Negative         Negative  Positive                   0    Positive  \n",
              "738        Positive         Negative  Negative                   0     Neutral  \n",
              "739        Negative         Positive  Negative                   0    Negative  \n",
              "740        Negative         Negative  Positive                   0    Negative  "
            ],
            "text/html": [
              "\n",
              "  <div id=\"df-d315c496-2d1c-4ca9-a235-f137117b6d4c\">\n",
              "    <div class=\"colab-df-container\">\n",
              "      <div>\n",
              "<style scoped>\n",
              "    .dataframe tbody tr th:only-of-type {\n",
              "        vertical-align: middle;\n",
              "    }\n",
              "\n",
              "    .dataframe tbody tr th {\n",
              "        vertical-align: top;\n",
              "    }\n",
              "\n",
              "    .dataframe thead th {\n",
              "        text-align: right;\n",
              "    }\n",
              "</style>\n",
              "<table border=\"1\" class=\"dataframe\">\n",
              "  <thead>\n",
              "    <tr style=\"text-align: right;\">\n",
              "      <th></th>\n",
              "      <th>Date</th>\n",
              "      <th>Open</th>\n",
              "      <th>High</th>\n",
              "      <th>Low</th>\n",
              "      <th>Close</th>\n",
              "      <th>Volume</th>\n",
              "      <th>EF_1</th>\n",
              "      <th>EF_2</th>\n",
              "      <th>Oil FutureTrend</th>\n",
              "      <th>Gold FutureTrend</th>\n",
              "      <th>Trend</th>\n",
              "      <th>Twitter Sentiments</th>\n",
              "      <th>FutureTrend</th>\n",
              "    </tr>\n",
              "  </thead>\n",
              "  <tbody>\n",
              "    <tr>\n",
              "      <th>736</th>\n",
              "      <td>23/06/2021</td>\n",
              "      <td>0.440</td>\n",
              "      <td>0.455</td>\n",
              "      <td>0.440</td>\n",
              "      <td>0.440</td>\n",
              "      <td>165500</td>\n",
              "      <td>0.000000</td>\n",
              "      <td>0.000000</td>\n",
              "      <td>Negative</td>\n",
              "      <td>Positive</td>\n",
              "      <td>Neutral</td>\n",
              "      <td>0</td>\n",
              "      <td>Negative</td>\n",
              "    </tr>\n",
              "    <tr>\n",
              "      <th>737</th>\n",
              "      <td>24/06/2021</td>\n",
              "      <td>0.440</td>\n",
              "      <td>0.490</td>\n",
              "      <td>0.440</td>\n",
              "      <td>0.455</td>\n",
              "      <td>502500</td>\n",
              "      <td>0.300000</td>\n",
              "      <td>3.409094</td>\n",
              "      <td>Negative</td>\n",
              "      <td>Negative</td>\n",
              "      <td>Positive</td>\n",
              "      <td>0</td>\n",
              "      <td>Positive</td>\n",
              "    </tr>\n",
              "    <tr>\n",
              "      <th>738</th>\n",
              "      <td>25/06/2021</td>\n",
              "      <td>0.460</td>\n",
              "      <td>0.465</td>\n",
              "      <td>0.450</td>\n",
              "      <td>0.450</td>\n",
              "      <td>207400</td>\n",
              "      <td>0.000000</td>\n",
              "      <td>-2.173917</td>\n",
              "      <td>Positive</td>\n",
              "      <td>Negative</td>\n",
              "      <td>Negative</td>\n",
              "      <td>0</td>\n",
              "      <td>Neutral</td>\n",
              "    </tr>\n",
              "    <tr>\n",
              "      <th>739</th>\n",
              "      <td>28/06/2021</td>\n",
              "      <td>0.465</td>\n",
              "      <td>0.470</td>\n",
              "      <td>0.450</td>\n",
              "      <td>0.450</td>\n",
              "      <td>224400</td>\n",
              "      <td>0.000000</td>\n",
              "      <td>-3.225810</td>\n",
              "      <td>Negative</td>\n",
              "      <td>Positive</td>\n",
              "      <td>Negative</td>\n",
              "      <td>0</td>\n",
              "      <td>Negative</td>\n",
              "    </tr>\n",
              "    <tr>\n",
              "      <th>740</th>\n",
              "      <td>29/06/2021</td>\n",
              "      <td>0.455</td>\n",
              "      <td>0.470</td>\n",
              "      <td>0.455</td>\n",
              "      <td>0.465</td>\n",
              "      <td>79200</td>\n",
              "      <td>0.666667</td>\n",
              "      <td>2.197800</td>\n",
              "      <td>Negative</td>\n",
              "      <td>Negative</td>\n",
              "      <td>Positive</td>\n",
              "      <td>0</td>\n",
              "      <td>Negative</td>\n",
              "    </tr>\n",
              "  </tbody>\n",
              "</table>\n",
              "</div>\n",
              "      <button class=\"colab-df-convert\" onclick=\"convertToInteractive('df-d315c496-2d1c-4ca9-a235-f137117b6d4c')\"\n",
              "              title=\"Convert this dataframe to an interactive table.\"\n",
              "              style=\"display:none;\">\n",
              "        \n",
              "  <svg xmlns=\"http://www.w3.org/2000/svg\" height=\"24px\"viewBox=\"0 0 24 24\"\n",
              "       width=\"24px\">\n",
              "    <path d=\"M0 0h24v24H0V0z\" fill=\"none\"/>\n",
              "    <path d=\"M18.56 5.44l.94 2.06.94-2.06 2.06-.94-2.06-.94-.94-2.06-.94 2.06-2.06.94zm-11 1L8.5 8.5l.94-2.06 2.06-.94-2.06-.94L8.5 2.5l-.94 2.06-2.06.94zm10 10l.94 2.06.94-2.06 2.06-.94-2.06-.94-.94-2.06-.94 2.06-2.06.94z\"/><path d=\"M17.41 7.96l-1.37-1.37c-.4-.4-.92-.59-1.43-.59-.52 0-1.04.2-1.43.59L10.3 9.45l-7.72 7.72c-.78.78-.78 2.05 0 2.83L4 21.41c.39.39.9.59 1.41.59.51 0 1.02-.2 1.41-.59l7.78-7.78 2.81-2.81c.8-.78.8-2.07 0-2.86zM5.41 20L4 18.59l7.72-7.72 1.47 1.35L5.41 20z\"/>\n",
              "  </svg>\n",
              "      </button>\n",
              "      \n",
              "  <style>\n",
              "    .colab-df-container {\n",
              "      display:flex;\n",
              "      flex-wrap:wrap;\n",
              "      gap: 12px;\n",
              "    }\n",
              "\n",
              "    .colab-df-convert {\n",
              "      background-color: #E8F0FE;\n",
              "      border: none;\n",
              "      border-radius: 50%;\n",
              "      cursor: pointer;\n",
              "      display: none;\n",
              "      fill: #1967D2;\n",
              "      height: 32px;\n",
              "      padding: 0 0 0 0;\n",
              "      width: 32px;\n",
              "    }\n",
              "\n",
              "    .colab-df-convert:hover {\n",
              "      background-color: #E2EBFA;\n",
              "      box-shadow: 0px 1px 2px rgba(60, 64, 67, 0.3), 0px 1px 3px 1px rgba(60, 64, 67, 0.15);\n",
              "      fill: #174EA6;\n",
              "    }\n",
              "\n",
              "    [theme=dark] .colab-df-convert {\n",
              "      background-color: #3B4455;\n",
              "      fill: #D2E3FC;\n",
              "    }\n",
              "\n",
              "    [theme=dark] .colab-df-convert:hover {\n",
              "      background-color: #434B5C;\n",
              "      box-shadow: 0px 1px 3px 1px rgba(0, 0, 0, 0.15);\n",
              "      filter: drop-shadow(0px 1px 2px rgba(0, 0, 0, 0.3));\n",
              "      fill: #FFFFFF;\n",
              "    }\n",
              "  </style>\n",
              "\n",
              "      <script>\n",
              "        const buttonEl =\n",
              "          document.querySelector('#df-d315c496-2d1c-4ca9-a235-f137117b6d4c button.colab-df-convert');\n",
              "        buttonEl.style.display =\n",
              "          google.colab.kernel.accessAllowed ? 'block' : 'none';\n",
              "\n",
              "        async function convertToInteractive(key) {\n",
              "          const element = document.querySelector('#df-d315c496-2d1c-4ca9-a235-f137117b6d4c');\n",
              "          const dataTable =\n",
              "            await google.colab.kernel.invokeFunction('convertToInteractive',\n",
              "                                                     [key], {});\n",
              "          if (!dataTable) return;\n",
              "\n",
              "          const docLinkHtml = 'Like what you see? Visit the ' +\n",
              "            '<a target=\"_blank\" href=https://colab.research.google.com/notebooks/data_table.ipynb>data table notebook</a>'\n",
              "            + ' to learn more about interactive tables.';\n",
              "          element.innerHTML = '';\n",
              "          dataTable['output_type'] = 'display_data';\n",
              "          await google.colab.output.renderOutput(dataTable, element);\n",
              "          const docLink = document.createElement('div');\n",
              "          docLink.innerHTML = docLinkHtml;\n",
              "          element.appendChild(docLink);\n",
              "        }\n",
              "      </script>\n",
              "    </div>\n",
              "  </div>\n",
              "  "
            ]
          },
          "metadata": {},
          "execution_count": 4
        }
      ],
      "source": [
        "# Loading data\n",
        "file_path = Path(\"RHT.V.csv\")\n",
        "\n",
        "df = pd.read_csv(file_path)\n",
        "df.dropna(inplace=True)\n",
        "df.tail()"
      ]
    },
    {
      "cell_type": "code",
      "source": [
        "\n",
        "\n",
        "import matplotlib.pyplot as plt\n",
        "mpgs = df['EF_1']\n",
        "plt.hist(mpgs, bins=5)\n",
        "ef1_cut=plt.hist(mpgs, bins=5)[1]\n",
        "plt.show()\n",
        "import matplotlib.pyplot as plt\n",
        "mpgs = df['Twitter Sentiments']\n",
        "plt.hist(mpgs, bins=5)\n",
        "plt.show()\n",
        "twitter_cut=plt.hist(mpgs, bins=3)[1]\n",
        "print(plt.hist(mpgs, bins=3)[1]\n",
        ")\n",
        "\n",
        "\n"
      ],
      "metadata": {
        "colab": {
          "base_uri": "https://localhost:8080/",
          "height": 778
        },
        "id": "uXb1KDArcxNN",
        "outputId": "18d8ebf1-86af-4f3d-8dce-297256edffc2"
      },
      "execution_count": null,
      "outputs": [
        {
          "output_type": "display_data",
          "data": {
            "text/plain": [
              "<Figure size 432x288 with 1 Axes>"
            ],
            "image/png": "[encoded data removed]"
          },
          "metadata": {
            "needs_background": "light"
          }
        },
        {
          "output_type": "display_data",
          "data": {
            "text/plain": [
              "<Figure size 432x288 with 1 Axes>"
            ],
            "image/png": "[encoded data removed]"
          },
          "metadata": {
            "needs_background": "light"
          }
        },
        {
          "output_type": "stream",
          "name": "stdout",
          "text": [
            "[  0.          49.33333333  98.66666667 148.        ]\n"
          ]
        },
        {
          "output_type": "display_data",
          "data": {
            "text/plain": [
              "<Figure size 432x288 with 1 Axes>"
            ],
            "image/png": "[encoded data removed]"
          },
          "metadata": {
            "needs_background": "light"
          }
        }
      ]
    },
    {
      "cell_type": "code",
      "source": [
        "\n",
        "\n",
        "import matplotlib.pyplot as plt\n",
        "mpgs = df['Twitter Sentiments']\n",
        "plt.hist(mpgs, bins=5)\n",
        "plt.show()\n",
        "twitter_cut=plt.hist(mpgs, bins=3)[1]\n",
        "print(plt.hist(mpgs, bins=3)[1]\n",
        ")\n",
        "\n"
      ],
      "metadata": {
        "colab": {
          "base_uri": "https://localhost:8080/",
          "height": 530
        },
        "id": "GMTzFCtGde7X",
        "outputId": "f1988d9a-61d5-42b2-a5d5-9fae044630b2"
      },
      "execution_count": null,
      "outputs": [
        {
          "output_type": "display_data",
          "data": {
            "text/plain": [
              "<Figure size 432x288 with 1 Axes>"
            ],
            "image/png": "[encoded data removed]"
          },
          "metadata": {
            "needs_background": "light"
          }
        },
        {
          "output_type": "stream",
          "name": "stdout",
          "text": [
            "[  0.          49.33333333  98.66666667 148.        ]\n"
          ]
        },
        {
          "output_type": "display_data",
          "data": {
            "text/plain": [
              "<Figure size 432x288 with 1 Axes>"
            ],
            "image/png": "[encoded data removed]"
          },
          "metadata": {
            "needs_background": "light"
          }
        }
      ]
    },
    {
      "cell_type": "code",
      "source": [
        "\n",
        "\n",
        "import matplotlib.pyplot as plt\n",
        "mpgs = df['Volume']\n",
        "plt.hist(mpgs, bins=50)\n",
        "plt.show()\n",
        "twitter_cut=plt.hist(mpgs, bins=3)[1]\n",
        "print(plt.hist(mpgs, bins=3)[1]\n",
        ")\n",
        "\n"
      ],
      "metadata": {
        "colab": {
          "base_uri": "https://localhost:8080/",
          "height": 556
        },
        "id": "HQGCHNUewpSj",
        "outputId": "2f5fe59d-0081-4805-e4e8-93b5ff27ee96"
      },
      "execution_count": null,
      "outputs": [
        {
          "output_type": "display_data",
          "data": {
            "text/plain": [
              "<Figure size 432x288 with 1 Axes>"
            ],
            "image/png": "[encoded data removed]"
          },
          "metadata": {
            "needs_background": "light"
          }
        },
        {
          "output_type": "stream",
          "name": "stdout",
          "text": [
            "[1.66000e+04 7.68790e+06 1.53592e+07 2.30305e+07]\n"
          ]
        },
        {
          "output_type": "display_data",
          "data": {
            "text/plain": [
              "<Figure size 432x288 with 1 Axes>"
            ],
            "image/png": "[encoded data removed]"
          },
          "metadata": {
            "needs_background": "light"
          }
        }
      ]
    },
    {
      "cell_type": "code",
      "source": [
        "\n",
        "\n",
        "import matplotlib.pyplot as plt\n",
        "mpgs = np.log(df['Volume'])\n",
        "plt.hist(mpgs, bins=50)\n",
        "plt.show()\n",
        "twitter_cut=plt.hist(mpgs, bins=3)[1]\n",
        "print(plt.hist(mpgs, bins=3)[1]\n",
        ")\n",
        "\n"
      ],
      "metadata": {
        "colab": {
          "base_uri": "https://localhost:8080/",
          "height": 530
        },
        "id": "UOXWLxUB0RFB",
        "outputId": "b9f8b366-4350-44df-f8eb-285ad19a46f6"
      },
      "execution_count": null,
      "outputs": [
        {
          "output_type": "display_data",
          "data": {
            "text/plain": [
              "<Figure size 432x288 with 1 Axes>"
            ],
            "image/png": "[encoded data removed]"
          },
          "metadata": {
            "needs_background": "light"
          }
        },
        {
          "output_type": "stream",
          "name": "stdout",
          "text": [
            "[ 9.71715797 12.12888198 14.54060598 16.95232998]\n"
          ]
        },
        {
          "output_type": "display_data",
          "data": {
            "text/plain": [
              "<Figure size 432x288 with 1 Axes>"
            ],
            "image/png": "[encoded data removed]"
          },
          "metadata": {
            "needs_background": "light"
          }
        }
      ]
    },
    {
      "cell_type": "code",
      "source": [
        "import seaborn as sns\n",
        "sns.displot(df, x=\"Twitter Sentiments\", hue=\"FutureTrend\",element=\"step\")"
      ],
      "metadata": {
        "colab": {
          "base_uri": "https://localhost:8080/",
          "height": 386
        },
        "id": "t4mr6Tu9gJR_",
        "outputId": "cedab9ac-3f99-4f08-a31f-55641c043c3f"
      },
      "execution_count": null,
      "outputs": [
        {
          "output_type": "execute_result",
          "data": {
            "text/plain": [
              "<seaborn.axisgrid.FacetGrid at 0x7f3437e7fcd0>"
            ]
          },
          "metadata": {},
          "execution_count": 9
        },
        {
          "output_type": "display_data",
          "data": {
            "text/plain": [
              "<Figure size 440.875x360 with 1 Axes>"
            ],
            "image/png": "[encoded data removed]"
          },
          "metadata": {
            "needs_background": "light"
          }
        }
      ]
    },
    {
      "cell_type": "code",
      "source": [
        "import seaborn as sns\n",
        "sns.displot(df, x=\"Volume\", hue=\"FutureTrend\",element=\"step\",)"
      ],
      "metadata": {
        "colab": {
          "base_uri": "https://localhost:8080/",
          "height": 386
        },
        "id": "l4q2-mBAvoy9",
        "outputId": "d64d8dff-0de9-47e5-b572-0bbcaa16c345"
      },
      "execution_count": null,
      "outputs": [
        {
          "output_type": "execute_result",
          "data": {
            "text/plain": [
              "<seaborn.axisgrid.FacetGrid at 0x7f34376eeb50>"
            ]
          },
          "metadata": {},
          "execution_count": 10
        },
        {
          "output_type": "display_data",
          "data": {
            "text/plain": [
              "<Figure size 440.875x360 with 1 Axes>"
            ],
            "image/png": "[encoded data removed]"
          },
          "metadata": {
            "needs_background": "light"
          }
        }
      ]
    },
    {
      "cell_type": "code",
      "source": [
        "plt.hist(mpgs, bins=3)[1]"
      ],
      "metadata": {
        "colab": {
          "base_uri": "https://localhost:8080/",
          "height": 282
        },
        "id": "Wrkjo4E_eeBr",
        "outputId": "9f623611-88a8-42f8-f479-78c32ba0d0fb"
      },
      "execution_count": null,
      "outputs": [
        {
          "output_type": "execute_result",
          "data": {
            "text/plain": [
              "array([ 9.71715797, 12.12888198, 14.54060598, 16.95232998])"
            ]
          },
          "metadata": {},
          "execution_count": 11
        },
        {
          "output_type": "display_data",
          "data": {
            "text/plain": [
              "<Figure size 432x288 with 1 Axes>"
            ],
            "image/png": "[encoded data removed]"
          },
          "metadata": {
            "needs_background": "light"
          }
        }
      ]
    },
    {
      "cell_type": "code",
      "source": [
        "def make_bins(df):\n",
        "   label_names = [\"Ef_1_v_low\",\"Ef_1_low\",\"Ef_1_v_med\",\"Ef1_high\", \"Ef1_very_high\" ]\n",
        "   cut_points =ef1_cut\n",
        "   df[\"EF_1_val\"] = pd.cut(df[\"EF_1\"], cut_points, labels=label_names)\n",
        "   dummies = pd.get_dummies(df[\"EF_1_val\"],drop_first=True)\n",
        "   df = pd.concat([df, dummies], axis=1)\n",
        "   label_names = [\"setinent_neutral\",\"sentiment_good\",\"sentiment_bad\"]\n",
        "   cut_points =twitter_cut\n",
        "   df[\"sentiments\"]=pd.cut(df['Twitter Sentiments'], cut_points, labels=label_names)\n",
        "   dummies1 = pd.get_dummies(df[\"sentiments\"],drop_first=True)\n",
        "   df = pd.concat([df, dummies1], axis=1)\n",
        "   df.drop([\"EF_1_val\",\"sentiments\"],axis=1,inplace=True)\n",
        "   return df\n",
        "def calculate_ema(prices, days, smoothing=2):\n",
        "      ema = [sum(prices[:days]) / days]\n",
        "      for price in prices[days:]:\n",
        "          ema.append((price * (smoothing / (1 + days))) + ema[-1] * (1 - (smoothing / (1 + days))))\n",
        "      return ema"
      ],
      "metadata": {
        "id": "EUeTBCgOfVTB"
      },
      "execution_count": null,
      "outputs": []
    },
    {
      "cell_type": "code",
      "source": [
        "target=df['FutureTrend']\n",
        "df=df.drop(\"FutureTrend\",axis =1)\n",
        "target= target.replace(['Negative','Positive',  'Neutral'],[0,1,2])\n",
        "df= df.replace(['Negative','Positive',  'Neutral'],[0,1,2])\n",
        "\n",
        "appl_df =df.set_index('Date',inplace=True)\n",
        "appl_df = make_bins(df)\n",
        "appl_df.head(2)\n",
        "appl_df=appl_df.drop([\"Twitter Sentiments\"],axis =1)\n",
        "appl_df['diff']=appl_df['Close']-appl_df['Open']\n",
        "appl_df['10day']=appl_df['Close'].rolling(10).mean()\n",
        "appl_df['10day'].fillna(appl_df['10day'][9],inplace=True)\n",
        "appl_df['Volume']=np.log(appl_df['Volume'])\n",
        "ema = calculate_ema(appl_df['Close'], 10)\n",
        "appl_df=appl_df[9:]\n",
        "target=target[9:]\n",
        "appl_df['ema']=ema\n",
        "appl_df['signal']=appl_df['ema']>appl_df['Close']\n",
        "\n",
        "del (appl_df['Open'])\n",
        "del (appl_df['Close'])\n",
        "del (appl_df['High'])\n",
        "del (appl_df['EF_2'])\n",
        "\n",
        "from imblearn.over_sampling import SMOTE\n",
        "# pd.DataFrame(oe_df)\n",
        "oversample = SMOTE()\n",
        "appl_df, target = oversample.fit_resample(appl_df, target)\n"
      ],
      "metadata": {
        "id": "xjiuGyRb5h-U"
      },
      "execution_count": null,
      "outputs": []
    },
    {
      "cell_type": "code",
      "source": [
        ""
      ],
      "metadata": {
        "id": "4ubsHCNBnWZ0"
      },
      "execution_count": null,
      "outputs": []
    },
    {
      "cell_type": "code",
      "source": [
        "from sklearn.ensemble import AdaBoostClassifier\n",
        "new_df=appl_df\n",
        "print(new_df.head(2))\n",
        "\n",
        "numerical_columns_selector = selector(dtype_exclude=object)\n",
        "categorical_columns_selector = selector(dtype_include=object)\n",
        "numerical_columns = numerical_columns_selector(new_df)\n",
        "categorical_columns = categorical_columns_selector(new_df)\n",
        "print(categorical_columns)\n",
        "preprocessor = ColumnTransformer([\n",
        "  # ('one-hot-encoder', categorical_preprocessor, categorical_columns),\n",
        "   ('standard-scaler', numerical_preprocessor, numerical_columns)\n",
        "    ])\n",
        "new_df=preprocessor.fit_transform(new_df)\n",
        "X_train,X_test, y_train, y_test = train_test_split(new_df, target, test_size=0.2,random_state=42)\n",
        "\n",
        "                        "
      ],
      "metadata": {
        "colab": {
          "base_uri": "https://localhost:8080/"
        },
        "id": "0w7yrOcvP1jd",
        "outputId": "efc15fef-be9b-4e92-d5e5-529186888e3c"
      },
      "execution_count": null,
      "outputs": [
        {
          "output_type": "stream",
          "name": "stdout",
          "text": [
            "    Low     Volume      EF_1  Oil FutureTrend  Gold FutureTrend  Trend  \\\n",
            "0  1.65  12.093464  0.499999                0                 1      0   \n",
            "1  1.64  12.413087  0.363636                0                 0      2   \n",
            "\n",
            "   Ef_1_low  Ef_1_v_med  Ef1_high  Ef1_very_high  sentiment_good  \\\n",
            "0         0           1         0              0               0   \n",
            "1         1           0         0              0               0   \n",
            "\n",
            "   sentiment_bad  diff  10day       ema  signal  \n",
            "0              0 -0.02  1.689  1.689000    True  \n",
            "1              0  0.00  1.681  1.687364    True  \n",
            "[]\n"
          ]
        }
      ]
    },
    {
      "cell_type": "code",
      "source": [
        "\n",
        "clf = RandomForestClassifier(max_depth=3, random_state=5, warm_start=True, n_jobs=-1 )\n",
        "ada = AdaBoostClassifier(base_estimator=clf, algorithm=\"SAMME.R\", n_estimators=50, learning_rate = 0.3)\n",
        "ada.fit(X_train,y_train)"
      ],
      "metadata": {
        "colab": {
          "base_uri": "https://localhost:8080/"
        },
        "id": "PmTi-NVl_SqG",
        "outputId": "18e7718e-11fe-4506-c884-d9418eff0537"
      },
      "execution_count": null,
      "outputs": [
        {
          "output_type": "execute_result",
          "data": {
            "text/plain": [
              "AdaBoostClassifier(base_estimator=RandomForestClassifier(max_depth=3, n_jobs=-1,\n",
              "                                                         random_state=5,\n",
              "                                                         warm_start=True),\n",
              "                   learning_rate=0.3)"
            ]
          },
          "metadata": {},
          "execution_count": 15
        }
      ]
    },
    {
      "cell_type": "code",
      "source": [
        "print(\"Accuracy score (training): {0:.3f}\".format(\n",
        "        ada.score(\n",
        "            X_train, \n",
        "            y_train)))\n",
        "print(\"Accuracy score (validation): {0:.3f}\".format(\n",
        "        ada.score(\n",
        "            X_test, \n",
        "            y_test)))"
      ],
      "metadata": {
        "colab": {
          "base_uri": "https://localhost:8080/"
        },
        "id": "fK5TUF-n_qhc",
        "outputId": "e5f1f578-3019-4c68-b005-a5b2162538ed"
      },
      "execution_count": null,
      "outputs": [
        {
          "output_type": "stream",
          "name": "stdout",
          "text": [
            "Accuracy score (training): 0.804\n",
            "Accuracy score (validation): 0.476\n"
          ]
        }
      ]
    },
    {
      "cell_type": "code",
      "source": [
        "parameters = {\n",
        "    'n_estimators': [2, 3, 4, 5, 6, 7, 8, 9, 10, 11, 12, 20],\n",
        "    'learning_rate': [(0.97 + x / 100) for x in range(0, 8)],\n",
        "    'algorithm': ['SAMME', 'SAMME.R']\n",
        "}\n",
        "clf = GridSearchCV(ab_clf, parameters, cv=5, verbose=VERBOSE, n_jobs=N_JOBS)\n",
        "clf.fit(X_train, y_train)\n",
        "plot_grid_search(clf)\n",
        "table_grid_search(clf)"
      ],
      "metadata": {
        "id": "8-vreSFdSloX"
      },
      "execution_count": null,
      "outputs": []
    },
    {
      "cell_type": "markdown",
      "source": [
        "Hyper Parameter tuning "
      ],
      "metadata": {
        "id": "H8Vpc6wWZRcF"
      }
    },
    {
      "cell_type": "code",
      "source": [
        "from sklearn import model_selection\n",
        "from sklearn.ensemble import BaggingClassifier\n",
        "from sklearn.tree import DecisionTreeClassifier\n",
        "import pandas as pd\n",
        "\n",
        "  \n",
        "seed = 8\n",
        "kfold = model_selection.KFold(n_splits = 5,\n",
        "                       )\n",
        "  \n",
        "\n",
        "# no. of base classifier\n",
        "num_trees = 500\n",
        "for num_trees in [5,10,15]:\n",
        "# bagging classifier\n",
        "  model_3 = BaggingClassifier(base_estimator = ada,\n",
        "                            n_estimators = num_trees,\n",
        "                            random_state = seed)\n",
        "  X_train,X_test, y_train, y_test = train_test_split(new_df, target, test_size=0.2, random_state=42)\n",
        "\n",
        "  model_3.fit(X_train,y_train)\n",
        "  print(\"Accuracy score (training): {0:.3f}\".format(\n",
        "        model_3.score(\n",
        "            X_train, \n",
        "            y_train)))\n",
        "  print(\"Accuracy score (validation): {0:.3f}\".format(\n",
        "        model_3.score(\n",
        "            X_test, \n",
        "            y_test)))\n",
        "  # results = model_selection.cross_val_score(model_3, X_train, y_train, cv = kfold)\n",
        "  # print(\"accuracy :\")\n",
        "  # print(\"num_trees :\",num_trees,results.mean())"
      ],
      "metadata": {
        "id": "ShYZr_MdQJ5P",
        "colab": {
          "base_uri": "https://localhost:8080/"
        },
        "outputId": "b3992e52-a15d-4724-e08a-c4c32c493a64"
      },
      "execution_count": null,
      "outputs": [
        {
          "output_type": "stream",
          "name": "stdout",
          "text": [
            "Accuracy score (training): 0.766\n",
            "Accuracy score (validation): 0.486\n"
          ]
        }
      ]
    },
    {
      "cell_type": "markdown",
      "source": [
        "Hyper parameter tuning on Bagging + Ensemble classifier (took too much time)"
      ],
      "metadata": {
        "id": "iam2PPQdn9YX"
      }
    },
    {
      "cell_type": "code",
      "source": [
        "# param_grid = {\n",
        "#     'base_estimator__max_depth' : [1, 2, 3, 4, 5],\n",
        "#     'max_samples' : [0.05, 0.1, 0.2, 0.5],\n",
        "#     'n_estimators' : [5,10,20,40,60],\n",
        "#     'bootstrap' :[True,False]\n",
        "\n",
        "# }\n",
        "\n",
        "\n",
        "# #Fitting Bagging Classifier model with  hyper parameters\n",
        "# # bagg = BaggingClassifier(bootstrap=True,n_estimators=200)\n",
        "# # gridbag = GridSearchCV(bagg, param_grid=param_grid, cv = 3, verbose = 1)\n",
        "# # bestbag = gridbag.fit(X_train, y_train)\n",
        "\n",
        "# gridbag = GridSearchCV(BaggingClassifier(DecisionTreeClassifier(),\n",
        "#                                      n_estimators = 250, max_features = 0.5),\n",
        "#                    param_grid)\n",
        "# gridbag.fit(X_train, y_train)\n",
        "# print(\"Accuracy score (training): {0:.3f}\".format(\n",
        "#         gridbag.score(\n",
        "#             X_train, \n",
        "#             y_train)))\n",
        "# print(\"Accuracy score (validation): {0:.3f}\".format(\n",
        "#         gridbag.score(\n",
        "#             X_test, \n",
        "#             y_test)))\n"
      ],
      "metadata": {
        "id": "1SaFMpnah9QB"
      },
      "execution_count": null,
      "outputs": []
    },
    {
      "cell_type": "code",
      "source": [
        "# #Printing the best hyperparameters\n",
        "# print('The best hyper parameters are:\\n',gridbag.best_params_)\n",
        "\n",
        "\n",
        "\n",
        "# #Checking different metrics for bagging model after tuning the hyperparameters\n",
        "# print('Checking with the best hyper parameter on bagging model after tuning the hyperparameters:\\n')\n",
        "\n",
        "# bestbag=BaggingClassifier(bootstrap= False, max_samples=0.5, n_estimators= 40,max_features=0.6\n",
        "#                           ,random_state=45\n",
        "#                           )\n",
        "# bestbag.fit(X_train,y_train)\n",
        "# print(\"Accuracy score (training): {0:.3f}\".format(\n",
        "#         bestbag.score(\n",
        "#             X_train, \n",
        "#             y_train)))\n",
        "# print(\"Accuracy score (validation): {0:.3f}\".format(\n",
        "#         bestbag.score(\n",
        "#             X_test, \n",
        "#             y_test)))\n"
      ],
      "metadata": {
        "id": "dSfng028q_-d"
      },
      "execution_count": null,
      "outputs": []
    },
    {
      "cell_type": "code",
      "source": [
        ""
      ],
      "metadata": {
        "id": "6_bVrp20ql7U"
      },
      "execution_count": null,
      "outputs": []
    }
  ],
  "metadata": {
    "file_extension": ".py",
    "kernelspec": {
      "display_name": "Python 3",
      "language": "python",
      "name": "python3"
    },
    "language_info": {
      "codemirror_mode": {
        "name": "ipython",
        "version": 3
      },
      "file_extension": ".py",
      "mimetype": "text/x-python",
      "name": "python",
      "nbconvert_exporter": "python",
      "pygments_lexer": "ipython3",
      "version": "3.8.5"
    },
    "mimetype": "text/x-python",
    "name": "python",
    "npconvert_exporter": "python",
    "pygments_lexer": "ipython3",
    "version": 3,
    "colab": {
      "name": "Copy of Ensemble_model (Adb +RF).ipynb",
      "provenance": [],
      "collapsed_sections": [],
      "include_colab_link": true
    }
  },
  "nbformat": 4,
  "nbformat_minor": 0
}