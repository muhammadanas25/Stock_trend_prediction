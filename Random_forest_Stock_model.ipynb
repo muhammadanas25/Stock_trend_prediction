{
  "cells": [
    {
      "cell_type": "markdown",
      "metadata": {
        "id": "view-in-github",
        "colab_type": "text"
      },
      "source": [
        "<a href=\"https://colab.research.google.com/github/muhammadanas25/Stock_trend_prediction/blob/main/Random_forest_Stock_model.ipynb\" target=\"_parent\"><img src=\"https://colab.research.google.com/assets/colab-badge.svg\" alt=\"Open In Colab\"/></a>"
      ]
    },
    {
      "cell_type": "code",
      "execution_count": 1,
      "metadata": {
        "colab": {
          "base_uri": "https://localhost:8080/"
        },
        "id": "6OWumIhpAecs",
        "outputId": "105e9b86-0f0b-4488-f26b-2ea7a8105ae1"
      },
      "outputs": [
        {
          "output_type": "stream",
          "name": "stdout",
          "text": [
            "Requirement already satisfied: path in /usr/local/lib/python3.7/dist-packages (16.4.0)\n"
          ]
        }
      ],
      "source": [
        "# Initial imports\n",
        "import pandas as pd\n",
        "!pip install path\n",
        "from path import Path\n",
        "from sklearn.ensemble import RandomForestClassifier,RandomForestRegressor\n",
        "from sklearn.ensemble import AdaBoostClassifier\n",
        "from sklearn.preprocessing import StandardScaler, MinMaxScaler\n",
        "from sklearn.model_selection import train_test_split\n",
        "from sklearn.metrics import confusion_matrix, accuracy_score, classification_report\n",
        "%matplotlib inline\n",
        "# Initial imports\n",
        "import pandas as pd\n",
        "import numpy as np\n",
        "from path import Path\n",
        "from sklearn.preprocessing import StandardScaler\n",
        "from sklearn.model_selection import train_test_split\n",
        "from sklearn.metrics import confusion_matrix, accuracy_score, classification_report\n",
        "from sklearn.ensemble import GradientBoostingClassifier\n",
        "# import plotly.graph_objects as go\n",
        "# from plotly.subplots import make_subplots\n",
        "from sklearn.model_selection import RepeatedStratifiedKFold\n",
        "from sklearn.model_selection import GridSearchCV\n",
        "from sklearn.preprocessing import StandardScaler\n",
        "from sklearn.preprocessing import LabelEncoder\n",
        "from sklearn.compose import ColumnTransformer\n",
        "from sklearn import metrics\n",
        "from sklearn.metrics import roc_curve\n",
        "from sklearn.metrics import recall_score, confusion_matrix, precision_score, f1_score, accuracy_score, classification_report\n",
        "from sklearn.preprocessing import OneHotEncoder, StandardScaler\n",
        "from sklearn.pipeline import make_pipeline\n",
        "\n",
        "categorical_preprocessor = OneHotEncoder(handle_unknown=\"ignore\")\n",
        "numerical_preprocessor = StandardScaler()\n",
        "\n",
        "from sklearn.compose import make_column_selector as selector\n",
        " "
      ]
    },
    {
      "cell_type": "code",
      "execution_count": 2,
      "metadata": {
        "colab": {
          "base_uri": "https://localhost:8080/",
          "height": 250
        },
        "id": "cdsd4r99Aecu",
        "outputId": "2b3de47f-d1b1-466c-900a-2a11b3b96158"
      },
      "outputs": [
        {
          "output_type": "execute_result",
          "data": {
            "text/plain": [
              "           Date       Open       High        Low      Close    Volume  \\\n",
              "749  23/06/2021  29.180000  29.510000  28.959999  29.200001   7914000   \n",
              "750  24/06/2021  29.500000  29.510000  29.110001  29.469999   6270700   \n",
              "751  25/06/2021  29.400000  29.920000  29.370001  29.709999  17050100   \n",
              "752  28/06/2021  29.760000  30.030001  29.639999  29.809999   6570000   \n",
              "753  29/06/2021  29.950001  30.320000  29.790001  30.139999   7779100   \n",
              "\n",
              "         EF_1      EF_2 Oil FutureTrend Gold FutureTrend     Trend  \\\n",
              "749  0.436366  0.068542        Negative         Positive  Positive   \n",
              "750  0.899998 -0.101697        Negative         Negative  Negative   \n",
              "751  0.618179  1.054420        Positive         Negative  Positive   \n",
              "752  0.435896  0.168008        Negative         Positive  Positive   \n",
              "753  0.660376  0.634386        Negative         Negative  Positive   \n",
              "\n",
              "     Twitter Sentiments FutureTrend  \n",
              "749                   0    Negative  \n",
              "750                   0    Negative  \n",
              "751                   0    Negative  \n",
              "752                   0    Negative  \n",
              "753                   0    Negative  "
            ],
            "text/html": [
              "\n",
              "  <div id=\"df-2eb21d6b-b601-4f84-876f-42a4fbeddb89\">\n",
              "    <div class=\"colab-df-container\">\n",
              "      <div>\n",
              "<style scoped>\n",
              "    .dataframe tbody tr th:only-of-type {\n",
              "        vertical-align: middle;\n",
              "    }\n",
              "\n",
              "    .dataframe tbody tr th {\n",
              "        vertical-align: top;\n",
              "    }\n",
              "\n",
              "    .dataframe thead th {\n",
              "        text-align: right;\n",
              "    }\n",
              "</style>\n",
              "<table border=\"1\" class=\"dataframe\">\n",
              "  <thead>\n",
              "    <tr style=\"text-align: right;\">\n",
              "      <th></th>\n",
              "      <th>Date</th>\n",
              "      <th>Open</th>\n",
              "      <th>High</th>\n",
              "      <th>Low</th>\n",
              "      <th>Close</th>\n",
              "      <th>Volume</th>\n",
              "      <th>EF_1</th>\n",
              "      <th>EF_2</th>\n",
              "      <th>Oil FutureTrend</th>\n",
              "      <th>Gold FutureTrend</th>\n",
              "      <th>Trend</th>\n",
              "      <th>Twitter Sentiments</th>\n",
              "      <th>FutureTrend</th>\n",
              "    </tr>\n",
              "  </thead>\n",
              "  <tbody>\n",
              "    <tr>\n",
              "      <th>749</th>\n",
              "      <td>23/06/2021</td>\n",
              "      <td>29.180000</td>\n",
              "      <td>29.510000</td>\n",
              "      <td>28.959999</td>\n",
              "      <td>29.200001</td>\n",
              "      <td>7914000</td>\n",
              "      <td>0.436366</td>\n",
              "      <td>0.068542</td>\n",
              "      <td>Negative</td>\n",
              "      <td>Positive</td>\n",
              "      <td>Positive</td>\n",
              "      <td>0</td>\n",
              "      <td>Negative</td>\n",
              "    </tr>\n",
              "    <tr>\n",
              "      <th>750</th>\n",
              "      <td>24/06/2021</td>\n",
              "      <td>29.500000</td>\n",
              "      <td>29.510000</td>\n",
              "      <td>29.110001</td>\n",
              "      <td>29.469999</td>\n",
              "      <td>6270700</td>\n",
              "      <td>0.899998</td>\n",
              "      <td>-0.101697</td>\n",
              "      <td>Negative</td>\n",
              "      <td>Negative</td>\n",
              "      <td>Negative</td>\n",
              "      <td>0</td>\n",
              "      <td>Negative</td>\n",
              "    </tr>\n",
              "    <tr>\n",
              "      <th>751</th>\n",
              "      <td>25/06/2021</td>\n",
              "      <td>29.400000</td>\n",
              "      <td>29.920000</td>\n",
              "      <td>29.370001</td>\n",
              "      <td>29.709999</td>\n",
              "      <td>17050100</td>\n",
              "      <td>0.618179</td>\n",
              "      <td>1.054420</td>\n",
              "      <td>Positive</td>\n",
              "      <td>Negative</td>\n",
              "      <td>Positive</td>\n",
              "      <td>0</td>\n",
              "      <td>Negative</td>\n",
              "    </tr>\n",
              "    <tr>\n",
              "      <th>752</th>\n",
              "      <td>28/06/2021</td>\n",
              "      <td>29.760000</td>\n",
              "      <td>30.030001</td>\n",
              "      <td>29.639999</td>\n",
              "      <td>29.809999</td>\n",
              "      <td>6570000</td>\n",
              "      <td>0.435896</td>\n",
              "      <td>0.168008</td>\n",
              "      <td>Negative</td>\n",
              "      <td>Positive</td>\n",
              "      <td>Positive</td>\n",
              "      <td>0</td>\n",
              "      <td>Negative</td>\n",
              "    </tr>\n",
              "    <tr>\n",
              "      <th>753</th>\n",
              "      <td>29/06/2021</td>\n",
              "      <td>29.950001</td>\n",
              "      <td>30.320000</td>\n",
              "      <td>29.790001</td>\n",
              "      <td>30.139999</td>\n",
              "      <td>7779100</td>\n",
              "      <td>0.660376</td>\n",
              "      <td>0.634386</td>\n",
              "      <td>Negative</td>\n",
              "      <td>Negative</td>\n",
              "      <td>Positive</td>\n",
              "      <td>0</td>\n",
              "      <td>Negative</td>\n",
              "    </tr>\n",
              "  </tbody>\n",
              "</table>\n",
              "</div>\n",
              "      <button class=\"colab-df-convert\" onclick=\"convertToInteractive('df-2eb21d6b-b601-4f84-876f-42a4fbeddb89')\"\n",
              "              title=\"Convert this dataframe to an interactive table.\"\n",
              "              style=\"display:none;\">\n",
              "        \n",
              "  <svg xmlns=\"http://www.w3.org/2000/svg\" height=\"24px\"viewBox=\"0 0 24 24\"\n",
              "       width=\"24px\">\n",
              "    <path d=\"M0 0h24v24H0V0z\" fill=\"none\"/>\n",
              "    <path d=\"M18.56 5.44l.94 2.06.94-2.06 2.06-.94-2.06-.94-.94-2.06-.94 2.06-2.06.94zm-11 1L8.5 8.5l.94-2.06 2.06-.94-2.06-.94L8.5 2.5l-.94 2.06-2.06.94zm10 10l.94 2.06.94-2.06 2.06-.94-2.06-.94-.94-2.06-.94 2.06-2.06.94z\"/><path d=\"M17.41 7.96l-1.37-1.37c-.4-.4-.92-.59-1.43-.59-.52 0-1.04.2-1.43.59L10.3 9.45l-7.72 7.72c-.78.78-.78 2.05 0 2.83L4 21.41c.39.39.9.59 1.41.59.51 0 1.02-.2 1.41-.59l7.78-7.78 2.81-2.81c.8-.78.8-2.07 0-2.86zM5.41 20L4 18.59l7.72-7.72 1.47 1.35L5.41 20z\"/>\n",
              "  </svg>\n",
              "      </button>\n",
              "      \n",
              "  <style>\n",
              "    .colab-df-container {\n",
              "      display:flex;\n",
              "      flex-wrap:wrap;\n",
              "      gap: 12px;\n",
              "    }\n",
              "\n",
              "    .colab-df-convert {\n",
              "      background-color: #E8F0FE;\n",
              "      border: none;\n",
              "      border-radius: 50%;\n",
              "      cursor: pointer;\n",
              "      display: none;\n",
              "      fill: #1967D2;\n",
              "      height: 32px;\n",
              "      padding: 0 0 0 0;\n",
              "      width: 32px;\n",
              "    }\n",
              "\n",
              "    .colab-df-convert:hover {\n",
              "      background-color: #E2EBFA;\n",
              "      box-shadow: 0px 1px 2px rgba(60, 64, 67, 0.3), 0px 1px 3px 1px rgba(60, 64, 67, 0.15);\n",
              "      fill: #174EA6;\n",
              "    }\n",
              "\n",
              "    [theme=dark] .colab-df-convert {\n",
              "      background-color: #3B4455;\n",
              "      fill: #D2E3FC;\n",
              "    }\n",
              "\n",
              "    [theme=dark] .colab-df-convert:hover {\n",
              "      background-color: #434B5C;\n",
              "      box-shadow: 0px 1px 3px 1px rgba(0, 0, 0, 0.15);\n",
              "      filter: drop-shadow(0px 1px 2px rgba(0, 0, 0, 0.3));\n",
              "      fill: #FFFFFF;\n",
              "    }\n",
              "  </style>\n",
              "\n",
              "      <script>\n",
              "        const buttonEl =\n",
              "          document.querySelector('#df-2eb21d6b-b601-4f84-876f-42a4fbeddb89 button.colab-df-convert');\n",
              "        buttonEl.style.display =\n",
              "          google.colab.kernel.accessAllowed ? 'block' : 'none';\n",
              "\n",
              "        async function convertToInteractive(key) {\n",
              "          const element = document.querySelector('#df-2eb21d6b-b601-4f84-876f-42a4fbeddb89');\n",
              "          const dataTable =\n",
              "            await google.colab.kernel.invokeFunction('convertToInteractive',\n",
              "                                                     [key], {});\n",
              "          if (!dataTable) return;\n",
              "\n",
              "          const docLinkHtml = 'Like what you see? Visit the ' +\n",
              "            '<a target=\"_blank\" href=https://colab.research.google.com/notebooks/data_table.ipynb>data table notebook</a>'\n",
              "            + ' to learn more about interactive tables.';\n",
              "          element.innerHTML = '';\n",
              "          dataTable['output_type'] = 'display_data';\n",
              "          await google.colab.output.renderOutput(dataTable, element);\n",
              "          const docLink = document.createElement('div');\n",
              "          docLink.innerHTML = docLinkHtml;\n",
              "          element.appendChild(docLink);\n",
              "        }\n",
              "      </script>\n",
              "    </div>\n",
              "  </div>\n",
              "  "
            ]
          },
          "metadata": {},
          "execution_count": 2
        }
      ],
      "source": [
        "\n",
        "\n",
        "df = pd.read_csv(\"HPQ.csv\")\n",
        "df.dropna(axis=0,inplace=True)\n",
        "\n",
        "df.tail()"
      ]
    },
    {
      "cell_type": "code",
      "execution_count": 3,
      "metadata": {
        "colab": {
          "base_uri": "https://localhost:8080/"
        },
        "id": "inZfNdQuBqsK",
        "outputId": "2572e580-0ba2-4d15-ad89-5f15281c927d"
      },
      "outputs": [
        {
          "output_type": "execute_result",
          "data": {
            "text/plain": [
              "Negative    412\n",
              "Positive    328\n",
              "Neutral      14\n",
              "Name: FutureTrend, dtype: int64"
            ]
          },
          "metadata": {},
          "execution_count": 3
        }
      ],
      "source": [
        "df['FutureTrend'].value_counts()"
      ]
    },
    {
      "cell_type": "code",
      "execution_count": 4,
      "metadata": {
        "id": "w0d72pShAecx"
      },
      "outputs": [],
      "source": [
        "# Setting Index as Date\n",
        "appl_df = df.set_index(\"Date\")\n",
        "appl_df.tail()\n",
        "#drop na\n",
        "appl_df.dropna(axis=0,inplace=True)"
      ]
    },
    {
      "cell_type": "code",
      "source": [
        "def make_bins(df):\n",
        "   label_names = [\"Ef_1_v_low\",\"Ef_1_low\",\"Ef_1_v_med\",\"Ef1_high\", \"Ef1_very_high\" ]\n",
        "   cut_points =[0. , 0.2, 0.4, 0.6, 0.8, 1. ]\n",
        "   df[\"EF_1_val\"] = pd.cut(df[\"EF_1\"], cut_points, labels=label_names)\n",
        "   dummies = pd.get_dummies(df[\"EF_1_val\"],drop_first=True)\n",
        "   df = pd.concat([df, dummies], axis=1)\n",
        "   label_names = [\"setinent_neutral\",\"sentiment_good\",\"sentiment_bad\"]\n",
        "   cut_points =[0, 0.29,0.58 ,0.87] \n",
        "   df[\"sentiments\"]=pd.cut(df['Twitter Sentiments'], cut_points, labels=label_names)\n",
        "   dummies1 = pd.get_dummies(df[\"sentiments\"],drop_first=True)\n",
        "   df = pd.concat([df, dummies1], axis=1)\n",
        "   df.drop([\"EF_1_val\",\"sentiments\"],axis=1,inplace=True)\n",
        "   return df\n",
        "\n",
        "def calculate_ema(prices, days, smoothing=2):\n",
        "      ema = [sum(prices[:days]) / days]\n",
        "      for price in prices[days:]:\n",
        "          ema.append((price * (smoothing / (1 + days))) + ema[-1] * (1 - (smoothing / (1 + days))))\n",
        "      return ema"
      ],
      "metadata": {
        "id": "QV-jqcvSc4cZ"
      },
      "execution_count": 5,
      "outputs": []
    },
    {
      "cell_type": "code",
      "source": [
        "appl_df.head()"
      ],
      "metadata": {
        "colab": {
          "base_uri": "https://localhost:8080/",
          "height": 238
        },
        "id": "jTBW6sJVj_rO",
        "outputId": "0e483418-fb25-404c-b8c8-0f399abb2d0c"
      },
      "execution_count": 6,
      "outputs": [
        {
          "output_type": "execute_result",
          "data": {
            "text/plain": [
              "                 Open       High        Low      Close   Volume      EF_1  \\\n",
              "Date                                                                        \n",
              "02/07/2018  22.540001  22.860001  22.379999  22.860001  5855900  1.000000   \n",
              "03/07/2018  22.920000  22.930000  22.549999  22.590000  3619200  0.105265   \n",
              "05/07/2018  22.820000  22.990000  22.450001  22.750000  7158600  0.555555   \n",
              "06/07/2018  22.780001  23.219999  22.600000  23.010000  5375100  0.661291   \n",
              "09/07/2018  23.139999  23.440001  23.010000  23.370001  7057100  0.837210   \n",
              "\n",
              "                EF_2 Oil FutureTrend Gold FutureTrend     Trend  \\\n",
              "Date                                                              \n",
              "02/07/2018  1.419697        Positive         Negative  Positive   \n",
              "03/07/2018 -1.439790         Neutral          Neutral  Negative   \n",
              "05/07/2018 -0.306747        Negative         Positive  Negative   \n",
              "06/07/2018  1.009656        Negative         Negative  Positive   \n",
              "09/07/2018  0.993956        Negative         Positive  Positive   \n",
              "\n",
              "            Twitter Sentiments FutureTrend  \n",
              "Date                                        \n",
              "02/07/2018                   0    Positive  \n",
              "03/07/2018                   0    Negative  \n",
              "05/07/2018                   0    Negative  \n",
              "06/07/2018                   0    Negative  \n",
              "09/07/2018                   0    Negative  "
            ],
            "text/html": [
              "\n",
              "  <div id=\"df-479f6f1a-2baf-4548-b61a-86056e787932\">\n",
              "    <div class=\"colab-df-container\">\n",
              "      <div>\n",
              "<style scoped>\n",
              "    .dataframe tbody tr th:only-of-type {\n",
              "        vertical-align: middle;\n",
              "    }\n",
              "\n",
              "    .dataframe tbody tr th {\n",
              "        vertical-align: top;\n",
              "    }\n",
              "\n",
              "    .dataframe thead th {\n",
              "        text-align: right;\n",
              "    }\n",
              "</style>\n",
              "<table border=\"1\" class=\"dataframe\">\n",
              "  <thead>\n",
              "    <tr style=\"text-align: right;\">\n",
              "      <th></th>\n",
              "      <th>Open</th>\n",
              "      <th>High</th>\n",
              "      <th>Low</th>\n",
              "      <th>Close</th>\n",
              "      <th>Volume</th>\n",
              "      <th>EF_1</th>\n",
              "      <th>EF_2</th>\n",
              "      <th>Oil FutureTrend</th>\n",
              "      <th>Gold FutureTrend</th>\n",
              "      <th>Trend</th>\n",
              "      <th>Twitter Sentiments</th>\n",
              "      <th>FutureTrend</th>\n",
              "    </tr>\n",
              "    <tr>\n",
              "      <th>Date</th>\n",
              "      <th></th>\n",
              "      <th></th>\n",
              "      <th></th>\n",
              "      <th></th>\n",
              "      <th></th>\n",
              "      <th></th>\n",
              "      <th></th>\n",
              "      <th></th>\n",
              "      <th></th>\n",
              "      <th></th>\n",
              "      <th></th>\n",
              "      <th></th>\n",
              "    </tr>\n",
              "  </thead>\n",
              "  <tbody>\n",
              "    <tr>\n",
              "      <th>02/07/2018</th>\n",
              "      <td>22.540001</td>\n",
              "      <td>22.860001</td>\n",
              "      <td>22.379999</td>\n",
              "      <td>22.860001</td>\n",
              "      <td>5855900</td>\n",
              "      <td>1.000000</td>\n",
              "      <td>1.419697</td>\n",
              "      <td>Positive</td>\n",
              "      <td>Negative</td>\n",
              "      <td>Positive</td>\n",
              "      <td>0</td>\n",
              "      <td>Positive</td>\n",
              "    </tr>\n",
              "    <tr>\n",
              "      <th>03/07/2018</th>\n",
              "      <td>22.920000</td>\n",
              "      <td>22.930000</td>\n",
              "      <td>22.549999</td>\n",
              "      <td>22.590000</td>\n",
              "      <td>3619200</td>\n",
              "      <td>0.105265</td>\n",
              "      <td>-1.439790</td>\n",
              "      <td>Neutral</td>\n",
              "      <td>Neutral</td>\n",
              "      <td>Negative</td>\n",
              "      <td>0</td>\n",
              "      <td>Negative</td>\n",
              "    </tr>\n",
              "    <tr>\n",
              "      <th>05/07/2018</th>\n",
              "      <td>22.820000</td>\n",
              "      <td>22.990000</td>\n",
              "      <td>22.450001</td>\n",
              "      <td>22.750000</td>\n",
              "      <td>7158600</td>\n",
              "      <td>0.555555</td>\n",
              "      <td>-0.306747</td>\n",
              "      <td>Negative</td>\n",
              "      <td>Positive</td>\n",
              "      <td>Negative</td>\n",
              "      <td>0</td>\n",
              "      <td>Negative</td>\n",
              "    </tr>\n",
              "    <tr>\n",
              "      <th>06/07/2018</th>\n",
              "      <td>22.780001</td>\n",
              "      <td>23.219999</td>\n",
              "      <td>22.600000</td>\n",
              "      <td>23.010000</td>\n",
              "      <td>5375100</td>\n",
              "      <td>0.661291</td>\n",
              "      <td>1.009656</td>\n",
              "      <td>Negative</td>\n",
              "      <td>Negative</td>\n",
              "      <td>Positive</td>\n",
              "      <td>0</td>\n",
              "      <td>Negative</td>\n",
              "    </tr>\n",
              "    <tr>\n",
              "      <th>09/07/2018</th>\n",
              "      <td>23.139999</td>\n",
              "      <td>23.440001</td>\n",
              "      <td>23.010000</td>\n",
              "      <td>23.370001</td>\n",
              "      <td>7057100</td>\n",
              "      <td>0.837210</td>\n",
              "      <td>0.993956</td>\n",
              "      <td>Negative</td>\n",
              "      <td>Positive</td>\n",
              "      <td>Positive</td>\n",
              "      <td>0</td>\n",
              "      <td>Negative</td>\n",
              "    </tr>\n",
              "  </tbody>\n",
              "</table>\n",
              "</div>\n",
              "      <button class=\"colab-df-convert\" onclick=\"convertToInteractive('df-479f6f1a-2baf-4548-b61a-86056e787932')\"\n",
              "              title=\"Convert this dataframe to an interactive table.\"\n",
              "              style=\"display:none;\">\n",
              "        \n",
              "  <svg xmlns=\"http://www.w3.org/2000/svg\" height=\"24px\"viewBox=\"0 0 24 24\"\n",
              "       width=\"24px\">\n",
              "    <path d=\"M0 0h24v24H0V0z\" fill=\"none\"/>\n",
              "    <path d=\"M18.56 5.44l.94 2.06.94-2.06 2.06-.94-2.06-.94-.94-2.06-.94 2.06-2.06.94zm-11 1L8.5 8.5l.94-2.06 2.06-.94-2.06-.94L8.5 2.5l-.94 2.06-2.06.94zm10 10l.94 2.06.94-2.06 2.06-.94-2.06-.94-.94-2.06-.94 2.06-2.06.94z\"/><path d=\"M17.41 7.96l-1.37-1.37c-.4-.4-.92-.59-1.43-.59-.52 0-1.04.2-1.43.59L10.3 9.45l-7.72 7.72c-.78.78-.78 2.05 0 2.83L4 21.41c.39.39.9.59 1.41.59.51 0 1.02-.2 1.41-.59l7.78-7.78 2.81-2.81c.8-.78.8-2.07 0-2.86zM5.41 20L4 18.59l7.72-7.72 1.47 1.35L5.41 20z\"/>\n",
              "  </svg>\n",
              "      </button>\n",
              "      \n",
              "  <style>\n",
              "    .colab-df-container {\n",
              "      display:flex;\n",
              "      flex-wrap:wrap;\n",
              "      gap: 12px;\n",
              "    }\n",
              "\n",
              "    .colab-df-convert {\n",
              "      background-color: #E8F0FE;\n",
              "      border: none;\n",
              "      border-radius: 50%;\n",
              "      cursor: pointer;\n",
              "      display: none;\n",
              "      fill: #1967D2;\n",
              "      height: 32px;\n",
              "      padding: 0 0 0 0;\n",
              "      width: 32px;\n",
              "    }\n",
              "\n",
              "    .colab-df-convert:hover {\n",
              "      background-color: #E2EBFA;\n",
              "      box-shadow: 0px 1px 2px rgba(60, 64, 67, 0.3), 0px 1px 3px 1px rgba(60, 64, 67, 0.15);\n",
              "      fill: #174EA6;\n",
              "    }\n",
              "\n",
              "    [theme=dark] .colab-df-convert {\n",
              "      background-color: #3B4455;\n",
              "      fill: #D2E3FC;\n",
              "    }\n",
              "\n",
              "    [theme=dark] .colab-df-convert:hover {\n",
              "      background-color: #434B5C;\n",
              "      box-shadow: 0px 1px 3px 1px rgba(0, 0, 0, 0.15);\n",
              "      filter: drop-shadow(0px 1px 2px rgba(0, 0, 0, 0.3));\n",
              "      fill: #FFFFFF;\n",
              "    }\n",
              "  </style>\n",
              "\n",
              "      <script>\n",
              "        const buttonEl =\n",
              "          document.querySelector('#df-479f6f1a-2baf-4548-b61a-86056e787932 button.colab-df-convert');\n",
              "        buttonEl.style.display =\n",
              "          google.colab.kernel.accessAllowed ? 'block' : 'none';\n",
              "\n",
              "        async function convertToInteractive(key) {\n",
              "          const element = document.querySelector('#df-479f6f1a-2baf-4548-b61a-86056e787932');\n",
              "          const dataTable =\n",
              "            await google.colab.kernel.invokeFunction('convertToInteractive',\n",
              "                                                     [key], {});\n",
              "          if (!dataTable) return;\n",
              "\n",
              "          const docLinkHtml = 'Like what you see? Visit the ' +\n",
              "            '<a target=\"_blank\" href=https://colab.research.google.com/notebooks/data_table.ipynb>data table notebook</a>'\n",
              "            + ' to learn more about interactive tables.';\n",
              "          element.innerHTML = '';\n",
              "          dataTable['output_type'] = 'display_data';\n",
              "          await google.colab.output.renderOutput(dataTable, element);\n",
              "          const docLink = document.createElement('div');\n",
              "          docLink.innerHTML = docLinkHtml;\n",
              "          element.appendChild(docLink);\n",
              "        }\n",
              "      </script>\n",
              "    </div>\n",
              "  </div>\n",
              "  "
            ]
          },
          "metadata": {},
          "execution_count": 6
        }
      ]
    },
    {
      "cell_type": "code",
      "execution_count": 7,
      "metadata": {
        "id": "M6oMkkxrqXHr",
        "colab": {
          "base_uri": "https://localhost:8080/",
          "height": 288
        },
        "outputId": "8eee627e-533c-4a6e-c206-d27d013019ba"
      },
      "outputs": [
        {
          "output_type": "execute_result",
          "data": {
            "text/plain": [
              "          Date        Low   Volume      EF_1 Oil FutureTrend Gold FutureTrend  \\\n",
              "9   16/07/2018  23.510000  3791500  0.260868        Negative         Positive   \n",
              "10  17/07/2018  23.379999  4094700  0.617650        Negative         Negative   \n",
              "11  18/07/2018  23.320000  6467400  0.583335        Negative         Positive   \n",
              "12  19/07/2018  23.170000  6056000  0.055557        Negative         Negative   \n",
              "13  20/07/2018  22.889999  6919000  0.161293        Positive         Positive   \n",
              "\n",
              "       Trend FutureTrend  Ef_1_low  Ef_1_v_med  Ef1_high  Ef1_very_high  \\\n",
              "9   Negative    Negative         1           0         0              0   \n",
              "10  Positive    Positive         0           0         1              0   \n",
              "11  Negative    Positive         0           1         0              0   \n",
              "12  Negative    Positive         0           0         0              0   \n",
              "13  Negative    Negative         0           0         0              0   \n",
              "\n",
              "    sentiment_good  sentiment_bad      diff   10day        ema  signal  \n",
              "9                0              0 -0.120001  23.232  23.232000   False  \n",
              "10               0              0  0.210001  23.305  23.297091   False  \n",
              "11               0              0 -0.070000  23.399  23.339438   False  \n",
              "12               0              0 -0.209999  23.443  23.312268    True  \n",
              "13               0              0 -0.250000  23.436  23.244583    True  "
            ],
            "text/html": [
              "\n",
              "  <div id=\"df-8eeb24db-2354-4542-8835-53ac90f0c666\">\n",
              "    <div class=\"colab-df-container\">\n",
              "      <div>\n",
              "<style scoped>\n",
              "    .dataframe tbody tr th:only-of-type {\n",
              "        vertical-align: middle;\n",
              "    }\n",
              "\n",
              "    .dataframe tbody tr th {\n",
              "        vertical-align: top;\n",
              "    }\n",
              "\n",
              "    .dataframe thead th {\n",
              "        text-align: right;\n",
              "    }\n",
              "</style>\n",
              "<table border=\"1\" class=\"dataframe\">\n",
              "  <thead>\n",
              "    <tr style=\"text-align: right;\">\n",
              "      <th></th>\n",
              "      <th>Date</th>\n",
              "      <th>Low</th>\n",
              "      <th>Volume</th>\n",
              "      <th>EF_1</th>\n",
              "      <th>Oil FutureTrend</th>\n",
              "      <th>Gold FutureTrend</th>\n",
              "      <th>Trend</th>\n",
              "      <th>FutureTrend</th>\n",
              "      <th>Ef_1_low</th>\n",
              "      <th>Ef_1_v_med</th>\n",
              "      <th>Ef1_high</th>\n",
              "      <th>Ef1_very_high</th>\n",
              "      <th>sentiment_good</th>\n",
              "      <th>sentiment_bad</th>\n",
              "      <th>diff</th>\n",
              "      <th>10day</th>\n",
              "      <th>ema</th>\n",
              "      <th>signal</th>\n",
              "    </tr>\n",
              "  </thead>\n",
              "  <tbody>\n",
              "    <tr>\n",
              "      <th>9</th>\n",
              "      <td>16/07/2018</td>\n",
              "      <td>23.510000</td>\n",
              "      <td>3791500</td>\n",
              "      <td>0.260868</td>\n",
              "      <td>Negative</td>\n",
              "      <td>Positive</td>\n",
              "      <td>Negative</td>\n",
              "      <td>Negative</td>\n",
              "      <td>1</td>\n",
              "      <td>0</td>\n",
              "      <td>0</td>\n",
              "      <td>0</td>\n",
              "      <td>0</td>\n",
              "      <td>0</td>\n",
              "      <td>-0.120001</td>\n",
              "      <td>23.232</td>\n",
              "      <td>23.232000</td>\n",
              "      <td>False</td>\n",
              "    </tr>\n",
              "    <tr>\n",
              "      <th>10</th>\n",
              "      <td>17/07/2018</td>\n",
              "      <td>23.379999</td>\n",
              "      <td>4094700</td>\n",
              "      <td>0.617650</td>\n",
              "      <td>Negative</td>\n",
              "      <td>Negative</td>\n",
              "      <td>Positive</td>\n",
              "      <td>Positive</td>\n",
              "      <td>0</td>\n",
              "      <td>0</td>\n",
              "      <td>1</td>\n",
              "      <td>0</td>\n",
              "      <td>0</td>\n",
              "      <td>0</td>\n",
              "      <td>0.210001</td>\n",
              "      <td>23.305</td>\n",
              "      <td>23.297091</td>\n",
              "      <td>False</td>\n",
              "    </tr>\n",
              "    <tr>\n",
              "      <th>11</th>\n",
              "      <td>18/07/2018</td>\n",
              "      <td>23.320000</td>\n",
              "      <td>6467400</td>\n",
              "      <td>0.583335</td>\n",
              "      <td>Negative</td>\n",
              "      <td>Positive</td>\n",
              "      <td>Negative</td>\n",
              "      <td>Positive</td>\n",
              "      <td>0</td>\n",
              "      <td>1</td>\n",
              "      <td>0</td>\n",
              "      <td>0</td>\n",
              "      <td>0</td>\n",
              "      <td>0</td>\n",
              "      <td>-0.070000</td>\n",
              "      <td>23.399</td>\n",
              "      <td>23.339438</td>\n",
              "      <td>False</td>\n",
              "    </tr>\n",
              "    <tr>\n",
              "      <th>12</th>\n",
              "      <td>19/07/2018</td>\n",
              "      <td>23.170000</td>\n",
              "      <td>6056000</td>\n",
              "      <td>0.055557</td>\n",
              "      <td>Negative</td>\n",
              "      <td>Negative</td>\n",
              "      <td>Negative</td>\n",
              "      <td>Positive</td>\n",
              "      <td>0</td>\n",
              "      <td>0</td>\n",
              "      <td>0</td>\n",
              "      <td>0</td>\n",
              "      <td>0</td>\n",
              "      <td>0</td>\n",
              "      <td>-0.209999</td>\n",
              "      <td>23.443</td>\n",
              "      <td>23.312268</td>\n",
              "      <td>True</td>\n",
              "    </tr>\n",
              "    <tr>\n",
              "      <th>13</th>\n",
              "      <td>20/07/2018</td>\n",
              "      <td>22.889999</td>\n",
              "      <td>6919000</td>\n",
              "      <td>0.161293</td>\n",
              "      <td>Positive</td>\n",
              "      <td>Positive</td>\n",
              "      <td>Negative</td>\n",
              "      <td>Negative</td>\n",
              "      <td>0</td>\n",
              "      <td>0</td>\n",
              "      <td>0</td>\n",
              "      <td>0</td>\n",
              "      <td>0</td>\n",
              "      <td>0</td>\n",
              "      <td>-0.250000</td>\n",
              "      <td>23.436</td>\n",
              "      <td>23.244583</td>\n",
              "      <td>True</td>\n",
              "    </tr>\n",
              "  </tbody>\n",
              "</table>\n",
              "</div>\n",
              "      <button class=\"colab-df-convert\" onclick=\"convertToInteractive('df-8eeb24db-2354-4542-8835-53ac90f0c666')\"\n",
              "              title=\"Convert this dataframe to an interactive table.\"\n",
              "              style=\"display:none;\">\n",
              "        \n",
              "  <svg xmlns=\"http://www.w3.org/2000/svg\" height=\"24px\"viewBox=\"0 0 24 24\"\n",
              "       width=\"24px\">\n",
              "    <path d=\"M0 0h24v24H0V0z\" fill=\"none\"/>\n",
              "    <path d=\"M18.56 5.44l.94 2.06.94-2.06 2.06-.94-2.06-.94-.94-2.06-.94 2.06-2.06.94zm-11 1L8.5 8.5l.94-2.06 2.06-.94-2.06-.94L8.5 2.5l-.94 2.06-2.06.94zm10 10l.94 2.06.94-2.06 2.06-.94-2.06-.94-.94-2.06-.94 2.06-2.06.94z\"/><path d=\"M17.41 7.96l-1.37-1.37c-.4-.4-.92-.59-1.43-.59-.52 0-1.04.2-1.43.59L10.3 9.45l-7.72 7.72c-.78.78-.78 2.05 0 2.83L4 21.41c.39.39.9.59 1.41.59.51 0 1.02-.2 1.41-.59l7.78-7.78 2.81-2.81c.8-.78.8-2.07 0-2.86zM5.41 20L4 18.59l7.72-7.72 1.47 1.35L5.41 20z\"/>\n",
              "  </svg>\n",
              "      </button>\n",
              "      \n",
              "  <style>\n",
              "    .colab-df-container {\n",
              "      display:flex;\n",
              "      flex-wrap:wrap;\n",
              "      gap: 12px;\n",
              "    }\n",
              "\n",
              "    .colab-df-convert {\n",
              "      background-color: #E8F0FE;\n",
              "      border: none;\n",
              "      border-radius: 50%;\n",
              "      cursor: pointer;\n",
              "      display: none;\n",
              "      fill: #1967D2;\n",
              "      height: 32px;\n",
              "      padding: 0 0 0 0;\n",
              "      width: 32px;\n",
              "    }\n",
              "\n",
              "    .colab-df-convert:hover {\n",
              "      background-color: #E2EBFA;\n",
              "      box-shadow: 0px 1px 2px rgba(60, 64, 67, 0.3), 0px 1px 3px 1px rgba(60, 64, 67, 0.15);\n",
              "      fill: #174EA6;\n",
              "    }\n",
              "\n",
              "    [theme=dark] .colab-df-convert {\n",
              "      background-color: #3B4455;\n",
              "      fill: #D2E3FC;\n",
              "    }\n",
              "\n",
              "    [theme=dark] .colab-df-convert:hover {\n",
              "      background-color: #434B5C;\n",
              "      box-shadow: 0px 1px 3px 1px rgba(0, 0, 0, 0.15);\n",
              "      filter: drop-shadow(0px 1px 2px rgba(0, 0, 0, 0.3));\n",
              "      fill: #FFFFFF;\n",
              "    }\n",
              "  </style>\n",
              "\n",
              "      <script>\n",
              "        const buttonEl =\n",
              "          document.querySelector('#df-8eeb24db-2354-4542-8835-53ac90f0c666 button.colab-df-convert');\n",
              "        buttonEl.style.display =\n",
              "          google.colab.kernel.accessAllowed ? 'block' : 'none';\n",
              "\n",
              "        async function convertToInteractive(key) {\n",
              "          const element = document.querySelector('#df-8eeb24db-2354-4542-8835-53ac90f0c666');\n",
              "          const dataTable =\n",
              "            await google.colab.kernel.invokeFunction('convertToInteractive',\n",
              "                                                     [key], {});\n",
              "          if (!dataTable) return;\n",
              "\n",
              "          const docLinkHtml = 'Like what you see? Visit the ' +\n",
              "            '<a target=\"_blank\" href=https://colab.research.google.com/notebooks/data_table.ipynb>data table notebook</a>'\n",
              "            + ' to learn more about interactive tables.';\n",
              "          element.innerHTML = '';\n",
              "          dataTable['output_type'] = 'display_data';\n",
              "          await google.colab.output.renderOutput(dataTable, element);\n",
              "          const docLink = document.createElement('div');\n",
              "          docLink.innerHTML = docLinkHtml;\n",
              "          element.appendChild(docLink);\n",
              "        }\n",
              "      </script>\n",
              "    </div>\n",
              "  </div>\n",
              "  "
            ]
          },
          "metadata": {},
          "execution_count": 7
        }
      ],
      "source": [
        "target=appl_df['FutureTrend']\n",
        "appl_df=appl_df.drop(\"FutureTrend\",axis =1)\n",
        "target= target.replace(['Negative','Positive',  'Neutral'],[0,1,2])\n",
        "appl_df = make_bins(df)\n",
        "appl_df.head(2)\n",
        "appl_df=appl_df.drop([\"Twitter Sentiments\"],axis =1)\n",
        "appl_df['diff']=appl_df['Close']-appl_df['Open']\n",
        "appl_df['10day']=appl_df['Close'].rolling(10).mean()\n",
        "appl_df['10day'].fillna(appl_df['10day'][9],inplace=True)\n",
        "  \n",
        "ema = calculate_ema(appl_df['Close'], 10)\n",
        "appl_df=appl_df[9:]\n",
        "target=target[9:]\n",
        "appl_df['ema']=ema\n",
        "appl_df['signal']=appl_df['ema']>appl_df['Close']\n",
        "\n",
        "del (appl_df['Open'])\n",
        "del (appl_df['Close'])\n",
        "del (appl_df['High'])\n",
        "del (appl_df['EF_2'])\n",
        "\n",
        "# appl_df['normVol'] = appl_df['Volume'] / appl_df['Volume'].ewm(5).mean()   \n",
        "\n",
        "appl_df.head()"
      ]
    },
    {
      "cell_type": "code",
      "execution_count": 8,
      "metadata": {
        "colab": {
          "base_uri": "https://localhost:8080/"
        },
        "id": "xg7fbX4SmRli",
        "outputId": "6254a20c-0c5c-4bbd-d068-37ce7f6bab50"
      },
      "outputs": [
        {
          "output_type": "stream",
          "name": "stdout",
          "text": [
            "['Oil FutureTrend', 'Gold FutureTrend', 'Trend', 'FutureTrend']\n"
          ]
        }
      ],
      "source": [
        "new_df=appl_df\n",
        "new_df.set_index('Date',inplace=True)\n",
        "numerical_columns_selector = selector(dtype_exclude=object)\n",
        "categorical_columns_selector = selector(dtype_include=object)\n",
        "numerical_columns = numerical_columns_selector(new_df)\n",
        "categorical_columns = categorical_columns_selector(new_df)\n",
        "print(categorical_columns)\n",
        "preprocessor = ColumnTransformer([\n",
        "    ('one-hot-encoder', categorical_preprocessor, categorical_columns),\n",
        "    ('minmax-scaler', numerical_preprocessor, numerical_columns)])\n",
        "\n"
      ]
    },
    {
      "cell_type": "code",
      "source": [
        "\n",
        "model_rf1 =make_pipeline(preprocessor,RandomForestClassifier(n_estimators=30,\n",
        "                                      max_features=2,\n",
        "                                      max_depth=3,\n",
        "                                      random_state=0))\n",
        "X_train,X_test, y_train, y_test = train_test_split(new_df, target, test_size=0.1, random_state=42)\n",
        "  # Scoring the model\n",
        "model_rf1.fit(X_train,y_train)\n",
        "print(\"Accuracy score (training): {0:.3f}\".format(\n",
        "        model_rf1.score(\n",
        "            X_train, \n",
        "            y_train)))\n",
        "print(\"Accuracy score (validation): {0:.3f}\".format(\n",
        "        model_rf1.score(\n",
        "            X_test, \n",
        "            y_test)))\n"
      ],
      "metadata": {
        "colab": {
          "base_uri": "https://localhost:8080/"
        },
        "id": "L0oZC2AR20NH",
        "outputId": "20509ef0-33e9-4780-b159-180bba38eed4"
      },
      "execution_count": 9,
      "outputs": [
        {
          "output_type": "stream",
          "name": "stdout",
          "text": [
            "Accuracy score (training): 0.982\n",
            "Accuracy score (validation): 0.987\n"
          ]
        }
      ]
    },
    {
      "cell_type": "code",
      "source": [
        "df_t=preprocessor.fit_transform(new_df)\n",
        "df_t"
      ],
      "metadata": {
        "colab": {
          "base_uri": "https://localhost:8080/"
        },
        "id": "iGbs2cjWlNKg",
        "outputId": "926ee5b6-d2dc-4985-b731-277fc6fc3ea1"
      },
      "execution_count": 10,
      "outputs": [
        {
          "output_type": "execute_result",
          "data": {
            "text/plain": [
              "array([[ 1.        ,  0.        ,  0.        , ...,  0.33469816,\n",
              "         0.33669055, -0.79384944],\n",
              "       [ 1.        ,  0.        ,  0.        , ...,  0.35108704,\n",
              "         0.35137542, -0.79384944],\n",
              "       [ 1.        ,  0.        ,  0.        , ...,  0.37219054,\n",
              "         0.36092918, -0.79384944],\n",
              "       ...,\n",
              "       [ 0.        ,  0.        ,  1.        , ...,  1.67566784,\n",
              "         1.73674214, -0.79384944],\n",
              "       [ 1.        ,  0.        ,  0.        , ...,  1.68509706,\n",
              "         1.75201146, -0.79384944],\n",
              "       [ 1.        ,  0.        ,  0.        , ...,  1.69744483,\n",
              "         1.77804086, -0.79384944]])"
            ]
          },
          "metadata": {},
          "execution_count": 10
        }
      ]
    },
    {
      "cell_type": "markdown",
      "metadata": {
        "id": "QOHLB3FUrr4S"
      },
      "source": [
        "train_test splt"
      ]
    },
    {
      "cell_type": "code",
      "execution_count": 11,
      "metadata": {
        "id": "A_1VcDQXrt9k"
      },
      "outputs": [],
      "source": [
        "\n",
        "\n",
        "from sklearn.pipeline import make_pipeline\n",
        "\n",
        "model_rf =RandomForestClassifier(n_estimators=30,\n",
        "                                      max_features=2,\n",
        "                                      max_depth=3,\n",
        "                                      random_state=0)"
      ]
    },
    {
      "cell_type": "code",
      "execution_count": 12,
      "metadata": {
        "id": "8MMrs1HEsXmQ"
      },
      "outputs": [],
      "source": [
        "X_train,X_test, y_train, y_test = train_test_split(df_t, target, test_size=0.1, random_state=42)"
      ]
    },
    {
      "cell_type": "code",
      "execution_count": 13,
      "metadata": {
        "colab": {
          "base_uri": "https://localhost:8080/"
        },
        "id": "MxEBaZOMs09x",
        "outputId": "0bcf97f4-1ea8-421b-83cf-bc6dbd2ead70"
      },
      "outputs": [
        {
          "output_type": "stream",
          "name": "stdout",
          "text": [
            "Accuracy score (training): 0.982\n",
            "Accuracy score (validation): 0.987\n"
          ]
        }
      ],
      "source": [
        "  # Scoring the model\n",
        "model_rf.fit(X_train,y_train)\n",
        "print(\"Accuracy score (training): {0:.3f}\".format(\n",
        "        model_rf.score(\n",
        "            X_train, \n",
        "            y_train)))\n",
        "print(\"Accuracy score (validation): {0:.3f}\".format(\n",
        "        model_rf.score(\n",
        "            X_test, \n",
        "            y_test)))\n"
      ]
    },
    {
      "cell_type": "markdown",
      "source": [
        "Hyper "
      ],
      "metadata": {
        "id": "n8xPog8W2q37"
      }
    },
    {
      "cell_type": "code",
      "execution_count": 14,
      "metadata": {
        "id": "FZcFbwLY4CHX"
      },
      "outputs": [],
      "source": [
        "param_grid = {\n",
        "'n_estimators': [50, 100, 200, 300],\n",
        "'min_samples_leaf': [1, 5, 10],\n",
        "'max_depth': [2, 4, 6, 8, 10],\n",
        "'max_features': ['auto', 'sqrt'],\n",
        "'bootstrap': [True, False]}"
      ]
    },
    {
      "cell_type": "code",
      "execution_count": 15,
      "metadata": {
        "id": "Kidn0_0N4CHX"
      },
      "outputs": [],
      "source": [
        "dff=preprocessor.fit_transform(new_df)\n",
        "\n",
        "\n",
        "X_train, X_test, y_train, y_test = train_test_split(dff, target, train_size= 0.2,shuffle=False)\n",
        "from imblearn.over_sampling import SMOTE\n",
        "\n",
        "# pd.DataFrame(oe_df)\n",
        "rf=RandomForestClassifier()\n",
        "model_gridsearch =   GridSearchCV(\n",
        "estimator=rf,\n",
        "param_grid=param_grid,\n",
        "scoring='accuracy',\n",
        "\n",
        "cv=5,\n",
        "refit=True,\n",
        "return_train_score=True)"
      ]
    },
    {
      "cell_type": "markdown",
      "source": [
        "Grid search"
      ],
      "metadata": {
        "id": "OJHLzx6o7LFZ"
      }
    },
    {
      "cell_type": "code",
      "execution_count": 16,
      "metadata": {
        "colab": {
          "base_uri": "https://localhost:8080/"
        },
        "id": "Iz5FfEn54CHY",
        "outputId": "04d4466a-b759-4328-daa3-191409bc06c9"
      },
      "outputs": [
        {
          "output_type": "stream",
          "name": "stdout",
          "text": [
            "GridSearchCV took %.2f seconds for %d candidate parameter settings. 240\n"
          ]
        }
      ],
      "source": [
        "model_gridsearch.fit(X_train, y_train)\n",
        "# Print the time spend and number of models ran\n",
        "print(\"GridSearchCV took %.2f seconds for %d candidate parameter settings.\" ,len(model_gridsearch.cv_results_['params']))"
      ]
    },
    {
      "cell_type": "code",
      "execution_count": 17,
      "metadata": {
        "id": "jGu7rz2c4CHY"
      },
      "outputs": [],
      "source": [
        "y_pred_grid = model_gridsearch.predict(X_test)\n",
        "accuracy_grid = accuracy_score(y_test, y_pred_grid)\n"
      ]
    },
    {
      "cell_type": "code",
      "execution_count": 18,
      "metadata": {
        "colab": {
          "base_uri": "https://localhost:8080/"
        },
        "id": "3dpzefrN4CHY",
        "outputId": "985023db-38c2-4a7c-a1d3-0316aa8344ef"
      },
      "outputs": [
        {
          "output_type": "stream",
          "name": "stdout",
          "text": [
            "{'bootstrap': True, 'max_depth': 4, 'max_features': 'auto', 'min_samples_leaf': 1, 'n_estimators': 50}\n",
            "1.0\n"
          ]
        }
      ],
      "source": [
        "print(model_gridsearch.best_params_)\n",
        "print(model_gridsearch.best_score_)"
      ]
    },
    {
      "cell_type": "code",
      "execution_count": 19,
      "metadata": {
        "colab": {
          "base_uri": "https://localhost:8080/"
        },
        "id": "mN5u1ARd4CHZ",
        "outputId": "d1982838-76a5-4cbe-c39f-9b0d1536e4a8"
      },
      "outputs": [
        {
          "output_type": "stream",
          "name": "stdout",
          "text": [
            "1.0\n",
            "[0 0 0 0 1 1 1 1 1 1 1 1 1 0 0 0 0 0 0 0 1 0 1 1 0 1 0 0 0 1 0 0 0 0 1 0 1\n",
            " 0 1 0 1 0 1 0 1 1 1 0 0 1 0 0 1 1 1 1 1 1 0 0 0 0 1 0 1 1 0 1 1 0 1 1 0 0\n",
            " 0 0 0 1 0 0 1 1 0 0 0 1 1 1 0 1 0 0 0 0 2 1 1 1 0 0 0 1 1 0 0 0 0 1 1 0 1\n",
            " 0 1 1 1 1 0 1 0 1 1 0 1 1 0 0 1 0 1 1 0 1 0 0 0 1 0 0 0 1 1 0 1 0 1 2 1 0\n",
            " 1 0 1 0 0 0 0 1 2 1 1 0 1 0 1 0 0 0 0 1 1 0 0 2 2 0 0 1 0 1 0 0 0 0 1 0 0\n",
            " 1 2 0 0 1 0 1 1 0 0 1 1 0 1 1 0 0 0 1 1 1 0 1 0 1 1 1 0 2 0 0 1 1 0 0 1 0\n",
            " 0 0 0 0 0 1 0 0 0 1 1 0 1 1 0 1 0 1 1 0 0 0 1 0 0 0 1 0 1 0 0 0 1 0 1 1 1\n",
            " 0 1 0 1 1 1 0 1 1 1 1 1 1 0 1 1 0 1 0 1 0 1 1 0 1 0 0 0 0 1 0 1 0 0 1 1 0\n",
            " 1 0 0 0 0 1 1 0 1 1 0 0 1 1 1 0 0 0 0 0 1 1 0 0 1 0 1 0 0 1 0 0 1 1 1 0 0\n",
            " 0 1 0 1 0 0 1 0 0 0 0 1 0 0 1 0 1 0 0 0 2 0 1 0 1 0 1 1 0 1 0 0 0 0 0 0 0\n",
            " 0 0 1 0 1 1 1 0 1 0 0 0 1 1 0 0 1 1 0 1 1 0 0 1 0 0 1 0 1 1 1 0 1 1 0 0 0\n",
            " 0 0 0 0 1 0 0 1 0 1 1 0 0 1 0 1 0 1 1 1 1 0 0 0 0 1 0 0 0 0 1 1 0 0 0 1 0\n",
            " 1 0 0 0 0 1 0 0 0 0 1 1 1 1 1 0 0 0 0 0 1 0 0 0 0 1 0 0 1 0 0 0 1 0 0 1 1\n",
            " 1 1 0 0 1 1 1 0 0 1 0 0 0 0 0 0 1 0 0 0 1 1 0 0 0 0 0 0 0 0 0 1 1 0 0 1 0\n",
            " 0 1 0 1 0 1 1 0 1 1 0 0 1 0 0 0 0 1 1 0 0 1 0 0 0 0 1 1 0 1 0 1 0 1 0 1 0\n",
            " 1 0 0 0 1 1 1 0 0 0 1 1 0 1 0 1 0 1 1 0 1 0 0 1 1 1 1 0 1 0 1 1 0 0 1 0 0\n",
            " 0 0 0 0]\n"
          ]
        }
      ],
      "source": [
        "print (accuracy_grid)\n",
        "print(y_pred_grid)"
      ]
    },
    {
      "cell_type": "code",
      "source": [
        " np.array(np.unique(target, return_counts=True)).T"
      ],
      "metadata": {
        "colab": {
          "base_uri": "https://localhost:8080/"
        },
        "id": "uaG-CIvB967s",
        "outputId": "50b8db98-d8ba-4e7d-9eca-30776c1c9ec9"
      },
      "execution_count": 20,
      "outputs": [
        {
          "output_type": "execute_result",
          "data": {
            "text/plain": [
              "array([[  0, 406],\n",
              "       [  1, 325],\n",
              "       [  2,  14]])"
            ]
          },
          "metadata": {},
          "execution_count": 20
        }
      ]
    },
    {
      "cell_type": "code",
      "execution_count": 21,
      "metadata": {
        "colab": {
          "base_uri": "https://localhost:8080/"
        },
        "id": "Hd42NuHO4CHZ",
        "outputId": "5486839a-d252-484d-b5ce-144b3c183560"
      },
      "outputs": [
        {
          "output_type": "stream",
          "name": "stdout",
          "text": [
            "Accuracy score (training): 1.000\n",
            "Accuracy score (validation): 1.000\n"
          ]
        }
      ],
      "source": [
        "model_rf = RandomForestClassifier(bootstrap= True, max_depth= 10, max_features= 'auto', min_samples_leaf= 1, n_estimators= 200)\n",
        "model_rf.fit(X_train,y_train)\n",
        "  # Scoring the model\n",
        "print(\"Accuracy score (training): {0:.3f}\".format(\n",
        "        model_rf.score(\n",
        "            X_train, \n",
        "            y_train)))\n",
        "print(\"Accuracy score (validation): {0:.3f}\".format(\n",
        "        model_rf.score(\n",
        "            X_test, \n",
        "            y_test)))\n"
      ]
    },
    {
      "cell_type": "code",
      "execution_count": 22,
      "metadata": {
        "colab": {
          "base_uri": "https://localhost:8080/",
          "height": 268
        },
        "id": "tEPnmT1Ju_06",
        "outputId": "57662006-e41b-4c71-c7a5-d5a500dbcddd"
      },
      "outputs": [
        {
          "output_type": "execute_result",
          "data": {
            "text/plain": [
              "           Date       Open       High        Low      Close    Volume  \\\n",
              "749  23/06/2021  29.180000  29.510000  28.959999  29.200001   7914000   \n",
              "750  24/06/2021  29.500000  29.510000  29.110001  29.469999   6270700   \n",
              "751  25/06/2021  29.400000  29.920000  29.370001  29.709999  17050100   \n",
              "752  28/06/2021  29.760000  30.030001  29.639999  29.809999   6570000   \n",
              "753  29/06/2021  29.950001  30.320000  29.790001  30.139999   7779100   \n",
              "\n",
              "         EF_1      EF_2 Oil FutureTrend Gold FutureTrend     Trend  \\\n",
              "749  0.436366  0.068542        Negative         Positive  Positive   \n",
              "750  0.899998 -0.101697        Negative         Negative  Negative   \n",
              "751  0.618179  1.054420        Positive         Negative  Positive   \n",
              "752  0.435896  0.168008        Negative         Positive  Positive   \n",
              "753  0.660376  0.634386        Negative         Negative  Positive   \n",
              "\n",
              "     Twitter Sentiments FutureTrend       EF_1_val  \n",
              "749                   0    Negative     Ef_1_v_med  \n",
              "750                   0    Negative  Ef1_very_high  \n",
              "751                   0    Negative       Ef1_high  \n",
              "752                   0    Negative     Ef_1_v_med  \n",
              "753                   0    Negative       Ef1_high  "
            ],
            "text/html": [
              "\n",
              "  <div id=\"df-961f716d-b703-4881-af1e-ff7862ed85be\">\n",
              "    <div class=\"colab-df-container\">\n",
              "      <div>\n",
              "<style scoped>\n",
              "    .dataframe tbody tr th:only-of-type {\n",
              "        vertical-align: middle;\n",
              "    }\n",
              "\n",
              "    .dataframe tbody tr th {\n",
              "        vertical-align: top;\n",
              "    }\n",
              "\n",
              "    .dataframe thead th {\n",
              "        text-align: right;\n",
              "    }\n",
              "</style>\n",
              "<table border=\"1\" class=\"dataframe\">\n",
              "  <thead>\n",
              "    <tr style=\"text-align: right;\">\n",
              "      <th></th>\n",
              "      <th>Date</th>\n",
              "      <th>Open</th>\n",
              "      <th>High</th>\n",
              "      <th>Low</th>\n",
              "      <th>Close</th>\n",
              "      <th>Volume</th>\n",
              "      <th>EF_1</th>\n",
              "      <th>EF_2</th>\n",
              "      <th>Oil FutureTrend</th>\n",
              "      <th>Gold FutureTrend</th>\n",
              "      <th>Trend</th>\n",
              "      <th>Twitter Sentiments</th>\n",
              "      <th>FutureTrend</th>\n",
              "      <th>EF_1_val</th>\n",
              "    </tr>\n",
              "  </thead>\n",
              "  <tbody>\n",
              "    <tr>\n",
              "      <th>749</th>\n",
              "      <td>23/06/2021</td>\n",
              "      <td>29.180000</td>\n",
              "      <td>29.510000</td>\n",
              "      <td>28.959999</td>\n",
              "      <td>29.200001</td>\n",
              "      <td>7914000</td>\n",
              "      <td>0.436366</td>\n",
              "      <td>0.068542</td>\n",
              "      <td>Negative</td>\n",
              "      <td>Positive</td>\n",
              "      <td>Positive</td>\n",
              "      <td>0</td>\n",
              "      <td>Negative</td>\n",
              "      <td>Ef_1_v_med</td>\n",
              "    </tr>\n",
              "    <tr>\n",
              "      <th>750</th>\n",
              "      <td>24/06/2021</td>\n",
              "      <td>29.500000</td>\n",
              "      <td>29.510000</td>\n",
              "      <td>29.110001</td>\n",
              "      <td>29.469999</td>\n",
              "      <td>6270700</td>\n",
              "      <td>0.899998</td>\n",
              "      <td>-0.101697</td>\n",
              "      <td>Negative</td>\n",
              "      <td>Negative</td>\n",
              "      <td>Negative</td>\n",
              "      <td>0</td>\n",
              "      <td>Negative</td>\n",
              "      <td>Ef1_very_high</td>\n",
              "    </tr>\n",
              "    <tr>\n",
              "      <th>751</th>\n",
              "      <td>25/06/2021</td>\n",
              "      <td>29.400000</td>\n",
              "      <td>29.920000</td>\n",
              "      <td>29.370001</td>\n",
              "      <td>29.709999</td>\n",
              "      <td>17050100</td>\n",
              "      <td>0.618179</td>\n",
              "      <td>1.054420</td>\n",
              "      <td>Positive</td>\n",
              "      <td>Negative</td>\n",
              "      <td>Positive</td>\n",
              "      <td>0</td>\n",
              "      <td>Negative</td>\n",
              "      <td>Ef1_high</td>\n",
              "    </tr>\n",
              "    <tr>\n",
              "      <th>752</th>\n",
              "      <td>28/06/2021</td>\n",
              "      <td>29.760000</td>\n",
              "      <td>30.030001</td>\n",
              "      <td>29.639999</td>\n",
              "      <td>29.809999</td>\n",
              "      <td>6570000</td>\n",
              "      <td>0.435896</td>\n",
              "      <td>0.168008</td>\n",
              "      <td>Negative</td>\n",
              "      <td>Positive</td>\n",
              "      <td>Positive</td>\n",
              "      <td>0</td>\n",
              "      <td>Negative</td>\n",
              "      <td>Ef_1_v_med</td>\n",
              "    </tr>\n",
              "    <tr>\n",
              "      <th>753</th>\n",
              "      <td>29/06/2021</td>\n",
              "      <td>29.950001</td>\n",
              "      <td>30.320000</td>\n",
              "      <td>29.790001</td>\n",
              "      <td>30.139999</td>\n",
              "      <td>7779100</td>\n",
              "      <td>0.660376</td>\n",
              "      <td>0.634386</td>\n",
              "      <td>Negative</td>\n",
              "      <td>Negative</td>\n",
              "      <td>Positive</td>\n",
              "      <td>0</td>\n",
              "      <td>Negative</td>\n",
              "      <td>Ef1_high</td>\n",
              "    </tr>\n",
              "  </tbody>\n",
              "</table>\n",
              "</div>\n",
              "      <button class=\"colab-df-convert\" onclick=\"convertToInteractive('df-961f716d-b703-4881-af1e-ff7862ed85be')\"\n",
              "              title=\"Convert this dataframe to an interactive table.\"\n",
              "              style=\"display:none;\">\n",
              "        \n",
              "  <svg xmlns=\"http://www.w3.org/2000/svg\" height=\"24px\"viewBox=\"0 0 24 24\"\n",
              "       width=\"24px\">\n",
              "    <path d=\"M0 0h24v24H0V0z\" fill=\"none\"/>\n",
              "    <path d=\"M18.56 5.44l.94 2.06.94-2.06 2.06-.94-2.06-.94-.94-2.06-.94 2.06-2.06.94zm-11 1L8.5 8.5l.94-2.06 2.06-.94-2.06-.94L8.5 2.5l-.94 2.06-2.06.94zm10 10l.94 2.06.94-2.06 2.06-.94-2.06-.94-.94-2.06-.94 2.06-2.06.94z\"/><path d=\"M17.41 7.96l-1.37-1.37c-.4-.4-.92-.59-1.43-.59-.52 0-1.04.2-1.43.59L10.3 9.45l-7.72 7.72c-.78.78-.78 2.05 0 2.83L4 21.41c.39.39.9.59 1.41.59.51 0 1.02-.2 1.41-.59l7.78-7.78 2.81-2.81c.8-.78.8-2.07 0-2.86zM5.41 20L4 18.59l7.72-7.72 1.47 1.35L5.41 20z\"/>\n",
              "  </svg>\n",
              "      </button>\n",
              "      \n",
              "  <style>\n",
              "    .colab-df-container {\n",
              "      display:flex;\n",
              "      flex-wrap:wrap;\n",
              "      gap: 12px;\n",
              "    }\n",
              "\n",
              "    .colab-df-convert {\n",
              "      background-color: #E8F0FE;\n",
              "      border: none;\n",
              "      border-radius: 50%;\n",
              "      cursor: pointer;\n",
              "      display: none;\n",
              "      fill: #1967D2;\n",
              "      height: 32px;\n",
              "      padding: 0 0 0 0;\n",
              "      width: 32px;\n",
              "    }\n",
              "\n",
              "    .colab-df-convert:hover {\n",
              "      background-color: #E2EBFA;\n",
              "      box-shadow: 0px 1px 2px rgba(60, 64, 67, 0.3), 0px 1px 3px 1px rgba(60, 64, 67, 0.15);\n",
              "      fill: #174EA6;\n",
              "    }\n",
              "\n",
              "    [theme=dark] .colab-df-convert {\n",
              "      background-color: #3B4455;\n",
              "      fill: #D2E3FC;\n",
              "    }\n",
              "\n",
              "    [theme=dark] .colab-df-convert:hover {\n",
              "      background-color: #434B5C;\n",
              "      box-shadow: 0px 1px 3px 1px rgba(0, 0, 0, 0.15);\n",
              "      filter: drop-shadow(0px 1px 2px rgba(0, 0, 0, 0.3));\n",
              "      fill: #FFFFFF;\n",
              "    }\n",
              "  </style>\n",
              "\n",
              "      <script>\n",
              "        const buttonEl =\n",
              "          document.querySelector('#df-961f716d-b703-4881-af1e-ff7862ed85be button.colab-df-convert');\n",
              "        buttonEl.style.display =\n",
              "          google.colab.kernel.accessAllowed ? 'block' : 'none';\n",
              "\n",
              "        async function convertToInteractive(key) {\n",
              "          const element = document.querySelector('#df-961f716d-b703-4881-af1e-ff7862ed85be');\n",
              "          const dataTable =\n",
              "            await google.colab.kernel.invokeFunction('convertToInteractive',\n",
              "                                                     [key], {});\n",
              "          if (!dataTable) return;\n",
              "\n",
              "          const docLinkHtml = 'Like what you see? Visit the ' +\n",
              "            '<a target=\"_blank\" href=https://colab.research.google.com/notebooks/data_table.ipynb>data table notebook</a>'\n",
              "            + ' to learn more about interactive tables.';\n",
              "          element.innerHTML = '';\n",
              "          dataTable['output_type'] = 'display_data';\n",
              "          await google.colab.output.renderOutput(dataTable, element);\n",
              "          const docLink = document.createElement('div');\n",
              "          docLink.innerHTML = docLinkHtml;\n",
              "          element.appendChild(docLink);\n",
              "        }\n",
              "      </script>\n",
              "    </div>\n",
              "  </div>\n",
              "  "
            ]
          },
          "metadata": {},
          "execution_count": 22
        }
      ],
      "source": [
        "df.tail()"
      ]
    },
    {
      "cell_type": "code",
      "execution_count": null,
      "metadata": {
        "id": "WZ9ZJY3kwe0t"
      },
      "outputs": [],
      "source": [
        "# new_df=appl_df\n",
        "# new_df\n",
        "\n",
        "# numerical_columns_selector = selector(dtype_exclude=object)\n",
        "# categorical_columns_selector = selector(dtype_include=object)\n",
        "# numerical_columns = numerical_columns_selector(new_df)\n",
        "# categorical_columns = categorical_columns_selector(new_df)\n",
        "# print(categorical_columns)\n",
        "# preprocessor = ColumnTransformer([\n",
        "#     ('one-hot-encoder', categorical_preprocessor, categorical_columns),\n",
        "#     ('standard-scaler', numerical_preprocessor, numerical_columns)])\n",
        "\n",
        "# model = make_pipeline(preprocessor,  RandomForestRegressor(n_estimators=30,\n",
        "#                                       max_features=2,\n",
        "#                                       max_depth=3,\n",
        "#                                       random_state=2))\n",
        "# model.fit(X_train,y_train)"
      ]
    },
    {
      "cell_type": "code",
      "execution_count": null,
      "metadata": {
        "id": "S5FvCHwEwp2F"
      },
      "outputs": [],
      "source": [
        "#   # Scoring the model\n",
        "# print(\"Accuracy score (training): {0:.3f}\".format(\n",
        "#         model.score(\n",
        "#             X_train, \n",
        "#             y_train)))\n",
        "# print(\"Accuracy score (validation): {0:.3f}\".format(\n",
        "#         model.score(\n",
        "#             X_test, \n",
        "#             y_test)))\n"
      ]
    },
    {
      "cell_type": "code",
      "execution_count": null,
      "metadata": {
        "id": "DIlLu_wE4CHc"
      },
      "outputs": [],
      "source": [
        ""
      ]
    },
    {
      "cell_type": "code",
      "execution_count": null,
      "metadata": {
        "id": "KKWvytE54CHe"
      },
      "outputs": [],
      "source": [
        ""
      ]
    },
    {
      "cell_type": "code",
      "execution_count": null,
      "metadata": {
        "id": "L88uyzuc4CHe"
      },
      "outputs": [],
      "source": [
        ""
      ]
    },
    {
      "cell_type": "code",
      "execution_count": null,
      "metadata": {
        "id": "tNCv7o2A4CHf"
      },
      "outputs": [],
      "source": [
        "# parameters = {\n",
        "#     \"loss\":[\"deviance\"],\n",
        "#     \"learning_rate\": [0.01, 0.025, 0.05, 0.075, 0.1, 0.15, 0.2],\n",
        "#     \"min_samples_split\": np.linspace(0.1, 0.5, 12),\n",
        "#     \"min_samples_leaf\": np.linspace(0.1, 0.5, 12),\n",
        "#     \"max_depth\":[3,5,8],\n",
        "#     \"max_features\":[\"log2\",\"sqrt\"],\n",
        "#     \"criterion\": [\"friedman_mse\",  \"mae\"],\n",
        "#     \"subsample\":[0.5, 0.618, 0.8, 0.85, 0.9, 0.95, 1.0],\n",
        "#     \"n_estimators\":[10,20,40,50]\n",
        "#     }\n",
        "# from sklearn.compose import make_column_selector as selector\n",
        "# numerical_columns_selector = selector(dtype_exclude=object)\n",
        "# categorical_columns_selector = selector(dtype_include=object)\n",
        "# numerical_columns = numerical_columns_selector(new_df)\n",
        "# categorical_columns = categorical_columns_selector(new_df)\n",
        "       \n",
        "# preprocessor = ColumnTransformer([\n",
        "#     ('one-hot-encoder', categorical_preprocessor, categorical_columns),\n",
        "#     ('standard-scaler', numerical_preprocessor, numerical_columns)])\n",
        "\n",
        "\n",
        "# new_df=preprocessor.fit_transform(new_df)\n",
        "# model_gbm=GradientBoostingClassifier()\n",
        "# clf = GridSearchCV(model_gbm, parameters,refit=False,cv=2, n_jobs=-1)\n",
        "\n",
        "# clf.fit(X_train, y_train)\n",
        "# print(\"Accuracy score (training): {0:.3f}\".format(\n",
        "#         clf.score(\n",
        "#             X_train, \n",
        "#             y_train)))\n",
        "# print(\"Accuracy score (validation): {0:.3f}\".format(\n",
        "#         clf.score(\n",
        "#             X_test, \n",
        "#             y_test)))"
      ]
    },
    {
      "cell_type": "markdown",
      "metadata": {
        "id": "iww2fC1Q6hpT"
      },
      "source": [
        "GBM"
      ]
    },
    {
      "cell_type": "code",
      "execution_count": null,
      "metadata": {
        "id": "os2RoAKMkN2R"
      },
      "outputs": [],
      "source": [
        "# predictions=model.predict(X_test)\n",
        "# stocks = pd.DataFrame({\n",
        "#     \"Real\": y_test.ravel(),\n",
        "#     \"Predicted\": predictions\n",
        "# }, index = df.index[-len(y_test): ]) \n",
        "# stocks.tail(100)\n"
      ]
    },
    {
      "cell_type": "code",
      "execution_count": null,
      "metadata": {
        "id": "LQRRGegKvjK9"
      },
      "outputs": [],
      "source": [
        "# # Generating the confusion matrix\n",
        "# cm = confusion_matrix(y_test, predictions)\n",
        "# cm_df = pd.DataFrame(\n",
        "#     cm, index=[\"Actual 0\", \"Actual 1\",\"Actual 2\"],\n",
        "#     columns=[\"Predicted 0\", \"Predicted 1\", \"Predicted 2\"]\n",
        "# )\n",
        "\n",
        "# # Displaying results\n",
        "# #display(cm_df)"
      ]
    },
    {
      "cell_type": "code",
      "execution_count": null,
      "metadata": {
        "id": "jSNAczf4G_wo"
      },
      "outputs": [],
      "source": [
        "# def compute_accuracy(y_true, y_pred):\n",
        "#     correct_predictions = 0\n",
        "#     # iterate over each label and check\n",
        "#     for true, predicted in zip(y_true, y_pred):\n",
        "#         if true == predicted:\n",
        "#             correct_predictions += 1\n",
        "#     # compute the accuracy\n",
        "#     accuracy = correct_predictions/len(y_true)\n",
        "#     return accuracy"
      ]
    },
    {
      "cell_type": "code",
      "execution_count": null,
      "metadata": {
        "id": "6aigg-9uAec1"
      },
      "outputs": [],
      "source": [
        "# # Choosing learning rate\n",
        "# from sklearn.ensemble import RandomForestClassifier\n",
        "# learning_rates = [0.05, 0.1, 0.25, 0.5, 0.75, 1, 2, 3, 4]\n",
        "# for learning_rate in learning_rates:\n",
        "#     model = RandomForestRegressor(n_estimators=20,\n",
        "#                                       max_features=2,\n",
        "#                                       max_depth=3,\n",
        "#                                       random_state=0)\n",
        "#     predictions=model.predict(X_test)\n",
        "#     np.where(predictions > 0.5, 1, 0)\n",
        "#     compute_accuracy(y_test, predictions):\n",
        "  \n",
        "#     model.fit(X_train,y_train)\n",
        "#     print(\"Learning rate: \", learning_rate)\n",
        "    \n",
        "#     # Scoring the model\n",
        "#     print(\"Accuracy score (training): {0:.3f}\".format(\n",
        "#         model.score(\n",
        "#             X_train, \n",
        "#             y_train)))\n",
        "#     print(\"Accuracy score (validation): {0:.3f}\".format(\n",
        "#         model.score(\n",
        "#             X_test,\n",
        "#             y_test)))\n",
        "#     print()"
      ]
    },
    {
      "cell_type": "code",
      "execution_count": null,
      "metadata": {
        "id": "g6r_IytZAec-"
      },
      "outputs": [],
      "source": [
        ""
      ]
    }
  ],
  "metadata": {
    "colab": {
      "collapsed_sections": [],
      "name": "Random_forest_Stock_model.ipynb",
      "provenance": [],
      "include_colab_link": true
    },
    "file_extension": ".py",
    "kernelspec": {
      "display_name": "Python 3 (ipykernel)",
      "language": "python",
      "name": "python3"
    },
    "language_info": {
      "codemirror_mode": {
        "name": "ipython",
        "version": 3
      },
      "file_extension": ".py",
      "mimetype": "text/x-python",
      "name": "python",
      "nbconvert_exporter": "python",
      "pygments_lexer": "ipython3",
      "version": "3.9.7"
    },
    "mimetype": "text/x-python",
    "name": "python",
    "npconvert_exporter": "python",
    "pygments_lexer": "ipython3",
    "version": 3
  },
  "nbformat": 4,
  "nbformat_minor": 0
}