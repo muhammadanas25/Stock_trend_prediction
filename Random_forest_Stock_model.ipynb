{
  "cells": [
    {
      "cell_type": "markdown",
      "metadata": {
        "id": "view-in-github",
        "colab_type": "text"
      },
      "source": [
        "<a href=\"https://colab.research.google.com/github/muhammadanas25/Stock_trend_prediction/blob/main/Random_forest_Stock_model.ipynb\" target=\"_parent\"><img src=\"https://colab.research.google.com/assets/colab-badge.svg\" alt=\"Open In Colab\"/></a>"
      ]
    },
    {
      "cell_type": "code",
      "execution_count": 32,
      "metadata": {
        "colab": {
          "base_uri": "https://localhost:8080/"
        },
        "id": "6OWumIhpAecs",
        "outputId": "16db6e45-2ddf-4389-b8e3-6bd096b6f1f6"
      },
      "outputs": [
        {
          "output_type": "stream",
          "name": "stdout",
          "text": [
            "Requirement already satisfied: path in /usr/local/lib/python3.7/dist-packages (16.4.0)\n"
          ]
        }
      ],
      "source": [
        "# Initial imports\n",
        "import pandas as pd\n",
        "!pip install path\n",
        "from path import Path\n",
        "from sklearn.ensemble import RandomForestClassifier,RandomForestRegressor\n",
        "from sklearn.ensemble import AdaBoostClassifier\n",
        "from sklearn.preprocessing import StandardScaler, MinMaxScaler\n",
        "from sklearn.model_selection import train_test_split\n",
        "from sklearn.metrics import confusion_matrix, accuracy_score, classification_report\n",
        "%matplotlib inline\n",
        "# Initial imports\n",
        "import pandas as pd\n",
        "import numpy as np\n",
        "from path import Path\n",
        "from sklearn.preprocessing import StandardScaler\n",
        "from sklearn.model_selection import train_test_split\n",
        "from sklearn.metrics import confusion_matrix, accuracy_score, classification_report\n",
        "from sklearn.ensemble import GradientBoostingClassifier\n",
        "# import plotly.graph_objects as go\n",
        "# from plotly.subplots import make_subplots\n",
        "from sklearn.model_selection import RepeatedStratifiedKFold\n",
        "from sklearn.model_selection import GridSearchCV\n",
        "from sklearn.preprocessing import StandardScaler\n",
        "from sklearn.preprocessing import LabelEncoder\n",
        "from sklearn.compose import ColumnTransformer\n",
        "from sklearn import metrics\n",
        "from sklearn.metrics import roc_curve\n",
        "from sklearn.metrics import recall_score, confusion_matrix, precision_score, f1_score, accuracy_score, classification_report\n",
        "from sklearn.preprocessing import OneHotEncoder, StandardScaler\n",
        "from sklearn.pipeline import make_pipeline\n",
        "\n",
        "categorical_preprocessor = OneHotEncoder(handle_unknown=\"ignore\")\n",
        "numerical_preprocessor = StandardScaler()\n",
        "\n",
        "from sklearn.compose import make_column_selector as selector\n",
        " "
      ]
    },
    {
      "cell_type": "code",
      "execution_count": 33,
      "metadata": {
        "colab": {
          "base_uri": "https://localhost:8080/",
          "height": 250
        },
        "id": "cdsd4r99Aecu",
        "outputId": "e7059876-51af-4e0b-a2ea-afd81ea8f327"
      },
      "outputs": [
        {
          "output_type": "execute_result",
          "data": {
            "text/plain": [
              "           Date        Open        High         Low       Close   Volume  \\\n",
              "749  23/06/2021  146.429993  146.500000  144.570007  144.610001  3202600   \n",
              "750  24/06/2021  145.800003  146.190002  144.690002  145.440002  3609700   \n",
              "751  25/06/2021  145.380005  146.929993  144.949997  146.839996  3594200   \n",
              "752  28/06/2021  147.009995  147.300003  144.910004  145.289993  3888900   \n",
              "753  29/06/2021  145.259995  146.740005  145.100006  145.550003  2428500   \n",
              "\n",
              "         EF_1      EF_2 Oil FutureTrend Gold FutureTrend     Trend  \\\n",
              "749  0.020722 -1.242909        Negative         Positive  Negative   \n",
              "750  0.500000 -0.246914        Negative         Negative  Negative   \n",
              "751  0.954547  1.004259        Positive         Negative  Positive   \n",
              "752  0.158992 -1.169989        Negative         Positive  Negative   \n",
              "753  0.274388  0.199648        Negative         Negative  Positive   \n",
              "\n",
              "     Twitter Sentiments FutureTrend  \n",
              "749                   0    Negative  \n",
              "750                   0    Negative  \n",
              "751                   0    Positive  \n",
              "752                   0    Negative  \n",
              "753                   0    Negative  "
            ],
            "text/html": [
              "\n",
              "  <div id=\"df-dc677579-f366-467f-9480-afdaf9fbe68e\">\n",
              "    <div class=\"colab-df-container\">\n",
              "      <div>\n",
              "<style scoped>\n",
              "    .dataframe tbody tr th:only-of-type {\n",
              "        vertical-align: middle;\n",
              "    }\n",
              "\n",
              "    .dataframe tbody tr th {\n",
              "        vertical-align: top;\n",
              "    }\n",
              "\n",
              "    .dataframe thead th {\n",
              "        text-align: right;\n",
              "    }\n",
              "</style>\n",
              "<table border=\"1\" class=\"dataframe\">\n",
              "  <thead>\n",
              "    <tr style=\"text-align: right;\">\n",
              "      <th></th>\n",
              "      <th>Date</th>\n",
              "      <th>Open</th>\n",
              "      <th>High</th>\n",
              "      <th>Low</th>\n",
              "      <th>Close</th>\n",
              "      <th>Volume</th>\n",
              "      <th>EF_1</th>\n",
              "      <th>EF_2</th>\n",
              "      <th>Oil FutureTrend</th>\n",
              "      <th>Gold FutureTrend</th>\n",
              "      <th>Trend</th>\n",
              "      <th>Twitter Sentiments</th>\n",
              "      <th>FutureTrend</th>\n",
              "    </tr>\n",
              "  </thead>\n",
              "  <tbody>\n",
              "    <tr>\n",
              "      <th>749</th>\n",
              "      <td>23/06/2021</td>\n",
              "      <td>146.429993</td>\n",
              "      <td>146.500000</td>\n",
              "      <td>144.570007</td>\n",
              "      <td>144.610001</td>\n",
              "      <td>3202600</td>\n",
              "      <td>0.020722</td>\n",
              "      <td>-1.242909</td>\n",
              "      <td>Negative</td>\n",
              "      <td>Positive</td>\n",
              "      <td>Negative</td>\n",
              "      <td>0</td>\n",
              "      <td>Negative</td>\n",
              "    </tr>\n",
              "    <tr>\n",
              "      <th>750</th>\n",
              "      <td>24/06/2021</td>\n",
              "      <td>145.800003</td>\n",
              "      <td>146.190002</td>\n",
              "      <td>144.690002</td>\n",
              "      <td>145.440002</td>\n",
              "      <td>3609700</td>\n",
              "      <td>0.500000</td>\n",
              "      <td>-0.246914</td>\n",
              "      <td>Negative</td>\n",
              "      <td>Negative</td>\n",
              "      <td>Negative</td>\n",
              "      <td>0</td>\n",
              "      <td>Negative</td>\n",
              "    </tr>\n",
              "    <tr>\n",
              "      <th>751</th>\n",
              "      <td>25/06/2021</td>\n",
              "      <td>145.380005</td>\n",
              "      <td>146.929993</td>\n",
              "      <td>144.949997</td>\n",
              "      <td>146.839996</td>\n",
              "      <td>3594200</td>\n",
              "      <td>0.954547</td>\n",
              "      <td>1.004259</td>\n",
              "      <td>Positive</td>\n",
              "      <td>Negative</td>\n",
              "      <td>Positive</td>\n",
              "      <td>0</td>\n",
              "      <td>Positive</td>\n",
              "    </tr>\n",
              "    <tr>\n",
              "      <th>752</th>\n",
              "      <td>28/06/2021</td>\n",
              "      <td>147.009995</td>\n",
              "      <td>147.300003</td>\n",
              "      <td>144.910004</td>\n",
              "      <td>145.289993</td>\n",
              "      <td>3888900</td>\n",
              "      <td>0.158992</td>\n",
              "      <td>-1.169989</td>\n",
              "      <td>Negative</td>\n",
              "      <td>Positive</td>\n",
              "      <td>Negative</td>\n",
              "      <td>0</td>\n",
              "      <td>Negative</td>\n",
              "    </tr>\n",
              "    <tr>\n",
              "      <th>753</th>\n",
              "      <td>29/06/2021</td>\n",
              "      <td>145.259995</td>\n",
              "      <td>146.740005</td>\n",
              "      <td>145.100006</td>\n",
              "      <td>145.550003</td>\n",
              "      <td>2428500</td>\n",
              "      <td>0.274388</td>\n",
              "      <td>0.199648</td>\n",
              "      <td>Negative</td>\n",
              "      <td>Negative</td>\n",
              "      <td>Positive</td>\n",
              "      <td>0</td>\n",
              "      <td>Negative</td>\n",
              "    </tr>\n",
              "  </tbody>\n",
              "</table>\n",
              "</div>\n",
              "      <button class=\"colab-df-convert\" onclick=\"convertToInteractive('df-dc677579-f366-467f-9480-afdaf9fbe68e')\"\n",
              "              title=\"Convert this dataframe to an interactive table.\"\n",
              "              style=\"display:none;\">\n",
              "        \n",
              "  <svg xmlns=\"http://www.w3.org/2000/svg\" height=\"24px\"viewBox=\"0 0 24 24\"\n",
              "       width=\"24px\">\n",
              "    <path d=\"M0 0h24v24H0V0z\" fill=\"none\"/>\n",
              "    <path d=\"M18.56 5.44l.94 2.06.94-2.06 2.06-.94-2.06-.94-.94-2.06-.94 2.06-2.06.94zm-11 1L8.5 8.5l.94-2.06 2.06-.94-2.06-.94L8.5 2.5l-.94 2.06-2.06.94zm10 10l.94 2.06.94-2.06 2.06-.94-2.06-.94-.94-2.06-.94 2.06-2.06.94z\"/><path d=\"M17.41 7.96l-1.37-1.37c-.4-.4-.92-.59-1.43-.59-.52 0-1.04.2-1.43.59L10.3 9.45l-7.72 7.72c-.78.78-.78 2.05 0 2.83L4 21.41c.39.39.9.59 1.41.59.51 0 1.02-.2 1.41-.59l7.78-7.78 2.81-2.81c.8-.78.8-2.07 0-2.86zM5.41 20L4 18.59l7.72-7.72 1.47 1.35L5.41 20z\"/>\n",
              "  </svg>\n",
              "      </button>\n",
              "      \n",
              "  <style>\n",
              "    .colab-df-container {\n",
              "      display:flex;\n",
              "      flex-wrap:wrap;\n",
              "      gap: 12px;\n",
              "    }\n",
              "\n",
              "    .colab-df-convert {\n",
              "      background-color: #E8F0FE;\n",
              "      border: none;\n",
              "      border-radius: 50%;\n",
              "      cursor: pointer;\n",
              "      display: none;\n",
              "      fill: #1967D2;\n",
              "      height: 32px;\n",
              "      padding: 0 0 0 0;\n",
              "      width: 32px;\n",
              "    }\n",
              "\n",
              "    .colab-df-convert:hover {\n",
              "      background-color: #E2EBFA;\n",
              "      box-shadow: 0px 1px 2px rgba(60, 64, 67, 0.3), 0px 1px 3px 1px rgba(60, 64, 67, 0.15);\n",
              "      fill: #174EA6;\n",
              "    }\n",
              "\n",
              "    [theme=dark] .colab-df-convert {\n",
              "      background-color: #3B4455;\n",
              "      fill: #D2E3FC;\n",
              "    }\n",
              "\n",
              "    [theme=dark] .colab-df-convert:hover {\n",
              "      background-color: #434B5C;\n",
              "      box-shadow: 0px 1px 3px 1px rgba(0, 0, 0, 0.15);\n",
              "      filter: drop-shadow(0px 1px 2px rgba(0, 0, 0, 0.3));\n",
              "      fill: #FFFFFF;\n",
              "    }\n",
              "  </style>\n",
              "\n",
              "      <script>\n",
              "        const buttonEl =\n",
              "          document.querySelector('#df-dc677579-f366-467f-9480-afdaf9fbe68e button.colab-df-convert');\n",
              "        buttonEl.style.display =\n",
              "          google.colab.kernel.accessAllowed ? 'block' : 'none';\n",
              "\n",
              "        async function convertToInteractive(key) {\n",
              "          const element = document.querySelector('#df-dc677579-f366-467f-9480-afdaf9fbe68e');\n",
              "          const dataTable =\n",
              "            await google.colab.kernel.invokeFunction('convertToInteractive',\n",
              "                                                     [key], {});\n",
              "          if (!dataTable) return;\n",
              "\n",
              "          const docLinkHtml = 'Like what you see? Visit the ' +\n",
              "            '<a target=\"_blank\" href=https://colab.research.google.com/notebooks/data_table.ipynb>data table notebook</a>'\n",
              "            + ' to learn more about interactive tables.';\n",
              "          element.innerHTML = '';\n",
              "          dataTable['output_type'] = 'display_data';\n",
              "          await google.colab.output.renderOutput(dataTable, element);\n",
              "          const docLink = document.createElement('div');\n",
              "          docLink.innerHTML = docLinkHtml;\n",
              "          element.appendChild(docLink);\n",
              "        }\n",
              "      </script>\n",
              "    </div>\n",
              "  </div>\n",
              "  "
            ]
          },
          "metadata": {},
          "execution_count": 33
        }
      ],
      "source": [
        "\n",
        "\n",
        "df = pd.read_csv(\"IBM.csv\")\n",
        "df.dropna(axis=0,inplace=True)\n",
        "df=df[df.FutureTrend !='Neutral']\n",
        "\n",
        "df.tail()"
      ]
    },
    {
      "cell_type": "code",
      "execution_count": 34,
      "metadata": {
        "colab": {
          "base_uri": "https://localhost:8080/"
        },
        "id": "inZfNdQuBqsK",
        "outputId": "5647d4d3-57cf-48cf-fb53-eb2fd62ce528"
      },
      "outputs": [
        {
          "output_type": "execute_result",
          "data": {
            "text/plain": [
              "Negative    399\n",
              "Positive    353\n",
              "Name: FutureTrend, dtype: int64"
            ]
          },
          "metadata": {},
          "execution_count": 34
        }
      ],
      "source": [
        "df['FutureTrend'].value_counts()"
      ]
    },
    {
      "cell_type": "code",
      "execution_count": 35,
      "metadata": {
        "id": "w0d72pShAecx"
      },
      "outputs": [],
      "source": [
        "# Setting Index as Date\n",
        "appl_df = df.set_index(\"Date\")\n",
        "appl_df.tail()\n",
        "#drop na\n",
        "appl_df.dropna(axis=0,inplace=True)"
      ]
    },
    {
      "cell_type": "code",
      "source": [
        "\n",
        "\n",
        "import matplotlib.pyplot as plt\n",
        "mpgs = df['EF_1']\n",
        "plt.hist(mpgs, bins=5)\n",
        "ef1_cut=plt.hist(mpgs, bins=5)[1]\n",
        "plt.show()\n",
        "import matplotlib.pyplot as plt\n",
        "mpgs = df['Twitter Sentiments']\n",
        "plt.hist(mpgs, bins=5)\n",
        "plt.show()\n",
        "twitter_cut=plt.hist(mpgs, bins=3)[1]\n",
        "print(plt.hist(mpgs, bins=3)[1]\n",
        ")\n",
        "\n",
        "\n",
        "\n",
        "def make_bins(df):\n",
        "   label_names = [\"Ef_1_v_low\",\"Ef_1_low\",\"Ef_1_v_med\",\"Ef1_high\", \"Ef1_very_high\" ]\n",
        "   cut_points =ef1_cut\n",
        "   df[\"EF_1_val\"] = pd.cut(df[\"EF_1\"], cut_points, labels=label_names)\n",
        "   dummies = pd.get_dummies(df[\"EF_1_val\"],drop_first=True)\n",
        "   df = pd.concat([df, dummies], axis=1)\n",
        "   label_names = [\"setinent_neutral\",\"sentiment_good\",\"sentiment_bad\"]\n",
        "   cut_points =twitter_cut\n",
        "   df[\"sentiments\"]=pd.cut(df['Twitter Sentiments'], cut_points, labels=label_names)\n",
        "   dummies1 = pd.get_dummies(df[\"sentiments\"],drop_first=True)\n",
        "   df = pd.concat([df, dummies1], axis=1)\n",
        "   df.drop([\"EF_1_val\",\"sentiments\"],axis=1,inplace=True)\n",
        "   return df\n",
        "\n",
        "def calculate_ema(prices, days, smoothing=2):\n",
        "      ema = [sum(prices[:days]) / days]\n",
        "      for price in prices[days:]:\n",
        "          ema.append((price * (smoothing / (1 + days))) + ema[-1] * (1 - (smoothing / (1 + days))))\n",
        "      return ema"
      ],
      "metadata": {
        "id": "QV-jqcvSc4cZ",
        "outputId": "87eec80a-7443-4429-a73b-94b8aacc1d9b",
        "colab": {
          "base_uri": "https://localhost:8080/",
          "height": 781
        }
      },
      "execution_count": 36,
      "outputs": [
        {
          "output_type": "display_data",
          "data": {
            "text/plain": [
              "<Figure size 432x288 with 1 Axes>"
            ],
            "image/png": "[encoded data removed]"
          },
          "metadata": {
            "needs_background": "light"
          }
        },
        {
          "output_type": "display_data",
          "data": {
            "text/plain": [
              "<Figure size 432x288 with 1 Axes>"
            ],
            "image/png": "[encoded data removed]"
          },
          "metadata": {
            "needs_background": "light"
          }
        },
        {
          "output_type": "stream",
          "name": "stdout",
          "text": [
            "[   0.         1807.66666667 3615.33333333 5423.        ]\n"
          ]
        },
        {
          "output_type": "display_data",
          "data": {
            "text/plain": [
              "<Figure size 432x288 with 1 Axes>"
            ],
            "image/png": "[encoded data removed]"
          },
          "metadata": {
            "needs_background": "light"
          }
        }
      ]
    },
    {
      "cell_type": "code",
      "source": [
        "appl_df.head()"
      ],
      "metadata": {
        "colab": {
          "base_uri": "https://localhost:8080/",
          "height": 238
        },
        "id": "jTBW6sJVj_rO",
        "outputId": "c9b6f478-11ed-4306-94a9-341c3e8ddcf7"
      },
      "execution_count": 37,
      "outputs": [
        {
          "output_type": "execute_result",
          "data": {
            "text/plain": [
              "                  Open        High         Low       Close   Volume      EF_1  \\\n",
              "Date                                                                            \n",
              "02/07/2018  138.279999  140.220001  138.199997  139.860001  3405400  0.821782   \n",
              "03/07/2018  140.649994  140.940002  139.369995  139.570007  1963200  0.127396   \n",
              "05/07/2018  140.479996  141.429993  139.929993  141.429993  3744700  1.000000   \n",
              "06/07/2018  141.529999  142.940002  141.169998  142.479996  2849000  0.740110   \n",
              "09/07/2018  142.589996  144.720001  142.470001  144.389999  3904700  0.853333   \n",
              "\n",
              "                EF_2 Oil FutureTrend Gold FutureTrend     Trend  \\\n",
              "Date                                                              \n",
              "02/07/2018  1.142611        Positive         Negative  Positive   \n",
              "03/07/2018 -0.767854         Neutral          Neutral  Negative   \n",
              "05/07/2018  0.676251        Negative         Positive  Positive   \n",
              "06/07/2018  0.671234        Negative         Negative  Positive   \n",
              "09/07/2018  1.262363        Negative         Positive  Positive   \n",
              "\n",
              "            Twitter Sentiments FutureTrend  \n",
              "Date                                        \n",
              "02/07/2018                 574    Positive  \n",
              "03/07/2018                 720    Negative  \n",
              "05/07/2018                 906    Negative  \n",
              "06/07/2018                 837    Negative  \n",
              "09/07/2018                 714    Negative  "
            ],
            "text/html": [
              "\n",
              "  <div id=\"df-60de3b8e-6177-498b-bb8d-c93074b27698\">\n",
              "    <div class=\"colab-df-container\">\n",
              "      <div>\n",
              "<style scoped>\n",
              "    .dataframe tbody tr th:only-of-type {\n",
              "        vertical-align: middle;\n",
              "    }\n",
              "\n",
              "    .dataframe tbody tr th {\n",
              "        vertical-align: top;\n",
              "    }\n",
              "\n",
              "    .dataframe thead th {\n",
              "        text-align: right;\n",
              "    }\n",
              "</style>\n",
              "<table border=\"1\" class=\"dataframe\">\n",
              "  <thead>\n",
              "    <tr style=\"text-align: right;\">\n",
              "      <th></th>\n",
              "      <th>Open</th>\n",
              "      <th>High</th>\n",
              "      <th>Low</th>\n",
              "      <th>Close</th>\n",
              "      <th>Volume</th>\n",
              "      <th>EF_1</th>\n",
              "      <th>EF_2</th>\n",
              "      <th>Oil FutureTrend</th>\n",
              "      <th>Gold FutureTrend</th>\n",
              "      <th>Trend</th>\n",
              "      <th>Twitter Sentiments</th>\n",
              "      <th>FutureTrend</th>\n",
              "    </tr>\n",
              "    <tr>\n",
              "      <th>Date</th>\n",
              "      <th></th>\n",
              "      <th></th>\n",
              "      <th></th>\n",
              "      <th></th>\n",
              "      <th></th>\n",
              "      <th></th>\n",
              "      <th></th>\n",
              "      <th></th>\n",
              "      <th></th>\n",
              "      <th></th>\n",
              "      <th></th>\n",
              "      <th></th>\n",
              "    </tr>\n",
              "  </thead>\n",
              "  <tbody>\n",
              "    <tr>\n",
              "      <th>02/07/2018</th>\n",
              "      <td>138.279999</td>\n",
              "      <td>140.220001</td>\n",
              "      <td>138.199997</td>\n",
              "      <td>139.860001</td>\n",
              "      <td>3405400</td>\n",
              "      <td>0.821782</td>\n",
              "      <td>1.142611</td>\n",
              "      <td>Positive</td>\n",
              "      <td>Negative</td>\n",
              "      <td>Positive</td>\n",
              "      <td>574</td>\n",
              "      <td>Positive</td>\n",
              "    </tr>\n",
              "    <tr>\n",
              "      <th>03/07/2018</th>\n",
              "      <td>140.649994</td>\n",
              "      <td>140.940002</td>\n",
              "      <td>139.369995</td>\n",
              "      <td>139.570007</td>\n",
              "      <td>1963200</td>\n",
              "      <td>0.127396</td>\n",
              "      <td>-0.767854</td>\n",
              "      <td>Neutral</td>\n",
              "      <td>Neutral</td>\n",
              "      <td>Negative</td>\n",
              "      <td>720</td>\n",
              "      <td>Negative</td>\n",
              "    </tr>\n",
              "    <tr>\n",
              "      <th>05/07/2018</th>\n",
              "      <td>140.479996</td>\n",
              "      <td>141.429993</td>\n",
              "      <td>139.929993</td>\n",
              "      <td>141.429993</td>\n",
              "      <td>3744700</td>\n",
              "      <td>1.000000</td>\n",
              "      <td>0.676251</td>\n",
              "      <td>Negative</td>\n",
              "      <td>Positive</td>\n",
              "      <td>Positive</td>\n",
              "      <td>906</td>\n",
              "      <td>Negative</td>\n",
              "    </tr>\n",
              "    <tr>\n",
              "      <th>06/07/2018</th>\n",
              "      <td>141.529999</td>\n",
              "      <td>142.940002</td>\n",
              "      <td>141.169998</td>\n",
              "      <td>142.479996</td>\n",
              "      <td>2849000</td>\n",
              "      <td>0.740110</td>\n",
              "      <td>0.671234</td>\n",
              "      <td>Negative</td>\n",
              "      <td>Negative</td>\n",
              "      <td>Positive</td>\n",
              "      <td>837</td>\n",
              "      <td>Negative</td>\n",
              "    </tr>\n",
              "    <tr>\n",
              "      <th>09/07/2018</th>\n",
              "      <td>142.589996</td>\n",
              "      <td>144.720001</td>\n",
              "      <td>142.470001</td>\n",
              "      <td>144.389999</td>\n",
              "      <td>3904700</td>\n",
              "      <td>0.853333</td>\n",
              "      <td>1.262363</td>\n",
              "      <td>Negative</td>\n",
              "      <td>Positive</td>\n",
              "      <td>Positive</td>\n",
              "      <td>714</td>\n",
              "      <td>Negative</td>\n",
              "    </tr>\n",
              "  </tbody>\n",
              "</table>\n",
              "</div>\n",
              "      <button class=\"colab-df-convert\" onclick=\"convertToInteractive('df-60de3b8e-6177-498b-bb8d-c93074b27698')\"\n",
              "              title=\"Convert this dataframe to an interactive table.\"\n",
              "              style=\"display:none;\">\n",
              "        \n",
              "  <svg xmlns=\"http://www.w3.org/2000/svg\" height=\"24px\"viewBox=\"0 0 24 24\"\n",
              "       width=\"24px\">\n",
              "    <path d=\"M0 0h24v24H0V0z\" fill=\"none\"/>\n",
              "    <path d=\"M18.56 5.44l.94 2.06.94-2.06 2.06-.94-2.06-.94-.94-2.06-.94 2.06-2.06.94zm-11 1L8.5 8.5l.94-2.06 2.06-.94-2.06-.94L8.5 2.5l-.94 2.06-2.06.94zm10 10l.94 2.06.94-2.06 2.06-.94-2.06-.94-.94-2.06-.94 2.06-2.06.94z\"/><path d=\"M17.41 7.96l-1.37-1.37c-.4-.4-.92-.59-1.43-.59-.52 0-1.04.2-1.43.59L10.3 9.45l-7.72 7.72c-.78.78-.78 2.05 0 2.83L4 21.41c.39.39.9.59 1.41.59.51 0 1.02-.2 1.41-.59l7.78-7.78 2.81-2.81c.8-.78.8-2.07 0-2.86zM5.41 20L4 18.59l7.72-7.72 1.47 1.35L5.41 20z\"/>\n",
              "  </svg>\n",
              "      </button>\n",
              "      \n",
              "  <style>\n",
              "    .colab-df-container {\n",
              "      display:flex;\n",
              "      flex-wrap:wrap;\n",
              "      gap: 12px;\n",
              "    }\n",
              "\n",
              "    .colab-df-convert {\n",
              "      background-color: #E8F0FE;\n",
              "      border: none;\n",
              "      border-radius: 50%;\n",
              "      cursor: pointer;\n",
              "      display: none;\n",
              "      fill: #1967D2;\n",
              "      height: 32px;\n",
              "      padding: 0 0 0 0;\n",
              "      width: 32px;\n",
              "    }\n",
              "\n",
              "    .colab-df-convert:hover {\n",
              "      background-color: #E2EBFA;\n",
              "      box-shadow: 0px 1px 2px rgba(60, 64, 67, 0.3), 0px 1px 3px 1px rgba(60, 64, 67, 0.15);\n",
              "      fill: #174EA6;\n",
              "    }\n",
              "\n",
              "    [theme=dark] .colab-df-convert {\n",
              "      background-color: #3B4455;\n",
              "      fill: #D2E3FC;\n",
              "    }\n",
              "\n",
              "    [theme=dark] .colab-df-convert:hover {\n",
              "      background-color: #434B5C;\n",
              "      box-shadow: 0px 1px 3px 1px rgba(0, 0, 0, 0.15);\n",
              "      filter: drop-shadow(0px 1px 2px rgba(0, 0, 0, 0.3));\n",
              "      fill: #FFFFFF;\n",
              "    }\n",
              "  </style>\n",
              "\n",
              "      <script>\n",
              "        const buttonEl =\n",
              "          document.querySelector('#df-60de3b8e-6177-498b-bb8d-c93074b27698 button.colab-df-convert');\n",
              "        buttonEl.style.display =\n",
              "          google.colab.kernel.accessAllowed ? 'block' : 'none';\n",
              "\n",
              "        async function convertToInteractive(key) {\n",
              "          const element = document.querySelector('#df-60de3b8e-6177-498b-bb8d-c93074b27698');\n",
              "          const dataTable =\n",
              "            await google.colab.kernel.invokeFunction('convertToInteractive',\n",
              "                                                     [key], {});\n",
              "          if (!dataTable) return;\n",
              "\n",
              "          const docLinkHtml = 'Like what you see? Visit the ' +\n",
              "            '<a target=\"_blank\" href=https://colab.research.google.com/notebooks/data_table.ipynb>data table notebook</a>'\n",
              "            + ' to learn more about interactive tables.';\n",
              "          element.innerHTML = '';\n",
              "          dataTable['output_type'] = 'display_data';\n",
              "          await google.colab.output.renderOutput(dataTable, element);\n",
              "          const docLink = document.createElement('div');\n",
              "          docLink.innerHTML = docLinkHtml;\n",
              "          element.appendChild(docLink);\n",
              "        }\n",
              "      </script>\n",
              "    </div>\n",
              "  </div>\n",
              "  "
            ]
          },
          "metadata": {},
          "execution_count": 37
        }
      ]
    },
    {
      "cell_type": "code",
      "execution_count": 38,
      "metadata": {
        "id": "M6oMkkxrqXHr",
        "colab": {
          "base_uri": "https://localhost:8080/",
          "height": 288
        },
        "outputId": "0b7fc876-c342-44c1-f27f-667a96c04b73"
      },
      "outputs": [
        {
          "output_type": "execute_result",
          "data": {
            "text/plain": [
              "          Date         Low     Volume      EF_1 Oil FutureTrend  \\\n",
              "9   16/07/2018  144.210007  15.059319  0.791146        Negative   \n",
              "10  17/07/2018  143.339996  15.444104  0.090367        Negative   \n",
              "11  18/07/2018  142.740005  15.752135  0.864078        Negative   \n",
              "12  19/07/2018  147.250000  16.500347  0.604866        Negative   \n",
              "13  20/07/2018  146.259995  15.674087  0.034620        Positive   \n",
              "\n",
              "   Gold FutureTrend     Trend  Ef_1_low  Ef_1_v_med  Ef1_high  Ef1_very_high  \\\n",
              "9          Positive  Negative         0           0         1              0   \n",
              "10         Negative  Negative         0           0         0              0   \n",
              "11         Positive  Positive         0           0         0              1   \n",
              "12         Negative  Positive         0           0         1              0   \n",
              "13         Positive  Negative         0           0         0              0   \n",
              "\n",
              "    sentiment_good  sentiment_bad      diff       10day         ema  signal  \n",
              "9                0              0 -0.209992  143.519000  143.519000   False  \n",
              "10               0              0 -1.259995  143.882001  143.513728    True  \n",
              "11               1              0  1.010010  144.377000  143.696688   False  \n",
              "12               0              0  1.389999  145.158002  144.704564   False  \n",
              "13               0              0 -2.229996  145.545003  145.003735   False  "
            ],
            "text/html": [
              "\n",
              "  <div id=\"df-28b5749d-6f10-41ec-9d15-83a5bceb65a6\">\n",
              "    <div class=\"colab-df-container\">\n",
              "      <div>\n",
              "<style scoped>\n",
              "    .dataframe tbody tr th:only-of-type {\n",
              "        vertical-align: middle;\n",
              "    }\n",
              "\n",
              "    .dataframe tbody tr th {\n",
              "        vertical-align: top;\n",
              "    }\n",
              "\n",
              "    .dataframe thead th {\n",
              "        text-align: right;\n",
              "    }\n",
              "</style>\n",
              "<table border=\"1\" class=\"dataframe\">\n",
              "  <thead>\n",
              "    <tr style=\"text-align: right;\">\n",
              "      <th></th>\n",
              "      <th>Date</th>\n",
              "      <th>Low</th>\n",
              "      <th>Volume</th>\n",
              "      <th>EF_1</th>\n",
              "      <th>Oil FutureTrend</th>\n",
              "      <th>Gold FutureTrend</th>\n",
              "      <th>Trend</th>\n",
              "      <th>Ef_1_low</th>\n",
              "      <th>Ef_1_v_med</th>\n",
              "      <th>Ef1_high</th>\n",
              "      <th>Ef1_very_high</th>\n",
              "      <th>sentiment_good</th>\n",
              "      <th>sentiment_bad</th>\n",
              "      <th>diff</th>\n",
              "      <th>10day</th>\n",
              "      <th>ema</th>\n",
              "      <th>signal</th>\n",
              "    </tr>\n",
              "  </thead>\n",
              "  <tbody>\n",
              "    <tr>\n",
              "      <th>9</th>\n",
              "      <td>16/07/2018</td>\n",
              "      <td>144.210007</td>\n",
              "      <td>15.059319</td>\n",
              "      <td>0.791146</td>\n",
              "      <td>Negative</td>\n",
              "      <td>Positive</td>\n",
              "      <td>Negative</td>\n",
              "      <td>0</td>\n",
              "      <td>0</td>\n",
              "      <td>1</td>\n",
              "      <td>0</td>\n",
              "      <td>0</td>\n",
              "      <td>0</td>\n",
              "      <td>-0.209992</td>\n",
              "      <td>143.519000</td>\n",
              "      <td>143.519000</td>\n",
              "      <td>False</td>\n",
              "    </tr>\n",
              "    <tr>\n",
              "      <th>10</th>\n",
              "      <td>17/07/2018</td>\n",
              "      <td>143.339996</td>\n",
              "      <td>15.444104</td>\n",
              "      <td>0.090367</td>\n",
              "      <td>Negative</td>\n",
              "      <td>Negative</td>\n",
              "      <td>Negative</td>\n",
              "      <td>0</td>\n",
              "      <td>0</td>\n",
              "      <td>0</td>\n",
              "      <td>0</td>\n",
              "      <td>0</td>\n",
              "      <td>0</td>\n",
              "      <td>-1.259995</td>\n",
              "      <td>143.882001</td>\n",
              "      <td>143.513728</td>\n",
              "      <td>True</td>\n",
              "    </tr>\n",
              "    <tr>\n",
              "      <th>11</th>\n",
              "      <td>18/07/2018</td>\n",
              "      <td>142.740005</td>\n",
              "      <td>15.752135</td>\n",
              "      <td>0.864078</td>\n",
              "      <td>Negative</td>\n",
              "      <td>Positive</td>\n",
              "      <td>Positive</td>\n",
              "      <td>0</td>\n",
              "      <td>0</td>\n",
              "      <td>0</td>\n",
              "      <td>1</td>\n",
              "      <td>1</td>\n",
              "      <td>0</td>\n",
              "      <td>1.010010</td>\n",
              "      <td>144.377000</td>\n",
              "      <td>143.696688</td>\n",
              "      <td>False</td>\n",
              "    </tr>\n",
              "    <tr>\n",
              "      <th>12</th>\n",
              "      <td>19/07/2018</td>\n",
              "      <td>147.250000</td>\n",
              "      <td>16.500347</td>\n",
              "      <td>0.604866</td>\n",
              "      <td>Negative</td>\n",
              "      <td>Negative</td>\n",
              "      <td>Positive</td>\n",
              "      <td>0</td>\n",
              "      <td>0</td>\n",
              "      <td>1</td>\n",
              "      <td>0</td>\n",
              "      <td>0</td>\n",
              "      <td>0</td>\n",
              "      <td>1.389999</td>\n",
              "      <td>145.158002</td>\n",
              "      <td>144.704564</td>\n",
              "      <td>False</td>\n",
              "    </tr>\n",
              "    <tr>\n",
              "      <th>13</th>\n",
              "      <td>20/07/2018</td>\n",
              "      <td>146.259995</td>\n",
              "      <td>15.674087</td>\n",
              "      <td>0.034620</td>\n",
              "      <td>Positive</td>\n",
              "      <td>Positive</td>\n",
              "      <td>Negative</td>\n",
              "      <td>0</td>\n",
              "      <td>0</td>\n",
              "      <td>0</td>\n",
              "      <td>0</td>\n",
              "      <td>0</td>\n",
              "      <td>0</td>\n",
              "      <td>-2.229996</td>\n",
              "      <td>145.545003</td>\n",
              "      <td>145.003735</td>\n",
              "      <td>False</td>\n",
              "    </tr>\n",
              "  </tbody>\n",
              "</table>\n",
              "</div>\n",
              "      <button class=\"colab-df-convert\" onclick=\"convertToInteractive('df-28b5749d-6f10-41ec-9d15-83a5bceb65a6')\"\n",
              "              title=\"Convert this dataframe to an interactive table.\"\n",
              "              style=\"display:none;\">\n",
              "        \n",
              "  <svg xmlns=\"http://www.w3.org/2000/svg\" height=\"24px\"viewBox=\"0 0 24 24\"\n",
              "       width=\"24px\">\n",
              "    <path d=\"M0 0h24v24H0V0z\" fill=\"none\"/>\n",
              "    <path d=\"M18.56 5.44l.94 2.06.94-2.06 2.06-.94-2.06-.94-.94-2.06-.94 2.06-2.06.94zm-11 1L8.5 8.5l.94-2.06 2.06-.94-2.06-.94L8.5 2.5l-.94 2.06-2.06.94zm10 10l.94 2.06.94-2.06 2.06-.94-2.06-.94-.94-2.06-.94 2.06-2.06.94z\"/><path d=\"M17.41 7.96l-1.37-1.37c-.4-.4-.92-.59-1.43-.59-.52 0-1.04.2-1.43.59L10.3 9.45l-7.72 7.72c-.78.78-.78 2.05 0 2.83L4 21.41c.39.39.9.59 1.41.59.51 0 1.02-.2 1.41-.59l7.78-7.78 2.81-2.81c.8-.78.8-2.07 0-2.86zM5.41 20L4 18.59l7.72-7.72 1.47 1.35L5.41 20z\"/>\n",
              "  </svg>\n",
              "      </button>\n",
              "      \n",
              "  <style>\n",
              "    .colab-df-container {\n",
              "      display:flex;\n",
              "      flex-wrap:wrap;\n",
              "      gap: 12px;\n",
              "    }\n",
              "\n",
              "    .colab-df-convert {\n",
              "      background-color: #E8F0FE;\n",
              "      border: none;\n",
              "      border-radius: 50%;\n",
              "      cursor: pointer;\n",
              "      display: none;\n",
              "      fill: #1967D2;\n",
              "      height: 32px;\n",
              "      padding: 0 0 0 0;\n",
              "      width: 32px;\n",
              "    }\n",
              "\n",
              "    .colab-df-convert:hover {\n",
              "      background-color: #E2EBFA;\n",
              "      box-shadow: 0px 1px 2px rgba(60, 64, 67, 0.3), 0px 1px 3px 1px rgba(60, 64, 67, 0.15);\n",
              "      fill: #174EA6;\n",
              "    }\n",
              "\n",
              "    [theme=dark] .colab-df-convert {\n",
              "      background-color: #3B4455;\n",
              "      fill: #D2E3FC;\n",
              "    }\n",
              "\n",
              "    [theme=dark] .colab-df-convert:hover {\n",
              "      background-color: #434B5C;\n",
              "      box-shadow: 0px 1px 3px 1px rgba(0, 0, 0, 0.15);\n",
              "      filter: drop-shadow(0px 1px 2px rgba(0, 0, 0, 0.3));\n",
              "      fill: #FFFFFF;\n",
              "    }\n",
              "  </style>\n",
              "\n",
              "      <script>\n",
              "        const buttonEl =\n",
              "          document.querySelector('#df-28b5749d-6f10-41ec-9d15-83a5bceb65a6 button.colab-df-convert');\n",
              "        buttonEl.style.display =\n",
              "          google.colab.kernel.accessAllowed ? 'block' : 'none';\n",
              "\n",
              "        async function convertToInteractive(key) {\n",
              "          const element = document.querySelector('#df-28b5749d-6f10-41ec-9d15-83a5bceb65a6');\n",
              "          const dataTable =\n",
              "            await google.colab.kernel.invokeFunction('convertToInteractive',\n",
              "                                                     [key], {});\n",
              "          if (!dataTable) return;\n",
              "\n",
              "          const docLinkHtml = 'Like what you see? Visit the ' +\n",
              "            '<a target=\"_blank\" href=https://colab.research.google.com/notebooks/data_table.ipynb>data table notebook</a>'\n",
              "            + ' to learn more about interactive tables.';\n",
              "          element.innerHTML = '';\n",
              "          dataTable['output_type'] = 'display_data';\n",
              "          await google.colab.output.renderOutput(dataTable, element);\n",
              "          const docLink = document.createElement('div');\n",
              "          docLink.innerHTML = docLinkHtml;\n",
              "          element.appendChild(docLink);\n",
              "        }\n",
              "      </script>\n",
              "    </div>\n",
              "  </div>\n",
              "  "
            ]
          },
          "metadata": {},
          "execution_count": 38
        }
      ],
      "source": [
        "target=df['FutureTrend']\n",
        "df=df.drop(\"FutureTrend\",axis =1)\n",
        "target= target.replace(['Negative','Positive',  'Neutral'],[0,1,2])\n",
        "appl_df=df\n",
        "appl_df = make_bins(df)\n",
        "appl_df.head(2)\n",
        "appl_df=appl_df.drop([\"Twitter Sentiments\"],axis =1)\n",
        "appl_df['diff']=appl_df['Close']-appl_df['Open']\n",
        "appl_df['10day']=appl_df['Close'].rolling(10).mean()\n",
        "appl_df['10day'].fillna(appl_df['10day'][9],inplace=True)\n",
        "appl_df['Volume']=np.log(appl_df['Volume'])\n",
        "ema = calculate_ema(appl_df['Close'], 10)\n",
        "appl_df=appl_df[9:]\n",
        "target=target[9:]\n",
        "\n",
        "appl_df['ema']=ema\n",
        "appl_df['signal']=appl_df['ema']>appl_df['Close']\n",
        "\n",
        "del (appl_df['Open'])\n",
        "del (appl_df['Close'])\n",
        "del (appl_df['High'])\n",
        "del (appl_df['EF_2'])\n",
        "\n",
        "\n",
        "\n",
        "# appl_df['normVol'] = appl_df['Volume'] / appl_df['Volume'].ewm(5).mean()   \n",
        "\n",
        "appl_df.head()"
      ]
    },
    {
      "cell_type": "code",
      "execution_count": 39,
      "metadata": {
        "colab": {
          "base_uri": "https://localhost:8080/"
        },
        "id": "xg7fbX4SmRli",
        "outputId": "89a485b4-0b6d-461c-f387-8b7e04aa713c"
      },
      "outputs": [
        {
          "output_type": "stream",
          "name": "stdout",
          "text": [
            "['Oil FutureTrend', 'Gold FutureTrend', 'Trend']\n"
          ]
        }
      ],
      "source": [
        "new_df=appl_df\n",
        "new_df.set_index('Date',inplace=True)\n",
        "numerical_columns_selector = selector(dtype_exclude=object)\n",
        "categorical_columns_selector = selector(dtype_include=object)\n",
        "numerical_columns = numerical_columns_selector(new_df)\n",
        "categorical_columns = categorical_columns_selector(new_df)\n",
        "print(categorical_columns)\n",
        "preprocessor = ColumnTransformer([\n",
        "    ('one-hot-encoder', categorical_preprocessor, categorical_columns),\n",
        "    ('minmax-scaler', numerical_preprocessor, numerical_columns)])\n",
        "\n"
      ]
    },
    {
      "cell_type": "code",
      "source": [
        "\n",
        "model_rf1 =make_pipeline(preprocessor,RandomForestClassifier(n_estimators=30,\n",
        "                                      max_features=2,\n",
        "                                      max_depth=3,\n",
        "                                      random_state=0))\n",
        "X_train,X_test, y_train, y_test = train_test_split(new_df, target, test_size=0.1, random_state=42)\n",
        "  # Scoring the model\n",
        "model_rf1.fit(X_train,y_train)\n",
        "print(\"Accuracy score (training): {0:.3f}\".format(\n",
        "        model_rf1.score(\n",
        "            X_train, \n",
        "            y_train)))\n",
        "print(\"Accuracy score (validation): {0:.3f}\".format(\n",
        "        model_rf1.score(\n",
        "            X_test, \n",
        "            y_test)))\n"
      ],
      "metadata": {
        "colab": {
          "base_uri": "https://localhost:8080/"
        },
        "id": "L0oZC2AR20NH",
        "outputId": "409fe5ed-4d50-4d2a-f5a8-3721a51b5d5a"
      },
      "execution_count": 40,
      "outputs": [
        {
          "output_type": "stream",
          "name": "stdout",
          "text": [
            "Accuracy score (training): 0.657\n",
            "Accuracy score (validation): 0.507\n"
          ]
        }
      ]
    },
    {
      "cell_type": "code",
      "source": [
        "df_t=preprocessor.fit_transform(new_df)\n",
        "df_t"
      ],
      "metadata": {
        "colab": {
          "base_uri": "https://localhost:8080/"
        },
        "id": "iGbs2cjWlNKg",
        "outputId": "c2701f92-52b0-412c-fd6f-d7a9fd46cc0d"
      },
      "execution_count": 41,
      "outputs": [
        {
          "output_type": "execute_result",
          "data": {
            "text/plain": [
              "array([[ 1.        ,  0.        ,  0.        , ...,  1.06017436,\n",
              "         1.08552719, -0.87216025],\n",
              "       [ 1.        ,  0.        ,  0.        , ...,  1.09349757,\n",
              "         1.08503216,  1.14657828],\n",
              "       [ 1.        ,  0.        ,  0.        , ...,  1.13893823,\n",
              "         1.1022124 , -0.87216025],\n",
              "       ...,\n",
              "       [ 0.        ,  0.        ,  1.        , ...,  1.34153934,\n",
              "         1.35725338, -0.87216025],\n",
              "       [ 1.        ,  0.        ,  0.        , ...,  1.2980264 ,\n",
              "         1.33808493,  1.14657828],\n",
              "       [ 1.        ,  0.        ,  0.        , ...,  1.26305086,\n",
              "         1.32684083,  1.14657828]])"
            ]
          },
          "metadata": {},
          "execution_count": 41
        }
      ]
    },
    {
      "cell_type": "markdown",
      "metadata": {
        "id": "QOHLB3FUrr4S"
      },
      "source": [
        "train_test splt"
      ]
    },
    {
      "cell_type": "code",
      "execution_count": 42,
      "metadata": {
        "id": "A_1VcDQXrt9k"
      },
      "outputs": [],
      "source": [
        "\n",
        "\n",
        "from sklearn.pipeline import make_pipeline\n",
        "\n",
        "model_rf =RandomForestClassifier(n_estimators=30,\n",
        "                                      max_features=2,\n",
        "                                      max_depth=3,\n",
        "                                      random_state=0)"
      ]
    },
    {
      "cell_type": "code",
      "execution_count": 43,
      "metadata": {
        "id": "8MMrs1HEsXmQ"
      },
      "outputs": [],
      "source": [
        "X_train,X_test, y_train, y_test = train_test_split(df_t, target, test_size=0.1, random_state=42)"
      ]
    },
    {
      "cell_type": "code",
      "execution_count": 44,
      "metadata": {
        "colab": {
          "base_uri": "https://localhost:8080/"
        },
        "id": "MxEBaZOMs09x",
        "outputId": "a6c8abaa-0c87-427d-f2d4-294954f8639d"
      },
      "outputs": [
        {
          "output_type": "stream",
          "name": "stdout",
          "text": [
            "Accuracy score (training): 0.657\n",
            "Accuracy score (validation): 0.507\n"
          ]
        }
      ],
      "source": [
        "  # Scoring the model\n",
        "model_rf.fit(X_train,y_train)\n",
        "print(\"Accuracy score (training): {0:.3f}\".format(\n",
        "        model_rf.score(\n",
        "            X_train, \n",
        "            y_train)))\n",
        "print(\"Accuracy score (validation): {0:.3f}\".format(\n",
        "        model_rf.score(\n",
        "            X_test, \n",
        "            y_test)))\n"
      ]
    },
    {
      "cell_type": "markdown",
      "source": [
        "Hyper "
      ],
      "metadata": {
        "id": "n8xPog8W2q37"
      }
    },
    {
      "cell_type": "code",
      "execution_count": 45,
      "metadata": {
        "id": "FZcFbwLY4CHX"
      },
      "outputs": [],
      "source": [
        "param_grid = {\n",
        "'n_estimators': [50, 100, 200, 300],\n",
        "'min_samples_leaf': [1, 5, 10],\n",
        "'max_depth': [2, 4, 6, 8, 10],\n",
        "'max_features': ['auto', 'sqrt'],\n",
        "'bootstrap': [True, False]}"
      ]
    },
    {
      "cell_type": "code",
      "execution_count": 46,
      "metadata": {
        "id": "Kidn0_0N4CHX"
      },
      "outputs": [],
      "source": [
        "dff=preprocessor.fit_transform(new_df)\n",
        "\n",
        "\n",
        "X_train, X_test, y_train, y_test = train_test_split(dff, target, train_size= 0.2,shuffle=False)\n",
        "from imblearn.over_sampling import SMOTE\n",
        "\n",
        "# pd.DataFrame(oe_df)\n",
        "rf=RandomForestClassifier()\n",
        "model_gridsearch =   GridSearchCV(\n",
        "estimator=rf,\n",
        "param_grid=param_grid,\n",
        "scoring='accuracy',\n",
        "\n",
        "cv=5,\n",
        "refit=True,\n",
        "return_train_score=True)"
      ]
    },
    {
      "cell_type": "markdown",
      "source": [
        "Grid search"
      ],
      "metadata": {
        "id": "OJHLzx6o7LFZ"
      }
    },
    {
      "cell_type": "code",
      "execution_count": 47,
      "metadata": {
        "colab": {
          "base_uri": "https://localhost:8080/"
        },
        "id": "Iz5FfEn54CHY",
        "outputId": "8ad9c306-88bd-4bec-a5ca-2b659c21029a"
      },
      "outputs": [
        {
          "output_type": "stream",
          "name": "stdout",
          "text": [
            "GridSearchCV took %.2f seconds for %d candidate parameter settings. 240\n"
          ]
        }
      ],
      "source": [
        "model_gridsearch.fit(X_train, y_train)\n",
        "# Print the time spend and number of models ran\n",
        "print(\"GridSearchCV took %.2f seconds for %d candidate parameter settings.\" ,len(model_gridsearch.cv_results_['params']))"
      ]
    },
    {
      "cell_type": "code",
      "execution_count": 48,
      "metadata": {
        "id": "jGu7rz2c4CHY"
      },
      "outputs": [],
      "source": [
        "y_pred_grid = model_gridsearch.predict(X_test)\n",
        "accuracy_grid = accuracy_score(y_test, y_pred_grid)\n"
      ]
    },
    {
      "cell_type": "code",
      "execution_count": 49,
      "metadata": {
        "colab": {
          "base_uri": "https://localhost:8080/"
        },
        "id": "3dpzefrN4CHY",
        "outputId": "122f2892-0e74-4d0d-ac2a-e9fe1b28d43f"
      },
      "outputs": [
        {
          "output_type": "stream",
          "name": "stdout",
          "text": [
            "{'bootstrap': True, 'max_depth': 2, 'max_features': 'sqrt', 'min_samples_leaf': 10, 'n_estimators': 300}\n",
            "0.506896551724138\n"
          ]
        }
      ],
      "source": [
        "print(model_gridsearch.best_params_)\n",
        "print(model_gridsearch.best_score_)"
      ]
    },
    {
      "cell_type": "code",
      "execution_count": 50,
      "metadata": {
        "colab": {
          "base_uri": "https://localhost:8080/"
        },
        "id": "mN5u1ARd4CHZ",
        "outputId": "64176ff1-c30d-4e29-d21e-c321f50b6ac8"
      },
      "outputs": [
        {
          "output_type": "stream",
          "name": "stdout",
          "text": [
            "0.5495798319327732\n",
            "[0 0 0 0 0 0 0 0 0 0 0 0 0 0 0 0 0 0 0 0 0 0 0 0 0 0 0 0 0 0 0 0 0 0 0 0 0\n",
            " 0 0 0 0 0 0 0 0 0 0 0 0 0 0 0 0 0 0 0 0 0 0 0 0 0 0 0 0 0 0 0 0 0 0 0 0 0\n",
            " 0 0 0 0 0 0 0 0 0 0 0 0 0 0 0 0 0 0 0 0 0 0 0 0 0 0 0 0 0 0 1 1 1 1 1 1 1\n",
            " 1 1 1 1 1 1 0 0 0 0 0 0 0 0 0 0 0 0 0 0 0 0 0 0 0 0 0 0 0 0 0 0 0 0 0 0 0\n",
            " 0 0 0 0 0 0 0 0 0 0 0 0 0 0 0 0 0 0 0 0 0 0 0 0 0 0 0 0 0 0 0 0 0 0 0 0 0\n",
            " 0 0 0 0 0 0 0 0 0 0 0 0 0 0 0 0 0 0 0 0 0 0 0 0 0 0 0 0 0 0 0 0 0 0 0 0 0\n",
            " 0 0 0 0 0 0 0 0 0 0 0 0 0 0 0 0 0 0 0 0 0 1 1 1 1 1 1 1 1 1 1 1 1 1 1 1 1\n",
            " 0 0 0 0 0 0 0 1 0 0 1 0 0 0 0 0 0 0 0 0 0 0 0 0 0 0 0 0 0 0 0 0 0 0 0 0 0\n",
            " 0 0 0 0 0 0 0 0 0 0 0 0 0 0 0 0 0 0 0 0 0 0 0 0 0 0 0 0 0 0 0 0 0 0 0 0 0\n",
            " 0 0 0 0 0 0 0 0 0 0 0 0 0 0 0 0 0 0 0 0 0 0 0 0 0 0 0 0 0 0 0 0 0 0 0 0 0\n",
            " 0 0 0 0 0 0 0 0 0 0 0 0 0 0 0 0 0 0 0 0 0 0 0 0 0 0 0 0 0 0 0 0 0 0 0 0 0\n",
            " 0 0 0 0 0 0 0 0 0 0 0 0 0 0 0 0 0 0 0 0 0 0 0 0 0 0 0 0 0 0 0 0 0 0 0 0 0\n",
            " 0 0 0 0 0 0 0 0 0 0 0 0 0 0 0 0 0 0 0 0 0 0 0 0 0 0 0 0 0 0 0 0 0 0 0 0 0\n",
            " 0 0 0 0 0 0 1 1 0 0 0 0 0 0 0 0 0 0 0 0 0 0 0 0 0 0 0 0 0 0 0 0 0 0 0 0 0\n",
            " 0 0 0 0 0 0 0 0 0 0 0 0 0 0 0 0 0 0 0 0 0 0 0 0 0 0 0 0 1 0 0 0 0 0 0 0 0\n",
            " 0 0 0 0 0 0 0 0 0 0 0 0 0 0 0 0 0 0 0 0 0 0 0 1 1 1 1 1 1 1 1 0 1 0 0 0 0\n",
            " 0 0 0]\n"
          ]
        }
      ],
      "source": [
        "print (accuracy_grid)\n",
        "print(y_pred_grid)"
      ]
    },
    {
      "cell_type": "code",
      "source": [
        " np.array(np.unique(target, return_counts=True)).T"
      ],
      "metadata": {
        "colab": {
          "base_uri": "https://localhost:8080/"
        },
        "id": "uaG-CIvB967s",
        "outputId": "d49878a0-2c39-4ed2-aab0-31365c93f9e9"
      },
      "execution_count": 51,
      "outputs": [
        {
          "output_type": "execute_result",
          "data": {
            "text/plain": [
              "array([[  0, 393],\n",
              "       [  1, 350]])"
            ]
          },
          "metadata": {},
          "execution_count": 51
        }
      ]
    },
    {
      "cell_type": "code",
      "execution_count": 52,
      "metadata": {
        "colab": {
          "base_uri": "https://localhost:8080/"
        },
        "id": "Hd42NuHO4CHZ",
        "outputId": "1e879d50-0b41-47e6-f658-d13c536baec8"
      },
      "outputs": [
        {
          "output_type": "stream",
          "name": "stdout",
          "text": [
            "Accuracy score (training): 1.000\n",
            "Accuracy score (validation): 0.531\n"
          ]
        }
      ],
      "source": [
        "model_rf = RandomForestClassifier(bootstrap= True, max_depth= 10, max_features= 'auto', min_samples_leaf= 1, n_estimators= 200)\n",
        "model_rf.fit(X_train,y_train)\n",
        "  # Scoring the model\n",
        "print(\"Accuracy score (training): {0:.3f}\".format(\n",
        "        model_rf.score(\n",
        "            X_train, \n",
        "            y_train)))\n",
        "print(\"Accuracy score (validation): {0:.3f}\".format(\n",
        "        model_rf.score(\n",
        "            X_test, \n",
        "            y_test)))\n"
      ]
    },
    {
      "cell_type": "code",
      "execution_count": 53,
      "metadata": {
        "colab": {
          "base_uri": "https://localhost:8080/",
          "height": 250
        },
        "id": "tEPnmT1Ju_06",
        "outputId": "d00b4552-3471-4e69-83c7-92d8099e657b"
      },
      "outputs": [
        {
          "output_type": "execute_result",
          "data": {
            "text/plain": [
              "           Date        Open        High         Low       Close   Volume  \\\n",
              "749  23/06/2021  146.429993  146.500000  144.570007  144.610001  3202600   \n",
              "750  24/06/2021  145.800003  146.190002  144.690002  145.440002  3609700   \n",
              "751  25/06/2021  145.380005  146.929993  144.949997  146.839996  3594200   \n",
              "752  28/06/2021  147.009995  147.300003  144.910004  145.289993  3888900   \n",
              "753  29/06/2021  145.259995  146.740005  145.100006  145.550003  2428500   \n",
              "\n",
              "         EF_1      EF_2 Oil FutureTrend Gold FutureTrend     Trend  \\\n",
              "749  0.020722 -1.242909        Negative         Positive  Negative   \n",
              "750  0.500000 -0.246914        Negative         Negative  Negative   \n",
              "751  0.954547  1.004259        Positive         Negative  Positive   \n",
              "752  0.158992 -1.169989        Negative         Positive  Negative   \n",
              "753  0.274388  0.199648        Negative         Negative  Positive   \n",
              "\n",
              "     Twitter Sentiments       EF_1_val  \n",
              "749                   0     Ef_1_v_low  \n",
              "750                   0     Ef_1_v_med  \n",
              "751                   0  Ef1_very_high  \n",
              "752                   0     Ef_1_v_low  \n",
              "753                   0       Ef_1_low  "
            ],
            "text/html": [
              "\n",
              "  <div id=\"df-96247162-38bc-4429-925e-cb58a4aa2c5d\">\n",
              "    <div class=\"colab-df-container\">\n",
              "      <div>\n",
              "<style scoped>\n",
              "    .dataframe tbody tr th:only-of-type {\n",
              "        vertical-align: middle;\n",
              "    }\n",
              "\n",
              "    .dataframe tbody tr th {\n",
              "        vertical-align: top;\n",
              "    }\n",
              "\n",
              "    .dataframe thead th {\n",
              "        text-align: right;\n",
              "    }\n",
              "</style>\n",
              "<table border=\"1\" class=\"dataframe\">\n",
              "  <thead>\n",
              "    <tr style=\"text-align: right;\">\n",
              "      <th></th>\n",
              "      <th>Date</th>\n",
              "      <th>Open</th>\n",
              "      <th>High</th>\n",
              "      <th>Low</th>\n",
              "      <th>Close</th>\n",
              "      <th>Volume</th>\n",
              "      <th>EF_1</th>\n",
              "      <th>EF_2</th>\n",
              "      <th>Oil FutureTrend</th>\n",
              "      <th>Gold FutureTrend</th>\n",
              "      <th>Trend</th>\n",
              "      <th>Twitter Sentiments</th>\n",
              "      <th>EF_1_val</th>\n",
              "    </tr>\n",
              "  </thead>\n",
              "  <tbody>\n",
              "    <tr>\n",
              "      <th>749</th>\n",
              "      <td>23/06/2021</td>\n",
              "      <td>146.429993</td>\n",
              "      <td>146.500000</td>\n",
              "      <td>144.570007</td>\n",
              "      <td>144.610001</td>\n",
              "      <td>3202600</td>\n",
              "      <td>0.020722</td>\n",
              "      <td>-1.242909</td>\n",
              "      <td>Negative</td>\n",
              "      <td>Positive</td>\n",
              "      <td>Negative</td>\n",
              "      <td>0</td>\n",
              "      <td>Ef_1_v_low</td>\n",
              "    </tr>\n",
              "    <tr>\n",
              "      <th>750</th>\n",
              "      <td>24/06/2021</td>\n",
              "      <td>145.800003</td>\n",
              "      <td>146.190002</td>\n",
              "      <td>144.690002</td>\n",
              "      <td>145.440002</td>\n",
              "      <td>3609700</td>\n",
              "      <td>0.500000</td>\n",
              "      <td>-0.246914</td>\n",
              "      <td>Negative</td>\n",
              "      <td>Negative</td>\n",
              "      <td>Negative</td>\n",
              "      <td>0</td>\n",
              "      <td>Ef_1_v_med</td>\n",
              "    </tr>\n",
              "    <tr>\n",
              "      <th>751</th>\n",
              "      <td>25/06/2021</td>\n",
              "      <td>145.380005</td>\n",
              "      <td>146.929993</td>\n",
              "      <td>144.949997</td>\n",
              "      <td>146.839996</td>\n",
              "      <td>3594200</td>\n",
              "      <td>0.954547</td>\n",
              "      <td>1.004259</td>\n",
              "      <td>Positive</td>\n",
              "      <td>Negative</td>\n",
              "      <td>Positive</td>\n",
              "      <td>0</td>\n",
              "      <td>Ef1_very_high</td>\n",
              "    </tr>\n",
              "    <tr>\n",
              "      <th>752</th>\n",
              "      <td>28/06/2021</td>\n",
              "      <td>147.009995</td>\n",
              "      <td>147.300003</td>\n",
              "      <td>144.910004</td>\n",
              "      <td>145.289993</td>\n",
              "      <td>3888900</td>\n",
              "      <td>0.158992</td>\n",
              "      <td>-1.169989</td>\n",
              "      <td>Negative</td>\n",
              "      <td>Positive</td>\n",
              "      <td>Negative</td>\n",
              "      <td>0</td>\n",
              "      <td>Ef_1_v_low</td>\n",
              "    </tr>\n",
              "    <tr>\n",
              "      <th>753</th>\n",
              "      <td>29/06/2021</td>\n",
              "      <td>145.259995</td>\n",
              "      <td>146.740005</td>\n",
              "      <td>145.100006</td>\n",
              "      <td>145.550003</td>\n",
              "      <td>2428500</td>\n",
              "      <td>0.274388</td>\n",
              "      <td>0.199648</td>\n",
              "      <td>Negative</td>\n",
              "      <td>Negative</td>\n",
              "      <td>Positive</td>\n",
              "      <td>0</td>\n",
              "      <td>Ef_1_low</td>\n",
              "    </tr>\n",
              "  </tbody>\n",
              "</table>\n",
              "</div>\n",
              "      <button class=\"colab-df-convert\" onclick=\"convertToInteractive('df-96247162-38bc-4429-925e-cb58a4aa2c5d')\"\n",
              "              title=\"Convert this dataframe to an interactive table.\"\n",
              "              style=\"display:none;\">\n",
              "        \n",
              "  <svg xmlns=\"http://www.w3.org/2000/svg\" height=\"24px\"viewBox=\"0 0 24 24\"\n",
              "       width=\"24px\">\n",
              "    <path d=\"M0 0h24v24H0V0z\" fill=\"none\"/>\n",
              "    <path d=\"M18.56 5.44l.94 2.06.94-2.06 2.06-.94-2.06-.94-.94-2.06-.94 2.06-2.06.94zm-11 1L8.5 8.5l.94-2.06 2.06-.94-2.06-.94L8.5 2.5l-.94 2.06-2.06.94zm10 10l.94 2.06.94-2.06 2.06-.94-2.06-.94-.94-2.06-.94 2.06-2.06.94z\"/><path d=\"M17.41 7.96l-1.37-1.37c-.4-.4-.92-.59-1.43-.59-.52 0-1.04.2-1.43.59L10.3 9.45l-7.72 7.72c-.78.78-.78 2.05 0 2.83L4 21.41c.39.39.9.59 1.41.59.51 0 1.02-.2 1.41-.59l7.78-7.78 2.81-2.81c.8-.78.8-2.07 0-2.86zM5.41 20L4 18.59l7.72-7.72 1.47 1.35L5.41 20z\"/>\n",
              "  </svg>\n",
              "      </button>\n",
              "      \n",
              "  <style>\n",
              "    .colab-df-container {\n",
              "      display:flex;\n",
              "      flex-wrap:wrap;\n",
              "      gap: 12px;\n",
              "    }\n",
              "\n",
              "    .colab-df-convert {\n",
              "      background-color: #E8F0FE;\n",
              "      border: none;\n",
              "      border-radius: 50%;\n",
              "      cursor: pointer;\n",
              "      display: none;\n",
              "      fill: #1967D2;\n",
              "      height: 32px;\n",
              "      padding: 0 0 0 0;\n",
              "      width: 32px;\n",
              "    }\n",
              "\n",
              "    .colab-df-convert:hover {\n",
              "      background-color: #E2EBFA;\n",
              "      box-shadow: 0px 1px 2px rgba(60, 64, 67, 0.3), 0px 1px 3px 1px rgba(60, 64, 67, 0.15);\n",
              "      fill: #174EA6;\n",
              "    }\n",
              "\n",
              "    [theme=dark] .colab-df-convert {\n",
              "      background-color: #3B4455;\n",
              "      fill: #D2E3FC;\n",
              "    }\n",
              "\n",
              "    [theme=dark] .colab-df-convert:hover {\n",
              "      background-color: #434B5C;\n",
              "      box-shadow: 0px 1px 3px 1px rgba(0, 0, 0, 0.15);\n",
              "      filter: drop-shadow(0px 1px 2px rgba(0, 0, 0, 0.3));\n",
              "      fill: #FFFFFF;\n",
              "    }\n",
              "  </style>\n",
              "\n",
              "      <script>\n",
              "        const buttonEl =\n",
              "          document.querySelector('#df-96247162-38bc-4429-925e-cb58a4aa2c5d button.colab-df-convert');\n",
              "        buttonEl.style.display =\n",
              "          google.colab.kernel.accessAllowed ? 'block' : 'none';\n",
              "\n",
              "        async function convertToInteractive(key) {\n",
              "          const element = document.querySelector('#df-96247162-38bc-4429-925e-cb58a4aa2c5d');\n",
              "          const dataTable =\n",
              "            await google.colab.kernel.invokeFunction('convertToInteractive',\n",
              "                                                     [key], {});\n",
              "          if (!dataTable) return;\n",
              "\n",
              "          const docLinkHtml = 'Like what you see? Visit the ' +\n",
              "            '<a target=\"_blank\" href=https://colab.research.google.com/notebooks/data_table.ipynb>data table notebook</a>'\n",
              "            + ' to learn more about interactive tables.';\n",
              "          element.innerHTML = '';\n",
              "          dataTable['output_type'] = 'display_data';\n",
              "          await google.colab.output.renderOutput(dataTable, element);\n",
              "          const docLink = document.createElement('div');\n",
              "          docLink.innerHTML = docLinkHtml;\n",
              "          element.appendChild(docLink);\n",
              "        }\n",
              "      </script>\n",
              "    </div>\n",
              "  </div>\n",
              "  "
            ]
          },
          "metadata": {},
          "execution_count": 53
        }
      ],
      "source": [
        "df.tail()"
      ]
    },
    {
      "cell_type": "code",
      "execution_count": 53,
      "metadata": {
        "id": "g6r_IytZAec-"
      },
      "outputs": [],
      "source": [
        ""
      ]
    }
  ],
  "metadata": {
    "colab": {
      "collapsed_sections": [],
      "name": "Random_forest_Stock_model.ipynb",
      "provenance": [],
      "include_colab_link": true
    },
    "file_extension": ".py",
    "kernelspec": {
      "display_name": "Python 3 (ipykernel)",
      "language": "python",
      "name": "python3"
    },
    "language_info": {
      "codemirror_mode": {
        "name": "ipython",
        "version": 3
      },
      "file_extension": ".py",
      "mimetype": "text/x-python",
      "name": "python",
      "nbconvert_exporter": "python",
      "pygments_lexer": "ipython3",
      "version": "3.9.7"
    },
    "mimetype": "text/x-python",
    "name": "python",
    "npconvert_exporter": "python",
    "pygments_lexer": "ipython3",
    "version": 3
  },
  "nbformat": 4,
  "nbformat_minor": 0
}