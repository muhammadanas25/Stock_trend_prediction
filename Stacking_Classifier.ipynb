{
  "nbformat": 4,
  "nbformat_minor": 0,
  "metadata": {
    "colab": {
      "name": "Stacking Classifier.ipynb",
      "provenance": [],
      "authorship_tag": "ABX9TyNRlDQz11DetQM+3n27pXzG",
      "include_colab_link": true
    },
    "kernelspec": {
      "name": "python3",
      "display_name": "Python 3"
    },
    "language_info": {
      "name": "python"
    }
  },
  "cells": [
    {
      "cell_type": "markdown",
      "metadata": {
        "id": "view-in-github",
        "colab_type": "text"
      },
      "source": [
        "<a href=\"https://colab.research.google.com/github/muhammadanas25/Stock_trend_prediction/blob/main/Stacking_Classifier.ipynb\" target=\"_parent\"><img src=\"https://colab.research.google.com/assets/colab-badge.svg\" alt=\"Open In Colab\"/></a>"
      ]
    },
    {
      "cell_type": "code",
      "execution_count": 24,
      "metadata": {
        "colab": {
          "base_uri": "https://localhost:8080/"
        },
        "id": "O2jPbGusd0ho",
        "outputId": "c0a313ac-f24d-4ea2-f483-8e752c2dbfb4"
      },
      "outputs": [
        {
          "output_type": "stream",
          "name": "stdout",
          "text": [
            "Requirement already satisfied: path in /usr/local/lib/python3.7/dist-packages (16.4.0)\n",
            "Requirement already satisfied: path in /usr/local/lib/python3.7/dist-packages (16.4.0)\n",
            "\u001b[31mERROR: Could not find a version that satisfies the requirement lgbm (from versions: none)\u001b[0m\n",
            "\u001b[31mERROR: No matching distribution found for lgbm\u001b[0m\n"
          ]
        }
      ],
      "source": [
        "#run\n",
        "# Initial imports\n",
        "import pandas as pd\n",
        "!pip install path\n",
        "from path import Path\n",
        "from sklearn.ensemble import RandomForestRegressor\n",
        "from sklearn.ensemble import RandomForestClassifier\n",
        "from sklearn.preprocessing import StandardScaler, MinMaxScaler\n",
        "from sklearn.model_selection import train_test_split\n",
        "from sklearn.metrics import confusion_matrix, accuracy_score, classification_report\n",
        "%matplotlib inline\n",
        "# Initial imports\n",
        "import pandas as pd\n",
        "import numpy as np\n",
        "from path import Path\n",
        "from sklearn.model_selection import GridSearchCV\n",
        "from sklearn.preprocessing import StandardScaler\n",
        "from sklearn.model_selection import train_test_split\n",
        "from sklearn.metrics import confusion_matrix, accuracy_score, classification_report\n",
        "from sklearn.ensemble import GradientBoostingClassifier,AdaBoostClassifier\n",
        "import plotly.graph_objects as go\n",
        "from plotly.subplots import make_subplots\n",
        "from sklearn.model_selection import RepeatedStratifiedKFold\n",
        "from sklearn.model_selection import GridSearchCV\n",
        "from sklearn.preprocessing import StandardScaler\n",
        "from sklearn.preprocessing import LabelEncoder\n",
        "from sklearn.compose import ColumnTransformer\n",
        "from sklearn.linear_model import LogisticRegression\n",
        "from sklearn.svm import NuSVC, SVC\n",
        "from sklearn.tree import DecisionTreeClassifier\n",
        "from sklearn.ensemble import RandomForestClassifier, StackingClassifier\n",
        "from sklearn.neural_network import MLPClassifier\n",
        "from sklearn.ensemble import BaggingClassifier\n",
        "\n",
        "from sklearn import metrics,tree\n",
        "from sklearn.metrics import roc_curve\n",
        "from sklearn.metrics import recall_score, confusion_matrix, precision_score, f1_score, accuracy_score, classification_report\n",
        "from sklearn.preprocessing import OneHotEncoder, StandardScaler,MinMaxScaler\n",
        "from sklearn.pipeline import make_pipeline\n",
        "from sklearn.tree import DecisionTreeClassifier\n",
        "categorical_preprocessor = OneHotEncoder(handle_unknown=\"ignore\")\n",
        "numerical_preprocessor = StandardScaler()\n",
        "from sklearn.model_selection import cross_val_score\n",
        "from sklearn.model_selection import KFold\n",
        "from sklearn.preprocessing import OrdinalEncoder\n",
        "from imblearn.over_sampling import SMOTE\n",
        "\n",
        "from sklearn.compose import make_column_selector as selector\n",
        "import matplotlib.pyplot as plt \n",
        "%pip install path\n",
        "%pip install lgbm\n",
        "import lightgbm as lgbm\n"
      ]
    },
    {
      "cell_type": "code",
      "source": [
        ""
      ],
      "metadata": {
        "id": "ai1p5XODUv0W"
      },
      "execution_count": 24,
      "outputs": []
    },
    {
      "cell_type": "code",
      "source": [
        "\n",
        "\n",
        "\n",
        "\n",
        "\n",
        "def make_bins(df):\n",
        "   label_names = [\"Ef_1_v_low\",\"Ef_1_low\",\"Ef_1_v_med\",\"Ef1_high\", \"Ef1_very_high\" ]\n",
        "   cut_points =ef1_cut\n",
        "   df[\"EF_1_val\"] = pd.cut(df[\"EF_1\"], cut_points, labels=label_names)\n",
        "   dummies = pd.get_dummies(df[\"EF_1_val\"],drop_first=True)\n",
        "   df = pd.concat([df, dummies], axis=1)\n",
        "   label_names = [\"setinent_neutral\",\"sentiment_good\",\"sentiment_bad\"]\n",
        "   cut_points =twitter_cut\n",
        "   df[\"sentiments\"]=pd.cut(df['Twitter Sentiments'], cut_points, labels=label_names)\n",
        "   dummies1 = pd.get_dummies(df[\"sentiments\"],drop_first=True)\n",
        "   df = pd.concat([df, dummies1], axis=1)\n",
        "   df.drop([\"EF_1_val\",\"sentiments\"],axis=1,inplace=True)\n",
        "   return df\n",
        "\n",
        "def calculate_ema(prices, days, smoothing=2):\n",
        "      ema = [sum(prices[:days]) / days]\n",
        "      for price in prices[days:]:\n",
        "          ema.append((price * (smoothing / (1 + days))) + ema[-1] * (1 - (smoothing / (1 + days))))\n",
        "      return ema"
      ],
      "metadata": {
        "id": "V3mqqk8NeHF4"
      },
      "execution_count": 25,
      "outputs": []
    },
    {
      "cell_type": "code",
      "source": [
        ""
      ],
      "metadata": {
        "id": "COvyoLN0OAOA"
      },
      "execution_count": 25,
      "outputs": []
    },
    {
      "cell_type": "code",
      "source": [
        "# Setting Index as Date\n",
        "def hybrid_model(df,target):\n",
        "  \n",
        "  appl_df = make_bins(df)\n",
        "  appl_df.head(2)\n",
        "  appl_df=appl_df.drop([\"Twitter Sentiments\"],axis =1)\n",
        "  appl_df['diff']=appl_df['Close']-appl_df['Open']\n",
        "  appl_df['10day']=appl_df['Close'].rolling(10).mean()\n",
        "  appl_df['10day'].fillna(appl_df['10day'][9],inplace=True)\n",
        "  \n",
        "  ema = calculate_ema(appl_df['Close'], 10)\n",
        "  appl_df=appl_df[9:]\n",
        "  target=target[9:]\n",
        "  appl_df['ema']=ema\n",
        "  appl_df['signal']=appl_df['ema']>appl_df['Close']\n",
        "  appl_df['signal']=appl_df['signal'].replace([True,False],[1,0])\n",
        "\n",
        "  del (appl_df['Open'])\n",
        "  del (appl_df['Close'])\n",
        "  del (appl_df['High'])\n",
        "  del (appl_df['EF_2'])\n",
        "\n",
        "  appl_df = appl_df.set_index(\"Date\")\n",
        "\n",
        "  appl_df.tail()\n",
        "  new_df=appl_df\n",
        "\n",
        "  numerical_columns_selector = selector(dtype_exclude=object)\n",
        "  categorical_columns_selector = selector(dtype_include=object)\n",
        "  numerical_columns = numerical_columns_selector(new_df)\n",
        "  categorical_columns = categorical_columns_selector(new_df)\n",
        "\n",
        "  print(categorical_columns)\n",
        "  print(numerical_columns)\n",
        "  preprocessor = ColumnTransformer([\n",
        "      ('one-hot-encoder', categorical_preprocessor, categorical_columns),\n",
        "      ('standard-scaler', numerical_preprocessor, numerical_columns)])\n",
        "  new_df=preprocessor.fit_transform(new_df)\n",
        "  \n",
        "  # enc = OrdinalEncoder()\n",
        "  # print(new_df.head(2))\n",
        "  # standard=MinMaxScaler()\n",
        "  # new_df[numerical_columns]=standard.fit_transform(  new_df[numerical_columns] )\n",
        "  # new_df[categorical_columns] = enc.fit_transform(new_df[categorical_columns])\n",
        "  oversample = SMOTE()\n",
        "  \n",
        "  new_df, target = oversample.fit_resample(new_df, target)\n",
        "  \n",
        "\n",
        "  X_train,X_test, y_train, y_test = train_test_split(new_df,target, test_size=0.2,random_state=0)\n",
        "  \n",
        "  new_df=pd.DataFrame(new_df)\n",
        "  print(appl_df['signal'].value_counts())\n",
        "  clf_svc = SVC(C = 50, degree = 1, gamma = \"auto\", kernel = \"rbf\", probability = True)\n",
        "\n",
        "# Initializing Multi-layer perceptron  classifier\n",
        "  clf_mlp = MLPClassifier(activation = \"relu\", alpha = 0.1, hidden_layer_sizes = (10,10,10),\n",
        "                            learning_rate = \"constant\", max_iter = 2000, random_state = 1000)\n",
        "\n",
        "  clf_rfc = RandomForestClassifier(n_estimators = 500, criterion = \"gini\", max_depth = 10,\n",
        "                                     max_features = \"auto\", min_samples_leaf = 0.005,\n",
        "                                     min_samples_split = 0.005, n_jobs = -1, random_state = 1000)\n",
        "  classifiers = [('svc', clf_svc),\n",
        "               ('mlp', clf_mlp),                             \n",
        "              #  ('nusvc', clf_nusvc),\n",
        "               ('rfc', clf_rfc)]\n",
        "\n",
        "  clf = StackingClassifier(estimators=classifiers, \n",
        "                         final_estimator=BaggingClassifier(bootstrap= False, max_samples=0.5, n_estimators= 40,max_features=0.6\n",
        "                          ,random_state=1000\n",
        "                          ),\n",
        "                         stack_method='auto',\n",
        "                         n_jobs=-1,\n",
        "                         passthrough=False)\n",
        "  \n",
        "  clf.fit(X_train,y_train)\n",
        "               \n",
        "\n",
        " \n",
        "  print(\"Accuracy score (training): {0:.3f}\".format(\n",
        "          clf.score(\n",
        "              X_train, \n",
        "              y_train)))\n",
        "  print(\"Accuracy score (validation): {0:.3f}\".format(\n",
        "          clf.score(\n",
        "              X_test, \n",
        "              y_test)))\n",
        "  return clf\n"
      ],
      "metadata": {
        "id": "2eM_NBGsjFjV"
      },
      "execution_count": 26,
      "outputs": []
    },
    {
      "cell_type": "code",
      "source": [
        "#run\n",
        "# Loading data\n",
        "#run\n",
        "file_path = Path(\"IBM.csv\")\n",
        "df = pd.read_csv(file_path)\n",
        "\n",
        "\n",
        "df.dropna(inplace=True,axis=0)\n",
        "df=df[df.FutureTrend !='Neutral']\n",
        "df.tail()\n"
      ],
      "metadata": {
        "colab": {
          "base_uri": "https://localhost:8080/",
          "height": 250
        },
        "id": "QJp6sFBneAfR",
        "outputId": "e374e6f0-31be-4c41-81ac-95c6011a9dd7"
      },
      "execution_count": 27,
      "outputs": [
        {
          "output_type": "execute_result",
          "data": {
            "text/plain": [
              "           Date        Open        High         Low       Close   Volume  \\\n",
              "749  23/06/2021  146.429993  146.500000  144.570007  144.610001  3202600   \n",
              "750  24/06/2021  145.800003  146.190002  144.690002  145.440002  3609700   \n",
              "751  25/06/2021  145.380005  146.929993  144.949997  146.839996  3594200   \n",
              "752  28/06/2021  147.009995  147.300003  144.910004  145.289993  3888900   \n",
              "753  29/06/2021  145.259995  146.740005  145.100006  145.550003  2428500   \n",
              "\n",
              "         EF_1      EF_2 Oil FutureTrend Gold FutureTrend     Trend  \\\n",
              "749  0.020722 -1.242909        Negative         Positive  Negative   \n",
              "750  0.500000 -0.246914        Negative         Negative  Negative   \n",
              "751  0.954547  1.004259        Positive         Negative  Positive   \n",
              "752  0.158992 -1.169989        Negative         Positive  Negative   \n",
              "753  0.274388  0.199648        Negative         Negative  Positive   \n",
              "\n",
              "     Twitter Sentiments FutureTrend  \n",
              "749                   0    Negative  \n",
              "750                   0    Negative  \n",
              "751                   0    Positive  \n",
              "752                   0    Negative  \n",
              "753                   0    Negative  "
            ],
            "text/html": [
              "\n",
              "  <div id=\"df-86351a21-51d7-49eb-bb64-7dca7647c8d9\">\n",
              "    <div class=\"colab-df-container\">\n",
              "      <div>\n",
              "<style scoped>\n",
              "    .dataframe tbody tr th:only-of-type {\n",
              "        vertical-align: middle;\n",
              "    }\n",
              "\n",
              "    .dataframe tbody tr th {\n",
              "        vertical-align: top;\n",
              "    }\n",
              "\n",
              "    .dataframe thead th {\n",
              "        text-align: right;\n",
              "    }\n",
              "</style>\n",
              "<table border=\"1\" class=\"dataframe\">\n",
              "  <thead>\n",
              "    <tr style=\"text-align: right;\">\n",
              "      <th></th>\n",
              "      <th>Date</th>\n",
              "      <th>Open</th>\n",
              "      <th>High</th>\n",
              "      <th>Low</th>\n",
              "      <th>Close</th>\n",
              "      <th>Volume</th>\n",
              "      <th>EF_1</th>\n",
              "      <th>EF_2</th>\n",
              "      <th>Oil FutureTrend</th>\n",
              "      <th>Gold FutureTrend</th>\n",
              "      <th>Trend</th>\n",
              "      <th>Twitter Sentiments</th>\n",
              "      <th>FutureTrend</th>\n",
              "    </tr>\n",
              "  </thead>\n",
              "  <tbody>\n",
              "    <tr>\n",
              "      <th>749</th>\n",
              "      <td>23/06/2021</td>\n",
              "      <td>146.429993</td>\n",
              "      <td>146.500000</td>\n",
              "      <td>144.570007</td>\n",
              "      <td>144.610001</td>\n",
              "      <td>3202600</td>\n",
              "      <td>0.020722</td>\n",
              "      <td>-1.242909</td>\n",
              "      <td>Negative</td>\n",
              "      <td>Positive</td>\n",
              "      <td>Negative</td>\n",
              "      <td>0</td>\n",
              "      <td>Negative</td>\n",
              "    </tr>\n",
              "    <tr>\n",
              "      <th>750</th>\n",
              "      <td>24/06/2021</td>\n",
              "      <td>145.800003</td>\n",
              "      <td>146.190002</td>\n",
              "      <td>144.690002</td>\n",
              "      <td>145.440002</td>\n",
              "      <td>3609700</td>\n",
              "      <td>0.500000</td>\n",
              "      <td>-0.246914</td>\n",
              "      <td>Negative</td>\n",
              "      <td>Negative</td>\n",
              "      <td>Negative</td>\n",
              "      <td>0</td>\n",
              "      <td>Negative</td>\n",
              "    </tr>\n",
              "    <tr>\n",
              "      <th>751</th>\n",
              "      <td>25/06/2021</td>\n",
              "      <td>145.380005</td>\n",
              "      <td>146.929993</td>\n",
              "      <td>144.949997</td>\n",
              "      <td>146.839996</td>\n",
              "      <td>3594200</td>\n",
              "      <td>0.954547</td>\n",
              "      <td>1.004259</td>\n",
              "      <td>Positive</td>\n",
              "      <td>Negative</td>\n",
              "      <td>Positive</td>\n",
              "      <td>0</td>\n",
              "      <td>Positive</td>\n",
              "    </tr>\n",
              "    <tr>\n",
              "      <th>752</th>\n",
              "      <td>28/06/2021</td>\n",
              "      <td>147.009995</td>\n",
              "      <td>147.300003</td>\n",
              "      <td>144.910004</td>\n",
              "      <td>145.289993</td>\n",
              "      <td>3888900</td>\n",
              "      <td>0.158992</td>\n",
              "      <td>-1.169989</td>\n",
              "      <td>Negative</td>\n",
              "      <td>Positive</td>\n",
              "      <td>Negative</td>\n",
              "      <td>0</td>\n",
              "      <td>Negative</td>\n",
              "    </tr>\n",
              "    <tr>\n",
              "      <th>753</th>\n",
              "      <td>29/06/2021</td>\n",
              "      <td>145.259995</td>\n",
              "      <td>146.740005</td>\n",
              "      <td>145.100006</td>\n",
              "      <td>145.550003</td>\n",
              "      <td>2428500</td>\n",
              "      <td>0.274388</td>\n",
              "      <td>0.199648</td>\n",
              "      <td>Negative</td>\n",
              "      <td>Negative</td>\n",
              "      <td>Positive</td>\n",
              "      <td>0</td>\n",
              "      <td>Negative</td>\n",
              "    </tr>\n",
              "  </tbody>\n",
              "</table>\n",
              "</div>\n",
              "      <button class=\"colab-df-convert\" onclick=\"convertToInteractive('df-86351a21-51d7-49eb-bb64-7dca7647c8d9')\"\n",
              "              title=\"Convert this dataframe to an interactive table.\"\n",
              "              style=\"display:none;\">\n",
              "        \n",
              "  <svg xmlns=\"http://www.w3.org/2000/svg\" height=\"24px\"viewBox=\"0 0 24 24\"\n",
              "       width=\"24px\">\n",
              "    <path d=\"M0 0h24v24H0V0z\" fill=\"none\"/>\n",
              "    <path d=\"M18.56 5.44l.94 2.06.94-2.06 2.06-.94-2.06-.94-.94-2.06-.94 2.06-2.06.94zm-11 1L8.5 8.5l.94-2.06 2.06-.94-2.06-.94L8.5 2.5l-.94 2.06-2.06.94zm10 10l.94 2.06.94-2.06 2.06-.94-2.06-.94-.94-2.06-.94 2.06-2.06.94z\"/><path d=\"M17.41 7.96l-1.37-1.37c-.4-.4-.92-.59-1.43-.59-.52 0-1.04.2-1.43.59L10.3 9.45l-7.72 7.72c-.78.78-.78 2.05 0 2.83L4 21.41c.39.39.9.59 1.41.59.51 0 1.02-.2 1.41-.59l7.78-7.78 2.81-2.81c.8-.78.8-2.07 0-2.86zM5.41 20L4 18.59l7.72-7.72 1.47 1.35L5.41 20z\"/>\n",
              "  </svg>\n",
              "      </button>\n",
              "      \n",
              "  <style>\n",
              "    .colab-df-container {\n",
              "      display:flex;\n",
              "      flex-wrap:wrap;\n",
              "      gap: 12px;\n",
              "    }\n",
              "\n",
              "    .colab-df-convert {\n",
              "      background-color: #E8F0FE;\n",
              "      border: none;\n",
              "      border-radius: 50%;\n",
              "      cursor: pointer;\n",
              "      display: none;\n",
              "      fill: #1967D2;\n",
              "      height: 32px;\n",
              "      padding: 0 0 0 0;\n",
              "      width: 32px;\n",
              "    }\n",
              "\n",
              "    .colab-df-convert:hover {\n",
              "      background-color: #E2EBFA;\n",
              "      box-shadow: 0px 1px 2px rgba(60, 64, 67, 0.3), 0px 1px 3px 1px rgba(60, 64, 67, 0.15);\n",
              "      fill: #174EA6;\n",
              "    }\n",
              "\n",
              "    [theme=dark] .colab-df-convert {\n",
              "      background-color: #3B4455;\n",
              "      fill: #D2E3FC;\n",
              "    }\n",
              "\n",
              "    [theme=dark] .colab-df-convert:hover {\n",
              "      background-color: #434B5C;\n",
              "      box-shadow: 0px 1px 3px 1px rgba(0, 0, 0, 0.15);\n",
              "      filter: drop-shadow(0px 1px 2px rgba(0, 0, 0, 0.3));\n",
              "      fill: #FFFFFF;\n",
              "    }\n",
              "  </style>\n",
              "\n",
              "      <script>\n",
              "        const buttonEl =\n",
              "          document.querySelector('#df-86351a21-51d7-49eb-bb64-7dca7647c8d9 button.colab-df-convert');\n",
              "        buttonEl.style.display =\n",
              "          google.colab.kernel.accessAllowed ? 'block' : 'none';\n",
              "\n",
              "        async function convertToInteractive(key) {\n",
              "          const element = document.querySelector('#df-86351a21-51d7-49eb-bb64-7dca7647c8d9');\n",
              "          const dataTable =\n",
              "            await google.colab.kernel.invokeFunction('convertToInteractive',\n",
              "                                                     [key], {});\n",
              "          if (!dataTable) return;\n",
              "\n",
              "          const docLinkHtml = 'Like what you see? Visit the ' +\n",
              "            '<a target=\"_blank\" href=https://colab.research.google.com/notebooks/data_table.ipynb>data table notebook</a>'\n",
              "            + ' to learn more about interactive tables.';\n",
              "          element.innerHTML = '';\n",
              "          dataTable['output_type'] = 'display_data';\n",
              "          await google.colab.output.renderOutput(dataTable, element);\n",
              "          const docLink = document.createElement('div');\n",
              "          docLink.innerHTML = docLinkHtml;\n",
              "          element.appendChild(docLink);\n",
              "        }\n",
              "      </script>\n",
              "    </div>\n",
              "  </div>\n",
              "  "
            ]
          },
          "metadata": {},
          "execution_count": 27
        }
      ]
    },
    {
      "cell_type": "code",
      "source": [
        "#run\n",
        "target=df['FutureTrend']\n",
        "df=df.drop(\"FutureTrend\",axis =1)\n",
        "target= target.replace(['Negative','Positive',  'Neutral'],[0,1,2])\n"
      ],
      "metadata": {
        "id": "W6tjg7ZNhyMP"
      },
      "execution_count": 28,
      "outputs": []
    },
    {
      "cell_type": "code",
      "source": [
        "import matplotlib.pyplot as plt\n",
        "mpgs = df['EF_1']\n",
        "plt.hist(mpgs, bins=5)\n",
        "ef1_cut=plt.hist(mpgs, bins=5)[1]\n",
        "plt.show()\n",
        "import matplotlib.pyplot as plt\n",
        "mpgs = df['Twitter Sentiments']\n",
        "plt.hist(mpgs, bins=5)\n",
        "plt.show()\n",
        "twitter_cut=plt.hist(mpgs, bins=3)[1]\n",
        "print(plt.hist(mpgs, bins=3)[1]\n",
        ")\n"
      ],
      "metadata": {
        "colab": {
          "base_uri": "https://localhost:8080/",
          "height": 781
        },
        "id": "fcuoXSIivjtq",
        "outputId": "8392497f-7537-4c35-c4e2-d384b96e84e3"
      },
      "execution_count": 29,
      "outputs": [
        {
          "output_type": "display_data",
          "data": {
            "text/plain": [
              "<Figure size 432x288 with 1 Axes>"
            ],
            "image/png": "[encoded data removed]"
          },
          "metadata": {
            "needs_background": "light"
          }
        },
        {
          "output_type": "display_data",
          "data": {
            "text/plain": [
              "<Figure size 432x288 with 1 Axes>"
            ],
            "image/png": "[encoded data removed]"
          },
          "metadata": {
            "needs_background": "light"
          }
        },
        {
          "output_type": "stream",
          "name": "stdout",
          "text": [
            "[   0.         1807.66666667 3615.33333333 5423.        ]\n"
          ]
        },
        {
          "output_type": "display_data",
          "data": {
            "text/plain": [
              "<Figure size 432x288 with 1 Axes>"
            ],
            "image/png": "[encoded data removed]"
          },
          "metadata": {
            "needs_background": "light"
          }
        }
      ]
    },
    {
      "cell_type": "code",
      "source": [
        "hybrid_model(df,target)\n",
        "\n",
        "# print(\"Accuracy score (training): {0:.3f}\".format(\n",
        "#           hyb_model.score(\n",
        "#               X_train, \n",
        "#               y_train)))\n",
        "# print(\"Accuracy score (validation): {0:.3f}\".format(\n",
        "#           hyb_model.score(\n",
        "#               X_test, \n",
        "#               y_test)))"
      ],
      "metadata": {
        "colab": {
          "base_uri": "https://localhost:8080/"
        },
        "id": "7m2q1zDF3NAJ",
        "outputId": "9ec72a65-194a-4263-f932-6e5ab9c17b40"
      },
      "execution_count": 30,
      "outputs": [
        {
          "output_type": "stream",
          "name": "stdout",
          "text": [
            "['Oil FutureTrend', 'Gold FutureTrend', 'Trend']\n",
            "['Low', 'Volume', 'EF_1', 'Ef_1_low', 'Ef_1_v_med', 'Ef1_high', 'Ef1_very_high', 'sentiment_good', 'sentiment_bad', 'diff', '10day', 'ema', 'signal']\n",
            "0    422\n",
            "1    321\n",
            "Name: signal, dtype: int64\n",
            "Accuracy score (training): 0.689\n",
            "Accuracy score (validation): 0.532\n"
          ]
        },
        {
          "output_type": "execute_result",
          "data": {
            "text/plain": [
              "StackingClassifier(estimators=[('svc',\n",
              "                                SVC(C=50, degree=1, gamma='auto',\n",
              "                                    probability=True)),\n",
              "                               ('mlp',\n",
              "                                MLPClassifier(alpha=0.1,\n",
              "                                              hidden_layer_sizes=(10, 10, 10),\n",
              "                                              max_iter=2000,\n",
              "                                              random_state=1000)),\n",
              "                               ('rfc',\n",
              "                                RandomForestClassifier(max_depth=10,\n",
              "                                                       min_samples_leaf=0.005,\n",
              "                                                       min_samples_split=0.005,\n",
              "                                                       n_estimators=500,\n",
              "                                                       n_jobs=-1,\n",
              "                                                       random_state=1000))],\n",
              "                   final_estimator=BaggingClassifier(bootstrap=False,\n",
              "                                                     max_features=0.6,\n",
              "                                                     max_samples=0.5,\n",
              "                                                     n_estimators=40,\n",
              "                                                     random_state=1000),\n",
              "                   n_jobs=-1)"
            ]
          },
          "metadata": {},
          "execution_count": 30
        }
      ]
    },
    {
      "cell_type": "code",
      "source": [
        ""
      ],
      "metadata": {
        "id": "0f35izf3lO4g"
      },
      "execution_count": 30,
      "outputs": []
    },
    {
      "cell_type": "code",
      "source": [
        ""
      ],
      "metadata": {
        "id": "cXWUCDIptojd"
      },
      "execution_count": 30,
      "outputs": []
    }
  ]
}